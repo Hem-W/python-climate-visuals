{
 "cells": [
  {
   "cell_type": "markdown",
   "id": "5202ee2c",
   "metadata": {},
   "source": [
    "# Pandas Solution"
   ]
  },
  {
   "cell_type": "markdown",
   "id": "4cf0b058",
   "metadata": {},
   "source": [
    "Create a DataFrame by reading file *../../assets/data/Changi_daily_rainfall.csv*. Perform the following two tasks with this DataFrame:"
   ]
  },
  {
   "cell_type": "markdown",
   "id": "fe90719f",
   "metadata": {},
   "source": [
    "## Task 1\n",
    "1. Determine whether the dataframe contains `NaN` values, and if so, populates the `NaN` values with 0.\n",
    "2. View the first 2 rows and the tail 2 rows, and check total length of data.\n",
    "3. Display a summary of the characteristics of the dataframe\n",
    "4. Calculate the number of days with daily rainfall exceeding 50mm.\n",
    "\n",
    "Hint: If you complete this task in your local computer (not recommend), please modify the file path accordingly."
   ]
  },
  {
   "cell_type": "code",
   "execution_count": 1,
   "id": "3ae47cdd",
   "metadata": {},
   "outputs": [
    {
     "data": {
      "text/plain": [
       "0"
      ]
     },
     "execution_count": 1,
     "metadata": {},
     "output_type": "execute_result"
    }
   ],
   "source": [
    "# 1\n",
    "import pandas as pd\n",
    "df = pd.read_csv('../../assets/data/Changi_daily_rainfall.csv', index_col=0, parse_dates=True)\n",
    "df.isnull().sum().values[0] # no NaN value"
   ]
  },
  {
   "cell_type": "code",
   "execution_count": 2,
   "id": "47c8c3b1",
   "metadata": {},
   "outputs": [
    {
     "name": "stdout",
     "output_type": "stream",
     "text": [
      "the first 2 rows:\n",
      "             Daily Rainfall Total (mm)\n",
      "Date                                 \n",
      "1981-01-01                        0.0\n",
      "1981-01-02                        0.0\n",
      "the tail 2 rows:\n",
      "             Daily Rainfall Total (mm)\n",
      "Date                                 \n",
      "2020-12-30                        0.0\n",
      "2020-12-31                        0.0\n",
      "total length of data:\n",
      " 14610\n"
     ]
    }
   ],
   "source": [
    "# 2\n",
    "print('the first 2 rows:\\n', df.head(2))\n",
    "print('the tail 2 rows:\\n', df.tail(2))\n",
    "print('total length of data:\\n', df.shape[0])"
   ]
  },
  {
   "cell_type": "code",
   "execution_count": 3,
   "id": "070093e5",
   "metadata": {},
   "outputs": [
    {
     "data": {
      "text/html": [
       "<div>\n",
       "<style scoped>\n",
       "    .dataframe tbody tr th:only-of-type {\n",
       "        vertical-align: middle;\n",
       "    }\n",
       "\n",
       "    .dataframe tbody tr th {\n",
       "        vertical-align: top;\n",
       "    }\n",
       "\n",
       "    .dataframe thead th {\n",
       "        text-align: right;\n",
       "    }\n",
       "</style>\n",
       "<table border=\"1\" class=\"dataframe\">\n",
       "  <thead>\n",
       "    <tr style=\"text-align: right;\">\n",
       "      <th></th>\n",
       "      <th>Daily Rainfall Total (mm)</th>\n",
       "    </tr>\n",
       "  </thead>\n",
       "  <tbody>\n",
       "    <tr>\n",
       "      <th>count</th>\n",
       "      <td>14610.000000</td>\n",
       "    </tr>\n",
       "    <tr>\n",
       "      <th>mean</th>\n",
       "      <td>5.721629</td>\n",
       "    </tr>\n",
       "    <tr>\n",
       "      <th>std</th>\n",
       "      <td>14.194586</td>\n",
       "    </tr>\n",
       "    <tr>\n",
       "      <th>min</th>\n",
       "      <td>0.000000</td>\n",
       "    </tr>\n",
       "    <tr>\n",
       "      <th>25%</th>\n",
       "      <td>0.000000</td>\n",
       "    </tr>\n",
       "    <tr>\n",
       "      <th>50%</th>\n",
       "      <td>0.000000</td>\n",
       "    </tr>\n",
       "    <tr>\n",
       "      <th>75%</th>\n",
       "      <td>4.200000</td>\n",
       "    </tr>\n",
       "    <tr>\n",
       "      <th>max</th>\n",
       "      <td>216.200000</td>\n",
       "    </tr>\n",
       "  </tbody>\n",
       "</table>\n",
       "</div>"
      ],
      "text/plain": [
       "       Daily Rainfall Total (mm)\n",
       "count               14610.000000\n",
       "mean                    5.721629\n",
       "std                    14.194586\n",
       "min                     0.000000\n",
       "25%                     0.000000\n",
       "50%                     0.000000\n",
       "75%                     4.200000\n",
       "max                   216.200000"
      ]
     },
     "execution_count": 3,
     "metadata": {},
     "output_type": "execute_result"
    }
   ],
   "source": [
    "# 3\n",
    "df.describe()"
   ]
  },
  {
   "cell_type": "code",
   "execution_count": 4,
   "id": "1d43accf",
   "metadata": {},
   "outputs": [
    {
     "data": {
      "text/plain": [
       "284"
      ]
     },
     "execution_count": 4,
     "metadata": {},
     "output_type": "execute_result"
    }
   ],
   "source": [
    "# 4\n",
    "df[df['Daily Rainfall Total (mm)']>50].shape[0]"
   ]
  },
  {
   "cell_type": "markdown",
   "id": "69ba12e4",
   "metadata": {},
   "source": [
    "## Task 2\n",
    "1. Upsample the DataFrame into 1-year bins and sum the values of the timestamps falling into a bin.\n",
    "2. Calculate the average value of yearly rainfall in 1981-2000 and 2001-2020 and compare them.\n",
    "3. Calculate the year with the largest annual rainfall and corresponding value, and the year with the smallest annual rainfall and corresponding value.\n",
    "4. Make a line plot of data generated in step 1 (Optional)"
   ]
  },
  {
   "cell_type": "code",
   "execution_count": 5,
   "id": "2b40dc9f",
   "metadata": {},
   "outputs": [
    {
     "data": {
      "text/html": [
       "<div>\n",
       "<style scoped>\n",
       "    .dataframe tbody tr th:only-of-type {\n",
       "        vertical-align: middle;\n",
       "    }\n",
       "\n",
       "    .dataframe tbody tr th {\n",
       "        vertical-align: top;\n",
       "    }\n",
       "\n",
       "    .dataframe thead th {\n",
       "        text-align: right;\n",
       "    }\n",
       "</style>\n",
       "<table border=\"1\" class=\"dataframe\">\n",
       "  <thead>\n",
       "    <tr style=\"text-align: right;\">\n",
       "      <th></th>\n",
       "      <th>Daily Rainfall Total (mm)</th>\n",
       "    </tr>\n",
       "    <tr>\n",
       "      <th>Date</th>\n",
       "      <th></th>\n",
       "    </tr>\n",
       "  </thead>\n",
       "  <tbody>\n",
       "    <tr>\n",
       "      <th>1981-12-31</th>\n",
       "      <td>1336.3</td>\n",
       "    </tr>\n",
       "    <tr>\n",
       "      <th>1982-12-31</th>\n",
       "      <td>1581.7</td>\n",
       "    </tr>\n",
       "    <tr>\n",
       "      <th>1983-12-31</th>\n",
       "      <td>1866.5</td>\n",
       "    </tr>\n",
       "    <tr>\n",
       "      <th>1984-12-31</th>\n",
       "      <td>2686.7</td>\n",
       "    </tr>\n",
       "    <tr>\n",
       "      <th>1985-12-31</th>\n",
       "      <td>1483.9</td>\n",
       "    </tr>\n",
       "  </tbody>\n",
       "</table>\n",
       "</div>"
      ],
      "text/plain": [
       "            Daily Rainfall Total (mm)\n",
       "Date                                 \n",
       "1981-12-31                     1336.3\n",
       "1982-12-31                     1581.7\n",
       "1983-12-31                     1866.5\n",
       "1984-12-31                     2686.7\n",
       "1985-12-31                     1483.9"
      ]
     },
     "execution_count": 5,
     "metadata": {},
     "output_type": "execute_result"
    }
   ],
   "source": [
    "# 1\n",
    "df_year = df.resample('y').sum()\n",
    "df_year.head(5)"
   ]
  },
  {
   "cell_type": "code",
   "execution_count": 6,
   "id": "cfcc91b8",
   "metadata": {},
   "outputs": [
    {
     "name": "stdout",
     "output_type": "stream",
     "text": [
      "the average value of yearly rainfall in 1981-2000:\n",
      " 2071.5549999999994\n",
      "the average value of yearly rainfall in 2001-2020:\n",
      " 2108.0949999999993\n"
     ]
    }
   ],
   "source": [
    "# 2 \n",
    "print('the average value of yearly rainfall in 1981-2000:\\n', df_year['1981':'2000'].mean().values[0])\n",
    "print('the average value of yearly rainfall in 2001-2020:\\n', df_year['2001':'2020'].mean().values[0])\n",
    "# the average value of yearly rainfall in 2001-2020 is greater than 1981-2000"
   ]
  },
  {
   "cell_type": "code",
   "execution_count": 7,
   "id": "cee1f98f",
   "metadata": {},
   "outputs": [
    {
     "name": "stdout",
     "output_type": "stream",
     "text": [
      "the largest annual rainfall and corresponding value:\n",
      "             Daily Rainfall Total (mm)\n",
      "Date                                 \n",
      "2007-12-31                     2886.2\n",
      "the smallest annual rainfall and corresponding value:\n",
      "             Daily Rainfall Total (mm)\n",
      "Date                                 \n",
      "1997-12-31                     1118.9\n"
     ]
    }
   ],
   "source": [
    "# 3\n",
    "print('the largest annual rainfall and corresponding value:\\n', df_year[df_year['Daily Rainfall Total (mm)']==df_year.max().values[0]])\n",
    "print('the smallest annual rainfall and corresponding value:\\n', df_year[df_year['Daily Rainfall Total (mm)']==df_year.min().values[0]])"
   ]
  },
  {
   "cell_type": "code",
   "execution_count": 8,
   "id": "8f836842",
   "metadata": {},
   "outputs": [
    {
     "data": {
      "text/plain": [
       "<AxesSubplot:xlabel='Date'>"
      ]
     },
     "execution_count": 8,
     "metadata": {},
     "output_type": "execute_result"
    }
   ],
   "source": [
    "df_year.plot()"
   ]
  }
 ],
 "metadata": {
  "kernelspec": {
   "display_name": "Python 3",
   "language": "python",
   "name": "python3"
  },
  "language_info": {
   "codemirror_mode": {
    "name": "ipython",
    "version": 3
   },
   "file_extension": ".py",
   "mimetype": "text/x-python",
   "name": "python",
   "nbconvert_exporter": "python",
   "pygments_lexer": "ipython3",
   "version": "3.8.8"
  }
 },
 "nbformat": 4,
 "nbformat_minor": 5
}

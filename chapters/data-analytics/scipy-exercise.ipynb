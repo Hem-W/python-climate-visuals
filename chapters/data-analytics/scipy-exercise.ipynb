{
 "cells": [
  {
   "cell_type": "markdown",
   "id": "5202ee2c",
   "metadata": {},
   "source": [
    "# SciPy Exercise"
   ]
  },
  {
   "cell_type": "markdown",
   "id": "fe1b9fa4",
   "metadata": {},
   "source": [
    "Choosing a probability distribution to represent daily precipitation depths is important for precipitation frequency analysis, stochastic precipitation modeling, and in climate trend assessments.  Read the file ../../assets/data/Changi_daily_rainfall.csv and complete the following tasks."
   ]
  },
  {
   "cell_type": "markdown",
   "id": "fe90719f",
   "metadata": {},
   "source": [
    "## Task 1\n",
    "Extract the wet-day series from the raw daily rainfall datasest and calculate the descriptive statistics (mean, vairance, skewness and kurtosis L-CV and L-skewnewss). Are there skewness or kurtosis? \n",
    "\n",
    "note: The wet-day series should be constructed by excluding zero and “trace” values (those with less than 0.25mm – recordable precipitation). \n",
    "\n",
    "The L-CV is L-coefficient of variation and can be calculated as:\n",
    "$$\\text{L-CV}=\\tau_2=\\lambda_2/\\lambda_1,$$\n",
    "and the L-skewness is L-coefficient of skewness, which is calculated as:\n",
    "$$\\text{L-skewness}=\\tau_3=\\lambda_3/\\lambda_2,$$\n",
    "where $\\lambda_1$, $\\lambda_2$ and $\\lambda_3$ are the first three L-moments (details can be found in `SciPy tutorial`)"
   ]
  },
  {
   "cell_type": "code",
   "execution_count": 1,
   "id": "3ae47cdd",
   "metadata": {},
   "outputs": [],
   "source": [
    "# Your solution goes here.\n"
   ]
  },
  {
   "cell_type": "markdown",
   "id": "69ba12e4",
   "metadata": {},
   "source": [
    "## Task 2\n",
    "Early studies identified the gamma (G2) distribution as a suitable distribution for wet-day precipitation based on the traditional goodnessof-fit tests. Is wet-day series of Changi follows a gamma distribuiton?\n",
    "Try to find out the corresponding gamma distribution function in `scipy.stats` by searching the documentation and \n",
    "* fit a gamma distribution to the Changi wet-day series;\n",
    "* print out the estimated parameters;\n",
    "* print out the goodness-of-fit test results using KS test."
   ]
  },
  {
   "cell_type": "code",
   "execution_count": 2,
   "id": "2b40dc9f",
   "metadata": {},
   "outputs": [],
   "source": [
    "# Your solution goes here.\n"
   ]
  }
 ],
 "metadata": {
  "kernelspec": {
   "display_name": "Python 3 (ipykernel)",
   "language": "python",
   "name": "python3"
  },
  "language_info": {
   "codemirror_mode": {
    "name": "ipython",
    "version": 3
   },
   "file_extension": ".py",
   "mimetype": "text/x-python",
   "name": "python",
   "nbconvert_exporter": "python",
   "pygments_lexer": "ipython3",
   "version": "3.9.12"
  },
  "varInspector": {
   "cols": {
    "lenName": 16,
    "lenType": 16,
    "lenVar": 40
   },
   "kernels_config": {
    "python": {
     "delete_cmd_postfix": "",
     "delete_cmd_prefix": "del ",
     "library": "var_list.py",
     "varRefreshCmd": "print(var_dic_list())"
    },
    "r": {
     "delete_cmd_postfix": ") ",
     "delete_cmd_prefix": "rm(",
     "library": "var_list.r",
     "varRefreshCmd": "cat(var_dic_list()) "
    }
   },
   "types_to_exclude": [
    "module",
    "function",
    "builtin_function_or_method",
    "instance",
    "_Feature"
   ],
   "window_display": false
  }
 },
 "nbformat": 4,
 "nbformat_minor": 5
}

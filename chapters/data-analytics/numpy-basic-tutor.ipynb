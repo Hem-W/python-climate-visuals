{
 "cells": [
  {
   "cell_type": "markdown",
   "id": "2375cfba",
   "metadata": {
    "slideshow": {
     "slide_type": "skip"
    }
   },
   "source": [
    "TIP: Store a backup before running."
   ]
  },
  {
   "cell_type": "markdown",
   "id": "7654c32d",
   "metadata": {
    "slideshow": {
     "slide_type": "notes"
    }
   },
   "source": [
    "# Numpy "
   ]
  },
  {
   "cell_type": "markdown",
   "id": "ceabbd7a",
   "metadata": {
    "slideshow": {
     "slide_type": "fragment"
    }
   },
   "source": [
    "## Why NumPy? <img src=\"https://github.com/numpy/numpy/blob/main/branding/logo/logomark/numpylogoicon.png?raw=true\" width=50 align=\"right\"/>"
   ]
  },
  {
   "cell_type": "markdown",
   "id": "f2a501c9",
   "metadata": {
    "slideshow": {
     "slide_type": "fragment"
    }
   },
   "source": [
    "<img src=\"https://github.com/Hem-W/python-climate-visuals/blob/HMW-tutor/assets/images/tutor/numpy_why.png?raw=true\" width=\"200\" align=\"center\"/>"
   ]
  },
  {
   "cell_type": "code",
   "execution_count": 5,
   "id": "2957b889",
   "metadata": {},
   "outputs": [
    {
     "data": {
      "text/plain": [
       "array([2, 5])"
      ]
     },
     "execution_count": 5,
     "metadata": {},
     "output_type": "execute_result"
    }
   ],
   "source": [
    "list_of_lists = [[1, 2, 3], [4, 5, 6], [7, 8, 9]]\n",
    "import numpy as np\n",
    "arr = np.array(list_of_lists)\n",
    "arr[:2, 1]"
   ]
  },
  {
   "cell_type": "code",
   "execution_count": null,
   "id": "720f2151",
   "metadata": {
    "slideshow": {
     "slide_type": "notes"
    }
   },
   "outputs": [],
   "source": [
    "list_of_lists[1][:2]\n",
    "import numpy as np\n",
    "arr = np.array(list_of_lists)\n",
    "arr[:2, 1]"
   ]
  },
  {
   "cell_type": "markdown",
   "id": "9f2b3aa6",
   "metadata": {
    "id": "lZMyAdqhL9hY",
    "slideshow": {
     "slide_type": "slide"
    }
   },
   "source": [
    "To use NumPy, we need to import the `numpy` package at first:"
   ]
  },
  {
   "cell_type": "code",
   "execution_count": 6,
   "id": "c043185b",
   "metadata": {
    "id": "58QdX8BLL9hZ",
    "scrolled": true
   },
   "outputs": [
    {
     "name": "stdout",
     "output_type": "stream",
     "text": [
      "1.24.3\n"
     ]
    }
   ],
   "source": [
    "import numpy as np\n",
    "print(np.__version__)"
   ]
  },
  {
   "cell_type": "markdown",
   "id": "253ffce5",
   "metadata": {
    "slideshow": {
     "slide_type": "slide"
    }
   },
   "source": [
    "## Array and its Creation\n",
    "\n",
    "A NumPy array (a.k.a. [`ndarray`](https://numpy.org/doc/stable/reference/arrays.ndarray.html)) is the core of this package. \n",
    "\n",
    "`ndarray` is a grid of values, all of **the same type**. \n",
    "\n",
    "We can create a NumPy array by passing a python list to it using `np.array()`. "
   ]
  },
  {
   "cell_type": "code",
   "execution_count": 9,
   "id": "6c0e8c45",
   "metadata": {
    "colab": {
     "base_uri": "https://localhost:8080/",
     "height": 52
    },
    "id": "-l3JrGxCL9hc",
    "outputId": "8d9dad18-c734-4a8a-ca8c-44060a40fb79"
   },
   "outputs": [
    {
     "data": {
      "text/plain": [
       "3"
      ]
     },
     "execution_count": 9,
     "metadata": {},
     "output_type": "execute_result"
    }
   ],
   "source": [
    "a = np.array([1, 2, 3])  # Create a rank 1 array from a list\n",
    "a.size"
   ]
  },
  {
   "cell_type": "code",
   "execution_count": null,
   "id": "33d54c15",
   "metadata": {
    "colab": {
     "base_uri": "https://localhost:8080/",
     "height": 52
    },
    "id": "-l3JrGxCL9hc",
    "outputId": "8d9dad18-c734-4a8a-ca8c-44060a40fb79",
    "slideshow": {
     "slide_type": "notes"
    }
   },
   "outputs": [],
   "source": [
    "print(a.shape, a[0])"
   ]
  },
  {
   "cell_type": "markdown",
   "id": "e9dc8e8b-60d3-4859-999b-106c81b3c2d7",
   "metadata": {
    "slideshow": {
     "slide_type": "-"
    }
   },
   "source": [
    "<img src=\"https://xiaoganghe.github.io/python-climate-visuals/_images/numpy_ndarray.png\" width=\"900\" align=\"center\"/>"
   ]
  },
  {
   "cell_type": "markdown",
   "id": "c79839f6-e41c-490c-91da-3517ff8fa2dc",
   "metadata": {
    "slideshow": {
     "slide_type": "subslide"
    }
   },
   "source": [
    "Using a list of lists with the same size, we could create 2D, 3D, or even higher dimensional arrays."
   ]
  },
  {
   "cell_type": "code",
   "execution_count": 11,
   "id": "db391b87",
   "metadata": {
    "colab": {
     "base_uri": "https://localhost:8080/",
     "height": 52
    },
    "id": "ma6mk-kdL9hh",
    "outputId": "0b54ff2f-e7f1-4b30-c653-9bf81cb8fbb0"
   },
   "outputs": [
    {
     "data": {
      "text/plain": [
       "(3, 2, 4)"
      ]
     },
     "execution_count": 11,
     "metadata": {},
     "output_type": "execute_result"
    }
   ],
   "source": [
    "b = np.array([[1, 2, 3, 4], [5, 6, 7, 8]])  # Create a rank 2 array\n",
    "\n",
    "c = np.array([[[111, 112, 113, 114], [121, 122, 123, 124]],\n",
    "              [[211, 212, 213, 214], [221, 222, 233, 234]],\n",
    "              [[311, 312, 313, 314], [321, 322, 323, 324]]])\n",
    "                                            # Create a rank 3 array\n",
    "c.shape"
   ]
  },
  {
   "cell_type": "code",
   "execution_count": null,
   "id": "e35a8667",
   "metadata": {
    "slideshow": {
     "slide_type": "notes"
    }
   },
   "outputs": [],
   "source": [
    "print(b, b.shape, b[1, 2])\n",
    "print(c, c.shape, c[0, 1, 2])"
   ]
  },
  {
   "cell_type": "markdown",
   "id": "56e41464",
   "metadata": {
    "id": "F2qwdyvuL9hn",
    "slideshow": {
     "slide_type": "subslide"
    }
   },
   "source": [
    "Numpy also provides many useful [methods](https://numpy.org/doc/stable/reference/routines.array-creation.html) to create arrays for specific purposes."
   ]
  },
  {
   "cell_type": "code",
   "execution_count": 15,
   "id": "c0920e99",
   "metadata": {},
   "outputs": [
    {
     "data": {
      "text/plain": [
       "array([[0.64568187, 0.3860173 ],\n",
       "       [0.76419866, 0.75369836],\n",
       "       [0.71342207, 0.94886103]])"
      ]
     },
     "execution_count": 15,
     "metadata": {},
     "output_type": "execute_result"
    }
   ],
   "source": [
    "np.random.random((3, 2))"
   ]
  },
  {
   "cell_type": "code",
   "execution_count": null,
   "id": "9e9c3fce",
   "metadata": {
    "colab": {
     "base_uri": "https://localhost:8080/",
     "height": 52
    },
    "id": "mVTN_EBqL9hn",
    "outputId": "d267c65f-ba90-4043-cedb-f468ab1bcc5d",
    "slideshow": {
     "slide_type": "notes"
    }
   },
   "outputs": [],
   "source": [
    "d = np.arange(5, 50, 10)  # Create an array starting at 5, ending at 50, with a step of 10\n",
    "d = np.zeros((2, 2))      # Create an array of all zeros with shape (2, 2)\n",
    "d = np.ones((1, 2))       # Create an array of all ones with shape (1, 2)\n",
    "d = np.random.random((3, 1))  # Create an array of random values with shape (3, 1)\n",
    "# Try printing them\n",
    "print(d)"
   ]
  },
  {
   "cell_type": "markdown",
   "id": "41b021ba",
   "metadata": {
    "id": "jI5qcSDfL9iC",
    "slideshow": {
     "slide_type": "slide"
    }
   },
   "source": [
    "## Array Indexing\n",
    "\n",
    "There are several ways to pull out a section of arrays:\n",
    "+ **slicing**,\n",
    "+ **integer array indexing**,\n",
    "+ **Boolean array indexing**, and\n",
    "+ many other fancy ways."
   ]
  },
  {
   "cell_type": "markdown",
   "id": "35872ea4",
   "metadata": {
    "slideshow": {
     "slide_type": "slide"
    }
   },
   "source": [
    "+ ***Slicing***\n",
    "\n",
    "    We could specify an index slice in the form `start:end` or `start:end:step` for each dimension of the array to access subarrays, quite similar to slicing python list."
   ]
  },
  {
   "cell_type": "code",
   "execution_count": 17,
   "id": "65b84908",
   "metadata": {
    "colab": {
     "base_uri": "https://localhost:8080/",
     "height": 52
    },
    "id": "wLWA0udwL9iD",
    "outputId": "99f08618-c513-4982-8982-b146fc72dab3",
    "slideshow": {
     "slide_type": "-"
    }
   },
   "outputs": [
    {
     "data": {
      "text/plain": [
       "array([[ 1,  3],\n",
       "       [ 5,  7],\n",
       "       [ 9, 11]])"
      ]
     },
     "execution_count": 17,
     "metadata": {},
     "output_type": "execute_result"
    }
   ],
   "source": [
    "a = np.array([[1, 2, 3, 4], [5, 6, 7, 8], [9, 10, 11, 12]])\n",
    "a[:, ::2]"
   ]
  },
  {
   "cell_type": "markdown",
   "id": "4a3bcf5d-9e7e-4f2a-a489-5e5587b3665c",
   "metadata": {},
   "source": [
    "\n",
    "<img src=\"https://xiaoganghe.github.io/python-climate-visuals/_images/numpy_slice.png\" width=\"800\" align=\"center\"/>\n"
   ]
  },
  {
   "cell_type": "code",
   "execution_count": null,
   "id": "7269cc5f",
   "metadata": {
    "colab": {
     "base_uri": "https://localhost:8080/",
     "height": 52
    },
    "id": "wLWA0udwL9iD",
    "outputId": "99f08618-c513-4982-8982-b146fc72dab3",
    "slideshow": {
     "slide_type": "notes"
    }
   },
   "outputs": [],
   "source": [
    "print(a[:2, 1:3])  # Slice 1st to 2nd rows and 2nd to 3rd columns\n",
    "print(a[:, ::2])   # Slice all odd columns\n",
    "print(a[:2, ])"
   ]
  },
  {
   "cell_type": "markdown",
   "id": "b446b2a6",
   "metadata": {
    "id": "VP3916bOL9iP",
    "slideshow": {
     "slide_type": "slide"
    }
   },
   "source": [
    "+ ***Integer array indexing***\n",
    "\n",
    "    Integer indexing allows you to index arbitrary elements in the array by separately assign the indexing for each dimension."
   ]
  },
  {
   "cell_type": "code",
   "execution_count": 18,
   "id": "0681d682",
   "metadata": {},
   "outputs": [
    {
     "name": "stdout",
     "output_type": "stream",
     "text": [
      "[1 5 7]\n"
     ]
    }
   ],
   "source": [
    "a = np.array([[1, 2, 3], [4, 5, 6], [7, 8, 9], [10, 11, 12]])\n",
    "row = [0, 1, 2]  # Explicitly express row indices\n",
    "col = [0, 1, 0]  # and col indices\n",
    "print(a[row, col])"
   ]
  },
  {
   "cell_type": "code",
   "execution_count": 20,
   "id": "49bf64fe",
   "metadata": {
    "colab": {
     "base_uri": "https://localhost:8080/",
     "height": 52
    },
    "id": "-l3JrGxCL9hc",
    "outputId": "8d9dad18-c734-4a8a-ca8c-44060a40fb79",
    "slideshow": {
     "slide_type": "-"
    }
   },
   "outputs": [
    {
     "data": {
      "text/plain": [
       "array([ 2,  5,  8, 11])"
      ]
     },
     "execution_count": 20,
     "metadata": {},
     "output_type": "execute_result"
    }
   ],
   "source": [
    "a = np.array([[1, 2, 3], [4, 5, 6], [7, 8, 9], [10, 11, 12]])\n",
    "a_1row = a[:, 1]\n",
    "a_1row"
   ]
  },
  {
   "cell_type": "markdown",
   "id": "823fee2e",
   "metadata": {
    "id": "kaE8dBGgL9id",
    "slideshow": {
     "slide_type": "slide"
    }
   },
   "source": [
    "+ ***Boolean array indexing***\n",
    "    \n",
    "    Boolean array indexing lets you pick out elements of an array based on the Boolean array with the same shape."
   ]
  },
  {
   "cell_type": "code",
   "execution_count": 22,
   "id": "801a24cb",
   "metadata": {
    "colab": {
     "base_uri": "https://localhost:8080/",
     "height": 69
    },
    "id": "32PusjtKL9id",
    "outputId": "8782e8ec-b78d-44d7-8141-23e39750b854",
    "scrolled": true
   },
   "outputs": [
    {
     "data": {
      "text/plain": [
       "array([ 9, 10, 11, 12])"
      ]
     },
     "execution_count": 22,
     "metadata": {},
     "output_type": "execute_result"
    }
   ],
   "source": [
    "a = np.array([[1, 2, 3], [4, 5, 6], [7, 8, 9], [10, 11, 12]])\n",
    "a[a > 8]"
   ]
  },
  {
   "cell_type": "code",
   "execution_count": null,
   "id": "32a614e4",
   "metadata": {
    "colab": {
     "base_uri": "https://localhost:8080/",
     "height": 52
    },
    "id": "cb2IRMXaL9if",
    "outputId": "5983f208-3738-472d-d6ab-11fe85b36c95",
    "slideshow": {
     "slide_type": "notes"
    }
   },
   "outputs": [],
   "source": [
    "a[a > 8]"
   ]
  },
  {
   "cell_type": "markdown",
   "id": "1a8271e7-e27c-4c81-897f-9dbae3f3077b",
   "metadata": {
    "id": "jTctwqdQL9ih",
    "slideshow": {
     "slide_type": "slide"
    },
    "tags": []
   },
   "source": [
    "## Array Manipulation\n",
    "\n",
    "+ Reshape array sizes with the `reshape()` method"
   ]
  },
  {
   "cell_type": "code",
   "execution_count": 30,
   "id": "adc8eb2a-70dc-43cf-a536-42550ef89528",
   "metadata": {
    "slideshow": {
     "slide_type": "-"
    }
   },
   "outputs": [
    {
     "ename": "ValueError",
     "evalue": "cannot reshape array of size 12 into shape (5,newaxis)",
     "output_type": "error",
     "traceback": [
      "\u001b[0;31m---------------------------------------------------------------------------\u001b[0m",
      "\u001b[0;31mValueError\u001b[0m                                Traceback (most recent call last)",
      "Cell \u001b[0;32mIn[30], line 2\u001b[0m\n\u001b[1;32m      1\u001b[0m a \u001b[38;5;241m=\u001b[39m np\u001b[38;5;241m.\u001b[39marange(\u001b[38;5;241m12\u001b[39m)\n\u001b[0;32m----> 2\u001b[0m \u001b[43mnp\u001b[49m\u001b[38;5;241;43m.\u001b[39;49m\u001b[43mreshape\u001b[49m\u001b[43m(\u001b[49m\u001b[43ma\u001b[49m\u001b[43m,\u001b[49m\u001b[43m \u001b[49m\u001b[43m(\u001b[49m\u001b[38;5;241;43m5\u001b[39;49m\u001b[43m,\u001b[49m\u001b[43m \u001b[49m\u001b[38;5;241;43m-\u001b[39;49m\u001b[38;5;241;43m1\u001b[39;49m\u001b[43m)\u001b[49m\u001b[43m)\u001b[49m\n",
      "File \u001b[0;32m<__array_function__ internals>:200\u001b[0m, in \u001b[0;36mreshape\u001b[0;34m(*args, **kwargs)\u001b[0m\n",
      "File \u001b[0;32m~/opt/anaconda3/envs/CE3201/lib/python3.9/site-packages/numpy/core/fromnumeric.py:298\u001b[0m, in \u001b[0;36mreshape\u001b[0;34m(a, newshape, order)\u001b[0m\n\u001b[1;32m    198\u001b[0m \u001b[38;5;129m@array_function_dispatch\u001b[39m(_reshape_dispatcher)\n\u001b[1;32m    199\u001b[0m \u001b[38;5;28;01mdef\u001b[39;00m \u001b[38;5;21mreshape\u001b[39m(a, newshape, order\u001b[38;5;241m=\u001b[39m\u001b[38;5;124m'\u001b[39m\u001b[38;5;124mC\u001b[39m\u001b[38;5;124m'\u001b[39m):\n\u001b[1;32m    200\u001b[0m \u001b[38;5;250m    \u001b[39m\u001b[38;5;124;03m\"\"\"\u001b[39;00m\n\u001b[1;32m    201\u001b[0m \u001b[38;5;124;03m    Gives a new shape to an array without changing its data.\u001b[39;00m\n\u001b[1;32m    202\u001b[0m \n\u001b[0;32m   (...)\u001b[0m\n\u001b[1;32m    296\u001b[0m \u001b[38;5;124;03m           [5, 6]])\u001b[39;00m\n\u001b[1;32m    297\u001b[0m \u001b[38;5;124;03m    \"\"\"\u001b[39;00m\n\u001b[0;32m--> 298\u001b[0m     \u001b[38;5;28;01mreturn\u001b[39;00m \u001b[43m_wrapfunc\u001b[49m\u001b[43m(\u001b[49m\u001b[43ma\u001b[49m\u001b[43m,\u001b[49m\u001b[43m \u001b[49m\u001b[38;5;124;43m'\u001b[39;49m\u001b[38;5;124;43mreshape\u001b[39;49m\u001b[38;5;124;43m'\u001b[39;49m\u001b[43m,\u001b[49m\u001b[43m \u001b[49m\u001b[43mnewshape\u001b[49m\u001b[43m,\u001b[49m\u001b[43m \u001b[49m\u001b[43morder\u001b[49m\u001b[38;5;241;43m=\u001b[39;49m\u001b[43morder\u001b[49m\u001b[43m)\u001b[49m\n",
      "File \u001b[0;32m~/opt/anaconda3/envs/CE3201/lib/python3.9/site-packages/numpy/core/fromnumeric.py:57\u001b[0m, in \u001b[0;36m_wrapfunc\u001b[0;34m(obj, method, *args, **kwds)\u001b[0m\n\u001b[1;32m     54\u001b[0m     \u001b[38;5;28;01mreturn\u001b[39;00m _wrapit(obj, method, \u001b[38;5;241m*\u001b[39margs, \u001b[38;5;241m*\u001b[39m\u001b[38;5;241m*\u001b[39mkwds)\n\u001b[1;32m     56\u001b[0m \u001b[38;5;28;01mtry\u001b[39;00m:\n\u001b[0;32m---> 57\u001b[0m     \u001b[38;5;28;01mreturn\u001b[39;00m \u001b[43mbound\u001b[49m\u001b[43m(\u001b[49m\u001b[38;5;241;43m*\u001b[39;49m\u001b[43margs\u001b[49m\u001b[43m,\u001b[49m\u001b[43m \u001b[49m\u001b[38;5;241;43m*\u001b[39;49m\u001b[38;5;241;43m*\u001b[39;49m\u001b[43mkwds\u001b[49m\u001b[43m)\u001b[49m\n\u001b[1;32m     58\u001b[0m \u001b[38;5;28;01mexcept\u001b[39;00m \u001b[38;5;167;01mTypeError\u001b[39;00m:\n\u001b[1;32m     59\u001b[0m     \u001b[38;5;66;03m# A TypeError occurs if the object does have such a method in its\u001b[39;00m\n\u001b[1;32m     60\u001b[0m     \u001b[38;5;66;03m# class, but its signature is not identical to that of NumPy's. This\u001b[39;00m\n\u001b[0;32m   (...)\u001b[0m\n\u001b[1;32m     64\u001b[0m     \u001b[38;5;66;03m# Call _wrapit from within the except clause to ensure a potential\u001b[39;00m\n\u001b[1;32m     65\u001b[0m     \u001b[38;5;66;03m# exception has a traceback chain.\u001b[39;00m\n\u001b[1;32m     66\u001b[0m     \u001b[38;5;28;01mreturn\u001b[39;00m _wrapit(obj, method, \u001b[38;5;241m*\u001b[39margs, \u001b[38;5;241m*\u001b[39m\u001b[38;5;241m*\u001b[39mkwds)\n",
      "\u001b[0;31mValueError\u001b[0m: cannot reshape array of size 12 into shape (5,newaxis)"
     ]
    }
   ],
   "source": [
    "a = np.arange(12)\n",
    "np.reshape(a, (5, -1))"
   ]
  },
  {
   "cell_type": "code",
   "execution_count": null,
   "id": "0010e22f",
   "metadata": {
    "slideshow": {
     "slide_type": "notes"
    }
   },
   "outputs": [],
   "source": [
    "print(a)\n",
    "print(a.reshape((3, 4)))\n",
    "print(np.reshape(a, (3, -1)))  # use the class method and put object as 1st argument is the same"
   ]
  },
  {
   "cell_type": "markdown",
   "id": "07f2b43f-0638-4bf1-8cb3-2c9259ecf5d9",
   "metadata": {
    "slideshow": {
     "slide_type": "subslide"
    }
   },
   "source": [
    "+ Join multiple arrays with \n",
    "    1. `hstack()` – horizontally concatenate arrays\n",
    "    2. `vstack()` – vertically concatenate arrays\n",
    "    3. `concatenate()` – concatenate arrays across the specified axis"
   ]
  },
  {
   "cell_type": "code",
   "execution_count": 28,
   "id": "def5d2b1",
   "metadata": {
    "colab": {
     "base_uri": "https://localhost:8080/",
     "height": 34
    },
    "id": "4za4O0m5L9ih",
    "outputId": "2ea4fb80-a4df-43f9-c162-5665895c13ae"
   },
   "outputs": [
    {
     "name": "stdout",
     "output_type": "stream",
     "text": [
      "[[ 0  1  2  3]\n",
      " [ 4  5  6  7]\n",
      " [ 8  9 10 11]]\n",
      "[[0 1]\n",
      " [2 3]\n",
      " [4 5]]\n"
     ]
    },
    {
     "data": {
      "text/plain": [
       "array([[ 0,  1,  2,  3,  0,  1],\n",
       "       [ 4,  5,  6,  7,  2,  3],\n",
       "       [ 8,  9, 10, 11,  4,  5]])"
      ]
     },
     "execution_count": 28,
     "metadata": {},
     "output_type": "execute_result"
    }
   ],
   "source": [
    "a = np.arange(12).reshape((3, 4))\n",
    "c = np.arange(6).reshape((3, 2))\n",
    "print(a)\n",
    "print(c)\n",
    "np.hstack((a, c))"
   ]
  },
  {
   "cell_type": "code",
   "execution_count": null,
   "id": "8dd62cbc",
   "metadata": {
    "colab": {
     "base_uri": "https://localhost:8080/",
     "height": 34
    },
    "id": "4za4O0m5L9ih",
    "outputId": "2ea4fb80-a4df-43f9-c162-5665895c13ae",
    "scrolled": true,
    "slideshow": {
     "slide_type": "notes"
    }
   },
   "outputs": [],
   "source": [
    "ac = np.hstack((a, c))\n",
    "print(ac)"
   ]
  },
  {
   "cell_type": "markdown",
   "id": "3acc17fd-7721-4261-a9fb-e690c0987d35",
   "metadata": {},
   "source": [
    "Arrays can also be **split**, **tiled**, and **rearranged in other ways**. \n",
    "\n",
    "Please refer to official documention of [array manipulation](https://numpy.org/doc/stable/reference/routines.array-manipulation.html) when you need them."
   ]
  },
  {
   "cell_type": "markdown",
   "id": "78bc88e8-9288-4243-991b-a26970acc0a6",
   "metadata": {
    "id": "TuB-fdhIL9ik",
    "slideshow": {
     "slide_type": "slide"
    },
    "tags": []
   },
   "source": [
    "## Array Math\n",
    "\n",
    "The real power of NumPy is that arrays can be operated for mathematical calculations easily, along with a bunch of mathematical methods provided. Let's see some examples."
   ]
  },
  {
   "cell_type": "markdown",
   "id": "ea5a5263-173c-4f5c-b36d-c560c9acdf2f",
   "metadata": {
    "slideshow": {
     "slide_type": "fragment"
    }
   },
   "source": [
    "### Basic Arithmetic"
   ]
  },
  {
   "cell_type": "code",
   "execution_count": 34,
   "id": "9e8f71dc",
   "metadata": {
    "colab": {
     "base_uri": "https://localhost:8080/",
     "height": 86
    },
    "id": "gHKvBrSKL9il",
    "outputId": "a8a924b1-9d60-4b68-8fd3-e4657ae3f08b"
   },
   "outputs": [
    {
     "data": {
      "text/plain": [
       "array([[0.        , 0.69314718],\n",
       "       [1.09861229, 1.38629436]])"
      ]
     },
     "execution_count": 34,
     "metadata": {},
     "output_type": "execute_result"
    }
   ],
   "source": [
    "x = np.array([[1, 2], [3, 4]], dtype=np.float64)\n",
    "y = np.array([[5, 6], [7, 8]], dtype=np.float64)\n",
    "\n",
    "# Elementwise sum; both produce an array\n",
    "np.log(x)"
   ]
  },
  {
   "cell_type": "code",
   "execution_count": null,
   "id": "d15db728",
   "metadata": {
    "colab": {
     "base_uri": "https://localhost:8080/",
     "height": 52
    },
    "id": "g0iZuA6bL9ir",
    "outputId": "29927dda-4167-4aa8-fbda-9008b09e4356",
    "slideshow": {
     "slide_type": "notes"
    }
   },
   "outputs": [],
   "source": [
    "x + y\n",
    "# Elementwise square root; produces an array\n",
    "print(np.sqrt(x))\n",
    "# Elementwise natural logarithm; produces an array\n",
    "print(np.log(x))"
   ]
  },
  {
   "cell_type": "markdown",
   "id": "502c3b4e",
   "metadata": {
    "id": "FbE-1If_L9i0",
    "slideshow": {
     "slide_type": "slide"
    }
   },
   "source": [
    "### Aggregation Calculations\n",
    "\n",
    "We could get basic statistics of array along different axes through Aggregation Calculations. \n",
    "+ `min()`/`max()` – get minimum/maximum value\n",
    "+ `sum()` – summation\n",
    "+ `mean()` – average\n",
    "+ `std()` - standard deviation, and\n",
    "+ [plenty of others](https://jakevdp.github.io/PythonDataScienceHandbook/02.04-computation-on-arrays-aggregates.html)."
   ]
  },
  {
   "cell_type": "code",
   "execution_count": 37,
   "id": "27c6e6f4",
   "metadata": {
    "colab": {
     "base_uri": "https://localhost:8080/",
     "height": 69
    },
    "id": "DZUdZvPrL9i0",
    "outputId": "99cad470-d692-4b25-91c9-a57aa25f4c6e"
   },
   "outputs": [
    {
     "data": {
      "text/plain": [
       "array([ 6, 15])"
      ]
     },
     "execution_count": 37,
     "metadata": {},
     "output_type": "execute_result"
    }
   ],
   "source": [
    "x = np.array([[1, 2, 3], [4, 5, 6]])\n",
    "x.sum(axis=1)"
   ]
  },
  {
   "cell_type": "code",
   "execution_count": null,
   "id": "96027cb0",
   "metadata": {
    "colab": {
     "base_uri": "https://localhost:8080/",
     "height": 69
    },
    "id": "DZUdZvPrL9i0",
    "outputId": "99cad470-d692-4b25-91c9-a57aa25f4c6e",
    "scrolled": true,
    "slideshow": {
     "slide_type": "notes"
    }
   },
   "outputs": [],
   "source": [
    "print(np.sum(x))          # Sum of all elements; produce a value\n",
    "print(np.sum(x, axis=0))  # Sum along axis 0 (column); produce a lower rank array\n",
    "print(x.sum(axis=1))      # Sum along axis 1 (row); produce a lower rank array\n",
    "# Try others!"
   ]
  },
  {
   "cell_type": "markdown",
   "id": "4395f3d4-f561-45e3-9ff4-26f51f054f80",
   "metadata": {
    "slideshow": {
     "slide_type": "subslide"
    }
   },
   "source": [
    "Which array dimension does the axis number refer?\n",
    "\n",
    "<img src=\"https://xiaoganghe.github.io/python-climate-visuals/_images/numpy_axis.png\" width=\"1000\" align=\"center\"/>"
   ]
  },
  {
   "cell_type": "markdown",
   "id": "b61e68cd",
   "metadata": {
    "slideshow": {
     "slide_type": "subslide"
    }
   },
   "source": [
    "🤔 Let's say we have temperature data like this ⬇️. And axis=0: day, axis=1: latitude, axis=2: longitude.\n",
    "<img src=\"https://github.com/Hem-W/python-climate-visuals/blob/HMW-tutor/assets/images/tutor/numpy_3dslice.png?raw=true\" width=\"400\" align=\"center\"/>"
   ]
  },
  {
   "cell_type": "code",
   "execution_count": 38,
   "id": "92b444ae",
   "metadata": {},
   "outputs": [
    {
     "data": {
      "text/plain": [
       "array([[111, 112, 113, 114, 115],\n",
       "       [121, 122, 123, 124, 125],\n",
       "       [131, 132, 133, 134, 135],\n",
       "       [141, 142, 143, 144, 145]])"
      ]
     },
     "execution_count": 38,
     "metadata": {},
     "output_type": "execute_result"
    }
   ],
   "source": [
    "Temp = np.array([[[111, 112, 113, 114, 115], [121, 122, 123, 124, 125], [131, 132, 133, 134, 135], [141, 142, 143, 144, 145]],\n",
    "                 [[211, 212, 213, 214, 215], [221, 222, 223, 224, 225], [231, 232, 233, 234, 235], [241, 242, 243, 244, 245]],\n",
    "                 [[311, 312, 313, 314, 315], [321, 322, 323, 324, 325], [331, 332, 333, 334, 335], [341, 342, 343, 344, 345]]])\n",
    "Temp[0, :, :]"
   ]
  },
  {
   "cell_type": "markdown",
   "id": "1ac54cb8",
   "metadata": {},
   "source": [
    "🤔 What if I wish to get the values for the first day?"
   ]
  },
  {
   "cell_type": "markdown",
   "id": "d0e8e103",
   "metadata": {
    "slideshow": {
     "slide_type": "notes"
    }
   },
   "source": [
    "➡️ time snapshot / grey-scale image of earth"
   ]
  },
  {
   "cell_type": "markdown",
   "id": "14688a13",
   "metadata": {
    "slideshow": {
     "slide_type": "fragment"
    }
   },
   "source": [
    "🤔 What if I wish to get the values for the point in the second latitude and third longitude?"
   ]
  },
  {
   "cell_type": "markdown",
   "id": "8f24a9a0",
   "metadata": {
    "slideshow": {
     "slide_type": "notes"
    }
   },
   "source": [
    "➡️ time series"
   ]
  },
  {
   "cell_type": "markdown",
   "id": "071b4be3",
   "metadata": {
    "id": "REfLrUTcL9i7",
    "slideshow": {
     "slide_type": "slide"
    },
    "tags": []
   },
   "source": [
    "## One more thing: Broadcasting\n",
    "\n",
    "Broadcasting allows arrays of different shapes to work together. Let's see two examples."
   ]
  },
  {
   "cell_type": "code",
   "execution_count": 39,
   "id": "4b38fd08",
   "metadata": {},
   "outputs": [
    {
     "data": {
      "text/plain": [
       "array([[0.1, 0.2, 0.3, 0.4, 0.5],\n",
       "       [0.6, 0.7, 0.8, 0.9, 1. ]])"
      ]
     },
     "execution_count": 39,
     "metadata": {},
     "output_type": "execute_result"
    }
   ],
   "source": [
    "x = np.array([[1, 2, 3, 4, 5], [6, 7, 8, 9, 10]])\n",
    "x / 10"
   ]
  },
  {
   "cell_type": "code",
   "execution_count": 41,
   "id": "5f55f184-692e-4757-b6fb-79c8e558290a",
   "metadata": {},
   "outputs": [
    {
     "ename": "ValueError",
     "evalue": "operands could not be broadcast together with shapes (2,5) (2,) ",
     "output_type": "error",
     "traceback": [
      "\u001b[0;31m---------------------------------------------------------------------------\u001b[0m",
      "\u001b[0;31mValueError\u001b[0m                                Traceback (most recent call last)",
      "Cell \u001b[0;32mIn[41], line 3\u001b[0m\n\u001b[1;32m      1\u001b[0m x \u001b[38;5;241m=\u001b[39m np\u001b[38;5;241m.\u001b[39marray([[\u001b[38;5;241m1\u001b[39m, \u001b[38;5;241m2\u001b[39m, \u001b[38;5;241m3\u001b[39m, \u001b[38;5;241m4\u001b[39m, \u001b[38;5;241m5\u001b[39m], [\u001b[38;5;241m6\u001b[39m, \u001b[38;5;241m7\u001b[39m, \u001b[38;5;241m8\u001b[39m, \u001b[38;5;241m9\u001b[39m, \u001b[38;5;241m10\u001b[39m]])\n\u001b[1;32m      2\u001b[0m sign \u001b[38;5;241m=\u001b[39m np\u001b[38;5;241m.\u001b[39marray([\u001b[38;5;241m-\u001b[39m\u001b[38;5;241m1\u001b[39m, \u001b[38;5;241m1\u001b[39m]) \u001b[38;5;66;03m#.reshape((2, 1))  # `reshape` is important❗️\u001b[39;00m\n\u001b[0;32m----> 3\u001b[0m \u001b[43mx\u001b[49m\u001b[43m \u001b[49m\u001b[38;5;241;43m*\u001b[39;49m\u001b[43m \u001b[49m\u001b[43msign\u001b[49m\n",
      "\u001b[0;31mValueError\u001b[0m: operands could not be broadcast together with shapes (2,5) (2,) "
     ]
    }
   ],
   "source": [
    "x = np.array([[1, 2, 3, 4, 5], [6, 7, 8, 9, 10]])\n",
    "sign = np.array([-1, 1]) #.reshape((2, 1))  # `reshape` is important❗️\n",
    "x * sign"
   ]
  },
  {
   "cell_type": "markdown",
   "id": "cc7f2902",
   "metadata": {},
   "source": [
    "<p>\n",
    "<img src=\"https://xiaoganghe.github.io/python-climate-visuals/_images/numpy_broadcast1-1.png\" width=\"800\" align=\"center\"/>\n",
    "</p>\n",
    "<p>\n",
    "<img src=\"https://xiaoganghe.github.io/python-climate-visuals/_images/numpy_broadcast1-2.png\" width=\"800\" align=\"center\"/>\n",
    "</p>"
   ]
  },
  {
   "cell_type": "markdown",
   "id": "d2d46ce5",
   "metadata": {
    "slideshow": {
     "slide_type": "slide"
    }
   },
   "source": [
    "### How can we know array shapes are compatible? 🧐\n",
    "\n",
    "NumPy compares array shapes from back forward. For all dimensions, their sizes are compatible when\n",
    "1. they are equal, or\n",
    "2. one of them is 1"
   ]
  },
  {
   "cell_type": "markdown",
   "id": "098269c6",
   "metadata": {
    "slideshow": {
     "slide_type": "-"
    }
   },
   "source": [
    "Let's say we operate between A and B having the following shapes.\n",
    "``` python\n",
    "A      (2d array):  5 x 4\n",
    "B      (1d array):      1\n",
    "Result (2d array):  5 x 4\n",
    "\n",
    "A      (2d array):  5 x 4\n",
    "B      (1d array):      4\n",
    "Result (2d array):  5 x 4\n",
    "\n",
    "A      (3d array):  15 x 3 x 5 # also work for higher dimensions\n",
    "B      (3d array):  15 x 1 x 5\n",
    "Result (3d array):  15 x 3 x 5\n",
    "\n",
    "A      (3d array):  15 x 1 x 5\n",
    "B      (2d array):       3 x 1\n",
    "Result (3d array):  15 x 3 x 5\n",
    "```"
   ]
  },
  {
   "cell_type": "markdown",
   "id": "c65a3f1b-9794-4784-ad93-b86357c9ed86",
   "metadata": {
    "slideshow": {
     "slide_type": "subslide"
    }
   },
   "source": [
    "Here are examples not compatible.\n",
    "``` python\n",
    "A      (1d array):  3\n",
    "B      (1d array):  4 # trailing dimension not match ❌\n",
    "\n",
    "A      (2d array):      2 x 1\n",
    "B      (3d array):  8 x 4 x 3 # second from last dimensions mismatch ❌\n",
    "```"
   ]
  },
  {
   "cell_type": "markdown",
   "id": "f22912a5-dc2e-4f86-99e8-322411c2d3a7",
   "metadata": {
    "id": "89e2FXxFL9jQ",
    "slideshow": {
     "slide_type": "subslide"
    }
   },
   "source": [
    "One successful and interesting broadcasting example is to calculate outer product of two vectors."
   ]
  },
  {
   "cell_type": "code",
   "execution_count": 42,
   "id": "0c905a3c-06d3-4993-a84f-97956ddafa99",
   "metadata": {},
   "outputs": [
    {
     "data": {
      "text/plain": [
       "array([[ 1,  2,  3,  4,  5],\n",
       "       [ 2,  4,  6,  8, 10]])"
      ]
     },
     "execution_count": 42,
     "metadata": {},
     "output_type": "execute_result"
    }
   ],
   "source": [
    "A = np.arange(1, 6)\n",
    "B = np.arange(1, 3).reshape((2, -1))  # How? Please read tutorial!\n",
    "A * B"
   ]
  },
  {
   "cell_type": "markdown",
   "id": "8f464c06-9e41-4806-83d7-646454d7ff1c",
   "metadata": {},
   "source": [
    "\n",
    "<img src=\"https://xiaoganghe.github.io/python-climate-visuals/_images/numpy_broadcast2.png\" width=\"800\" align=\"center\"/>\n"
   ]
  },
  {
   "cell_type": "markdown",
   "id": "ff70749b-15ce-418c-a3b8-7aa6e63b3abf",
   "metadata": {
    "id": "89e2FXxFL9jQ",
    "slideshow": {
     "slide_type": "notes"
    }
   },
   "source": [
    "Broadcasting typically makes your code more ***concise***, ***readable***, and more importantly, ***faster***."
   ]
  },
  {
   "cell_type": "markdown",
   "id": "9b85345c",
   "metadata": {
    "slideshow": {
     "slide_type": "slide"
    }
   },
   "source": [
    "# 🎉 Happy Coding 🎉"
   ]
  }
 ],
 "metadata": {
  "celltoolbar": "Slideshow",
  "kernelspec": {
   "display_name": "Python 3 (ipykernel)",
   "language": "python",
   "name": "python3"
  },
  "language_info": {
   "codemirror_mode": {
    "name": "ipython",
    "version": 3
   },
   "file_extension": ".py",
   "mimetype": "text/x-python",
   "name": "python",
   "nbconvert_exporter": "python",
   "pygments_lexer": "ipython3",
   "version": "3.9.18"
  },
  "varInspector": {
   "cols": {
    "lenName": 16,
    "lenType": 16,
    "lenVar": 40
   },
   "kernels_config": {
    "python": {
     "delete_cmd_postfix": "",
     "delete_cmd_prefix": "del ",
     "library": "var_list.py",
     "varRefreshCmd": "print(var_dic_list())"
    },
    "r": {
     "delete_cmd_postfix": ") ",
     "delete_cmd_prefix": "rm(",
     "library": "var_list.r",
     "varRefreshCmd": "cat(var_dic_list()) "
    }
   },
   "types_to_exclude": [
    "module",
    "function",
    "builtin_function_or_method",
    "instance",
    "_Feature"
   ],
   "window_display": false
  }
 },
 "nbformat": 4,
 "nbformat_minor": 5
}

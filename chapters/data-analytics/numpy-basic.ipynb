{
 "cells": [
  {
   "cell_type": "markdown",
   "id": "39658010",
   "metadata": {},
   "source": [
    "# NumPy\n",
    "[`NumPy`](http://www.numpy.org/) is the core library for scientific computing in Python. It provides a high-performance multidimensional array object, and tools for working with these arrays."
   ]
  },
  {
   "cell_type": "markdown",
   "id": "9f2b3aa6",
   "metadata": {
    "id": "lZMyAdqhL9hY"
   },
   "source": [
    "In this tutorial, we will cover:\n",
    "\n",
    "* `Numpy`: Array, Array indexing, Array math & Boardcasting.\n",
    "\n",
    "To use NumPy, we need to import the `numpy` package at first:"
   ]
  },
  {
   "cell_type": "code",
   "execution_count": 1,
   "id": "c043185b",
   "metadata": {
    "id": "58QdX8BLL9hZ"
   },
   "outputs": [
    {
     "name": "stdout",
     "output_type": "stream",
     "text": [
      "1.20.1\n"
     ]
    }
   ],
   "source": [
    "import numpy as np\n",
    "print(np.__version__)"
   ]
  },
  {
   "cell_type": "markdown",
   "id": "253ffce5",
   "metadata": {},
   "source": [
    "## Array\n",
    "A numpy array is a grid of values, all of the same type, and is indexed by a tuple of nonnegative integers. The number of dimensions is the rank of the array; the shape of an array is a tuple of integers giving the size of the array along each dimension."
   ]
  },
  {
   "cell_type": "markdown",
   "id": "d6becfc9",
   "metadata": {
    "id": "_eMTRnZRL9hc"
   },
   "source": [
    "We can initialize `numpy` arrays from nested Python lists using the `array` function, and we can access elements using square brackets with interger indexing. Each `numpy` array has several attributes that allow us to know some basic information about it, such as `ndim` for the number of dimnsions of the array and `shape` for the sizes of all dimensions."
   ]
  },
  {
   "cell_type": "code",
   "execution_count": 2,
   "id": "6c0e8c45",
   "metadata": {
    "colab": {
     "base_uri": "https://localhost:8080/",
     "height": 52
    },
    "id": "-l3JrGxCL9hc",
    "outputId": "8d9dad18-c734-4a8a-ca8c-44060a40fb79"
   },
   "outputs": [
    {
     "name": "stdout",
     "output_type": "stream",
     "text": [
      "[1 2 3] 1 (3,)\n",
      "1 3\n"
     ]
    }
   ],
   "source": [
    "a = [1, 2, 3]\n",
    "a = np.array(a)  # Create a rank 1 array from a list\n",
    "print(a, a.ndim, a.shape)\n",
    "print(a[0], a[-1])  # Access 1st and last elements"
   ]
  },
  {
   "cell_type": "code",
   "execution_count": 3,
   "id": "db391b87",
   "metadata": {
    "colab": {
     "base_uri": "https://localhost:8080/",
     "height": 52
    },
    "id": "ma6mk-kdL9hh",
    "outputId": "0b54ff2f-e7f1-4b30-c653-9bf81cb8fbb0"
   },
   "outputs": [
    {
     "name": "stdout",
     "output_type": "stream",
     "text": [
      "[[1 2 3 4]\n",
      " [5 6 7 8]] (2, 4) 7\n",
      "[[[111 112 113 114]\n",
      "  [121 122 123 124]]\n",
      "\n",
      " [[211 212 213 214]\n",
      "  [221 222 233 234]]\n",
      "\n",
      " [[311 312 313 314]\n",
      "  [321 322 323 324]]] (3, 2, 4) 122\n"
     ]
    }
   ],
   "source": [
    "b = np.array([[1, 2, 3, 4], [5, 6, 7, 8]])  # Create a rank 2 array\n",
    "print(b, b.shape, b[1, 2])\n",
    "c = np.array([[[111, 112, 113, 114], [121, 122, 123, 124]],\n",
    "              [[211, 212, 213, 214], [221, 222, 233, 234]],\n",
    "              [[311, 312, 313, 314], [321, 322, 323, 324]]])\n",
    "                                            # Create a rank 3 array\n",
    "print(c, c.shape, c[0, 1, 1])"
   ]
  },
  {
   "cell_type": "markdown",
   "id": "56e41464",
   "metadata": {
    "id": "F2qwdyvuL9hn"
   },
   "source": [
    "Numpy also provides many functions to create arrays for specific purposes."
   ]
  },
  {
   "cell_type": "code",
   "execution_count": 4,
   "id": "9e9c3fce",
   "metadata": {
    "colab": {
     "base_uri": "https://localhost:8080/",
     "height": 52
    },
    "id": "mVTN_EBqL9hn",
    "outputId": "d267c65f-ba90-4043-cedb-f468ab1bcc5d"
   },
   "outputs": [],
   "source": [
    "d = np.zeros((2,2))   # Create an array of all zeros\n",
    "d = np.ones((1,2))    # Create an array of all ones\n",
    "d = np.full((2,2), 7) # Create a constant array\n",
    "d = np.eye(2)         # Create a identity square matrix\n",
    "d = np.random.random((2,2)) # Create an array filled with random values"
   ]
  },
  {
   "cell_type": "markdown",
   "id": "41b021ba",
   "metadata": {
    "id": "jI5qcSDfL9iC"
   },
   "source": [
    "## Array indexing\n",
    "\n",
    "`NumPy` offers several ways to pull out a section of arrays. The most common ways include **slicing**, **integer array indexing** and **Boolean array indexing**. We may choose the appropriate indexing methods for different purposes."
   ]
  },
  {
   "cell_type": "markdown",
   "id": "35872ea4",
   "metadata": {},
   "source": [
    "+ ***Slicing***\n",
    "\n",
    "Similar to Python lists, numpy arrays can be sliced into a subarray. Since arrays may be multidimensional, you must specify a slice for each dimension of the array."
   ]
  },
  {
   "cell_type": "code",
   "execution_count": 5,
   "id": "7269cc5f",
   "metadata": {
    "colab": {
     "base_uri": "https://localhost:8080/",
     "height": 52
    },
    "id": "wLWA0udwL9iD",
    "outputId": "99f08618-c513-4982-8982-b146fc72dab3",
    "scrolled": false
   },
   "outputs": [
    {
     "name": "stdout",
     "output_type": "stream",
     "text": [
      "[[ 1  2  3  4]\n",
      " [ 5  6  7  8]\n",
      " [ 9 10 11 12]]\n",
      "[[2 3]\n",
      " [6 7]]\n",
      "[[ 1  3]\n",
      " [ 5  7]\n",
      " [ 9 11]]\n"
     ]
    }
   ],
   "source": [
    "a = np.array([[1,2,3,4], [5,6,7,8], [9,10,11,12]])\n",
    "print(a)\n",
    "print(a[:2, 1:3]) # Slice 1st to 2nd rows and 2nd to 3rd columns\n",
    "print(a[:, ::2])  # Slice all odd columns"
   ]
  },
  {
   "cell_type": "markdown",
   "id": "4eaba532",
   "metadata": {
    "id": "KahhtZKYL9iF"
   },
   "source": [
    "Note that a slice of an array is a view into the same data, so modifying it will modify the original array."
   ]
  },
  {
   "cell_type": "code",
   "execution_count": 6,
   "id": "6ad1d01a",
   "metadata": {
    "colab": {
     "base_uri": "https://localhost:8080/",
     "height": 52
    },
    "id": "1kmtaFHuL9iG",
    "outputId": "ee3ab60c-4064-4a9e-b04c-453d3955f1d1"
   },
   "outputs": [
    {
     "name": "stdout",
     "output_type": "stream",
     "text": [
      "2\n",
      "77\n"
     ]
    }
   ],
   "source": [
    "b = a[:2, 1:3]\n",
    "print(a[0, 1])\n",
    "b[0, 0] = 77    # b[0, 0] is the same piece of data as a[0, 1]\n",
    "print(a[0, 1]) "
   ]
  },
  {
   "cell_type": "markdown",
   "id": "b446b2a6",
   "metadata": {
    "id": "VP3916bOL9iP"
   },
   "source": [
    "+ ***Integer array indexing***\n",
    "\n",
    "When you index into numpy arrays using slicing, the resulting array will always be a subarray of the original array. In contrast, integer indexing allows you to index arbitrary elements in the array by separately assign the indexing for each dimension. Note that as the resulting array in this way is not subarray, modifying it will **not** modify the original."
   ]
  },
  {
   "cell_type": "code",
   "execution_count": 7,
   "id": "2ac361ab",
   "metadata": {
    "colab": {
     "base_uri": "https://localhost:8080/",
     "height": 52
    },
    "id": "TBnWonIDL9iP",
    "outputId": "c29fa2cd-234e-4765-c70a-6889acc63573",
    "scrolled": false
   },
   "outputs": [
    {
     "name": "stdout",
     "output_type": "stream",
     "text": [
      "[[ 1  2  3]\n",
      " [ 4  5  6]\n",
      " [ 7  8  9]\n",
      " [10 11 12]]\n",
      "[1 5 7]\n",
      "[1 5 7]\n"
     ]
    }
   ],
   "source": [
    "a = np.array([[1,2,3], [4,5,6], [7,8,9], [10, 11, 12]])\n",
    "print(a)\n",
    "print(a[[0, 1, 2], [0, 1, 0]]) # Integer indexing\n",
    "\n",
    "# The above example of integer array indexing is equivalent to this:\n",
    "print(np.array([a[0, 0], a[1, 1], a[2, 0]]))"
   ]
  },
  {
   "cell_type": "markdown",
   "id": "44a8d4ff",
   "metadata": {
    "id": "kaipSLafL9iU"
   },
   "source": [
    "This method is useful when we want to conduct an operation on a series of specific elements in the array."
   ]
  },
  {
   "cell_type": "code",
   "execution_count": 8,
   "id": "5202f5cd",
   "metadata": {
    "colab": {
     "base_uri": "https://localhost:8080/",
     "height": 34
    },
    "id": "pAPOoqy5L9iV",
    "outputId": "f812e29b-9218-4767-d3a8-e9854e754e68"
   },
   "outputs": [
    {
     "name": "stdout",
     "output_type": "stream",
     "text": [
      "[ 1  6  7 11]\n",
      "[[11  2  3]\n",
      " [ 4  5 16]\n",
      " [17  8  9]\n",
      " [10 21 12]]\n"
     ]
    }
   ],
   "source": [
    "# Create arrays for indices of rows and columns separately\n",
    "row = np.arange(4)           # [0, 1, 2, 3]\n",
    "col = np.array([0, 2, 0, 1])\n",
    "\n",
    "# Select one element from each row using the indices in col\n",
    "print(a[row, col])      # Integer indexing\n",
    "a[row, col] += 10       # Only operate on specific elements\n",
    "print(a)"
   ]
  },
  {
   "cell_type": "markdown",
   "id": "a9f49243",
   "metadata": {
    "id": "NCye3NXhL9iL"
   },
   "source": [
    "You can also mix integer indexing with slice indexing to obtain a subarray. However, note that mixing yields an array of lower rank, while using only slices yields an array of the same rank as the original array."
   ]
  },
  {
   "cell_type": "code",
   "execution_count": 9,
   "id": "2b2eb26b",
   "metadata": {
    "colab": {
     "base_uri": "https://localhost:8080/",
     "height": 69
    },
    "id": "EOiEMsmNL9iL",
    "outputId": "ab2ebe48-9002-45a8-9462-fd490b467f40"
   },
   "outputs": [
    {
     "name": "stdout",
     "output_type": "stream",
     "text": [
      "[4 5 6] (3,)\n",
      "[[4 5 6]] (1, 3)\n",
      "[[4 5 6]] (1, 3)\n"
     ]
    }
   ],
   "source": [
    "a = np.array([[1, 2, 3], [4, 5, 6], [7, 8, 9]])\n",
    "row_r1 = a[1, :]  # Mix integer indexing with slice indexing\n",
    "row_r2 = a[1:2, :]  # Slice indexing\n",
    "row_r3 = a[[1], :]  # Slice indexing\n",
    "print(row_r1, row_r1.shape)  # Lower rank\n",
    "print(row_r2, row_r2.shape)\n",
    "print(row_r3, row_r3.shape)"
   ]
  },
  {
   "cell_type": "markdown",
   "id": "823fee2e",
   "metadata": {
    "id": "kaE8dBGgL9id"
   },
   "source": [
    "+ ***Boolean array indexing***\n",
    "\n",
    "Boolean array indexing lets you pick out arbitrary elements of an array. Frequently this type of indexing is used to select the elements of an array that satisfy some conditions."
   ]
  },
  {
   "cell_type": "code",
   "execution_count": 10,
   "id": "801a24cb",
   "metadata": {
    "colab": {
     "base_uri": "https://localhost:8080/",
     "height": 69
    },
    "id": "32PusjtKL9id",
    "outputId": "8782e8ec-b78d-44d7-8141-23e39750b854"
   },
   "outputs": [
    {
     "name": "stdout",
     "output_type": "stream",
     "text": [
      "[[False False]\n",
      " [ True  True]\n",
      " [ True  True]]\n",
      "[3 4 5 6]\n"
     ]
    }
   ],
   "source": [
    "a = np.array([[1, 2], [3, 4], [5, 6]])\n",
    "\n",
    "bool_idx = (a > 2)  # Find the elements of a that are bigger than 2;\n",
    "                    # this returns a numpy array of Booleans of the same\n",
    "                    # shape as a, where each slot of bool_idx tells\n",
    "                    # whether that element of a is > 2.\n",
    "\n",
    "print(bool_idx)\n",
    "print(a[bool_idx])  # Boolean array indexing to construct a rank 1 array for True values "
   ]
  },
  {
   "cell_type": "markdown",
   "id": "ea1f0bb8",
   "metadata": {},
   "source": [
    "We can do all of the above in a single concise statement."
   ]
  },
  {
   "cell_type": "code",
   "execution_count": 11,
   "id": "32a614e4",
   "metadata": {
    "colab": {
     "base_uri": "https://localhost:8080/",
     "height": 52
    },
    "id": "cb2IRMXaL9if",
    "outputId": "5983f208-3738-472d-d6ab-11fe85b36c95"
   },
   "outputs": [
    {
     "name": "stdout",
     "output_type": "stream",
     "text": [
      "[3 4 5 6]\n"
     ]
    }
   ],
   "source": [
    "print(a[a > 2])"
   ]
  },
  {
   "cell_type": "markdown",
   "id": "cfd9b9f8",
   "metadata": {
    "id": "CdofMonAL9ih"
   },
   "source": [
    "For brevity we have left out a lot of details about numpy array indexing; if you want to know more you should read the [documentation](https://numpy.org/doc/stable/reference/arrays.indexing.html)."
   ]
  },
  {
   "cell_type": "markdown",
   "id": "5a5a8757",
   "metadata": {
    "id": "jTctwqdQL9ih"
   },
   "source": [
    "## Datatypes\n",
    "\n",
    "Every numpy array is a grid of elements of the same type. `NumPy` provides a large set of numeric datatypes that you can use to construct arrays. `NumPy` tries to guess a datatype when you create an array, but functions that construct arrays usually also include an optional argument to explicitly specify the datatype."
   ]
  },
  {
   "cell_type": "code",
   "execution_count": 12,
   "id": "8dd62cbc",
   "metadata": {
    "colab": {
     "base_uri": "https://localhost:8080/",
     "height": 34
    },
    "id": "4za4O0m5L9ih",
    "outputId": "2ea4fb80-a4df-43f9-c162-5665895c13ae",
    "scrolled": true
   },
   "outputs": [
    {
     "name": "stdout",
     "output_type": "stream",
     "text": [
      "int64 float64 int64\n"
     ]
    }
   ],
   "source": [
    "a = np.array([1, 2])      # Let numpy choose the datatype\n",
    "b = np.array([1, 2.0])    # Let numpy choose the datatype\n",
    "c = np.array([1, 2], dtype=np.int64)  # Force a particular datatype\n",
    "\n",
    "print(a.dtype, b.dtype, c.dtype)"
   ]
  },
  {
   "cell_type": "markdown",
   "id": "7736d1a7",
   "metadata": {
    "id": "RLVIsZQpL9ik"
   },
   "source": [
    "You can read all about `numpy` datatypes in the [documentation](http://docs.scipy.org/doc/numpy/reference/arrays.dtypes.html)."
   ]
  },
  {
   "cell_type": "markdown",
   "id": "97fd3e75",
   "metadata": {
    "id": "TuB-fdhIL9ik"
   },
   "source": [
    "## Array math"
   ]
  },
  {
   "cell_type": "markdown",
   "id": "5e5fdaf6",
   "metadata": {
    "id": "18e8V8elL9ik"
   },
   "source": [
    "Basic mathematical functions operate elementwise on arrays, and are available both as operator overloads and as functions in the numpy module:"
   ]
  },
  {
   "cell_type": "code",
   "execution_count": 13,
   "id": "9e8f71dc",
   "metadata": {
    "colab": {
     "base_uri": "https://localhost:8080/",
     "height": 86
    },
    "id": "gHKvBrSKL9il",
    "outputId": "a8a924b1-9d60-4b68-8fd3-e4657ae3f08b"
   },
   "outputs": [
    {
     "name": "stdout",
     "output_type": "stream",
     "text": [
      "[[ 6.  8.]\n",
      " [10. 12.]]\n",
      "[[ 6.  8.]\n",
      " [10. 12.]]\n"
     ]
    }
   ],
   "source": [
    "x = np.array([[1, 2], [3, 4]], dtype=np.float64)\n",
    "y = np.array([[5, 6], [7, 8]], dtype=np.float64)\n",
    "\n",
    "# Elementwise sum; both produce the array\n",
    "print(x + y)\n",
    "print(np.add(x, y))"
   ]
  },
  {
   "cell_type": "code",
   "execution_count": 14,
   "id": "d15db728",
   "metadata": {
    "colab": {
     "base_uri": "https://localhost:8080/",
     "height": 52
    },
    "id": "g0iZuA6bL9ir",
    "outputId": "29927dda-4167-4aa8-fbda-9008b09e4356"
   },
   "outputs": [
    {
     "name": "stdout",
     "output_type": "stream",
     "text": [
      "[[1.         1.41421356]\n",
      " [1.73205081 2.        ]]\n",
      "[[0.         0.69314718]\n",
      " [1.09861229 1.38629436]]\n"
     ]
    }
   ],
   "source": [
    "# Elementwise square root; produces the array\n",
    "print(np.sqrt(x))\n",
    "# Elementwise natural logarithm; produces the array\n",
    "print(np.log(x))"
   ]
  },
  {
   "cell_type": "markdown",
   "id": "016d9e54",
   "metadata": {
    "id": "a5d_uujuL9it"
   },
   "source": [
    "`NumPy` also supports matrix multiplication. We use the `dot` function to compute inner products of vectors, to multiply a vector by a matrix, and to multiply matrices. `dot` is available both as a function in the numpy module and as an instance method of array objects:"
   ]
  },
  {
   "cell_type": "code",
   "execution_count": 15,
   "id": "759cfd6c",
   "metadata": {
    "colab": {
     "base_uri": "https://localhost:8080/",
     "height": 52
    },
    "id": "I3FnmoSeL9iu",
    "outputId": "46f4575a-2e5e-4347-a34e-0cc5bd280110"
   },
   "outputs": [
    {
     "name": "stdout",
     "output_type": "stream",
     "text": [
      "219\n",
      "219\n"
     ]
    }
   ],
   "source": [
    "v = np.array([9, 10])\n",
    "w = np.array([11, 12])\n",
    "\n",
    "# Inner product of vectors\n",
    "print(v.dot(w))\n",
    "print(np.dot(v, w))"
   ]
  },
  {
   "cell_type": "code",
   "execution_count": 16,
   "id": "9aaf317e",
   "metadata": {},
   "outputs": [
    {
     "name": "stdout",
     "output_type": "stream",
     "text": [
      "[[19 22]\n",
      " [43 50]]\n",
      "[[19 22]\n",
      " [43 50]]\n"
     ]
    }
   ],
   "source": [
    "x = np.array([[1, 2], [3, 4]])\n",
    "y = np.array([[5, 6], [7, 8]])\n",
    "\n",
    "# Matrix / matrix product\n",
    "print(x.dot(y))\n",
    "print(np.dot(x, y))"
   ]
  },
  {
   "cell_type": "markdown",
   "id": "1a3f0c2e",
   "metadata": {
    "id": "vmxPbrHASVeA"
   },
   "source": [
    "You can also use the `@` operator which is equivalent to `dot` operator."
   ]
  },
  {
   "cell_type": "code",
   "execution_count": 17,
   "id": "24fa437a",
   "metadata": {
    "colab": {
     "base_uri": "https://localhost:8080/",
     "height": 69
    },
    "id": "zvUODeTxL9iw",
    "outputId": "4093fc76-094f-4453-a421-a212b5226968",
    "scrolled": true
   },
   "outputs": [
    {
     "name": "stdout",
     "output_type": "stream",
     "text": [
      "219\n",
      "[[19 22]\n",
      " [43 50]]\n"
     ]
    }
   ],
   "source": [
    "print(v @ w)\n",
    "print(x @ y)"
   ]
  },
  {
   "cell_type": "markdown",
   "id": "6960e942",
   "metadata": {},
   "source": [
    "Apart from computing mathematical functions using arrays, we frequently need to manipulate the shape of arrays, such transposing a matrix or converting to one dimension. To transpose a matrix, simply use the `T` attribute of an array object. To manipulate the shape of arrays, simply use the `reshape` funcion."
   ]
  },
  {
   "cell_type": "code",
   "execution_count": 18,
   "id": "6a366feb",
   "metadata": {
    "colab": {
     "base_uri": "https://localhost:8080/",
     "height": 104
    },
    "id": "63Yl1f3oL9i3",
    "outputId": "c75ac7ba-4351-42f8-a09c-a4e0d966ab50",
    "scrolled": true
   },
   "outputs": [
    {
     "name": "stdout",
     "output_type": "stream",
     "text": [
      "[[1 2]\n",
      " [3 4]]\n",
      "transpose\n",
      " [[1 3]\n",
      " [2 4]]\n",
      "reshape\n",
      " [1 2 3 4]\n"
     ]
    }
   ],
   "source": [
    "print(x)\n",
    "print(\"transpose\\n\", x.T)\n",
    "print(\"reshape\\n\", x.reshape(4))"
   ]
  },
  {
   "cell_type": "code",
   "execution_count": 19,
   "id": "b145b2ca",
   "metadata": {
    "colab": {
     "base_uri": "https://localhost:8080/",
     "height": 104
    },
    "id": "mkk03eNIL9i4",
    "outputId": "499eec5a-55b7-473a-d4aa-9d023d63885a",
    "scrolled": true
   },
   "outputs": [
    {
     "name": "stdout",
     "output_type": "stream",
     "text": [
      "[[1 2 3 4]]\n",
      "transpose\n",
      " [[1]\n",
      " [2]\n",
      " [3]\n",
      " [4]]\n"
     ]
    }
   ],
   "source": [
    "v = np.array([[1, 2, 3, 4]])  # Note that dimensions matter when transpose\n",
    "print(v)\n",
    "print(\"transpose\\n\", v.T)"
   ]
  },
  {
   "cell_type": "markdown",
   "id": "502c3b4e",
   "metadata": {
    "id": "FbE-1If_L9i0"
   },
   "source": [
    "`Numpy` provides many useful functions for performing computations on arrays; one of the most useful is `sum`:"
   ]
  },
  {
   "cell_type": "code",
   "execution_count": 20,
   "id": "96027cb0",
   "metadata": {
    "colab": {
     "base_uri": "https://localhost:8080/",
     "height": 69
    },
    "id": "DZUdZvPrL9i0",
    "outputId": "99cad470-d692-4b25-91c9-a57aa25f4c6e",
    "scrolled": true
   },
   "outputs": [
    {
     "name": "stdout",
     "output_type": "stream",
     "text": [
      "10\n",
      "[4 6]\n",
      "[3 7]\n"
     ]
    }
   ],
   "source": [
    "x = np.array([[1, 2], [3, 4]])\n",
    "\n",
    "print(np.sum(x))  # Compute sum of all elements\n",
    "print(np.sum(x, axis=0))  # Compute sum of each column\n",
    "print(np.sum(x, axis=1))  # Compute sum of each row"
   ]
  },
  {
   "cell_type": "markdown",
   "id": "86e0e488",
   "metadata": {
    "id": "ahdVW4iUL9i3"
   },
   "source": [
    "You can find the full list of mathematical functions provided by `numpy` in the [documentation](http://docs.scipy.org/doc/numpy/reference/routines.math.html)."
   ]
  },
  {
   "cell_type": "markdown",
   "id": "071b4be3",
   "metadata": {
    "id": "REfLrUTcL9i7"
   },
   "source": [
    "## Broadcasting"
   ]
  },
  {
   "cell_type": "markdown",
   "id": "6d092d5b",
   "metadata": {
    "id": "EygGAMWqL9i7"
   },
   "source": [
    "Broadcasting is a powerful mechanism that allows `numpy` to work with arrays of different shapes when performing arithmetic operations. Frequently we have a smaller array and a larger array, and we want to use the smaller array multiple times to perform some operations on the larger array.\n",
    "\n",
    "For example, suppose that we want to add a constant vector to each row of a matrix. At the very begining, we may use a loop to do operations for each element as follows."
   ]
  },
  {
   "cell_type": "code",
   "execution_count": 21,
   "id": "7c86e7a5",
   "metadata": {
    "colab": {
     "base_uri": "https://localhost:8080/",
     "height": 86
    },
    "id": "WEEvkV1ZL9i7",
    "outputId": "3896d03c-3ece-4aa8-f675-aef3a220574d"
   },
   "outputs": [
    {
     "name": "stdout",
     "output_type": "stream",
     "text": [
      "[[ 2  2  2]\n",
      " [ 5  5  5]\n",
      " [ 8  8  8]\n",
      " [11 11 11]]\n"
     ]
    }
   ],
   "source": [
    "# We will add the vector v to each row of the matrix x,\n",
    "# storing the result in the matrix y\n",
    "x = np.array([[1, 2, 3], [4, 5, 6], [7, 8, 9], [10, 11, 12]])\n",
    "v = np.array([1, 0, -1])\n",
    "\n",
    "# Add the vector v to each row of the matrix x with an explicit loop\n",
    "y = np.empty_like(x)  # Create an empty matrix with the same shape as x\n",
    "for i in range(4):\n",
    "    y[i, :] = x[i, :] + v\n",
    "print(y)"
   ]
  },
  {
   "cell_type": "markdown",
   "id": "ef4e5cc7",
   "metadata": {
    "id": "2OlXXupEL9i-"
   },
   "source": [
    "This works; however computing an explicit loop in Python could be slow, especially when `x` is very large. In `numpy`, we could use its elementwise math operations: forming a matrix `vv` by stacking multiple copies of `v` vertically, then performing elementwise addition of `x` and `vv`."
   ]
  },
  {
   "cell_type": "code",
   "execution_count": 22,
   "id": "c403e8db",
   "metadata": {
    "colab": {
     "base_uri": "https://localhost:8080/",
     "height": 86
    },
    "id": "vS7UwAQQL9i-",
    "outputId": "8621e502-c25d-4a18-c973-886dbfd1df36",
    "scrolled": true
   },
   "outputs": [
    {
     "name": "stdout",
     "output_type": "stream",
     "text": [
      "[[ 1  0 -1]\n",
      " [ 1  0 -1]\n",
      " [ 1  0 -1]\n",
      " [ 1  0 -1]]\n",
      "[[ 2  2  2]\n",
      " [ 5  5  5]\n",
      " [ 8  8  8]\n",
      " [11 11 11]]\n"
     ]
    }
   ],
   "source": [
    "vv = np.tile(v, (4, 1))  # Stack 4 copies of v on top of each other\n",
    "print(vv)\n",
    "y = x + vv  # Add x and vv elementwise\n",
    "print(y)"
   ]
  },
  {
   "cell_type": "markdown",
   "id": "a465afe2",
   "metadata": {
    "id": "zHos6RJnL9jB"
   },
   "source": [
    "Even more conveniently, `Numpy` **broadcasting** allows us to perform this computation within one step."
   ]
  },
  {
   "cell_type": "code",
   "execution_count": 23,
   "id": "f9a71f08",
   "metadata": {
    "colab": {
     "base_uri": "https://localhost:8080/",
     "height": 86
    },
    "id": "vnYFb-gYL9jC",
    "outputId": "df3bea8a-ad72-4a83-90bb-306b55c6fb93"
   },
   "outputs": [
    {
     "name": "stdout",
     "output_type": "stream",
     "text": [
      "[[ 2  2  2]\n",
      " [ 5  5  5]\n",
      " [ 8  8  8]\n",
      " [11 11 11]]\n"
     ]
    }
   ],
   "source": [
    "y = x + v  # Add v to each row of x using broadcasting\n",
    "print(y)"
   ]
  },
  {
   "cell_type": "markdown",
   "id": "9884616a",
   "metadata": {
    "id": "08YyIURKL9jH"
   },
   "source": [
    "The line `y = x + v` works even though `x` has shape `(4, 3)` and `v` has shape `(3,)` due to broadcasting; this line works as if v actually had shape `(4, 3)`, where each row was a copy of `v`, and the sum was performed elementwise.\n",
    "\n",
    "Broadcasting two arrays together follows these rules:\n",
    "\n",
    "1. If the arrays do not have the same rank, prepend the shape of the lower rank array with 1s until both shapes have the same length.\n",
    "2. The two arrays are said to be compatible in one dimension if they have the same size in this dimension, or if one of the arrays has size 1 in that dimension.\n",
    "3. The arrays can be broadcast together if they are compatible in all dimensions.\n",
    "4. After broadcasting, each array behaves as if it had a shape equal to the elementwise maximum of shapes of the two input arrays.\n",
    "5. In any dimension where one array had size 1 and the other array had size greater than 1, the first array behaves as if it were copied along that dimension\n",
    "\n",
    "If this explanation does not make sense, try reading the explanation from the [documentation](http://docs.scipy.org/doc/numpy/user/basics.broadcasting.html) or this [explanation](http://wiki.scipy.org/EricsBroadcastingDoc).\n",
    "\n",
    "Functions that support broadcasting are known as universal functions. You can find the list of all universal functions in the [documentation](http://docs.scipy.org/doc/numpy/reference/ufuncs.html#available-ufuncs). Here are some other applications of broadcasting:"
   ]
  },
  {
   "cell_type": "code",
   "execution_count": 24,
   "id": "d2e024ce",
   "metadata": {
    "colab": {
     "base_uri": "https://localhost:8080/",
     "height": 69
    },
    "id": "EmQnwoM9L9jH",
    "outputId": "f59e181e-e2d4-416c-d094-c4d003ce8509"
   },
   "outputs": [
    {
     "name": "stdout",
     "output_type": "stream",
     "text": [
      "[[ 4  5]\n",
      " [ 8 10]\n",
      " [12 15]]\n"
     ]
    }
   ],
   "source": [
    "# Compute outer product of vectors\n",
    "v = np.array([1, 2, 3])  # v has shape (3,)\n",
    "w = np.array([4, 5])     # w has shape (2,)\n",
    "\n",
    "# To compute an outer product, we first reshape v to be a column\n",
    "# vector of shape (3, 1); we can then broadcast it against w to yield\n",
    "# an output of shape (3, 2), which is the outer product of v and w:\n",
    "print(np.reshape(v, (3, 1)) * w)"
   ]
  },
  {
   "cell_type": "code",
   "execution_count": 25,
   "id": "19c871d6",
   "metadata": {
    "colab": {
     "base_uri": "https://localhost:8080/",
     "height": 52
    },
    "id": "T5hKS1QaL9jK",
    "outputId": "5f14ac5c-7a21-4216-e91d-cfce5720a804"
   },
   "outputs": [
    {
     "name": "stdout",
     "output_type": "stream",
     "text": [
      "[[ 5  6  7]\n",
      " [ 9 10 11]]\n",
      "[[ 5  6  7]\n",
      " [ 9 10 11]]\n"
     ]
    }
   ],
   "source": [
    "# Add a vector to each column of a matrix\n",
    "x = np.array([[1, 2, 3], [4, 5, 6]])\n",
    "w = np.array([4, 5])  # w has shape (2,)\n",
    "\n",
    "# x has shape (2, 3) and w has shape (2,). Thus, we could transpose x\n",
    "# and add w to it by rows at first; then, transpose x back.\n",
    "print((x.T + w).T)\n",
    "\n",
    "# Another solution is to reshape w to be a row vector of shape (2, 1);\n",
    "# we can then broadcast it directly against x\n",
    "print(x + np.reshape(w, (2, 1)))"
   ]
  },
  {
   "cell_type": "markdown",
   "id": "07141444",
   "metadata": {
    "id": "89e2FXxFL9jQ"
   },
   "source": [
    "Broadcasting typically makes your code more concise and faster, so you should strive to use it where possible."
   ]
  },
  {
   "cell_type": "markdown",
   "id": "d13372de",
   "metadata": {},
   "source": [
    "## References\n",
    "+ This tutorial was edited based on the [Python Numpy Tutorial](https://cs231n.github.io/python-numpy-tutorial).\n",
    "+ This tutorial has touched on many of the important things that you need to know about `numpy`, but is far from complete. Check out the [numpy reference](http://docs.scipy.org/doc/numpy/reference/) to find out more.\n",
    "+ If you are already familiar with MATLAB, you might find this [tutorial](https://numpy.org/doc/stable/user/numpy-for-matlab-users.html) useful to get started with `numpy`.\n",
    "+ If you are already familiar with R, you might refer to this [tutorial] to get started with `numpy` (http://www.data-analysis-in-python.org/python_for_r.html)."
   ]
  }
 ],
 "metadata": {
  "kernelspec": {
   "display_name": "Python 3",
   "language": "python",
   "name": "python3"
  },
  "language_info": {
   "codemirror_mode": {
    "name": "ipython",
    "version": 3
   },
   "file_extension": ".py",
   "mimetype": "text/x-python",
   "name": "python",
   "nbconvert_exporter": "python",
   "pygments_lexer": "ipython3",
   "version": "3.8.8"
  }
 },
 "nbformat": 4,
 "nbformat_minor": 5
}

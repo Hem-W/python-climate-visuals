{
 "cells": [
  {
   "cell_type": "markdown",
   "id": "f7892dd2-40b1-4644-ae02-1888609ce3af",
   "metadata": {},
   "source": [
    "# Matplotlib exercises\n",
    "\n",
    "In this section, we will provide two exercises to consolidate your knowledge on plotting using Matplotlib (this tutorial also requires knowledge on Pandas). The solutions will be provided after the tutorial section."
   ]
  },
  {
   "cell_type": "markdown",
   "id": "139970af-66bf-4e49-8004-a4085753fce1",
   "metadata": {},
   "source": [
    "## Task 1 (Plots in statistics)\n",
    "\n",
    "Read the total daily rainfall recorded at the Changi Climate Station from '../../assets/data/Changi_daily_rainfall.csv' and then do the following. \n",
    "\n",
    "1. Calculate the monthly and annual cumulative rainfall from 1981 to 2020, respectively. \n",
    "2. Create a line plot for annual cumulative rainfall from 1981 to 2020. Do you see any trend? \n",
    "3. Compare the mean monthly cumulative rainfall from 1981 to 1990, and 1991 to 2020 by histograms, density plots, box plots, and bar charts. \n",
    "4. Do you see any difference between the two periods? If any, what do you think may cause the difference?"
   ]
  },
  {
   "cell_type": "code",
   "execution_count": null,
   "id": "ce8b228d-0572-4b86-8593-c7e3f84c8de4",
   "metadata": {},
   "outputs": [],
   "source": [
    "# Your solutions go here. Create a separate code chunk for each question\n",
    "# using the + icon to add a cell in the toolbar."
   ]
  },
  {
   "cell_type": "markdown",
   "id": "7b71c40c-3e1b-45d5-b680-a5ad345e618a",
   "metadata": {},
   "source": [
    "## Task 2 (2D plotting with maps)\n",
    "\n",
    "Read the cumulative number of occurrence of Desert Locust in 2020 processed from recordings at [Locust Hub](https://locust-hub-hqfao.hub.arcgis.com/) in '../../assets/data/acm_locust_2020.csv' and then do the following. Read the monthly total precipitation and 2m temperature in 2020 from NetCDF files in '../../assets/data/ERA5_monthly_2020_tp.nc' and '../../assets/data/ERA5_monthly_2020_t2m.nc'. The ranges of lattitude and longitude are \\[-4,51\\], \\[-18,86\\], respectively.\n",
    "\n",
    "1. Plot the scattering of locust occurrence in a regional map. Customize the style, color, and transparency of marker. Add the colorbar, legend, and title.  \n",
    "2. Plot the mean annual temperature and total annual precipitation in a regional map. Customize the color map. Add the colorbar, legend, and title.  \n",
    "3. Do you see any relations among locust occurrence, temperature and rainfall?"
   ]
  },
  {
   "cell_type": "code",
   "execution_count": null,
   "id": "35869b33-83b9-427f-956a-33784982e4cc",
   "metadata": {},
   "outputs": [],
   "source": [
    "# Your solutions go here. Create a separate code chunk for each question\n",
    "# using the + icon to add a cell in the toolbar."
   ]
  }
 ],
 "metadata": {
  "kernelspec": {
   "display_name": "Python 3",
   "language": "python",
   "name": "python3"
  },
  "language_info": {
   "codemirror_mode": {
    "name": "ipython",
    "version": 3
   },
   "file_extension": ".py",
   "mimetype": "text/x-python",
   "name": "python",
   "nbconvert_exporter": "python",
   "pygments_lexer": "ipython3",
   "version": "3.8.8"
  }
 },
 "nbformat": 4,
 "nbformat_minor": 5
}
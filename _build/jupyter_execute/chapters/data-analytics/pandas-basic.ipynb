{
 "cells": [
  {
   "cell_type": "markdown",
   "metadata": {
    "id": "uNmG54oocFhS"
   },
   "source": [
    "# Pandas tutorial (Basic)"
   ]
  },
  {
   "cell_type": "markdown",
   "metadata": {
    "id": "KXAzLH_7okam"
   },
   "source": [
    "This `pandas` tutorial mainly includes two parts, **Basic** and **Advanced**. The former is mandatory for this course and the latter is optional. The following content is the **Basic**  part."
   ]
  },
  {
   "cell_type": "markdown",
   "metadata": {
    "id": "wshi88UGqj6W"
   },
   "source": [
    "## Install Pandas\n",
    "If you run code on your own computer, you need to install pandas. Open the console and enter ```pip install pandas```"
   ]
  },
  {
   "cell_type": "code",
   "execution_count": 1,
   "metadata": {
    "colab": {
     "base_uri": "https://localhost:8080/"
    },
    "id": "sYywLgQ1ogA_",
    "outputId": "1a4ec892-b96e-4d18-928a-6e0585f39462"
   },
   "outputs": [
    {
     "name": "stdout",
     "output_type": "stream",
     "text": [
      "1.2.4\n"
     ]
    }
   ],
   "source": [
    "# Import panas and view pandas version. The 'as' keyword is to replace pandas with an abbreviation 'pd'.\n",
    "import pandas as pd\n",
    "\n",
    "print(pd.__version__)"
   ]
  },
  {
   "cell_type": "markdown",
   "metadata": {
    "id": "4fUlUgkJxCN0"
   },
   "source": [
    "## Introduction to pandas Data Structures\n",
    "The two primary data structures of pandas is\n",
    "+ Series\n",
    "+ DataFrame\n",
    "\n",
    "The `series` is designed to accommodate a sequence of one-dimensional data, and the `dataframe` is designed to contain cases with several dimensions."
   ]
  },
  {
   "cell_type": "markdown",
   "metadata": {
    "id": "IztXhA2_y06M"
   },
   "source": [
    "## Series\n",
    "As shown below, the internal structure of the series object is simple, which is composed of two arrays associated with each other. The main array holds the data (data of any `NumPy` type) to which each element is associated\n",
    "with a label, contained within the other array, called the ```index```.\n",
    "\n",
    "|index|Value|\n",
    "|:---|--:|\n",
    "|0|-1|\n",
    "|1|3|\n",
    "|2|8|"
   ]
  },
  {
   "cell_type": "markdown",
   "metadata": {
    "id": "Dla_aCCz0jGL"
   },
   "source": [
    "### Defining a Series"
   ]
  },
  {
   "cell_type": "markdown",
   "metadata": {
    "id": "58z42k2p0pob"
   },
   "source": [
    "To create the series specified in above, you simply call the `Series()` function and pass as an argument an array containing the values to be included in it."
   ]
  },
  {
   "cell_type": "code",
   "execution_count": 2,
   "metadata": {
    "colab": {
     "base_uri": "https://localhost:8080/"
    },
    "id": "HgmJsMOkxEwz",
    "outputId": "85f15617-533a-4b6c-ad5f-21a1a515ca36"
   },
   "outputs": [
    {
     "name": "stdout",
     "output_type": "stream",
     "text": [
      "0   -1\n",
      "1    3\n",
      "2    8\n",
      "dtype: int64\n",
      "0   -1\n",
      "1    3\n",
      "2    8\n",
      "dtype: int64\n"
     ]
    }
   ],
   "source": [
    "s = pd.Series([-1,3,8]) # list\n",
    "print(s)\n",
    "\n",
    "s1 = pd.Series(s) # from Other Series\n",
    "print(s1)"
   ]
  },
  {
   "cell_type": "markdown",
   "metadata": {},
   "source": [
    "As you can see from the output of the series, on the left there are the values in the index, which is a series of labels, and on the right are the corresponding values.\n"
   ]
  },
  {
   "cell_type": "markdown",
   "metadata": {
    "id": "hd8f3fye1U-0"
   },
   "source": [
    "```{margin}\n",
    "If you do not specify any index during the definition of the series, by default, pandas will assign numerical values increasing from 0 as labels. In this case, the labels correspond to the indexes (position in the array) of the elements in the series object.\n",
    "```"
   ]
  },
  {
   "cell_type": "markdown",
   "metadata": {},
   "source": [
    "In general, it is best to create a series with meaningful labels to distinguish and identify each item. During the constructor call, the labels are added by specifying the value of the `index` option or using `dict` object."
   ]
  },
  {
   "cell_type": "code",
   "execution_count": 3,
   "metadata": {},
   "outputs": [
    {
     "name": "stdout",
     "output_type": "stream",
     "text": [
      "a   -1\n",
      "b    3\n",
      "c    8\n",
      "dtype: int64\n",
      "x   -1\n",
      "y    3\n",
      "z    8\n",
      "dtype: int64\n"
     ]
    }
   ],
   "source": [
    "# when declaring a Series, you can specify the index\n",
    "s2 = pd.Series({\"a\":-1, \"b\":3, \"c\":8}) # dictionary\n",
    "print(s2)\n",
    "\n",
    "s3 = pd.Series([-1, 3, 8], index=['x', 'y', 'z']) # specify the index by 'index' option\n",
    "print(s3)"
   ]
  },
  {
   "cell_type": "code",
   "execution_count": 4,
   "metadata": {},
   "outputs": [
    {
     "name": "stdout",
     "output_type": "stream",
     "text": [
      "x    100\n",
      "y     20\n",
      "z     -3\n",
      "dtype: int64\n"
     ]
    }
   ],
   "source": [
    "import numpy as np\n",
    "arr = np.array([100, 20, -3]) # from NumPy Arrays\n",
    "s4 = pd.Series(arr, index=['x', 'y', 'z'] )\n",
    "\n",
    "print(s4)"
   ]
  },
  {
   "cell_type": "markdown",
   "metadata": {
    "id": "_4A5c1aw7-Kx"
   },
   "source": [
    "```{margin}\n",
    "Always keep in mind that the values contained in the `NumPy` array or in the\n",
    "original series are not copied, but are passed by reference. That is, the object is inserted\n",
    "dynamically within the new series object. If it changes, for example its internal element\n",
    "varies in value, then those changes will also be present in the new series object.\n",
    "```"
   ]
  },
  {
   "cell_type": "code",
   "execution_count": 5,
   "metadata": {
    "colab": {
     "base_uri": "https://localhost:8080/"
    },
    "id": "DUUwGwOQ8OMx",
    "outputId": "7cf443b6-c3ce-45b2-fec3-ce0d1dfa8312"
   },
   "outputs": [
    {
     "data": {
      "text/plain": [
       "x    100\n",
       "y     20\n",
       "z    -40\n",
       "dtype: int64"
      ]
     },
     "execution_count": 5,
     "metadata": {},
     "output_type": "execute_result"
    }
   ],
   "source": [
    "arr[2] = -40\n",
    "arr\n",
    "s4"
   ]
  },
  {
   "cell_type": "markdown",
   "metadata": {
    "id": "hzFwRGLy8SXw"
   },
   "source": [
    "As you can see in this example, by changing the third element of the `arr` array, we\n",
    "also modified the corresponding element in the `s4` series."
   ]
  },
  {
   "cell_type": "markdown",
   "metadata": {
    "id": "akKW9h6O3Mtc"
   },
   "source": [
    "If you want to individually see the two arrays that make up this data structure, you\n",
    "can call the two attributes of the series as follows: index and values."
   ]
  },
  {
   "cell_type": "code",
   "execution_count": 6,
   "metadata": {
    "colab": {
     "base_uri": "https://localhost:8080/"
    },
    "id": "5zYY93co3Gua",
    "outputId": "792ed80b-1ce1-4534-82ac-a0d46baaa681"
   },
   "outputs": [
    {
     "name": "stdout",
     "output_type": "stream",
     "text": [
      "[-1  3  8]\n",
      "RangeIndex(start=0, stop=3, step=1)\n"
     ]
    }
   ],
   "source": [
    "print(s.values)\n",
    "print(s.index)"
   ]
  },
  {
   "cell_type": "markdown",
   "metadata": {
    "id": "p4yvywK73WSL"
   },
   "source": [
    "### Selecting the Internal Elements"
   ]
  },
  {
   "cell_type": "markdown",
   "metadata": {
    "id": "YueWcI9s4S4E"
   },
   "source": [
    "You can select individual elements as ordinary numpy arrays, specifying the key."
   ]
  },
  {
   "cell_type": "code",
   "execution_count": 7,
   "metadata": {
    "colab": {
     "base_uri": "https://localhost:8080/"
    },
    "id": "63mQ7uKB3RcV",
    "outputId": "d8aaa802-7097-4421-9517-ad3ec31ee2f6"
   },
   "outputs": [
    {
     "data": {
      "text/plain": [
       "3"
      ]
     },
     "execution_count": 7,
     "metadata": {},
     "output_type": "execute_result"
    }
   ],
   "source": [
    "s2 = pd.Series({\"a\":-1,\"b\":3,\"c\":8})\n",
    "s2[1]"
   ]
  },
  {
   "cell_type": "markdown",
   "metadata": {
    "id": "308B4HGj4YTk"
   },
   "source": [
    "Or you can specify the label corresponding to the position of the index."
   ]
  },
  {
   "cell_type": "code",
   "execution_count": 8,
   "metadata": {
    "colab": {
     "base_uri": "https://localhost:8080/"
    },
    "id": "HLsUPY_03VXE",
    "outputId": "2571bbec-f7c4-43c8-c3cc-61262c8ef9b6"
   },
   "outputs": [
    {
     "data": {
      "text/plain": [
       "-1"
      ]
     },
     "execution_count": 8,
     "metadata": {},
     "output_type": "execute_result"
    }
   ],
   "source": [
    "s2['a']"
   ]
  },
  {
   "cell_type": "markdown",
   "metadata": {
    "id": "UqTPQls946Jk"
   },
   "source": [
    "In the same way you select multiple items in a numpy array, you can specify the\n",
    "following:"
   ]
  },
  {
   "cell_type": "code",
   "execution_count": 9,
   "metadata": {
    "colab": {
     "base_uri": "https://localhost:8080/"
    },
    "id": "hkB3ynGP444G",
    "outputId": "bf8467ce-049a-4eca-8f35-d51f01d3f4ce"
   },
   "outputs": [
    {
     "data": {
      "text/plain": [
       "a   -1\n",
       "b    3\n",
       "dtype: int64"
      ]
     },
     "execution_count": 9,
     "metadata": {},
     "output_type": "execute_result"
    }
   ],
   "source": [
    "s2[0:2]"
   ]
  },
  {
   "cell_type": "code",
   "execution_count": 10,
   "metadata": {
    "colab": {
     "base_uri": "https://localhost:8080/"
    },
    "id": "RSPogBVY5F7U",
    "outputId": "d7819983-9bf9-4737-80be-0caebddebe74"
   },
   "outputs": [
    {
     "data": {
      "text/plain": [
       "a   -1\n",
       "b    3\n",
       "c    8\n",
       "dtype: int64"
      ]
     },
     "execution_count": 10,
     "metadata": {},
     "output_type": "execute_result"
    }
   ],
   "source": [
    "s2['a':'c']"
   ]
  },
  {
   "cell_type": "code",
   "execution_count": 11,
   "metadata": {
    "colab": {
     "base_uri": "https://localhost:8080/"
    },
    "id": "sWKjZuoF5ILH",
    "outputId": "7ed2782e-1ba3-418a-d826-148ea645d31c"
   },
   "outputs": [
    {
     "data": {
      "text/plain": [
       "a   -1\n",
       "c    8\n",
       "dtype: int64"
      ]
     },
     "execution_count": 11,
     "metadata": {},
     "output_type": "execute_result"
    }
   ],
   "source": [
    "s2[['a','c']]"
   ]
  },
  {
   "cell_type": "markdown",
   "metadata": {
    "id": "cS6hju4m5Wkl"
   },
   "source": [
    "### Assigning Values to the Elements"
   ]
  },
  {
   "cell_type": "code",
   "execution_count": 12,
   "metadata": {
    "colab": {
     "base_uri": "https://localhost:8080/"
    },
    "id": "nHa2pfm45MAV",
    "outputId": "4befbb4b-52bb-4f53-d44f-90a72c6ddff0"
   },
   "outputs": [
    {
     "data": {
      "text/plain": [
       "0     -1\n",
       "1      3\n",
       "2      8\n",
       "a    100\n",
       "dtype: int64"
      ]
     },
     "execution_count": 12,
     "metadata": {},
     "output_type": "execute_result"
    }
   ],
   "source": [
    "s1['a'] = 100\n",
    "s1"
   ]
  },
  {
   "cell_type": "markdown",
   "metadata": {
    "id": "DC_s-t5j9NKd"
   },
   "source": [
    "### Filtering Values"
   ]
  },
  {
   "cell_type": "markdown",
   "metadata": {
    "id": "g0iCpNVk9UG1"
   },
   "source": [
    "If you need to know which elements in the series are greater than 4, you\n",
    "write the following"
   ]
  },
  {
   "cell_type": "code",
   "execution_count": 13,
   "metadata": {
    "colab": {
     "base_uri": "https://localhost:8080/"
    },
    "id": "7qSr-ZCY8-R1",
    "outputId": "4b736d7e-047d-4b47-bf00-b46241408cc3"
   },
   "outputs": [
    {
     "data": {
      "text/plain": [
       "2     5\n",
       "4    10\n",
       "dtype: int64"
      ]
     },
     "execution_count": 13,
     "metadata": {},
     "output_type": "execute_result"
    }
   ],
   "source": [
    "s = pd.Series([1, 3, 5, 2, 10])\n",
    "s[s>4] # greater than 4"
   ]
  },
  {
   "cell_type": "code",
   "execution_count": 14,
   "metadata": {
    "colab": {
     "base_uri": "https://localhost:8080/"
    },
    "id": "k216zsdJ94FF",
    "outputId": "55e622bf-aacc-439b-f40b-7f2e99d84f67"
   },
   "outputs": [
    {
     "name": "stdout",
     "output_type": "stream",
     "text": [
      "0    False\n",
      "1    False\n",
      "2     True\n",
      "3     True\n",
      "4    False\n",
      "dtype: bool\n",
      "2    5\n",
      "3    2\n",
      "dtype: int64\n"
     ]
    }
   ],
   "source": [
    "# According to Boolean value to filter\n",
    "s = pd.Series([1, 3, 5, 2, 10])\n",
    "print(s.isin([2, 5]))\n",
    "print(s[s.isin([2, 5])])"
   ]
  },
  {
   "cell_type": "markdown",
   "metadata": {
    "id": "-h9y1Hfp9pKd"
   },
   "source": [
    "### Operations and Mathematical Functions"
   ]
  },
  {
   "cell_type": "code",
   "execution_count": 15,
   "metadata": {
    "colab": {
     "base_uri": "https://localhost:8080/"
    },
    "id": "U73emWqv9oc9",
    "outputId": "aca90cb4-b058-45f8-f27e-56cefa544a0c"
   },
   "outputs": [
    {
     "data": {
      "text/plain": [
       "0     2.5\n",
       "1     7.5\n",
       "2    12.5\n",
       "3     5.0\n",
       "4    25.0\n",
       "dtype: float64"
      ]
     },
     "execution_count": 15,
     "metadata": {},
     "output_type": "execute_result"
    }
   ],
   "source": [
    "s*2.5"
   ]
  },
  {
   "cell_type": "code",
   "execution_count": 16,
   "metadata": {
    "colab": {
     "base_uri": "https://localhost:8080/"
    },
    "id": "QRJMt6q89fGG",
    "outputId": "caff13ea-323c-4000-f551-2e8cc9668871"
   },
   "outputs": [
    {
     "data": {
      "text/plain": [
       "0        2.718282\n",
       "1       20.085537\n",
       "2      148.413159\n",
       "3        7.389056\n",
       "4    22026.465795\n",
       "dtype: float64"
      ]
     },
     "execution_count": 16,
     "metadata": {},
     "output_type": "execute_result"
    }
   ],
   "source": [
    "np.exp(s)"
   ]
  },
  {
   "cell_type": "markdown",
   "metadata": {
    "id": "fIqEP4l79xYd"
   },
   "source": [
    "### Nan Value"
   ]
  },
  {
   "cell_type": "markdown",
   "metadata": {
    "id": "Bop2SUHNo4Zi"
   },
   "source": [
    "The `NaN` refers to `Not a Number`, which generally is caused by the missing value. Before data analysis, the `NaN` value need to be adressed."
   ]
  },
  {
   "cell_type": "code",
   "execution_count": 17,
   "metadata": {
    "colab": {
     "base_uri": "https://localhost:8080/"
    },
    "id": "2BGPk6eH-ZkH",
    "outputId": "50a9f511-f8b0-497a-a353-ffc296cd897d"
   },
   "outputs": [
    {
     "data": {
      "text/plain": [
       "0     1.0\n",
       "1     NaN\n",
       "2    10.0\n",
       "3     9.0\n",
       "4    -2.0\n",
       "5     NaN\n",
       "dtype: float64"
      ]
     },
     "execution_count": 17,
     "metadata": {},
     "output_type": "execute_result"
    }
   ],
   "source": [
    "import numpy as np \n",
    "# Declaring a Series with NaN value\n",
    "s = pd.Series([1, np.NaN, 10, 9, -2, np.NaN])\n",
    "s"
   ]
  },
  {
   "cell_type": "markdown",
   "metadata": {
    "id": "MndqwY5a_xZR"
   },
   "source": [
    "Call `isnull()` or `notnull()` functions to generate boolean value and further identify the indexes with NaN value. "
   ]
  },
  {
   "cell_type": "code",
   "execution_count": 18,
   "metadata": {
    "colab": {
     "base_uri": "https://localhost:8080/"
    },
    "id": "NV3Vhg_E_OfT",
    "outputId": "cdd1e5b5-c35c-4d2b-b1b2-2cf1d0e1dab5"
   },
   "outputs": [
    {
     "name": "stdout",
     "output_type": "stream",
     "text": [
      "0    False\n",
      "1     True\n",
      "2    False\n",
      "3    False\n",
      "4    False\n",
      "5     True\n",
      "dtype: bool\n",
      "0     True\n",
      "1    False\n",
      "2     True\n",
      "3     True\n",
      "4     True\n",
      "5    False\n",
      "dtype: bool\n"
     ]
    }
   ],
   "source": [
    "print(s.isnull())\n",
    "print(s.notnull())"
   ]
  },
  {
   "cell_type": "markdown",
   "metadata": {
    "id": "2tzvyVkhAhir"
   },
   "source": [
    "Based on the generated boolean value, the series with full NaN value and without NaN can be generated."
   ]
  },
  {
   "cell_type": "code",
   "execution_count": 19,
   "metadata": {
    "colab": {
     "base_uri": "https://localhost:8080/"
    },
    "id": "SHPJuEDK_-fU",
    "outputId": "3dde60ba-96f7-4da9-da3b-4afab1e2b6de"
   },
   "outputs": [
    {
     "name": "stdout",
     "output_type": "stream",
     "text": [
      "1   NaN\n",
      "5   NaN\n",
      "dtype: float64\n",
      "0     1.0\n",
      "2    10.0\n",
      "3     9.0\n",
      "4    -2.0\n",
      "dtype: float64\n"
     ]
    }
   ],
   "source": [
    "print(s[s.isnull()])\n",
    "print(s[s.notnull()])"
   ]
  },
  {
   "cell_type": "markdown",
   "metadata": {
    "id": "XwOCF7a5Ax8Z"
   },
   "source": [
    "### Operation of multiple Series"
   ]
  },
  {
   "cell_type": "code",
   "execution_count": 20,
   "metadata": {
    "colab": {
     "base_uri": "https://localhost:8080/"
    },
    "id": "Hfg5GPL1AxSk",
    "outputId": "c4fe3267-821f-4cc9-dcb0-91003fc06221"
   },
   "outputs": [
    {
     "data": {
      "text/plain": [
       "Cambodia        NaN\n",
       "China           NaN\n",
       "Japan           NaN\n",
       "Laos            NaN\n",
       "Malaysia        NaN\n",
       "Singapore       NaN\n",
       "Vietnam      1296.0\n",
       "dtype: float64"
      ]
     },
     "execution_count": 20,
     "metadata": {},
     "output_type": "execute_result"
    }
   ],
   "source": [
    "s = pd.Series({\"Singapore\":30, \"Malaysia\":23, \"Vietnam\":36, \"Cambodia\":41})\n",
    "s1 = pd.Series({\"China\":51, \"Japan\":73, \"Vietnam\":36, \"Laos\":31})\n",
    "s*s1"
   ]
  },
  {
   "cell_type": "markdown",
   "metadata": {
    "id": "LljTzdmeCkwf"
   },
   "source": [
    "As you can see, only indexes which all series have can opearte. "
   ]
  },
  {
   "cell_type": "markdown",
   "metadata": {
    "id": "TMq2u_KmDK2F"
   },
   "source": [
    "## DataFrame"
   ]
  },
  {
   "cell_type": "markdown",
   "metadata": {
    "id": "qavPZWnvDV6A"
   },
   "source": [
    "Compared with the `Series`, the `DataFrame` can contain multiple dimentional data. Its fist column and first row are `index` and `columns`, respectively. (Only for DataFrame without multiple index, `DataFrame` with multiple indexes which will be introduced later). Each column must be same data type (numeric, string, boolean et al.) but different columns can have different data types. \n",
    "\n",
    "|index|numeric|string|boolean|\n",
    "|:--|:--:|:--:|--:|\n",
    "|0|-1|Singapore|True|\n",
    "|1|3|China|True|\n",
    "|2|8|Japan|False|\n"
   ]
  },
  {
   "cell_type": "markdown",
   "metadata": {
    "id": "9ZR2HB_wGhlu"
   },
   "source": [
    "### Defining a DataFrame"
   ]
  },
  {
   "cell_type": "markdown",
   "metadata": {
    "id": "p9tgtpz4GmyM"
   },
   "source": [
    "Call `DataFrame()` function to create a `DataFrame`. The `Array`, `List`, `dict` all can taken as the input of `DataFrame()` function."
   ]
  },
  {
   "cell_type": "code",
   "execution_count": 21,
   "metadata": {
    "colab": {
     "base_uri": "https://localhost:8080/",
     "height": 282
    },
    "id": "Z_SLS6RdDJCu",
    "outputId": "bdaa93e5-e203-4794-8013-2a583218c907"
   },
   "outputs": [
    {
     "name": "stdout",
     "output_type": "stream",
     "text": [
      "    0   1   2   3\n",
      "0  14  35  35  35\n",
      "1  19  34  57  34\n",
      "2  42  74  49  59\n",
      "     Country       Capital  Population  Isdeveloped\n",
      "a   Malaysia  Kuala Lumpur    32365999        False\n",
      "b  Singapore     Singapore     5850342         True\n",
      "c    Vietnam         Hanoi    97338579         True\n"
     ]
    },
    {
     "data": {
      "text/html": [
       "<div>\n",
       "<style scoped>\n",
       "    .dataframe tbody tr th:only-of-type {\n",
       "        vertical-align: middle;\n",
       "    }\n",
       "\n",
       "    .dataframe tbody tr th {\n",
       "        vertical-align: top;\n",
       "    }\n",
       "\n",
       "    .dataframe thead th {\n",
       "        text-align: right;\n",
       "    }\n",
       "</style>\n",
       "<table border=\"1\" class=\"dataframe\">\n",
       "  <thead>\n",
       "    <tr style=\"text-align: right;\">\n",
       "      <th></th>\n",
       "      <th>Country</th>\n",
       "      <th>Capital</th>\n",
       "      <th>Population</th>\n",
       "      <th>Isdeveloped</th>\n",
       "    </tr>\n",
       "  </thead>\n",
       "  <tbody>\n",
       "    <tr>\n",
       "      <th>0</th>\n",
       "      <td>Malaysia</td>\n",
       "      <td>Kuala Lumpur</td>\n",
       "      <td>32365999</td>\n",
       "      <td>False</td>\n",
       "    </tr>\n",
       "    <tr>\n",
       "      <th>1</th>\n",
       "      <td>Singapore</td>\n",
       "      <td>Singapore</td>\n",
       "      <td>5850342</td>\n",
       "      <td>True</td>\n",
       "    </tr>\n",
       "    <tr>\n",
       "      <th>2</th>\n",
       "      <td>Vietnam</td>\n",
       "      <td>Hanoi</td>\n",
       "      <td>97338579</td>\n",
       "      <td>True</td>\n",
       "    </tr>\n",
       "  </tbody>\n",
       "</table>\n",
       "</div>"
      ],
      "text/plain": [
       "     Country       Capital  Population  Isdeveloped\n",
       "0   Malaysia  Kuala Lumpur    32365999        False\n",
       "1  Singapore     Singapore     5850342         True\n",
       "2    Vietnam         Hanoi    97338579         True"
      ]
     },
     "execution_count": 21,
     "metadata": {},
     "output_type": "execute_result"
    }
   ],
   "source": [
    "# array\n",
    "df = pd.DataFrame(np.array([[14, 35, 35, 35],\n",
    "                            [19, 34, 57, 34],\n",
    "                            [42, 74, 49, 59]]))\n",
    "print(df)\n",
    "\n",
    "# list,  use 'columns' and 'index' parameters to specify the column and index of generated dataframe.\n",
    "df = pd.DataFrame([[\"Malaysia\", \"Kuala Lumpur\", 32365999, False],\n",
    "              [\"Singapore\", \"Singapore\", 5850342, True],\n",
    "              [\"Vietnam\", \"Hanoi\", 97338579, True]],\n",
    "              columns = [\"Country\", \"Capital\", \"Population\", \"Isdeveloped\"],\n",
    "              index=[\"a\", \"b\", \"c\"])\n",
    "print(df)\n",
    "\n",
    "# dict\n",
    "df = pd.DataFrame({\"Country\":[\"Malaysia\", \"Singapore\", \"Vietnam\"],\n",
    "                   \"Capital\":[\"Kuala Lumpur\", \"Singapore\", \"Hanoi\"],\n",
    "              \"Population\":[32365999, 5850342, 97338579],\n",
    "              \"Isdeveloped\":[False, True, True]})\n",
    "df"
   ]
  },
  {
   "cell_type": "markdown",
   "metadata": {
    "id": "X4dipR-iOs_S"
   },
   "source": [
    "### Selecting the Internal Elements"
   ]
  },
  {
   "cell_type": "markdown",
   "metadata": {
    "id": "T88sE7BSP4N4"
   },
   "source": [
    "Similar with `Series`, two ways can be used to select the elements from `DataFrame`. Call `iloc[]` and `loc[]` to select the elements by position and label, respectively ."
   ]
  },
  {
   "cell_type": "code",
   "execution_count": 22,
   "metadata": {
    "colab": {
     "base_uri": "https://localhost:8080/",
     "height": 143
    },
    "id": "HktzDCigOrJR",
    "outputId": "2a5e55d9-aab7-4eef-88a0-d47ce4cf0d6e"
   },
   "outputs": [
    {
     "data": {
      "text/html": [
       "<div>\n",
       "<style scoped>\n",
       "    .dataframe tbody tr th:only-of-type {\n",
       "        vertical-align: middle;\n",
       "    }\n",
       "\n",
       "    .dataframe tbody tr th {\n",
       "        vertical-align: top;\n",
       "    }\n",
       "\n",
       "    .dataframe thead th {\n",
       "        text-align: right;\n",
       "    }\n",
       "</style>\n",
       "<table border=\"1\" class=\"dataframe\">\n",
       "  <thead>\n",
       "    <tr style=\"text-align: right;\">\n",
       "      <th></th>\n",
       "      <th>Country</th>\n",
       "      <th>Capital</th>\n",
       "      <th>Population</th>\n",
       "      <th>Isdeveloped</th>\n",
       "    </tr>\n",
       "  </thead>\n",
       "  <tbody>\n",
       "    <tr>\n",
       "      <th>a</th>\n",
       "      <td>Malaysia</td>\n",
       "      <td>Kuala Lumpur</td>\n",
       "      <td>32365999</td>\n",
       "      <td>False</td>\n",
       "    </tr>\n",
       "    <tr>\n",
       "      <th>b</th>\n",
       "      <td>Singapore</td>\n",
       "      <td>Singapore</td>\n",
       "      <td>5850342</td>\n",
       "      <td>True</td>\n",
       "    </tr>\n",
       "    <tr>\n",
       "      <th>c</th>\n",
       "      <td>Vietnam</td>\n",
       "      <td>Hanoi</td>\n",
       "      <td>97338579</td>\n",
       "      <td>True</td>\n",
       "    </tr>\n",
       "  </tbody>\n",
       "</table>\n",
       "</div>"
      ],
      "text/plain": [
       "     Country       Capital  Population  Isdeveloped\n",
       "a   Malaysia  Kuala Lumpur    32365999        False\n",
       "b  Singapore     Singapore     5850342         True\n",
       "c    Vietnam         Hanoi    97338579         True"
      ]
     },
     "execution_count": 22,
     "metadata": {},
     "output_type": "execute_result"
    }
   ],
   "source": [
    "df = pd.DataFrame([[\"Malaysia\", \"Kuala Lumpur\", 32365999, False],\n",
    "              [\"Singapore\", \"Singapore\", 5850342, True],\n",
    "              [\"Vietnam\", \"Hanoi\", 97338579, True]],\n",
    "              columns = [\"Country\", \"Capital\", \"Population\", \"Isdeveloped\"],\n",
    "              index=[\"a\", \"b\", \"c\"])\n",
    "df"
   ]
  },
  {
   "cell_type": "code",
   "execution_count": 23,
   "metadata": {
    "colab": {
     "base_uri": "https://localhost:8080/",
     "height": 143
    },
    "id": "1WAeH1hBQ1vk",
    "outputId": "db4dc506-805c-4b54-c33a-8a239e8bb785"
   },
   "outputs": [
    {
     "data": {
      "text/html": [
       "<div>\n",
       "<style scoped>\n",
       "    .dataframe tbody tr th:only-of-type {\n",
       "        vertical-align: middle;\n",
       "    }\n",
       "\n",
       "    .dataframe tbody tr th {\n",
       "        vertical-align: top;\n",
       "    }\n",
       "\n",
       "    .dataframe thead th {\n",
       "        text-align: right;\n",
       "    }\n",
       "</style>\n",
       "<table border=\"1\" class=\"dataframe\">\n",
       "  <thead>\n",
       "    <tr style=\"text-align: right;\">\n",
       "      <th></th>\n",
       "      <th>Country</th>\n",
       "      <th>Capital</th>\n",
       "    </tr>\n",
       "  </thead>\n",
       "  <tbody>\n",
       "    <tr>\n",
       "      <th>a</th>\n",
       "      <td>Malaysia</td>\n",
       "      <td>Kuala Lumpur</td>\n",
       "    </tr>\n",
       "    <tr>\n",
       "      <th>b</th>\n",
       "      <td>Singapore</td>\n",
       "      <td>Singapore</td>\n",
       "    </tr>\n",
       "    <tr>\n",
       "      <th>c</th>\n",
       "      <td>Vietnam</td>\n",
       "      <td>Hanoi</td>\n",
       "    </tr>\n",
       "  </tbody>\n",
       "</table>\n",
       "</div>"
      ],
      "text/plain": [
       "     Country       Capital\n",
       "a   Malaysia  Kuala Lumpur\n",
       "b  Singapore     Singapore\n",
       "c    Vietnam         Hanoi"
      ]
     },
     "execution_count": 23,
     "metadata": {},
     "output_type": "execute_result"
    }
   ],
   "source": [
    "# use ':' to represent select all\n",
    "df.iloc[:,0:2]"
   ]
  },
  {
   "cell_type": "code",
   "execution_count": 24,
   "metadata": {
    "colab": {
     "base_uri": "https://localhost:8080/",
     "height": 143
    },
    "id": "ap9wwoOIRHw6",
    "outputId": "fecd4833-926b-45d4-ac57-e95b795b2e32"
   },
   "outputs": [
    {
     "data": {
      "text/html": [
       "<div>\n",
       "<style scoped>\n",
       "    .dataframe tbody tr th:only-of-type {\n",
       "        vertical-align: middle;\n",
       "    }\n",
       "\n",
       "    .dataframe tbody tr th {\n",
       "        vertical-align: top;\n",
       "    }\n",
       "\n",
       "    .dataframe thead th {\n",
       "        text-align: right;\n",
       "    }\n",
       "</style>\n",
       "<table border=\"1\" class=\"dataframe\">\n",
       "  <thead>\n",
       "    <tr style=\"text-align: right;\">\n",
       "      <th></th>\n",
       "      <th>Country</th>\n",
       "      <th>Capital</th>\n",
       "      <th>Population</th>\n",
       "    </tr>\n",
       "  </thead>\n",
       "  <tbody>\n",
       "    <tr>\n",
       "      <th>a</th>\n",
       "      <td>Malaysia</td>\n",
       "      <td>Kuala Lumpur</td>\n",
       "      <td>32365999</td>\n",
       "    </tr>\n",
       "    <tr>\n",
       "      <th>b</th>\n",
       "      <td>Singapore</td>\n",
       "      <td>Singapore</td>\n",
       "      <td>5850342</td>\n",
       "    </tr>\n",
       "    <tr>\n",
       "      <th>c</th>\n",
       "      <td>Vietnam</td>\n",
       "      <td>Hanoi</td>\n",
       "      <td>97338579</td>\n",
       "    </tr>\n",
       "  </tbody>\n",
       "</table>\n",
       "</div>"
      ],
      "text/plain": [
       "     Country       Capital  Population\n",
       "a   Malaysia  Kuala Lumpur    32365999\n",
       "b  Singapore     Singapore     5850342\n",
       "c    Vietnam         Hanoi    97338579"
      ]
     },
     "execution_count": 24,
     "metadata": {},
     "output_type": "execute_result"
    }
   ],
   "source": [
    "df.loc[:, \"Country\":\"Population\"]"
   ]
  },
  {
   "cell_type": "code",
   "execution_count": 25,
   "metadata": {
    "colab": {
     "base_uri": "https://localhost:8080/"
    },
    "id": "L9vDO0wORNOV",
    "outputId": "7abaf264-d6c9-4c2f-deb7-eb77e493cc7c"
   },
   "outputs": [
    {
     "data": {
      "text/plain": [
       "Country       Malaysia\n",
       "Population    32365999\n",
       "Name: a, dtype: object"
      ]
     },
     "execution_count": 25,
     "metadata": {},
     "output_type": "execute_result"
    }
   ],
   "source": [
    "df.loc[\"a\", [\"Country\", \"Population\"]]"
   ]
  },
  {
   "cell_type": "code",
   "execution_count": 26,
   "metadata": {
    "colab": {
     "base_uri": "https://localhost:8080/",
     "height": 112
    },
    "id": "kQIe2hvBUXhJ",
    "outputId": "d621f37b-595d-4455-fa10-22c4d1615a44"
   },
   "outputs": [
    {
     "data": {
      "text/html": [
       "<div>\n",
       "<style scoped>\n",
       "    .dataframe tbody tr th:only-of-type {\n",
       "        vertical-align: middle;\n",
       "    }\n",
       "\n",
       "    .dataframe tbody tr th {\n",
       "        vertical-align: top;\n",
       "    }\n",
       "\n",
       "    .dataframe thead th {\n",
       "        text-align: right;\n",
       "    }\n",
       "</style>\n",
       "<table border=\"1\" class=\"dataframe\">\n",
       "  <thead>\n",
       "    <tr style=\"text-align: right;\">\n",
       "      <th></th>\n",
       "      <th>Country</th>\n",
       "      <th>Capital</th>\n",
       "      <th>Population</th>\n",
       "      <th>Isdeveloped</th>\n",
       "    </tr>\n",
       "  </thead>\n",
       "  <tbody>\n",
       "    <tr>\n",
       "      <th>a</th>\n",
       "      <td>Malaysia</td>\n",
       "      <td>Kuala Lumpur</td>\n",
       "      <td>32365999</td>\n",
       "      <td>False</td>\n",
       "    </tr>\n",
       "    <tr>\n",
       "      <th>b</th>\n",
       "      <td>Singapore</td>\n",
       "      <td>Singapore</td>\n",
       "      <td>5850342</td>\n",
       "      <td>True</td>\n",
       "    </tr>\n",
       "  </tbody>\n",
       "</table>\n",
       "</div>"
      ],
      "text/plain": [
       "     Country       Capital  Population  Isdeveloped\n",
       "a   Malaysia  Kuala Lumpur    32365999        False\n",
       "b  Singapore     Singapore     5850342         True"
      ]
     },
     "execution_count": 26,
     "metadata": {},
     "output_type": "execute_result"
    }
   ],
   "source": [
    "df.iloc[[0, 1]] # If you omit number of columns, all columns will be selected "
   ]
  },
  {
   "cell_type": "markdown",
   "metadata": {
    "id": "zsXddPr8Rb_L"
   },
   "source": [
    "Use ```columns```,```index``` and ```values``` atrributes to obtain corresponding object value."
   ]
  },
  {
   "cell_type": "code",
   "execution_count": 27,
   "metadata": {
    "colab": {
     "base_uri": "https://localhost:8080/"
    },
    "id": "orBdq5eXR7C8",
    "outputId": "3b58a3a3-5586-41c8-9f4c-85dd5c58502e"
   },
   "outputs": [
    {
     "data": {
      "text/plain": [
       "Index(['a', 'b', 'c'], dtype='object')"
      ]
     },
     "execution_count": 27,
     "metadata": {},
     "output_type": "execute_result"
    }
   ],
   "source": [
    "df.index"
   ]
  },
  {
   "cell_type": "code",
   "execution_count": 28,
   "metadata": {
    "colab": {
     "base_uri": "https://localhost:8080/"
    },
    "id": "-8OqpYNGR8-3",
    "outputId": "1bd3e3a9-f661-49fe-8f9d-7dbe57c8b8c0"
   },
   "outputs": [
    {
     "data": {
      "text/plain": [
       "Index(['Country', 'Capital', 'Population', 'Isdeveloped'], dtype='object')"
      ]
     },
     "execution_count": 28,
     "metadata": {},
     "output_type": "execute_result"
    }
   ],
   "source": [
    "df.columns"
   ]
  },
  {
   "cell_type": "code",
   "execution_count": 29,
   "metadata": {
    "colab": {
     "base_uri": "https://localhost:8080/"
    },
    "id": "jXwC1xlOR_dF",
    "outputId": "2a6ff76a-bc35-4625-fdb1-ad830c31d9f9"
   },
   "outputs": [
    {
     "data": {
      "text/plain": [
       "array([['Malaysia', 'Kuala Lumpur', 32365999, False],\n",
       "       ['Singapore', 'Singapore', 5850342, True],\n",
       "       ['Vietnam', 'Hanoi', 97338579, True]], dtype=object)"
      ]
     },
     "execution_count": 29,
     "metadata": {},
     "output_type": "execute_result"
    }
   ],
   "source": [
    "df.values"
   ]
  },
  {
   "cell_type": "markdown",
   "metadata": {
    "id": "YGEs4EpFRcMg"
   },
   "source": [
    "Select corresponding column according the label or number of columns."
   ]
  },
  {
   "cell_type": "code",
   "execution_count": 30,
   "metadata": {
    "colab": {
     "base_uri": "https://localhost:8080/"
    },
    "id": "CjH56421Sv-J",
    "outputId": "d1a3b3b6-7672-420f-de19-cc912bc15a8b"
   },
   "outputs": [
    {
     "data": {
      "text/plain": [
       "a     Malaysia\n",
       "b    Singapore\n",
       "c      Vietnam\n",
       "Name: Country, dtype: object"
      ]
     },
     "execution_count": 30,
     "metadata": {},
     "output_type": "execute_result"
    }
   ],
   "source": [
    "df[\"Country\"]"
   ]
  },
  {
   "cell_type": "code",
   "execution_count": 31,
   "metadata": {
    "colab": {
     "base_uri": "https://localhost:8080/",
     "height": 143
    },
    "id": "IKrXfblfTGsv",
    "outputId": "fd289e61-f8cf-488f-e2d8-77e9e9fed9d3"
   },
   "outputs": [
    {
     "data": {
      "text/html": [
       "<div>\n",
       "<style scoped>\n",
       "    .dataframe tbody tr th:only-of-type {\n",
       "        vertical-align: middle;\n",
       "    }\n",
       "\n",
       "    .dataframe tbody tr th {\n",
       "        vertical-align: top;\n",
       "    }\n",
       "\n",
       "    .dataframe thead th {\n",
       "        text-align: right;\n",
       "    }\n",
       "</style>\n",
       "<table border=\"1\" class=\"dataframe\">\n",
       "  <thead>\n",
       "    <tr style=\"text-align: right;\">\n",
       "      <th></th>\n",
       "      <th>Country</th>\n",
       "      <th>Population</th>\n",
       "    </tr>\n",
       "  </thead>\n",
       "  <tbody>\n",
       "    <tr>\n",
       "      <th>a</th>\n",
       "      <td>Malaysia</td>\n",
       "      <td>32365999</td>\n",
       "    </tr>\n",
       "    <tr>\n",
       "      <th>b</th>\n",
       "      <td>Singapore</td>\n",
       "      <td>5850342</td>\n",
       "    </tr>\n",
       "    <tr>\n",
       "      <th>c</th>\n",
       "      <td>Vietnam</td>\n",
       "      <td>97338579</td>\n",
       "    </tr>\n",
       "  </tbody>\n",
       "</table>\n",
       "</div>"
      ],
      "text/plain": [
       "     Country  Population\n",
       "a   Malaysia    32365999\n",
       "b  Singapore     5850342\n",
       "c    Vietnam    97338579"
      ]
     },
     "execution_count": 31,
     "metadata": {},
     "output_type": "execute_result"
    }
   ],
   "source": [
    "df[[\"Country\", \"Population\"]] # Use list to select multiple columns  "
   ]
  },
  {
   "cell_type": "code",
   "execution_count": 32,
   "metadata": {
    "colab": {
     "base_uri": "https://localhost:8080/"
    },
    "id": "isuc3Lr5Sy1S",
    "outputId": "f780cd1e-8400-4b5d-a9e0-55759ed170f7"
   },
   "outputs": [
    {
     "data": {
      "text/plain": [
       "a     Malaysia\n",
       "b    Singapore\n",
       "c      Vietnam\n",
       "Name: Country, dtype: object"
      ]
     },
     "execution_count": 32,
     "metadata": {},
     "output_type": "execute_result"
    }
   ],
   "source": [
    "df.Country # Also support as atrribute to select"
   ]
  },
  {
   "cell_type": "code",
   "execution_count": 33,
   "metadata": {
    "colab": {
     "base_uri": "https://localhost:8080/",
     "height": 112
    },
    "id": "WZNQGWMwS5wS",
    "outputId": "c21dfe23-db7c-4125-b84c-cffb4d7de295"
   },
   "outputs": [
    {
     "data": {
      "text/html": [
       "<div>\n",
       "<style scoped>\n",
       "    .dataframe tbody tr th:only-of-type {\n",
       "        vertical-align: middle;\n",
       "    }\n",
       "\n",
       "    .dataframe tbody tr th {\n",
       "        vertical-align: top;\n",
       "    }\n",
       "\n",
       "    .dataframe thead th {\n",
       "        text-align: right;\n",
       "    }\n",
       "</style>\n",
       "<table border=\"1\" class=\"dataframe\">\n",
       "  <thead>\n",
       "    <tr style=\"text-align: right;\">\n",
       "      <th></th>\n",
       "      <th>Country</th>\n",
       "      <th>Capital</th>\n",
       "      <th>Population</th>\n",
       "      <th>Isdeveloped</th>\n",
       "    </tr>\n",
       "  </thead>\n",
       "  <tbody>\n",
       "    <tr>\n",
       "      <th>a</th>\n",
       "      <td>Malaysia</td>\n",
       "      <td>Kuala Lumpur</td>\n",
       "      <td>32365999</td>\n",
       "      <td>False</td>\n",
       "    </tr>\n",
       "    <tr>\n",
       "      <th>b</th>\n",
       "      <td>Singapore</td>\n",
       "      <td>Singapore</td>\n",
       "      <td>5850342</td>\n",
       "      <td>True</td>\n",
       "    </tr>\n",
       "  </tbody>\n",
       "</table>\n",
       "</div>"
      ],
      "text/plain": [
       "     Country       Capital  Population  Isdeveloped\n",
       "a   Malaysia  Kuala Lumpur    32365999        False\n",
       "b  Singapore     Singapore     5850342         True"
      ]
     },
     "execution_count": 33,
     "metadata": {},
     "output_type": "execute_result"
    }
   ],
   "source": [
    "df[\"a\":\"b\"] # When select multiple rows, do not use list   "
   ]
  },
  {
   "cell_type": "code",
   "execution_count": 34,
   "metadata": {
    "colab": {
     "base_uri": "https://localhost:8080/",
     "height": 112
    },
    "id": "otn255r2UPa7",
    "outputId": "b446893d-7bdf-4c86-b248-16a32271722a"
   },
   "outputs": [
    {
     "data": {
      "text/html": [
       "<div>\n",
       "<style scoped>\n",
       "    .dataframe tbody tr th:only-of-type {\n",
       "        vertical-align: middle;\n",
       "    }\n",
       "\n",
       "    .dataframe tbody tr th {\n",
       "        vertical-align: top;\n",
       "    }\n",
       "\n",
       "    .dataframe thead th {\n",
       "        text-align: right;\n",
       "    }\n",
       "</style>\n",
       "<table border=\"1\" class=\"dataframe\">\n",
       "  <thead>\n",
       "    <tr style=\"text-align: right;\">\n",
       "      <th></th>\n",
       "      <th>Country</th>\n",
       "      <th>Capital</th>\n",
       "      <th>Population</th>\n",
       "      <th>Isdeveloped</th>\n",
       "    </tr>\n",
       "  </thead>\n",
       "  <tbody>\n",
       "    <tr>\n",
       "      <th>a</th>\n",
       "      <td>Malaysia</td>\n",
       "      <td>Kuala Lumpur</td>\n",
       "      <td>32365999</td>\n",
       "      <td>False</td>\n",
       "    </tr>\n",
       "    <tr>\n",
       "      <th>b</th>\n",
       "      <td>Singapore</td>\n",
       "      <td>Singapore</td>\n",
       "      <td>5850342</td>\n",
       "      <td>True</td>\n",
       "    </tr>\n",
       "  </tbody>\n",
       "</table>\n",
       "</div>"
      ],
      "text/plain": [
       "     Country       Capital  Population  Isdeveloped\n",
       "a   Malaysia  Kuala Lumpur    32365999        False\n",
       "b  Singapore     Singapore     5850342         True"
      ]
     },
     "execution_count": 34,
     "metadata": {},
     "output_type": "execute_result"
    }
   ],
   "source": [
    "df[0:2] # When select multiple rows, do not use list"
   ]
  },
  {
   "cell_type": "markdown",
   "metadata": {
    "id": "HwLCy_xRX8jh"
   },
   "source": [
    "### Assigning value"
   ]
  },
  {
   "cell_type": "code",
   "execution_count": 35,
   "metadata": {
    "colab": {
     "base_uri": "https://localhost:8080/",
     "height": 143
    },
    "id": "yQG6vsZCYMKz",
    "outputId": "78a7e808-6562-4778-9d70-0019ac0d315d"
   },
   "outputs": [
    {
     "data": {
      "text/html": [
       "<div>\n",
       "<style scoped>\n",
       "    .dataframe tbody tr th:only-of-type {\n",
       "        vertical-align: middle;\n",
       "    }\n",
       "\n",
       "    .dataframe tbody tr th {\n",
       "        vertical-align: top;\n",
       "    }\n",
       "\n",
       "    .dataframe thead th {\n",
       "        text-align: right;\n",
       "    }\n",
       "</style>\n",
       "<table border=\"1\" class=\"dataframe\">\n",
       "  <thead>\n",
       "    <tr style=\"text-align: right;\">\n",
       "      <th></th>\n",
       "      <th>Country</th>\n",
       "      <th>Capital</th>\n",
       "      <th>Population</th>\n",
       "      <th>Isdeveloped</th>\n",
       "    </tr>\n",
       "  </thead>\n",
       "  <tbody>\n",
       "    <tr>\n",
       "      <th>a</th>\n",
       "      <td>Malaysia</td>\n",
       "      <td>Kuala Lumpur</td>\n",
       "      <td>32365999</td>\n",
       "      <td>False</td>\n",
       "    </tr>\n",
       "    <tr>\n",
       "      <th>b</th>\n",
       "      <td>Singapore</td>\n",
       "      <td>Singapore</td>\n",
       "      <td>5850342</td>\n",
       "      <td>True</td>\n",
       "    </tr>\n",
       "    <tr>\n",
       "      <th>c</th>\n",
       "      <td>Japan</td>\n",
       "      <td>Tokyo</td>\n",
       "      <td>126476461</td>\n",
       "      <td>True</td>\n",
       "    </tr>\n",
       "  </tbody>\n",
       "</table>\n",
       "</div>"
      ],
      "text/plain": [
       "     Country       Capital  Population  Isdeveloped\n",
       "a   Malaysia  Kuala Lumpur    32365999        False\n",
       "b  Singapore     Singapore     5850342         True\n",
       "c      Japan         Tokyo   126476461         True"
      ]
     },
     "execution_count": 35,
     "metadata": {},
     "output_type": "execute_result"
    }
   ],
   "source": [
    "df.loc[\"c\", \"Country\"] = \"Japan\"\n",
    "df.loc[\"c\", \"Capital\"] = \"Tokyo\"\n",
    "df.loc[\"c\", \"Population\"] = 126476461\n",
    "df.loc[\"c\", \"Isdeveloped\"] = True\n",
    "df"
   ]
  },
  {
   "cell_type": "code",
   "execution_count": 36,
   "metadata": {
    "colab": {
     "base_uri": "https://localhost:8080/",
     "height": 143
    },
    "id": "8YRRGaGLicMu",
    "outputId": "fa55acf8-00ae-4cf4-f33e-cd5e2efb80e6"
   },
   "outputs": [
    {
     "data": {
      "text/html": [
       "<div>\n",
       "<style scoped>\n",
       "    .dataframe tbody tr th:only-of-type {\n",
       "        vertical-align: middle;\n",
       "    }\n",
       "\n",
       "    .dataframe tbody tr th {\n",
       "        vertical-align: top;\n",
       "    }\n",
       "\n",
       "    .dataframe thead th {\n",
       "        text-align: right;\n",
       "    }\n",
       "</style>\n",
       "<table border=\"1\" class=\"dataframe\">\n",
       "  <thead>\n",
       "    <tr style=\"text-align: right;\">\n",
       "      <th></th>\n",
       "      <th>Country</th>\n",
       "      <th>Capital</th>\n",
       "      <th>Population</th>\n",
       "      <th>Isdeveloped</th>\n",
       "    </tr>\n",
       "  </thead>\n",
       "  <tbody>\n",
       "    <tr>\n",
       "      <th>a</th>\n",
       "      <td>Malaysia</td>\n",
       "      <td>Kuala Lumpur</td>\n",
       "      <td>32365999</td>\n",
       "      <td>False</td>\n",
       "    </tr>\n",
       "    <tr>\n",
       "      <th>b</th>\n",
       "      <td>Singapore</td>\n",
       "      <td>Singapore</td>\n",
       "      <td>5850342</td>\n",
       "      <td>True</td>\n",
       "    </tr>\n",
       "    <tr>\n",
       "      <th>c</th>\n",
       "      <td>Japan</td>\n",
       "      <td>Tokyo</td>\n",
       "      <td>126476461</td>\n",
       "      <td>True</td>\n",
       "    </tr>\n",
       "  </tbody>\n",
       "</table>\n",
       "</div>"
      ],
      "text/plain": [
       "     Country       Capital  Population  Isdeveloped\n",
       "a   Malaysia  Kuala Lumpur    32365999        False\n",
       "b  Singapore     Singapore     5850342         True\n",
       "c      Japan         Tokyo   126476461         True"
      ]
     },
     "execution_count": 36,
     "metadata": {},
     "output_type": "execute_result"
    }
   ],
   "source": [
    "df.loc[\"c\"] = [\"Japan\", \"Tokyo\", 126476461, True]\n",
    "df"
   ]
  },
  {
   "cell_type": "markdown",
   "metadata": {
    "id": "cVtprE4hjaBH"
   },
   "source": [
    "### Assigning index, columns, and name of index and columns"
   ]
  },
  {
   "cell_type": "code",
   "execution_count": 37,
   "metadata": {
    "colab": {
     "base_uri": "https://localhost:8080/",
     "height": 175
    },
    "id": "lD6hhowAjxWb",
    "outputId": "da77f8fb-feba-425d-c46e-089815278af3"
   },
   "outputs": [
    {
     "data": {
      "text/html": [
       "<div>\n",
       "<style scoped>\n",
       "    .dataframe tbody tr th:only-of-type {\n",
       "        vertical-align: middle;\n",
       "    }\n",
       "\n",
       "    .dataframe tbody tr th {\n",
       "        vertical-align: top;\n",
       "    }\n",
       "\n",
       "    .dataframe thead th {\n",
       "        text-align: right;\n",
       "    }\n",
       "</style>\n",
       "<table border=\"1\" class=\"dataframe\">\n",
       "  <thead>\n",
       "    <tr style=\"text-align: right;\">\n",
       "      <th></th>\n",
       "      <th>Coun</th>\n",
       "      <th>Cap</th>\n",
       "      <th>Pop</th>\n",
       "      <th>ID</th>\n",
       "    </tr>\n",
       "    <tr>\n",
       "      <th>label</th>\n",
       "      <th></th>\n",
       "      <th></th>\n",
       "      <th></th>\n",
       "      <th></th>\n",
       "    </tr>\n",
       "  </thead>\n",
       "  <tbody>\n",
       "    <tr>\n",
       "      <th>e</th>\n",
       "      <td>Malaysia</td>\n",
       "      <td>Kuala Lumpur</td>\n",
       "      <td>32365999</td>\n",
       "      <td>False</td>\n",
       "    </tr>\n",
       "    <tr>\n",
       "      <th>f</th>\n",
       "      <td>Singapore</td>\n",
       "      <td>Singapore</td>\n",
       "      <td>5850342</td>\n",
       "      <td>True</td>\n",
       "    </tr>\n",
       "    <tr>\n",
       "      <th>g</th>\n",
       "      <td>Japan</td>\n",
       "      <td>Tokyo</td>\n",
       "      <td>126476461</td>\n",
       "      <td>True</td>\n",
       "    </tr>\n",
       "  </tbody>\n",
       "</table>\n",
       "</div>"
      ],
      "text/plain": [
       "            Coun           Cap        Pop     ID\n",
       "label                                           \n",
       "e       Malaysia  Kuala Lumpur   32365999  False\n",
       "f      Singapore     Singapore    5850342   True\n",
       "g          Japan         Tokyo  126476461   True"
      ]
     },
     "execution_count": 37,
     "metadata": {},
     "output_type": "execute_result"
    }
   ],
   "source": [
    "df.index = [\"e\", \"f\", \"g\"]\n",
    "df.index.name = \"label\"\n",
    "df.columns.name = \"atributes\"\n",
    "df.columns = [\"Coun\", \"Cap\", \"Pop\", \"ID\"]\n",
    "df"
   ]
  },
  {
   "cell_type": "markdown",
   "metadata": {
    "id": "6VyTnVDrisVj"
   },
   "source": [
    "### Delete columns from dataframe"
   ]
  },
  {
   "cell_type": "code",
   "execution_count": 38,
   "metadata": {
    "colab": {
     "base_uri": "https://localhost:8080/",
     "height": 175
    },
    "id": "d9iJskaBjzEL",
    "outputId": "ae349a79-0101-4f10-b735-8465e92f7851"
   },
   "outputs": [
    {
     "data": {
      "text/html": [
       "<div>\n",
       "<style scoped>\n",
       "    .dataframe tbody tr th:only-of-type {\n",
       "        vertical-align: middle;\n",
       "    }\n",
       "\n",
       "    .dataframe tbody tr th {\n",
       "        vertical-align: top;\n",
       "    }\n",
       "\n",
       "    .dataframe thead th {\n",
       "        text-align: right;\n",
       "    }\n",
       "</style>\n",
       "<table border=\"1\" class=\"dataframe\">\n",
       "  <thead>\n",
       "    <tr style=\"text-align: right;\">\n",
       "      <th></th>\n",
       "      <th>Coun</th>\n",
       "      <th>Cap</th>\n",
       "      <th>Pop</th>\n",
       "    </tr>\n",
       "    <tr>\n",
       "      <th>label</th>\n",
       "      <th></th>\n",
       "      <th></th>\n",
       "      <th></th>\n",
       "    </tr>\n",
       "  </thead>\n",
       "  <tbody>\n",
       "    <tr>\n",
       "      <th>e</th>\n",
       "      <td>Malaysia</td>\n",
       "      <td>Kuala Lumpur</td>\n",
       "      <td>32365999</td>\n",
       "    </tr>\n",
       "    <tr>\n",
       "      <th>f</th>\n",
       "      <td>Singapore</td>\n",
       "      <td>Singapore</td>\n",
       "      <td>5850342</td>\n",
       "    </tr>\n",
       "    <tr>\n",
       "      <th>g</th>\n",
       "      <td>Japan</td>\n",
       "      <td>Tokyo</td>\n",
       "      <td>126476461</td>\n",
       "    </tr>\n",
       "  </tbody>\n",
       "</table>\n",
       "</div>"
      ],
      "text/plain": [
       "            Coun           Cap        Pop\n",
       "label                                    \n",
       "e       Malaysia  Kuala Lumpur   32365999\n",
       "f      Singapore     Singapore    5850342\n",
       "g          Japan         Tokyo  126476461"
      ]
     },
     "execution_count": 38,
     "metadata": {},
     "output_type": "execute_result"
    }
   ],
   "source": [
    "del df[\"ID\"]\n",
    "df"
   ]
  },
  {
   "cell_type": "markdown",
   "metadata": {
    "id": "hKkyrSiLkiXz"
   },
   "source": [
    "### Filtering\n",
    "Same as ```Series()``` mentioned above."
   ]
  },
  {
   "cell_type": "code",
   "execution_count": 39,
   "metadata": {
    "colab": {
     "base_uri": "https://localhost:8080/",
     "height": 143
    },
    "id": "HBL-GV2akhtj",
    "outputId": "fe333f1a-1a53-46f4-f011-8d22b3af3035"
   },
   "outputs": [
    {
     "data": {
      "text/html": [
       "<div>\n",
       "<style scoped>\n",
       "    .dataframe tbody tr th:only-of-type {\n",
       "        vertical-align: middle;\n",
       "    }\n",
       "\n",
       "    .dataframe tbody tr th {\n",
       "        vertical-align: top;\n",
       "    }\n",
       "\n",
       "    .dataframe thead th {\n",
       "        text-align: right;\n",
       "    }\n",
       "</style>\n",
       "<table border=\"1\" class=\"dataframe\">\n",
       "  <thead>\n",
       "    <tr style=\"text-align: right;\">\n",
       "      <th></th>\n",
       "      <th>0</th>\n",
       "      <th>1</th>\n",
       "      <th>2</th>\n",
       "      <th>3</th>\n",
       "    </tr>\n",
       "  </thead>\n",
       "  <tbody>\n",
       "    <tr>\n",
       "      <th>0</th>\n",
       "      <td>14.0</td>\n",
       "      <td>NaN</td>\n",
       "      <td>NaN</td>\n",
       "      <td>NaN</td>\n",
       "    </tr>\n",
       "    <tr>\n",
       "      <th>1</th>\n",
       "      <td>19.0</td>\n",
       "      <td>NaN</td>\n",
       "      <td>NaN</td>\n",
       "      <td>NaN</td>\n",
       "    </tr>\n",
       "    <tr>\n",
       "      <th>2</th>\n",
       "      <td>NaN</td>\n",
       "      <td>NaN</td>\n",
       "      <td>NaN</td>\n",
       "      <td>NaN</td>\n",
       "    </tr>\n",
       "  </tbody>\n",
       "</table>\n",
       "</div>"
      ],
      "text/plain": [
       "      0   1   2   3\n",
       "0  14.0 NaN NaN NaN\n",
       "1  19.0 NaN NaN NaN\n",
       "2   NaN NaN NaN NaN"
      ]
     },
     "execution_count": 39,
     "metadata": {},
     "output_type": "execute_result"
    }
   ],
   "source": [
    "df = pd.DataFrame(np.array([[14, 35, 35, 35],\n",
    "                            [19, 34, 57, 34],\n",
    "                            [42, 74, 49, 59]]))\n",
    "# filtering lesser than 30\n",
    "df[df<30]"
   ]
  },
  {
   "cell_type": "code",
   "execution_count": 40,
   "metadata": {
    "colab": {
     "base_uri": "https://localhost:8080/",
     "height": 112
    },
    "id": "6FuERPw0kb68",
    "outputId": "9cde4530-7912-4099-a2d6-a33d3d5718c4"
   },
   "outputs": [
    {
     "data": {
      "text/html": [
       "<div>\n",
       "<style scoped>\n",
       "    .dataframe tbody tr th:only-of-type {\n",
       "        vertical-align: middle;\n",
       "    }\n",
       "\n",
       "    .dataframe tbody tr th {\n",
       "        vertical-align: top;\n",
       "    }\n",
       "\n",
       "    .dataframe thead th {\n",
       "        text-align: right;\n",
       "    }\n",
       "</style>\n",
       "<table border=\"1\" class=\"dataframe\">\n",
       "  <thead>\n",
       "    <tr style=\"text-align: right;\">\n",
       "      <th></th>\n",
       "      <th>Country</th>\n",
       "      <th>Capital</th>\n",
       "      <th>Population</th>\n",
       "      <th>Isdeveloped</th>\n",
       "    </tr>\n",
       "  </thead>\n",
       "  <tbody>\n",
       "    <tr>\n",
       "      <th>a</th>\n",
       "      <td>Malaysia</td>\n",
       "      <td>Kuala Lumpur</td>\n",
       "      <td>32365999</td>\n",
       "      <td>False</td>\n",
       "    </tr>\n",
       "    <tr>\n",
       "      <th>b</th>\n",
       "      <td>Singapore</td>\n",
       "      <td>Singapore</td>\n",
       "      <td>5850342</td>\n",
       "      <td>True</td>\n",
       "    </tr>\n",
       "  </tbody>\n",
       "</table>\n",
       "</div>"
      ],
      "text/plain": [
       "     Country       Capital  Population  Isdeveloped\n",
       "a   Malaysia  Kuala Lumpur    32365999        False\n",
       "b  Singapore     Singapore     5850342         True"
      ]
     },
     "execution_count": 40,
     "metadata": {},
     "output_type": "execute_result"
    }
   ],
   "source": [
    "df = pd.DataFrame([[\"Malaysia\", \"Kuala Lumpur\", 32365999, False],\n",
    "              [\"Singapore\", \"Singapore\", 5850342, True],\n",
    "              [\"Vietnam\", \"Hanoi\", 97338579, True]],\n",
    "              columns = [\"Country\", \"Capital\", \"Population\", \"Isdeveloped\"],\n",
    "              index=[\"a\", \"b\", \"c\"])\n",
    "# Filtering accroding to conditions of one column\n",
    "df[df[\"Population\"]<50000000]"
   ]
  },
  {
   "cell_type": "code",
   "execution_count": 41,
   "metadata": {
    "colab": {
     "base_uri": "https://localhost:8080/",
     "height": 81
    },
    "id": "81iMOSqvl0dR",
    "outputId": "a10cd631-6a05-4ab8-e89f-87d8fbfc5fe7"
   },
   "outputs": [
    {
     "data": {
      "text/html": [
       "<div>\n",
       "<style scoped>\n",
       "    .dataframe tbody tr th:only-of-type {\n",
       "        vertical-align: middle;\n",
       "    }\n",
       "\n",
       "    .dataframe tbody tr th {\n",
       "        vertical-align: top;\n",
       "    }\n",
       "\n",
       "    .dataframe thead th {\n",
       "        text-align: right;\n",
       "    }\n",
       "</style>\n",
       "<table border=\"1\" class=\"dataframe\">\n",
       "  <thead>\n",
       "    <tr style=\"text-align: right;\">\n",
       "      <th></th>\n",
       "      <th>Country</th>\n",
       "      <th>Capital</th>\n",
       "      <th>Population</th>\n",
       "      <th>Isdeveloped</th>\n",
       "    </tr>\n",
       "  </thead>\n",
       "  <tbody>\n",
       "    <tr>\n",
       "      <th>b</th>\n",
       "      <td>Singapore</td>\n",
       "      <td>Singapore</td>\n",
       "      <td>5850342</td>\n",
       "      <td>True</td>\n",
       "    </tr>\n",
       "  </tbody>\n",
       "</table>\n",
       "</div>"
      ],
      "text/plain": [
       "     Country    Capital  Population  Isdeveloped\n",
       "b  Singapore  Singapore     5850342         True"
      ]
     },
     "execution_count": 41,
     "metadata": {},
     "output_type": "execute_result"
    }
   ],
   "source": [
    "# Filtering accroding to conditions of multiple columns\n",
    "df[(df[\"Population\"] < 50000000) & (df[\"Isdeveloped\"]==True)]"
   ]
  },
  {
   "cell_type": "markdown",
   "metadata": {
    "id": "MtbelZ2_mgTd"
   },
   "source": [
    "### Transposition  of a Dataframe\n",
    "Same as `Array` from `Numpy` dataframe can transpose. `Columns` change to `Index` and `Index` change to `Columns`."
   ]
  },
  {
   "cell_type": "code",
   "execution_count": 42,
   "metadata": {
    "colab": {
     "base_uri": "https://localhost:8080/",
     "height": 175
    },
    "id": "xwiEfiMhmRxp",
    "outputId": "32abf4f5-5aac-4bd2-c83f-b3b0ea423713"
   },
   "outputs": [
    {
     "data": {
      "text/html": [
       "<div>\n",
       "<style scoped>\n",
       "    .dataframe tbody tr th:only-of-type {\n",
       "        vertical-align: middle;\n",
       "    }\n",
       "\n",
       "    .dataframe tbody tr th {\n",
       "        vertical-align: top;\n",
       "    }\n",
       "\n",
       "    .dataframe thead th {\n",
       "        text-align: right;\n",
       "    }\n",
       "</style>\n",
       "<table border=\"1\" class=\"dataframe\">\n",
       "  <thead>\n",
       "    <tr style=\"text-align: right;\">\n",
       "      <th></th>\n",
       "      <th>a</th>\n",
       "      <th>b</th>\n",
       "      <th>c</th>\n",
       "    </tr>\n",
       "  </thead>\n",
       "  <tbody>\n",
       "    <tr>\n",
       "      <th>Country</th>\n",
       "      <td>Malaysia</td>\n",
       "      <td>Singapore</td>\n",
       "      <td>Vietnam</td>\n",
       "    </tr>\n",
       "    <tr>\n",
       "      <th>Capital</th>\n",
       "      <td>Kuala Lumpur</td>\n",
       "      <td>Singapore</td>\n",
       "      <td>Hanoi</td>\n",
       "    </tr>\n",
       "    <tr>\n",
       "      <th>Population</th>\n",
       "      <td>32365999</td>\n",
       "      <td>5850342</td>\n",
       "      <td>97338579</td>\n",
       "    </tr>\n",
       "    <tr>\n",
       "      <th>Isdeveloped</th>\n",
       "      <td>False</td>\n",
       "      <td>True</td>\n",
       "      <td>True</td>\n",
       "    </tr>\n",
       "  </tbody>\n",
       "</table>\n",
       "</div>"
      ],
      "text/plain": [
       "                        a          b         c\n",
       "Country          Malaysia  Singapore   Vietnam\n",
       "Capital      Kuala Lumpur  Singapore     Hanoi\n",
       "Population       32365999    5850342  97338579\n",
       "Isdeveloped         False       True      True"
      ]
     },
     "execution_count": 42,
     "metadata": {},
     "output_type": "execute_result"
    }
   ],
   "source": [
    "df = pd.DataFrame([[\"Malaysia\", \"Kuala Lumpur\", 32365999, False],\n",
    "              [\"Singapore\", \"Singapore\", 5850342, True],\n",
    "              [\"Vietnam\", \"Hanoi\", 97338579, True]],\n",
    "              columns = [\"Country\", \"Capital\", \"Population\", \"Isdeveloped\"],\n",
    "              index=[\"a\", \"b\", \"c\"])\n",
    "df1 = df.T\n",
    "df1"
   ]
  },
  {
   "cell_type": "code",
   "execution_count": 43,
   "metadata": {
    "colab": {
     "base_uri": "https://localhost:8080/"
    },
    "id": "duI3aSK-nhJj",
    "outputId": "b519bb1a-5ef0-41e0-d11f-6cace3966e58"
   },
   "outputs": [
    {
     "data": {
      "text/plain": [
       "Index(['Country', 'Capital', 'Population', 'Isdeveloped'], dtype='object')"
      ]
     },
     "execution_count": 43,
     "metadata": {},
     "output_type": "execute_result"
    }
   ],
   "source": [
    "df1.index"
   ]
  },
  {
   "cell_type": "code",
   "execution_count": 44,
   "metadata": {
    "colab": {
     "base_uri": "https://localhost:8080/"
    },
    "id": "QvGKIfdQnjgj",
    "outputId": "de4c58ce-e502-4540-ba41-200b985ef825"
   },
   "outputs": [
    {
     "data": {
      "text/plain": [
       "Index(['a', 'b', 'c'], dtype='object')"
      ]
     },
     "execution_count": 44,
     "metadata": {},
     "output_type": "execute_result"
    }
   ],
   "source": [
    "df1.columns"
   ]
  },
  {
   "cell_type": "markdown",
   "metadata": {
    "id": "TGs_RJSorGtS"
   },
   "source": [
    "### Merge of dataframe\n",
    "`Concat()`, `Join()`"
   ]
  },
  {
   "cell_type": "code",
   "execution_count": 45,
   "metadata": {
    "id": "QNRoOWMnrI5R"
   },
   "outputs": [],
   "source": [
    "df1 = pd.DataFrame(np.random.rand(3,4))\n",
    "df2 = pd.DataFrame(np.random.rand(3,4))\n",
    "df3 = pd.DataFrame(np.random.rand(6,4))\n",
    "df4 = pd.DataFrame(np.random.rand(3,6))"
   ]
  },
  {
   "cell_type": "code",
   "execution_count": 46,
   "metadata": {
    "colab": {
     "base_uri": "https://localhost:8080/",
     "height": 143
    },
    "id": "6p6-t5j3sYO0",
    "outputId": "5fc49951-84dd-456d-b856-954f15318dbc"
   },
   "outputs": [
    {
     "data": {
      "text/html": [
       "<div>\n",
       "<style scoped>\n",
       "    .dataframe tbody tr th:only-of-type {\n",
       "        vertical-align: middle;\n",
       "    }\n",
       "\n",
       "    .dataframe tbody tr th {\n",
       "        vertical-align: top;\n",
       "    }\n",
       "\n",
       "    .dataframe thead th {\n",
       "        text-align: right;\n",
       "    }\n",
       "</style>\n",
       "<table border=\"1\" class=\"dataframe\">\n",
       "  <thead>\n",
       "    <tr style=\"text-align: right;\">\n",
       "      <th></th>\n",
       "      <th>0</th>\n",
       "      <th>1</th>\n",
       "      <th>2</th>\n",
       "      <th>3</th>\n",
       "    </tr>\n",
       "  </thead>\n",
       "  <tbody>\n",
       "    <tr>\n",
       "      <th>0</th>\n",
       "      <td>0.758460</td>\n",
       "      <td>0.708747</td>\n",
       "      <td>0.106645</td>\n",
       "      <td>0.963521</td>\n",
       "    </tr>\n",
       "    <tr>\n",
       "      <th>1</th>\n",
       "      <td>0.306457</td>\n",
       "      <td>0.647090</td>\n",
       "      <td>0.143643</td>\n",
       "      <td>0.737687</td>\n",
       "    </tr>\n",
       "    <tr>\n",
       "      <th>2</th>\n",
       "      <td>0.386185</td>\n",
       "      <td>0.258675</td>\n",
       "      <td>0.300603</td>\n",
       "      <td>0.472858</td>\n",
       "    </tr>\n",
       "  </tbody>\n",
       "</table>\n",
       "</div>"
      ],
      "text/plain": [
       "          0         1         2         3\n",
       "0  0.758460  0.708747  0.106645  0.963521\n",
       "1  0.306457  0.647090  0.143643  0.737687\n",
       "2  0.386185  0.258675  0.300603  0.472858"
      ]
     },
     "execution_count": 46,
     "metadata": {},
     "output_type": "execute_result"
    }
   ],
   "source": [
    "df1"
   ]
  },
  {
   "cell_type": "code",
   "execution_count": 47,
   "metadata": {
    "colab": {
     "base_uri": "https://localhost:8080/",
     "height": 143
    },
    "id": "4WjtyH-ushE2",
    "outputId": "2d31fe98-50f8-4abb-db44-db8293f96452"
   },
   "outputs": [
    {
     "data": {
      "text/html": [
       "<div>\n",
       "<style scoped>\n",
       "    .dataframe tbody tr th:only-of-type {\n",
       "        vertical-align: middle;\n",
       "    }\n",
       "\n",
       "    .dataframe tbody tr th {\n",
       "        vertical-align: top;\n",
       "    }\n",
       "\n",
       "    .dataframe thead th {\n",
       "        text-align: right;\n",
       "    }\n",
       "</style>\n",
       "<table border=\"1\" class=\"dataframe\">\n",
       "  <thead>\n",
       "    <tr style=\"text-align: right;\">\n",
       "      <th></th>\n",
       "      <th>0</th>\n",
       "      <th>1</th>\n",
       "      <th>2</th>\n",
       "      <th>3</th>\n",
       "    </tr>\n",
       "  </thead>\n",
       "  <tbody>\n",
       "    <tr>\n",
       "      <th>0</th>\n",
       "      <td>0.885689</td>\n",
       "      <td>0.043059</td>\n",
       "      <td>0.544009</td>\n",
       "      <td>0.822139</td>\n",
       "    </tr>\n",
       "    <tr>\n",
       "      <th>1</th>\n",
       "      <td>0.803618</td>\n",
       "      <td>0.840237</td>\n",
       "      <td>0.780254</td>\n",
       "      <td>0.509213</td>\n",
       "    </tr>\n",
       "    <tr>\n",
       "      <th>2</th>\n",
       "      <td>0.638789</td>\n",
       "      <td>0.186718</td>\n",
       "      <td>0.222738</td>\n",
       "      <td>0.247483</td>\n",
       "    </tr>\n",
       "  </tbody>\n",
       "</table>\n",
       "</div>"
      ],
      "text/plain": [
       "          0         1         2         3\n",
       "0  0.885689  0.043059  0.544009  0.822139\n",
       "1  0.803618  0.840237  0.780254  0.509213\n",
       "2  0.638789  0.186718  0.222738  0.247483"
      ]
     },
     "execution_count": 47,
     "metadata": {},
     "output_type": "execute_result"
    }
   ],
   "source": [
    "df2"
   ]
  },
  {
   "cell_type": "code",
   "execution_count": 48,
   "metadata": {
    "colab": {
     "base_uri": "https://localhost:8080/",
     "height": 238
    },
    "id": "CdprsmQBtXOq",
    "outputId": "02122244-5ea8-479d-fc5e-f5ed8324765c"
   },
   "outputs": [
    {
     "data": {
      "text/html": [
       "<div>\n",
       "<style scoped>\n",
       "    .dataframe tbody tr th:only-of-type {\n",
       "        vertical-align: middle;\n",
       "    }\n",
       "\n",
       "    .dataframe tbody tr th {\n",
       "        vertical-align: top;\n",
       "    }\n",
       "\n",
       "    .dataframe thead th {\n",
       "        text-align: right;\n",
       "    }\n",
       "</style>\n",
       "<table border=\"1\" class=\"dataframe\">\n",
       "  <thead>\n",
       "    <tr style=\"text-align: right;\">\n",
       "      <th></th>\n",
       "      <th>0</th>\n",
       "      <th>1</th>\n",
       "      <th>2</th>\n",
       "      <th>3</th>\n",
       "    </tr>\n",
       "  </thead>\n",
       "  <tbody>\n",
       "    <tr>\n",
       "      <th>0</th>\n",
       "      <td>0.331387</td>\n",
       "      <td>0.610999</td>\n",
       "      <td>0.348660</td>\n",
       "      <td>0.816447</td>\n",
       "    </tr>\n",
       "    <tr>\n",
       "      <th>1</th>\n",
       "      <td>0.466775</td>\n",
       "      <td>0.666340</td>\n",
       "      <td>0.696376</td>\n",
       "      <td>0.559969</td>\n",
       "    </tr>\n",
       "    <tr>\n",
       "      <th>2</th>\n",
       "      <td>0.379864</td>\n",
       "      <td>0.775182</td>\n",
       "      <td>0.190963</td>\n",
       "      <td>0.538376</td>\n",
       "    </tr>\n",
       "    <tr>\n",
       "      <th>3</th>\n",
       "      <td>0.668462</td>\n",
       "      <td>0.155479</td>\n",
       "      <td>0.024930</td>\n",
       "      <td>0.661453</td>\n",
       "    </tr>\n",
       "    <tr>\n",
       "      <th>4</th>\n",
       "      <td>0.338310</td>\n",
       "      <td>0.445183</td>\n",
       "      <td>0.730178</td>\n",
       "      <td>0.182533</td>\n",
       "    </tr>\n",
       "    <tr>\n",
       "      <th>5</th>\n",
       "      <td>0.723169</td>\n",
       "      <td>0.572044</td>\n",
       "      <td>0.969673</td>\n",
       "      <td>0.970768</td>\n",
       "    </tr>\n",
       "  </tbody>\n",
       "</table>\n",
       "</div>"
      ],
      "text/plain": [
       "          0         1         2         3\n",
       "0  0.331387  0.610999  0.348660  0.816447\n",
       "1  0.466775  0.666340  0.696376  0.559969\n",
       "2  0.379864  0.775182  0.190963  0.538376\n",
       "3  0.668462  0.155479  0.024930  0.661453\n",
       "4  0.338310  0.445183  0.730178  0.182533\n",
       "5  0.723169  0.572044  0.969673  0.970768"
      ]
     },
     "execution_count": 48,
     "metadata": {},
     "output_type": "execute_result"
    }
   ],
   "source": [
    "df3"
   ]
  },
  {
   "cell_type": "code",
   "execution_count": 49,
   "metadata": {
    "colab": {
     "base_uri": "https://localhost:8080/",
     "height": 143
    },
    "id": "l7nyIowstYGo",
    "outputId": "25034aa8-18d5-44ed-fe4e-8132f9a7df4e"
   },
   "outputs": [
    {
     "data": {
      "text/html": [
       "<div>\n",
       "<style scoped>\n",
       "    .dataframe tbody tr th:only-of-type {\n",
       "        vertical-align: middle;\n",
       "    }\n",
       "\n",
       "    .dataframe tbody tr th {\n",
       "        vertical-align: top;\n",
       "    }\n",
       "\n",
       "    .dataframe thead th {\n",
       "        text-align: right;\n",
       "    }\n",
       "</style>\n",
       "<table border=\"1\" class=\"dataframe\">\n",
       "  <thead>\n",
       "    <tr style=\"text-align: right;\">\n",
       "      <th></th>\n",
       "      <th>0</th>\n",
       "      <th>1</th>\n",
       "      <th>2</th>\n",
       "      <th>3</th>\n",
       "      <th>4</th>\n",
       "      <th>5</th>\n",
       "    </tr>\n",
       "  </thead>\n",
       "  <tbody>\n",
       "    <tr>\n",
       "      <th>0</th>\n",
       "      <td>0.988919</td>\n",
       "      <td>0.005372</td>\n",
       "      <td>0.956877</td>\n",
       "      <td>0.679844</td>\n",
       "      <td>0.646254</td>\n",
       "      <td>0.075873</td>\n",
       "    </tr>\n",
       "    <tr>\n",
       "      <th>1</th>\n",
       "      <td>0.900830</td>\n",
       "      <td>0.239119</td>\n",
       "      <td>0.215614</td>\n",
       "      <td>0.098524</td>\n",
       "      <td>0.938513</td>\n",
       "      <td>0.810636</td>\n",
       "    </tr>\n",
       "    <tr>\n",
       "      <th>2</th>\n",
       "      <td>0.768650</td>\n",
       "      <td>0.639298</td>\n",
       "      <td>0.419752</td>\n",
       "      <td>0.777635</td>\n",
       "      <td>0.789500</td>\n",
       "      <td>0.460690</td>\n",
       "    </tr>\n",
       "  </tbody>\n",
       "</table>\n",
       "</div>"
      ],
      "text/plain": [
       "          0         1         2         3         4         5\n",
       "0  0.988919  0.005372  0.956877  0.679844  0.646254  0.075873\n",
       "1  0.900830  0.239119  0.215614  0.098524  0.938513  0.810636\n",
       "2  0.768650  0.639298  0.419752  0.777635  0.789500  0.460690"
      ]
     },
     "execution_count": 49,
     "metadata": {},
     "output_type": "execute_result"
    }
   ],
   "source": [
    "df4"
   ]
  },
  {
   "cell_type": "code",
   "execution_count": 50,
   "metadata": {
    "colab": {
     "base_uri": "https://localhost:8080/",
     "height": 238
    },
    "id": "E_H7ilY-tZTo",
    "outputId": "2a0b66c3-f148-409c-fe5a-108a033d6035"
   },
   "outputs": [
    {
     "data": {
      "text/html": [
       "<div>\n",
       "<style scoped>\n",
       "    .dataframe tbody tr th:only-of-type {\n",
       "        vertical-align: middle;\n",
       "    }\n",
       "\n",
       "    .dataframe tbody tr th {\n",
       "        vertical-align: top;\n",
       "    }\n",
       "\n",
       "    .dataframe thead th {\n",
       "        text-align: right;\n",
       "    }\n",
       "</style>\n",
       "<table border=\"1\" class=\"dataframe\">\n",
       "  <thead>\n",
       "    <tr style=\"text-align: right;\">\n",
       "      <th></th>\n",
       "      <th>0</th>\n",
       "      <th>1</th>\n",
       "      <th>2</th>\n",
       "      <th>3</th>\n",
       "    </tr>\n",
       "  </thead>\n",
       "  <tbody>\n",
       "    <tr>\n",
       "      <th>0</th>\n",
       "      <td>0.758460</td>\n",
       "      <td>0.708747</td>\n",
       "      <td>0.106645</td>\n",
       "      <td>0.963521</td>\n",
       "    </tr>\n",
       "    <tr>\n",
       "      <th>1</th>\n",
       "      <td>0.306457</td>\n",
       "      <td>0.647090</td>\n",
       "      <td>0.143643</td>\n",
       "      <td>0.737687</td>\n",
       "    </tr>\n",
       "    <tr>\n",
       "      <th>2</th>\n",
       "      <td>0.386185</td>\n",
       "      <td>0.258675</td>\n",
       "      <td>0.300603</td>\n",
       "      <td>0.472858</td>\n",
       "    </tr>\n",
       "    <tr>\n",
       "      <th>0</th>\n",
       "      <td>0.885689</td>\n",
       "      <td>0.043059</td>\n",
       "      <td>0.544009</td>\n",
       "      <td>0.822139</td>\n",
       "    </tr>\n",
       "    <tr>\n",
       "      <th>1</th>\n",
       "      <td>0.803618</td>\n",
       "      <td>0.840237</td>\n",
       "      <td>0.780254</td>\n",
       "      <td>0.509213</td>\n",
       "    </tr>\n",
       "    <tr>\n",
       "      <th>2</th>\n",
       "      <td>0.638789</td>\n",
       "      <td>0.186718</td>\n",
       "      <td>0.222738</td>\n",
       "      <td>0.247483</td>\n",
       "    </tr>\n",
       "  </tbody>\n",
       "</table>\n",
       "</div>"
      ],
      "text/plain": [
       "          0         1         2         3\n",
       "0  0.758460  0.708747  0.106645  0.963521\n",
       "1  0.306457  0.647090  0.143643  0.737687\n",
       "2  0.386185  0.258675  0.300603  0.472858\n",
       "0  0.885689  0.043059  0.544009  0.822139\n",
       "1  0.803618  0.840237  0.780254  0.509213\n",
       "2  0.638789  0.186718  0.222738  0.247483"
      ]
     },
     "execution_count": 50,
     "metadata": {},
     "output_type": "execute_result"
    }
   ],
   "source": [
    "pd.concat([df1,df2])"
   ]
  },
  {
   "cell_type": "code",
   "execution_count": 51,
   "metadata": {
    "colab": {
     "base_uri": "https://localhost:8080/",
     "height": 238
    },
    "id": "Y7VMpXm9xaRS",
    "outputId": "2b058013-c813-4ba5-eef5-8b0bbd7ccc2b"
   },
   "outputs": [
    {
     "data": {
      "text/html": [
       "<div>\n",
       "<style scoped>\n",
       "    .dataframe tbody tr th:only-of-type {\n",
       "        vertical-align: middle;\n",
       "    }\n",
       "\n",
       "    .dataframe tbody tr th {\n",
       "        vertical-align: top;\n",
       "    }\n",
       "\n",
       "    .dataframe thead th {\n",
       "        text-align: right;\n",
       "    }\n",
       "</style>\n",
       "<table border=\"1\" class=\"dataframe\">\n",
       "  <thead>\n",
       "    <tr style=\"text-align: right;\">\n",
       "      <th></th>\n",
       "      <th>0</th>\n",
       "      <th>1</th>\n",
       "      <th>2</th>\n",
       "      <th>3</th>\n",
       "    </tr>\n",
       "  </thead>\n",
       "  <tbody>\n",
       "    <tr>\n",
       "      <th>0</th>\n",
       "      <td>0.758460</td>\n",
       "      <td>0.708747</td>\n",
       "      <td>0.106645</td>\n",
       "      <td>0.963521</td>\n",
       "    </tr>\n",
       "    <tr>\n",
       "      <th>1</th>\n",
       "      <td>0.306457</td>\n",
       "      <td>0.647090</td>\n",
       "      <td>0.143643</td>\n",
       "      <td>0.737687</td>\n",
       "    </tr>\n",
       "    <tr>\n",
       "      <th>2</th>\n",
       "      <td>0.386185</td>\n",
       "      <td>0.258675</td>\n",
       "      <td>0.300603</td>\n",
       "      <td>0.472858</td>\n",
       "    </tr>\n",
       "    <tr>\n",
       "      <th>0</th>\n",
       "      <td>0.885689</td>\n",
       "      <td>0.043059</td>\n",
       "      <td>0.544009</td>\n",
       "      <td>0.822139</td>\n",
       "    </tr>\n",
       "    <tr>\n",
       "      <th>1</th>\n",
       "      <td>0.803618</td>\n",
       "      <td>0.840237</td>\n",
       "      <td>0.780254</td>\n",
       "      <td>0.509213</td>\n",
       "    </tr>\n",
       "    <tr>\n",
       "      <th>2</th>\n",
       "      <td>0.638789</td>\n",
       "      <td>0.186718</td>\n",
       "      <td>0.222738</td>\n",
       "      <td>0.247483</td>\n",
       "    </tr>\n",
       "  </tbody>\n",
       "</table>\n",
       "</div>"
      ],
      "text/plain": [
       "          0         1         2         3\n",
       "0  0.758460  0.708747  0.106645  0.963521\n",
       "1  0.306457  0.647090  0.143643  0.737687\n",
       "2  0.386185  0.258675  0.300603  0.472858\n",
       "0  0.885689  0.043059  0.544009  0.822139\n",
       "1  0.803618  0.840237  0.780254  0.509213\n",
       "2  0.638789  0.186718  0.222738  0.247483"
      ]
     },
     "execution_count": 51,
     "metadata": {},
     "output_type": "execute_result"
    }
   ],
   "source": [
    "result = df1.append(df2)\n",
    "result"
   ]
  },
  {
   "cell_type": "markdown",
   "metadata": {
    "id": "C_E_j7UvzDXk"
   },
   "source": [
    "### `join`, `inner` and `merge`"
   ]
  },
  {
   "cell_type": "markdown",
   "metadata": {
    "id": "0ZrXBTOe2OwV"
   },
   "source": [
    "### View data"
   ]
  },
  {
   "cell_type": "code",
   "execution_count": 52,
   "metadata": {
    "colab": {
     "base_uri": "https://localhost:8080/",
     "height": 206
    },
    "id": "hSvCDzAQzGa0",
    "outputId": "1a210448-21e5-41e3-bed0-e746924a8ffc"
   },
   "outputs": [
    {
     "data": {
      "text/html": [
       "<div>\n",
       "<style scoped>\n",
       "    .dataframe tbody tr th:only-of-type {\n",
       "        vertical-align: middle;\n",
       "    }\n",
       "\n",
       "    .dataframe tbody tr th {\n",
       "        vertical-align: top;\n",
       "    }\n",
       "\n",
       "    .dataframe thead th {\n",
       "        text-align: right;\n",
       "    }\n",
       "</style>\n",
       "<table border=\"1\" class=\"dataframe\">\n",
       "  <thead>\n",
       "    <tr style=\"text-align: right;\">\n",
       "      <th></th>\n",
       "      <th>0</th>\n",
       "      <th>1</th>\n",
       "      <th>2</th>\n",
       "      <th>3</th>\n",
       "    </tr>\n",
       "  </thead>\n",
       "  <tbody>\n",
       "    <tr>\n",
       "      <th>0</th>\n",
       "      <td>0.744797</td>\n",
       "      <td>0.401245</td>\n",
       "      <td>0.786728</td>\n",
       "      <td>0.585262</td>\n",
       "    </tr>\n",
       "    <tr>\n",
       "      <th>1</th>\n",
       "      <td>0.532563</td>\n",
       "      <td>0.127944</td>\n",
       "      <td>0.700884</td>\n",
       "      <td>0.170032</td>\n",
       "    </tr>\n",
       "    <tr>\n",
       "      <th>2</th>\n",
       "      <td>0.956702</td>\n",
       "      <td>0.376625</td>\n",
       "      <td>0.422634</td>\n",
       "      <td>0.774184</td>\n",
       "    </tr>\n",
       "    <tr>\n",
       "      <th>3</th>\n",
       "      <td>0.258131</td>\n",
       "      <td>0.196753</td>\n",
       "      <td>0.907973</td>\n",
       "      <td>0.630891</td>\n",
       "    </tr>\n",
       "    <tr>\n",
       "      <th>4</th>\n",
       "      <td>0.875165</td>\n",
       "      <td>0.115059</td>\n",
       "      <td>0.086661</td>\n",
       "      <td>0.981448</td>\n",
       "    </tr>\n",
       "  </tbody>\n",
       "</table>\n",
       "</div>"
      ],
      "text/plain": [
       "          0         1         2         3\n",
       "0  0.744797  0.401245  0.786728  0.585262\n",
       "1  0.532563  0.127944  0.700884  0.170032\n",
       "2  0.956702  0.376625  0.422634  0.774184\n",
       "3  0.258131  0.196753  0.907973  0.630891\n",
       "4  0.875165  0.115059  0.086661  0.981448"
      ]
     },
     "execution_count": 52,
     "metadata": {},
     "output_type": "execute_result"
    }
   ],
   "source": [
    "df = pd.DataFrame(np.random.rand(100,4))\n",
    "df.head()"
   ]
  },
  {
   "cell_type": "code",
   "execution_count": 53,
   "metadata": {
    "colab": {
     "base_uri": "https://localhost:8080/",
     "height": 206
    },
    "id": "5XENzsu22Y3P",
    "outputId": "d7c42ec8-b57d-4e67-83d3-2de602c5112f"
   },
   "outputs": [
    {
     "data": {
      "text/html": [
       "<div>\n",
       "<style scoped>\n",
       "    .dataframe tbody tr th:only-of-type {\n",
       "        vertical-align: middle;\n",
       "    }\n",
       "\n",
       "    .dataframe tbody tr th {\n",
       "        vertical-align: top;\n",
       "    }\n",
       "\n",
       "    .dataframe thead th {\n",
       "        text-align: right;\n",
       "    }\n",
       "</style>\n",
       "<table border=\"1\" class=\"dataframe\">\n",
       "  <thead>\n",
       "    <tr style=\"text-align: right;\">\n",
       "      <th></th>\n",
       "      <th>0</th>\n",
       "      <th>1</th>\n",
       "      <th>2</th>\n",
       "      <th>3</th>\n",
       "    </tr>\n",
       "  </thead>\n",
       "  <tbody>\n",
       "    <tr>\n",
       "      <th>95</th>\n",
       "      <td>0.151240</td>\n",
       "      <td>0.467179</td>\n",
       "      <td>0.376731</td>\n",
       "      <td>0.339006</td>\n",
       "    </tr>\n",
       "    <tr>\n",
       "      <th>96</th>\n",
       "      <td>0.008528</td>\n",
       "      <td>0.922004</td>\n",
       "      <td>0.959180</td>\n",
       "      <td>0.421091</td>\n",
       "    </tr>\n",
       "    <tr>\n",
       "      <th>97</th>\n",
       "      <td>0.272156</td>\n",
       "      <td>0.243721</td>\n",
       "      <td>0.420740</td>\n",
       "      <td>0.970420</td>\n",
       "    </tr>\n",
       "    <tr>\n",
       "      <th>98</th>\n",
       "      <td>0.620014</td>\n",
       "      <td>0.308638</td>\n",
       "      <td>0.354781</td>\n",
       "      <td>0.676179</td>\n",
       "    </tr>\n",
       "    <tr>\n",
       "      <th>99</th>\n",
       "      <td>0.542053</td>\n",
       "      <td>0.543275</td>\n",
       "      <td>0.912296</td>\n",
       "      <td>0.597950</td>\n",
       "    </tr>\n",
       "  </tbody>\n",
       "</table>\n",
       "</div>"
      ],
      "text/plain": [
       "           0         1         2         3\n",
       "95  0.151240  0.467179  0.376731  0.339006\n",
       "96  0.008528  0.922004  0.959180  0.421091\n",
       "97  0.272156  0.243721  0.420740  0.970420\n",
       "98  0.620014  0.308638  0.354781  0.676179\n",
       "99  0.542053  0.543275  0.912296  0.597950"
      ]
     },
     "execution_count": 53,
     "metadata": {},
     "output_type": "execute_result"
    }
   ],
   "source": [
    "df.tail()"
   ]
  },
  {
   "cell_type": "markdown",
   "metadata": {
    "id": "BO5bWmD_2otG"
   },
   "source": [
    "### Computational tools"
   ]
  },
  {
   "cell_type": "markdown",
   "metadata": {
    "id": "ljMMyQvH3Ece"
   },
   "source": [
    "### Covariance"
   ]
  },
  {
   "cell_type": "code",
   "execution_count": 54,
   "metadata": {
    "colab": {
     "base_uri": "https://localhost:8080/",
     "height": 206
    },
    "id": "XQOrSrUx23pk",
    "outputId": "e0fea7d4-e519-4f4e-c800-4fd752f7938b"
   },
   "outputs": [
    {
     "data": {
      "text/html": [
       "<div>\n",
       "<style scoped>\n",
       "    .dataframe tbody tr th:only-of-type {\n",
       "        vertical-align: middle;\n",
       "    }\n",
       "\n",
       "    .dataframe tbody tr th {\n",
       "        vertical-align: top;\n",
       "    }\n",
       "\n",
       "    .dataframe thead th {\n",
       "        text-align: right;\n",
       "    }\n",
       "</style>\n",
       "<table border=\"1\" class=\"dataframe\">\n",
       "  <thead>\n",
       "    <tr style=\"text-align: right;\">\n",
       "      <th></th>\n",
       "      <th>0</th>\n",
       "      <th>1</th>\n",
       "      <th>2</th>\n",
       "      <th>3</th>\n",
       "      <th>4</th>\n",
       "    </tr>\n",
       "  </thead>\n",
       "  <tbody>\n",
       "    <tr>\n",
       "      <th>0</th>\n",
       "      <td>0.106358</td>\n",
       "      <td>-0.098685</td>\n",
       "      <td>-0.082488</td>\n",
       "      <td>0.088319</td>\n",
       "      <td>0.086711</td>\n",
       "    </tr>\n",
       "    <tr>\n",
       "      <th>1</th>\n",
       "      <td>-0.098685</td>\n",
       "      <td>0.097685</td>\n",
       "      <td>0.077782</td>\n",
       "      <td>-0.081665</td>\n",
       "      <td>-0.080943</td>\n",
       "    </tr>\n",
       "    <tr>\n",
       "      <th>2</th>\n",
       "      <td>-0.082488</td>\n",
       "      <td>0.077782</td>\n",
       "      <td>0.092480</td>\n",
       "      <td>-0.056231</td>\n",
       "      <td>-0.042393</td>\n",
       "    </tr>\n",
       "    <tr>\n",
       "      <th>3</th>\n",
       "      <td>0.088319</td>\n",
       "      <td>-0.081665</td>\n",
       "      <td>-0.056231</td>\n",
       "      <td>0.104718</td>\n",
       "      <td>0.114338</td>\n",
       "    </tr>\n",
       "    <tr>\n",
       "      <th>4</th>\n",
       "      <td>0.086711</td>\n",
       "      <td>-0.080943</td>\n",
       "      <td>-0.042393</td>\n",
       "      <td>0.114338</td>\n",
       "      <td>0.130982</td>\n",
       "    </tr>\n",
       "  </tbody>\n",
       "</table>\n",
       "</div>"
      ],
      "text/plain": [
       "          0         1         2         3         4\n",
       "0  0.106358 -0.098685 -0.082488  0.088319  0.086711\n",
       "1 -0.098685  0.097685  0.077782 -0.081665 -0.080943\n",
       "2 -0.082488  0.077782  0.092480 -0.056231 -0.042393\n",
       "3  0.088319 -0.081665 -0.056231  0.104718  0.114338\n",
       "4  0.086711 -0.080943 -0.042393  0.114338  0.130982"
      ]
     },
     "execution_count": 54,
     "metadata": {},
     "output_type": "execute_result"
    }
   ],
   "source": [
    "df = pd.DataFrame(np.random.rand(5, 5))\n",
    "df.cov()"
   ]
  },
  {
   "cell_type": "markdown",
   "metadata": {
    "id": "Omrq2-Q72_jX"
   },
   "source": [
    "### Correlation"
   ]
  },
  {
   "cell_type": "code",
   "execution_count": 55,
   "metadata": {
    "colab": {
     "base_uri": "https://localhost:8080/",
     "height": 206
    },
    "id": "abEPT2W32_Ni",
    "outputId": "d36f8fe3-534e-4240-8c30-5337d2110f19"
   },
   "outputs": [
    {
     "data": {
      "text/html": [
       "<div>\n",
       "<style scoped>\n",
       "    .dataframe tbody tr th:only-of-type {\n",
       "        vertical-align: middle;\n",
       "    }\n",
       "\n",
       "    .dataframe tbody tr th {\n",
       "        vertical-align: top;\n",
       "    }\n",
       "\n",
       "    .dataframe thead th {\n",
       "        text-align: right;\n",
       "    }\n",
       "</style>\n",
       "<table border=\"1\" class=\"dataframe\">\n",
       "  <thead>\n",
       "    <tr style=\"text-align: right;\">\n",
       "      <th></th>\n",
       "      <th>0</th>\n",
       "      <th>1</th>\n",
       "      <th>2</th>\n",
       "      <th>3</th>\n",
       "      <th>4</th>\n",
       "    </tr>\n",
       "  </thead>\n",
       "  <tbody>\n",
       "    <tr>\n",
       "      <th>0</th>\n",
       "      <td>1.000000</td>\n",
       "      <td>-0.968168</td>\n",
       "      <td>-0.831730</td>\n",
       "      <td>0.836872</td>\n",
       "      <td>0.734655</td>\n",
       "    </tr>\n",
       "    <tr>\n",
       "      <th>1</th>\n",
       "      <td>-0.968168</td>\n",
       "      <td>1.000000</td>\n",
       "      <td>0.818358</td>\n",
       "      <td>-0.807445</td>\n",
       "      <td>-0.715582</td>\n",
       "    </tr>\n",
       "    <tr>\n",
       "      <th>2</th>\n",
       "      <td>-0.831730</td>\n",
       "      <td>0.818358</td>\n",
       "      <td>1.000000</td>\n",
       "      <td>-0.571405</td>\n",
       "      <td>-0.385176</td>\n",
       "    </tr>\n",
       "    <tr>\n",
       "      <th>3</th>\n",
       "      <td>0.836872</td>\n",
       "      <td>-0.807445</td>\n",
       "      <td>-0.571405</td>\n",
       "      <td>1.000000</td>\n",
       "      <td>0.976274</td>\n",
       "    </tr>\n",
       "    <tr>\n",
       "      <th>4</th>\n",
       "      <td>0.734655</td>\n",
       "      <td>-0.715582</td>\n",
       "      <td>-0.385176</td>\n",
       "      <td>0.976274</td>\n",
       "      <td>1.000000</td>\n",
       "    </tr>\n",
       "  </tbody>\n",
       "</table>\n",
       "</div>"
      ],
      "text/plain": [
       "          0         1         2         3         4\n",
       "0  1.000000 -0.968168 -0.831730  0.836872  0.734655\n",
       "1 -0.968168  1.000000  0.818358 -0.807445 -0.715582\n",
       "2 -0.831730  0.818358  1.000000 -0.571405 -0.385176\n",
       "3  0.836872 -0.807445 -0.571405  1.000000  0.976274\n",
       "4  0.734655 -0.715582 -0.385176  0.976274  1.000000"
      ]
     },
     "execution_count": 55,
     "metadata": {},
     "output_type": "execute_result"
    }
   ],
   "source": [
    "df.corr() # pearson (default), kendall, spearman"
   ]
  },
  {
   "cell_type": "markdown",
   "metadata": {
    "id": "YgNRhMC33wLE"
   },
   "source": [
    "### `mean()`, `sum()`, `describe()`"
   ]
  },
  {
   "cell_type": "code",
   "execution_count": 56,
   "metadata": {
    "colab": {
     "base_uri": "https://localhost:8080/"
    },
    "id": "eB30h7LY4Id_",
    "outputId": "da797f9a-c6bc-460f-c0ef-1b5fe1837d58"
   },
   "outputs": [
    {
     "data": {
      "text/plain": [
       "0    0.603965\n",
       "1    0.303609\n",
       "2    0.457843\n",
       "3    0.621654\n",
       "4    0.549185\n",
       "dtype: float64"
      ]
     },
     "execution_count": 56,
     "metadata": {},
     "output_type": "execute_result"
    }
   ],
   "source": [
    "df.mean()"
   ]
  },
  {
   "cell_type": "code",
   "execution_count": 57,
   "metadata": {
    "colab": {
     "base_uri": "https://localhost:8080/"
    },
    "id": "hJqgdgdT4MdK",
    "outputId": "65f7a511-d303-4f2f-8c51-a648f73006a7"
   },
   "outputs": [
    {
     "data": {
      "text/plain": [
       "0    3.019824\n",
       "1    1.518044\n",
       "2    2.289215\n",
       "3    3.108271\n",
       "4    2.745927\n",
       "dtype: float64"
      ]
     },
     "execution_count": 57,
     "metadata": {},
     "output_type": "execute_result"
    }
   ],
   "source": [
    "df.sum()"
   ]
  },
  {
   "cell_type": "code",
   "execution_count": 58,
   "metadata": {
    "colab": {
     "base_uri": "https://localhost:8080/",
     "height": 300
    },
    "id": "LsmR45W44ORW",
    "outputId": "52db656b-c446-480e-a9ca-cbf5cb39b925"
   },
   "outputs": [
    {
     "data": {
      "text/html": [
       "<div>\n",
       "<style scoped>\n",
       "    .dataframe tbody tr th:only-of-type {\n",
       "        vertical-align: middle;\n",
       "    }\n",
       "\n",
       "    .dataframe tbody tr th {\n",
       "        vertical-align: top;\n",
       "    }\n",
       "\n",
       "    .dataframe thead th {\n",
       "        text-align: right;\n",
       "    }\n",
       "</style>\n",
       "<table border=\"1\" class=\"dataframe\">\n",
       "  <thead>\n",
       "    <tr style=\"text-align: right;\">\n",
       "      <th></th>\n",
       "      <th>0</th>\n",
       "      <th>1</th>\n",
       "      <th>2</th>\n",
       "      <th>3</th>\n",
       "      <th>4</th>\n",
       "    </tr>\n",
       "  </thead>\n",
       "  <tbody>\n",
       "    <tr>\n",
       "      <th>count</th>\n",
       "      <td>5.000000</td>\n",
       "      <td>5.000000</td>\n",
       "      <td>5.000000</td>\n",
       "      <td>5.000000</td>\n",
       "      <td>5.000000</td>\n",
       "    </tr>\n",
       "    <tr>\n",
       "      <th>mean</th>\n",
       "      <td>0.603965</td>\n",
       "      <td>0.303609</td>\n",
       "      <td>0.457843</td>\n",
       "      <td>0.621654</td>\n",
       "      <td>0.549185</td>\n",
       "    </tr>\n",
       "    <tr>\n",
       "      <th>std</th>\n",
       "      <td>0.326126</td>\n",
       "      <td>0.312546</td>\n",
       "      <td>0.304105</td>\n",
       "      <td>0.323602</td>\n",
       "      <td>0.361915</td>\n",
       "    </tr>\n",
       "    <tr>\n",
       "      <th>min</th>\n",
       "      <td>0.090522</td>\n",
       "      <td>0.091267</td>\n",
       "      <td>0.186086</td>\n",
       "      <td>0.229115</td>\n",
       "      <td>0.173194</td>\n",
       "    </tr>\n",
       "    <tr>\n",
       "      <th>25%</th>\n",
       "      <td>0.490222</td>\n",
       "      <td>0.098026</td>\n",
       "      <td>0.266961</td>\n",
       "      <td>0.342689</td>\n",
       "      <td>0.188620</td>\n",
       "    </tr>\n",
       "    <tr>\n",
       "      <th>50%</th>\n",
       "      <td>0.757510</td>\n",
       "      <td>0.171454</td>\n",
       "      <td>0.327548</td>\n",
       "      <td>0.719439</td>\n",
       "      <td>0.579506</td>\n",
       "    </tr>\n",
       "    <tr>\n",
       "      <th>75%</th>\n",
       "      <td>0.759767</td>\n",
       "      <td>0.319198</td>\n",
       "      <td>0.571457</td>\n",
       "      <td>0.828439</td>\n",
       "      <td>0.868774</td>\n",
       "    </tr>\n",
       "    <tr>\n",
       "      <th>max</th>\n",
       "      <td>0.921803</td>\n",
       "      <td>0.838098</td>\n",
       "      <td>0.937163</td>\n",
       "      <td>0.988590</td>\n",
       "      <td>0.935833</td>\n",
       "    </tr>\n",
       "  </tbody>\n",
       "</table>\n",
       "</div>"
      ],
      "text/plain": [
       "              0         1         2         3         4\n",
       "count  5.000000  5.000000  5.000000  5.000000  5.000000\n",
       "mean   0.603965  0.303609  0.457843  0.621654  0.549185\n",
       "std    0.326126  0.312546  0.304105  0.323602  0.361915\n",
       "min    0.090522  0.091267  0.186086  0.229115  0.173194\n",
       "25%    0.490222  0.098026  0.266961  0.342689  0.188620\n",
       "50%    0.757510  0.171454  0.327548  0.719439  0.579506\n",
       "75%    0.759767  0.319198  0.571457  0.828439  0.868774\n",
       "max    0.921803  0.838098  0.937163  0.988590  0.935833"
      ]
     },
     "execution_count": 58,
     "metadata": {},
     "output_type": "execute_result"
    }
   ],
   "source": [
    "df.describe()"
   ]
  },
  {
   "cell_type": "markdown",
   "metadata": {
    "id": "qL0xo3jE21cj"
   },
   "source": [
    "### Data ranking"
   ]
  },
  {
   "cell_type": "code",
   "execution_count": 59,
   "metadata": {},
   "outputs": [
    {
     "data": {
      "text/html": [
       "<div>\n",
       "<style scoped>\n",
       "    .dataframe tbody tr th:only-of-type {\n",
       "        vertical-align: middle;\n",
       "    }\n",
       "\n",
       "    .dataframe tbody tr th {\n",
       "        vertical-align: top;\n",
       "    }\n",
       "\n",
       "    .dataframe thead th {\n",
       "        text-align: right;\n",
       "    }\n",
       "</style>\n",
       "<table border=\"1\" class=\"dataframe\">\n",
       "  <thead>\n",
       "    <tr style=\"text-align: right;\">\n",
       "      <th></th>\n",
       "      <th>Country</th>\n",
       "      <th>Capital</th>\n",
       "      <th>Population</th>\n",
       "      <th>Isdeveloped</th>\n",
       "    </tr>\n",
       "  </thead>\n",
       "  <tbody>\n",
       "    <tr>\n",
       "      <th>d</th>\n",
       "      <td>Japan</td>\n",
       "      <td>Tokyo</td>\n",
       "      <td>NaN</td>\n",
       "      <td>True</td>\n",
       "    </tr>\n",
       "    <tr>\n",
       "      <th>c</th>\n",
       "      <td>Vietnam</td>\n",
       "      <td>Hanoi</td>\n",
       "      <td>97338579.0</td>\n",
       "      <td>True</td>\n",
       "    </tr>\n",
       "    <tr>\n",
       "      <th>a</th>\n",
       "      <td>Malaysia</td>\n",
       "      <td>Kuala Lumpur</td>\n",
       "      <td>32365999.0</td>\n",
       "      <td>False</td>\n",
       "    </tr>\n",
       "    <tr>\n",
       "      <th>b</th>\n",
       "      <td>Singapore</td>\n",
       "      <td>Singapore</td>\n",
       "      <td>5850342.0</td>\n",
       "      <td>True</td>\n",
       "    </tr>\n",
       "  </tbody>\n",
       "</table>\n",
       "</div>"
      ],
      "text/plain": [
       "     Country       Capital  Population  Isdeveloped\n",
       "d      Japan         Tokyo         NaN         True\n",
       "c    Vietnam         Hanoi  97338579.0         True\n",
       "a   Malaysia  Kuala Lumpur  32365999.0        False\n",
       "b  Singapore     Singapore   5850342.0         True"
      ]
     },
     "execution_count": 59,
     "metadata": {},
     "output_type": "execute_result"
    }
   ],
   "source": [
    "df = pd.DataFrame([[\"Malaysia\", \"Kuala Lumpur\", 32365999, False],\n",
    "              [\"Singapore\", \"Singapore\", 5850342, True],\n",
    "              [\"Vietnam\", \"Hanoi\", 97338579, True],\n",
    "                  [\"Japan\", \"Tokyo\", None, True]],\n",
    "              columns = [\"Country\", \"Capital\", \"Population\", \"Isdeveloped\"],\n",
    "              index=[\"a\", \"b\", \"c\", \"d\"])\n",
    "df.sort_values(by=['Population', 'Country'], ascending=False, na_position='first')"
   ]
  },
  {
   "cell_type": "markdown",
   "metadata": {
    "id": "MkRbeFSU5bhC"
   },
   "source": [
    "## Missing data (NaN value)"
   ]
  },
  {
   "cell_type": "code",
   "execution_count": 60,
   "metadata": {
    "colab": {
     "base_uri": "https://localhost:8080/",
     "height": 206
    },
    "id": "Pth4B8Up5oMe",
    "outputId": "98534856-c078-4698-fbc9-691486f9189d"
   },
   "outputs": [
    {
     "data": {
      "text/html": [
       "<div>\n",
       "<style scoped>\n",
       "    .dataframe tbody tr th:only-of-type {\n",
       "        vertical-align: middle;\n",
       "    }\n",
       "\n",
       "    .dataframe tbody tr th {\n",
       "        vertical-align: top;\n",
       "    }\n",
       "\n",
       "    .dataframe thead th {\n",
       "        text-align: right;\n",
       "    }\n",
       "</style>\n",
       "<table border=\"1\" class=\"dataframe\">\n",
       "  <thead>\n",
       "    <tr style=\"text-align: right;\">\n",
       "      <th></th>\n",
       "      <th>0</th>\n",
       "      <th>1</th>\n",
       "      <th>2</th>\n",
       "      <th>3</th>\n",
       "      <th>4</th>\n",
       "    </tr>\n",
       "  </thead>\n",
       "  <tbody>\n",
       "    <tr>\n",
       "      <th>0</th>\n",
       "      <td>0.448077</td>\n",
       "      <td>NaN</td>\n",
       "      <td>0.176137</td>\n",
       "      <td>0.238045</td>\n",
       "      <td>0.866006</td>\n",
       "    </tr>\n",
       "    <tr>\n",
       "      <th>1</th>\n",
       "      <td>0.697194</td>\n",
       "      <td>0.939803</td>\n",
       "      <td>0.663765</td>\n",
       "      <td>0.798067</td>\n",
       "      <td>0.790091</td>\n",
       "    </tr>\n",
       "    <tr>\n",
       "      <th>2</th>\n",
       "      <td>0.264479</td>\n",
       "      <td>0.168939</td>\n",
       "      <td>NaN</td>\n",
       "      <td>0.837008</td>\n",
       "      <td>0.348536</td>\n",
       "    </tr>\n",
       "    <tr>\n",
       "      <th>3</th>\n",
       "      <td>0.397227</td>\n",
       "      <td>NaN</td>\n",
       "      <td>0.211946</td>\n",
       "      <td>NaN</td>\n",
       "      <td>0.966816</td>\n",
       "    </tr>\n",
       "    <tr>\n",
       "      <th>4</th>\n",
       "      <td>0.321375</td>\n",
       "      <td>0.859747</td>\n",
       "      <td>0.955439</td>\n",
       "      <td>0.983199</td>\n",
       "      <td>0.677265</td>\n",
       "    </tr>\n",
       "  </tbody>\n",
       "</table>\n",
       "</div>"
      ],
      "text/plain": [
       "          0         1         2         3         4\n",
       "0  0.448077       NaN  0.176137  0.238045  0.866006\n",
       "1  0.697194  0.939803  0.663765  0.798067  0.790091\n",
       "2  0.264479  0.168939       NaN  0.837008  0.348536\n",
       "3  0.397227       NaN  0.211946       NaN  0.966816\n",
       "4  0.321375  0.859747  0.955439  0.983199  0.677265"
      ]
     },
     "execution_count": 60,
     "metadata": {},
     "output_type": "execute_result"
    }
   ],
   "source": [
    "df = pd.DataFrame(np.random.rand(5,5))\n",
    "df.iloc[0,1] = np.nan\n",
    "df.iloc[2,2] = np.nan\n",
    "df.iloc[3,1] = np.nan\n",
    "df.iloc[3,3] = np.nan\n",
    "df"
   ]
  },
  {
   "cell_type": "code",
   "execution_count": 61,
   "metadata": {
    "colab": {
     "base_uri": "https://localhost:8080/",
     "height": 206
    },
    "id": "2XoP9Bwr9wWN",
    "outputId": "a5e3991c-2e58-4d15-eb08-08e3d67a6279"
   },
   "outputs": [
    {
     "data": {
      "text/html": [
       "<div>\n",
       "<style scoped>\n",
       "    .dataframe tbody tr th:only-of-type {\n",
       "        vertical-align: middle;\n",
       "    }\n",
       "\n",
       "    .dataframe tbody tr th {\n",
       "        vertical-align: top;\n",
       "    }\n",
       "\n",
       "    .dataframe thead th {\n",
       "        text-align: right;\n",
       "    }\n",
       "</style>\n",
       "<table border=\"1\" class=\"dataframe\">\n",
       "  <thead>\n",
       "    <tr style=\"text-align: right;\">\n",
       "      <th></th>\n",
       "      <th>0</th>\n",
       "      <th>1</th>\n",
       "      <th>2</th>\n",
       "      <th>3</th>\n",
       "      <th>4</th>\n",
       "    </tr>\n",
       "  </thead>\n",
       "  <tbody>\n",
       "    <tr>\n",
       "      <th>0</th>\n",
       "      <td>False</td>\n",
       "      <td>True</td>\n",
       "      <td>False</td>\n",
       "      <td>False</td>\n",
       "      <td>False</td>\n",
       "    </tr>\n",
       "    <tr>\n",
       "      <th>1</th>\n",
       "      <td>False</td>\n",
       "      <td>False</td>\n",
       "      <td>False</td>\n",
       "      <td>False</td>\n",
       "      <td>False</td>\n",
       "    </tr>\n",
       "    <tr>\n",
       "      <th>2</th>\n",
       "      <td>False</td>\n",
       "      <td>False</td>\n",
       "      <td>True</td>\n",
       "      <td>False</td>\n",
       "      <td>False</td>\n",
       "    </tr>\n",
       "    <tr>\n",
       "      <th>3</th>\n",
       "      <td>False</td>\n",
       "      <td>True</td>\n",
       "      <td>False</td>\n",
       "      <td>True</td>\n",
       "      <td>False</td>\n",
       "    </tr>\n",
       "    <tr>\n",
       "      <th>4</th>\n",
       "      <td>False</td>\n",
       "      <td>False</td>\n",
       "      <td>False</td>\n",
       "      <td>False</td>\n",
       "      <td>False</td>\n",
       "    </tr>\n",
       "  </tbody>\n",
       "</table>\n",
       "</div>"
      ],
      "text/plain": [
       "       0      1      2      3      4\n",
       "0  False   True  False  False  False\n",
       "1  False  False  False  False  False\n",
       "2  False  False   True  False  False\n",
       "3  False   True  False   True  False\n",
       "4  False  False  False  False  False"
      ]
     },
     "execution_count": 61,
     "metadata": {},
     "output_type": "execute_result"
    }
   ],
   "source": [
    "# detecting nan value\n",
    "df.isnull()"
   ]
  },
  {
   "cell_type": "code",
   "execution_count": 62,
   "metadata": {
    "colab": {
     "base_uri": "https://localhost:8080/",
     "height": 206
    },
    "id": "O37Zazgp95Ve",
    "outputId": "d2f959af-39a1-4ea2-9645-b23e1853abcd"
   },
   "outputs": [
    {
     "data": {
      "text/html": [
       "<div>\n",
       "<style scoped>\n",
       "    .dataframe tbody tr th:only-of-type {\n",
       "        vertical-align: middle;\n",
       "    }\n",
       "\n",
       "    .dataframe tbody tr th {\n",
       "        vertical-align: top;\n",
       "    }\n",
       "\n",
       "    .dataframe thead th {\n",
       "        text-align: right;\n",
       "    }\n",
       "</style>\n",
       "<table border=\"1\" class=\"dataframe\">\n",
       "  <thead>\n",
       "    <tr style=\"text-align: right;\">\n",
       "      <th></th>\n",
       "      <th>0</th>\n",
       "      <th>1</th>\n",
       "      <th>2</th>\n",
       "      <th>3</th>\n",
       "      <th>4</th>\n",
       "    </tr>\n",
       "  </thead>\n",
       "  <tbody>\n",
       "    <tr>\n",
       "      <th>0</th>\n",
       "      <td>True</td>\n",
       "      <td>False</td>\n",
       "      <td>True</td>\n",
       "      <td>True</td>\n",
       "      <td>True</td>\n",
       "    </tr>\n",
       "    <tr>\n",
       "      <th>1</th>\n",
       "      <td>True</td>\n",
       "      <td>True</td>\n",
       "      <td>True</td>\n",
       "      <td>True</td>\n",
       "      <td>True</td>\n",
       "    </tr>\n",
       "    <tr>\n",
       "      <th>2</th>\n",
       "      <td>True</td>\n",
       "      <td>True</td>\n",
       "      <td>False</td>\n",
       "      <td>True</td>\n",
       "      <td>True</td>\n",
       "    </tr>\n",
       "    <tr>\n",
       "      <th>3</th>\n",
       "      <td>True</td>\n",
       "      <td>False</td>\n",
       "      <td>True</td>\n",
       "      <td>False</td>\n",
       "      <td>True</td>\n",
       "    </tr>\n",
       "    <tr>\n",
       "      <th>4</th>\n",
       "      <td>True</td>\n",
       "      <td>True</td>\n",
       "      <td>True</td>\n",
       "      <td>True</td>\n",
       "      <td>True</td>\n",
       "    </tr>\n",
       "  </tbody>\n",
       "</table>\n",
       "</div>"
      ],
      "text/plain": [
       "      0      1      2      3     4\n",
       "0  True  False   True   True  True\n",
       "1  True   True   True   True  True\n",
       "2  True   True  False   True  True\n",
       "3  True  False   True  False  True\n",
       "4  True   True   True   True  True"
      ]
     },
     "execution_count": 62,
     "metadata": {},
     "output_type": "execute_result"
    }
   ],
   "source": [
    "# detecting nan value\n",
    "df.notnull()"
   ]
  },
  {
   "cell_type": "code",
   "execution_count": 63,
   "metadata": {
    "colab": {
     "base_uri": "https://localhost:8080/",
     "height": 206
    },
    "id": "YPs5h6UB98M5",
    "outputId": "c9eb9af1-a272-4ac0-b1f8-23336eab4e6c"
   },
   "outputs": [
    {
     "data": {
      "text/html": [
       "<div>\n",
       "<style scoped>\n",
       "    .dataframe tbody tr th:only-of-type {\n",
       "        vertical-align: middle;\n",
       "    }\n",
       "\n",
       "    .dataframe tbody tr th {\n",
       "        vertical-align: top;\n",
       "    }\n",
       "\n",
       "    .dataframe thead th {\n",
       "        text-align: right;\n",
       "    }\n",
       "</style>\n",
       "<table border=\"1\" class=\"dataframe\">\n",
       "  <thead>\n",
       "    <tr style=\"text-align: right;\">\n",
       "      <th></th>\n",
       "      <th>0</th>\n",
       "      <th>1</th>\n",
       "      <th>2</th>\n",
       "      <th>3</th>\n",
       "      <th>4</th>\n",
       "    </tr>\n",
       "  </thead>\n",
       "  <tbody>\n",
       "    <tr>\n",
       "      <th>0</th>\n",
       "      <td>False</td>\n",
       "      <td>True</td>\n",
       "      <td>False</td>\n",
       "      <td>False</td>\n",
       "      <td>False</td>\n",
       "    </tr>\n",
       "    <tr>\n",
       "      <th>1</th>\n",
       "      <td>False</td>\n",
       "      <td>False</td>\n",
       "      <td>False</td>\n",
       "      <td>False</td>\n",
       "      <td>False</td>\n",
       "    </tr>\n",
       "    <tr>\n",
       "      <th>2</th>\n",
       "      <td>False</td>\n",
       "      <td>False</td>\n",
       "      <td>True</td>\n",
       "      <td>False</td>\n",
       "      <td>False</td>\n",
       "    </tr>\n",
       "    <tr>\n",
       "      <th>3</th>\n",
       "      <td>False</td>\n",
       "      <td>True</td>\n",
       "      <td>False</td>\n",
       "      <td>True</td>\n",
       "      <td>False</td>\n",
       "    </tr>\n",
       "    <tr>\n",
       "      <th>4</th>\n",
       "      <td>False</td>\n",
       "      <td>False</td>\n",
       "      <td>False</td>\n",
       "      <td>False</td>\n",
       "      <td>False</td>\n",
       "    </tr>\n",
       "  </tbody>\n",
       "</table>\n",
       "</div>"
      ],
      "text/plain": [
       "       0      1      2      3      4\n",
       "0  False   True  False  False  False\n",
       "1  False  False  False  False  False\n",
       "2  False  False   True  False  False\n",
       "3  False   True  False   True  False\n",
       "4  False  False  False  False  False"
      ]
     },
     "execution_count": 63,
     "metadata": {},
     "output_type": "execute_result"
    }
   ],
   "source": [
    "df.isna()"
   ]
  },
  {
   "cell_type": "code",
   "execution_count": 64,
   "metadata": {
    "colab": {
     "base_uri": "https://localhost:8080/",
     "height": 206
    },
    "id": "mmE-Vtkc-POU",
    "outputId": "57f9ef90-800f-497f-eb13-f4a309d8530a"
   },
   "outputs": [
    {
     "data": {
      "text/html": [
       "<div>\n",
       "<style scoped>\n",
       "    .dataframe tbody tr th:only-of-type {\n",
       "        vertical-align: middle;\n",
       "    }\n",
       "\n",
       "    .dataframe tbody tr th {\n",
       "        vertical-align: top;\n",
       "    }\n",
       "\n",
       "    .dataframe thead th {\n",
       "        text-align: right;\n",
       "    }\n",
       "</style>\n",
       "<table border=\"1\" class=\"dataframe\">\n",
       "  <thead>\n",
       "    <tr style=\"text-align: right;\">\n",
       "      <th></th>\n",
       "      <th>0</th>\n",
       "      <th>1</th>\n",
       "      <th>2</th>\n",
       "      <th>3</th>\n",
       "      <th>4</th>\n",
       "    </tr>\n",
       "  </thead>\n",
       "  <tbody>\n",
       "    <tr>\n",
       "      <th>0</th>\n",
       "      <td>0.448077</td>\n",
       "      <td>0.000000</td>\n",
       "      <td>0.176137</td>\n",
       "      <td>0.238045</td>\n",
       "      <td>0.866006</td>\n",
       "    </tr>\n",
       "    <tr>\n",
       "      <th>1</th>\n",
       "      <td>0.697194</td>\n",
       "      <td>0.939803</td>\n",
       "      <td>0.663765</td>\n",
       "      <td>0.798067</td>\n",
       "      <td>0.790091</td>\n",
       "    </tr>\n",
       "    <tr>\n",
       "      <th>2</th>\n",
       "      <td>0.264479</td>\n",
       "      <td>0.168939</td>\n",
       "      <td>0.000000</td>\n",
       "      <td>0.837008</td>\n",
       "      <td>0.348536</td>\n",
       "    </tr>\n",
       "    <tr>\n",
       "      <th>3</th>\n",
       "      <td>0.397227</td>\n",
       "      <td>0.000000</td>\n",
       "      <td>0.211946</td>\n",
       "      <td>0.000000</td>\n",
       "      <td>0.966816</td>\n",
       "    </tr>\n",
       "    <tr>\n",
       "      <th>4</th>\n",
       "      <td>0.321375</td>\n",
       "      <td>0.859747</td>\n",
       "      <td>0.955439</td>\n",
       "      <td>0.983199</td>\n",
       "      <td>0.677265</td>\n",
       "    </tr>\n",
       "  </tbody>\n",
       "</table>\n",
       "</div>"
      ],
      "text/plain": [
       "          0         1         2         3         4\n",
       "0  0.448077  0.000000  0.176137  0.238045  0.866006\n",
       "1  0.697194  0.939803  0.663765  0.798067  0.790091\n",
       "2  0.264479  0.168939  0.000000  0.837008  0.348536\n",
       "3  0.397227  0.000000  0.211946  0.000000  0.966816\n",
       "4  0.321375  0.859747  0.955439  0.983199  0.677265"
      ]
     },
     "execution_count": 64,
     "metadata": {},
     "output_type": "execute_result"
    }
   ],
   "source": [
    "# fill nan using a specify value\n",
    "df.fillna(value=0)"
   ]
  },
  {
   "cell_type": "code",
   "execution_count": 65,
   "metadata": {
    "colab": {
     "base_uri": "https://localhost:8080/",
     "height": 206
    },
    "id": "CWl_6asY-VWN",
    "outputId": "de39f3a8-85fc-4639-dce3-264213a09c5d"
   },
   "outputs": [
    {
     "data": {
      "text/html": [
       "<div>\n",
       "<style scoped>\n",
       "    .dataframe tbody tr th:only-of-type {\n",
       "        vertical-align: middle;\n",
       "    }\n",
       "\n",
       "    .dataframe tbody tr th {\n",
       "        vertical-align: top;\n",
       "    }\n",
       "\n",
       "    .dataframe thead th {\n",
       "        text-align: right;\n",
       "    }\n",
       "</style>\n",
       "<table border=\"1\" class=\"dataframe\">\n",
       "  <thead>\n",
       "    <tr style=\"text-align: right;\">\n",
       "      <th></th>\n",
       "      <th>0</th>\n",
       "      <th>1</th>\n",
       "      <th>2</th>\n",
       "      <th>3</th>\n",
       "      <th>4</th>\n",
       "    </tr>\n",
       "  </thead>\n",
       "  <tbody>\n",
       "    <tr>\n",
       "      <th>0</th>\n",
       "      <td>0.448077</td>\n",
       "      <td>NaN</td>\n",
       "      <td>0.176137</td>\n",
       "      <td>0.238045</td>\n",
       "      <td>0.866006</td>\n",
       "    </tr>\n",
       "    <tr>\n",
       "      <th>1</th>\n",
       "      <td>0.697194</td>\n",
       "      <td>0.939803</td>\n",
       "      <td>0.663765</td>\n",
       "      <td>0.798067</td>\n",
       "      <td>0.790091</td>\n",
       "    </tr>\n",
       "    <tr>\n",
       "      <th>2</th>\n",
       "      <td>0.264479</td>\n",
       "      <td>0.168939</td>\n",
       "      <td>NaN</td>\n",
       "      <td>0.837008</td>\n",
       "      <td>0.348536</td>\n",
       "    </tr>\n",
       "    <tr>\n",
       "      <th>3</th>\n",
       "      <td>0.397227</td>\n",
       "      <td>NaN</td>\n",
       "      <td>0.211946</td>\n",
       "      <td>NaN</td>\n",
       "      <td>0.966816</td>\n",
       "    </tr>\n",
       "    <tr>\n",
       "      <th>4</th>\n",
       "      <td>0.321375</td>\n",
       "      <td>0.859747</td>\n",
       "      <td>0.955439</td>\n",
       "      <td>0.983199</td>\n",
       "      <td>0.677265</td>\n",
       "    </tr>\n",
       "  </tbody>\n",
       "</table>\n",
       "</div>"
      ],
      "text/plain": [
       "          0         1         2         3         4\n",
       "0  0.448077       NaN  0.176137  0.238045  0.866006\n",
       "1  0.697194  0.939803  0.663765  0.798067  0.790091\n",
       "2  0.264479  0.168939       NaN  0.837008  0.348536\n",
       "3  0.397227       NaN  0.211946       NaN  0.966816\n",
       "4  0.321375  0.859747  0.955439  0.983199  0.677265"
      ]
     },
     "execution_count": 65,
     "metadata": {},
     "output_type": "execute_result"
    }
   ],
   "source": [
    "# fill nan using a method\n",
    "# set inplace to True, the changes will act on dataframe\n",
    "df.fillna(method=\"ffill\") # other method: ‘backfill’, ‘bfill’, ‘pad’\n",
    "df"
   ]
  },
  {
   "cell_type": "code",
   "execution_count": 66,
   "metadata": {
    "colab": {
     "base_uri": "https://localhost:8080/",
     "height": 206
    },
    "id": "uPaPb4xm_AWA",
    "outputId": "b314d87c-dc4f-457f-ec1c-dc7074a73da4"
   },
   "outputs": [
    {
     "data": {
      "text/html": [
       "<div>\n",
       "<style scoped>\n",
       "    .dataframe tbody tr th:only-of-type {\n",
       "        vertical-align: middle;\n",
       "    }\n",
       "\n",
       "    .dataframe tbody tr th {\n",
       "        vertical-align: top;\n",
       "    }\n",
       "\n",
       "    .dataframe thead th {\n",
       "        text-align: right;\n",
       "    }\n",
       "</style>\n",
       "<table border=\"1\" class=\"dataframe\">\n",
       "  <thead>\n",
       "    <tr style=\"text-align: right;\">\n",
       "      <th></th>\n",
       "      <th>0</th>\n",
       "      <th>1</th>\n",
       "      <th>2</th>\n",
       "      <th>3</th>\n",
       "      <th>4</th>\n",
       "    </tr>\n",
       "  </thead>\n",
       "  <tbody>\n",
       "    <tr>\n",
       "      <th>0</th>\n",
       "      <td>0.448077</td>\n",
       "      <td>NaN</td>\n",
       "      <td>0.176137</td>\n",
       "      <td>0.238045</td>\n",
       "      <td>0.866006</td>\n",
       "    </tr>\n",
       "    <tr>\n",
       "      <th>1</th>\n",
       "      <td>0.697194</td>\n",
       "      <td>0.939803</td>\n",
       "      <td>0.663765</td>\n",
       "      <td>0.798067</td>\n",
       "      <td>0.790091</td>\n",
       "    </tr>\n",
       "    <tr>\n",
       "      <th>2</th>\n",
       "      <td>0.264479</td>\n",
       "      <td>0.168939</td>\n",
       "      <td>0.663765</td>\n",
       "      <td>0.837008</td>\n",
       "      <td>0.348536</td>\n",
       "    </tr>\n",
       "    <tr>\n",
       "      <th>3</th>\n",
       "      <td>0.397227</td>\n",
       "      <td>0.168939</td>\n",
       "      <td>0.211946</td>\n",
       "      <td>0.837008</td>\n",
       "      <td>0.966816</td>\n",
       "    </tr>\n",
       "    <tr>\n",
       "      <th>4</th>\n",
       "      <td>0.321375</td>\n",
       "      <td>0.859747</td>\n",
       "      <td>0.955439</td>\n",
       "      <td>0.983199</td>\n",
       "      <td>0.677265</td>\n",
       "    </tr>\n",
       "  </tbody>\n",
       "</table>\n",
       "</div>"
      ],
      "text/plain": [
       "          0         1         2         3         4\n",
       "0  0.448077       NaN  0.176137  0.238045  0.866006\n",
       "1  0.697194  0.939803  0.663765  0.798067  0.790091\n",
       "2  0.264479  0.168939  0.663765  0.837008  0.348536\n",
       "3  0.397227  0.168939  0.211946  0.837008  0.966816\n",
       "4  0.321375  0.859747  0.955439  0.983199  0.677265"
      ]
     },
     "execution_count": 66,
     "metadata": {},
     "output_type": "execute_result"
    }
   ],
   "source": [
    "df.fillna(method=\"pad\")"
   ]
  },
  {
   "cell_type": "code",
   "execution_count": 67,
   "metadata": {
    "colab": {
     "base_uri": "https://localhost:8080/",
     "height": 175
    },
    "id": "mB_g5EN7Ak7v",
    "outputId": "fbdf760a-8fe4-47eb-cd45-94890ee08585"
   },
   "outputs": [
    {
     "data": {
      "text/html": [
       "<div>\n",
       "<style scoped>\n",
       "    .dataframe tbody tr th:only-of-type {\n",
       "        vertical-align: middle;\n",
       "    }\n",
       "\n",
       "    .dataframe tbody tr th {\n",
       "        vertical-align: top;\n",
       "    }\n",
       "\n",
       "    .dataframe thead th {\n",
       "        text-align: right;\n",
       "    }\n",
       "</style>\n",
       "<table border=\"1\" class=\"dataframe\">\n",
       "  <thead>\n",
       "    <tr style=\"text-align: right;\">\n",
       "      <th></th>\n",
       "      <th>0</th>\n",
       "      <th>1</th>\n",
       "      <th>2</th>\n",
       "      <th>3</th>\n",
       "      <th>4</th>\n",
       "    </tr>\n",
       "  </thead>\n",
       "  <tbody>\n",
       "    <tr>\n",
       "      <th>1</th>\n",
       "      <td>0.697194</td>\n",
       "      <td>0.939803</td>\n",
       "      <td>0.663765</td>\n",
       "      <td>0.798067</td>\n",
       "      <td>0.790091</td>\n",
       "    </tr>\n",
       "    <tr>\n",
       "      <th>4</th>\n",
       "      <td>0.321375</td>\n",
       "      <td>0.859747</td>\n",
       "      <td>0.955439</td>\n",
       "      <td>0.983199</td>\n",
       "      <td>0.677265</td>\n",
       "    </tr>\n",
       "  </tbody>\n",
       "</table>\n",
       "</div>"
      ],
      "text/plain": [
       "          0         1         2         3         4\n",
       "1  0.697194  0.939803  0.663765  0.798067  0.790091\n",
       "4  0.321375  0.859747  0.955439  0.983199  0.677265"
      ]
     },
     "execution_count": 67,
     "metadata": {},
     "output_type": "execute_result"
    }
   ],
   "source": [
    "# delete NaN value\n",
    "# ‘any’ : If any NA values are present, drop that row or column.\n",
    "# ‘all’ : If all values are NA, drop that row or column.\n",
    "\n",
    "# 0, or ‘index’ : Drop rows which contain missing values.\n",
    "# 1, or ‘columns’ : Drop columns which contain missing value.\n",
    "df.dropna(axis=\"index\", how=\"any\")"
   ]
  },
  {
   "cell_type": "markdown",
   "metadata": {
    "id": "L9VPonmsD0y8"
   },
   "source": [
    "## Date index"
   ]
  },
  {
   "cell_type": "code",
   "execution_count": 68,
   "metadata": {
    "id": "UASqMuqFD1MB"
   },
   "outputs": [
    {
     "name": "stdout",
     "output_type": "stream",
     "text": [
      "DatetimeIndex(['2018-01-01 00:00:00', '2018-01-01 01:00:00',\n",
      "               '2018-01-01 02:00:00'],\n",
      "              dtype='datetime64[ns]', freq='H')\n",
      "DatetimeIndex(['2021-09-28 00:00:00', '2021-09-28 10:00:00',\n",
      "               '2021-09-28 20:00:00', '2021-09-29 06:00:00',\n",
      "               '2021-09-29 16:00:00'],\n",
      "              dtype='datetime64[ns]', freq='10H')\n"
     ]
    }
   ],
   "source": [
    "dti = pd.date_range(\"2018-01-01\", periods=3, freq=\"H\")\n",
    "print(dti)\n",
    "dti = pd.date_range(start = \"2021-09-28\", end=\"2021-09-30\", freq=\"10H\")\n",
    "print(dti)"
   ]
  },
  {
   "cell_type": "markdown",
   "metadata": {},
   "source": [
    "Manipulating and converting date times with timezone information"
   ]
  },
  {
   "cell_type": "code",
   "execution_count": 69,
   "metadata": {},
   "outputs": [
    {
     "data": {
      "text/plain": [
       "DatetimeIndex(['2021-09-28 00:00:00+00:00', '2021-09-28 10:00:00+00:00',\n",
       "               '2021-09-28 20:00:00+00:00', '2021-09-29 06:00:00+00:00',\n",
       "               '2021-09-29 16:00:00+00:00'],\n",
       "              dtype='datetime64[ns, UTC]', freq='10H')"
      ]
     },
     "execution_count": 69,
     "metadata": {},
     "output_type": "execute_result"
    }
   ],
   "source": [
    "dti = pd.date_range(start = \"2021-09-28\", end=\"2021-09-30\", freq=\"10H\")\n",
    "dti = dti.tz_localize(\"UTC\")\n",
    "dti"
   ]
  },
  {
   "cell_type": "code",
   "execution_count": 70,
   "metadata": {},
   "outputs": [
    {
     "data": {
      "text/plain": [
       "DatetimeIndex(['2021-09-28 00:00:00+08:00', '2021-09-28 10:00:00+08:00',\n",
       "               '2021-09-28 20:00:00+08:00', '2021-09-29 06:00:00+08:00',\n",
       "               '2021-09-29 16:00:00+08:00'],\n",
       "              dtype='datetime64[ns, Asia/Singapore]', freq=None)"
      ]
     },
     "execution_count": 70,
     "metadata": {},
     "output_type": "execute_result"
    }
   ],
   "source": [
    "dti = pd.date_range(start = \"2021-09-28\", end=\"2021-09-30\", freq=\"10H\")\n",
    "dti = dti.tz_localize(\"Asia/Singapore\")\n",
    "dti"
   ]
  },
  {
   "cell_type": "markdown",
   "metadata": {},
   "source": [
    "Using the `origin` option, one can specify an alternative starting point for creation of a `DatetimeIndex`. For example, to use 1900-01-01 00:00:00 as the starting time and hour as the unit period length:"
   ]
  },
  {
   "cell_type": "code",
   "execution_count": 71,
   "metadata": {},
   "outputs": [
    {
     "data": {
      "text/plain": [
       "DatetimeIndex(['1900-01-05 04:00:00', '1900-01-05 05:00:00',\n",
       "               '1900-01-05 06:00:00'],\n",
       "              dtype='datetime64[ns]', freq=None)"
      ]
     },
     "execution_count": 71,
     "metadata": {},
     "output_type": "execute_result"
    }
   ],
   "source": [
    "pd.to_datetime([100, 101, 102], unit=\"h\", origin=pd.Timestamp(\"1900-01-01 00:00:00\"))"
   ]
  },
  {
   "cell_type": "markdown",
   "metadata": {},
   "source": [
    "Supported units are: `D`:day, `h`:hour, `m`: minute, and `s`:second."
   ]
  },
  {
   "cell_type": "markdown",
   "metadata": {},
   "source": [
    "```{tip}\n",
    "The time labels of climate products is usually given a start time point and discrete time interval, and then represented by a column of integers. In this case, we can use above way to construct time labels.\n",
    "```"
   ]
  },
  {
   "cell_type": "markdown",
   "metadata": {
    "id": "TACd0sy3LEkr"
   },
   "source": [
    "## Upsampling and Downsampling"
   ]
  },
  {
   "cell_type": "markdown",
   "metadata": {
    "id": "715aar99N1ov"
   },
   "source": [
    "* Upsampling: Increase the frequency of the samples by interpolation, such as from minutes to seconds. \n",
    "* Downsampling: Ddecrease the frequency of the samples by aggregation, such as from months to years.\n"
   ]
  },
  {
   "cell_type": "code",
   "execution_count": 72,
   "metadata": {
    "colab": {
     "base_uri": "https://localhost:8080/",
     "height": 238
    },
    "id": "8hO0jujq4l7S",
    "outputId": "e1514541-4ffe-4d0e-df7d-7803864ffd4b"
   },
   "outputs": [
    {
     "data": {
      "text/html": [
       "<div>\n",
       "<style scoped>\n",
       "    .dataframe tbody tr th:only-of-type {\n",
       "        vertical-align: middle;\n",
       "    }\n",
       "\n",
       "    .dataframe tbody tr th {\n",
       "        vertical-align: top;\n",
       "    }\n",
       "\n",
       "    .dataframe thead th {\n",
       "        text-align: right;\n",
       "    }\n",
       "</style>\n",
       "<table border=\"1\" class=\"dataframe\">\n",
       "  <thead>\n",
       "    <tr style=\"text-align: right;\">\n",
       "      <th></th>\n",
       "      <th>Daily Rainfall Total (mm)</th>\n",
       "    </tr>\n",
       "    <tr>\n",
       "      <th>Date</th>\n",
       "      <th></th>\n",
       "    </tr>\n",
       "  </thead>\n",
       "  <tbody>\n",
       "    <tr>\n",
       "      <th>1981-01-01</th>\n",
       "      <td>0.0</td>\n",
       "    </tr>\n",
       "    <tr>\n",
       "      <th>1981-01-02</th>\n",
       "      <td>0.0</td>\n",
       "    </tr>\n",
       "    <tr>\n",
       "      <th>1981-01-03</th>\n",
       "      <td>0.0</td>\n",
       "    </tr>\n",
       "    <tr>\n",
       "      <th>1981-01-04</th>\n",
       "      <td>0.0</td>\n",
       "    </tr>\n",
       "    <tr>\n",
       "      <th>1981-01-05</th>\n",
       "      <td>0.0</td>\n",
       "    </tr>\n",
       "  </tbody>\n",
       "</table>\n",
       "</div>"
      ],
      "text/plain": [
       "            Daily Rainfall Total (mm)\n",
       "Date                                 \n",
       "1981-01-01                        0.0\n",
       "1981-01-02                        0.0\n",
       "1981-01-03                        0.0\n",
       "1981-01-04                        0.0\n",
       "1981-01-05                        0.0"
      ]
     },
     "execution_count": 72,
     "metadata": {},
     "output_type": "execute_result"
    }
   ],
   "source": [
    "# prepare data, this section will be introduced in the next tutorial\n",
    "# Data Source: http://www.weather.gov.sg/climate-historical-daily/\n",
    "data = pd.read_csv('../../assets/data/Changi_daily_rainfall.csv', index_col=0, header=0, parse_dates=True)\n",
    "data.head()"
   ]
  },
  {
   "cell_type": "code",
   "execution_count": 73,
   "metadata": {
    "colab": {
     "base_uri": "https://localhost:8080/",
     "height": 238
    },
    "id": "ELSbqmyqKLrx",
    "outputId": "2fd19060-6ce1-48f8-a9b9-b5457e79fe4f"
   },
   "outputs": [
    {
     "data": {
      "text/html": [
       "<div>\n",
       "<style scoped>\n",
       "    .dataframe tbody tr th:only-of-type {\n",
       "        vertical-align: middle;\n",
       "    }\n",
       "\n",
       "    .dataframe tbody tr th {\n",
       "        vertical-align: top;\n",
       "    }\n",
       "\n",
       "    .dataframe thead th {\n",
       "        text-align: right;\n",
       "    }\n",
       "</style>\n",
       "<table border=\"1\" class=\"dataframe\">\n",
       "  <thead>\n",
       "    <tr style=\"text-align: right;\">\n",
       "      <th></th>\n",
       "      <th>Daily Rainfall Total (mm)</th>\n",
       "    </tr>\n",
       "    <tr>\n",
       "      <th>Date</th>\n",
       "      <th></th>\n",
       "    </tr>\n",
       "  </thead>\n",
       "  <tbody>\n",
       "    <tr>\n",
       "      <th>1981-12-31</th>\n",
       "      <td>1336.3</td>\n",
       "    </tr>\n",
       "    <tr>\n",
       "      <th>1982-12-31</th>\n",
       "      <td>1581.7</td>\n",
       "    </tr>\n",
       "    <tr>\n",
       "      <th>1983-12-31</th>\n",
       "      <td>1866.5</td>\n",
       "    </tr>\n",
       "    <tr>\n",
       "      <th>1984-12-31</th>\n",
       "      <td>2686.7</td>\n",
       "    </tr>\n",
       "    <tr>\n",
       "      <th>1985-12-31</th>\n",
       "      <td>1483.9</td>\n",
       "    </tr>\n",
       "  </tbody>\n",
       "</table>\n",
       "</div>"
      ],
      "text/plain": [
       "            Daily Rainfall Total (mm)\n",
       "Date                                 \n",
       "1981-12-31                     1336.3\n",
       "1982-12-31                     1581.7\n",
       "1983-12-31                     1866.5\n",
       "1984-12-31                     2686.7\n",
       "1985-12-31                     1483.9"
      ]
     },
     "execution_count": 73,
     "metadata": {},
     "output_type": "execute_result"
    }
   ],
   "source": [
    "# Downsampling: Convert monthly data to yearly data by sum and max\n",
    "df = data\n",
    "dfsum = df.resample(\"Y\").sum()\n",
    "dfsum.head()"
   ]
  },
  {
   "cell_type": "code",
   "execution_count": 74,
   "metadata": {
    "colab": {
     "base_uri": "https://localhost:8080/",
     "height": 238
    },
    "id": "nBnCqjCgMwy9",
    "outputId": "778e5a3c-2a29-4a25-f8cd-8e5c14ac2d82"
   },
   "outputs": [
    {
     "data": {
      "text/html": [
       "<div>\n",
       "<style scoped>\n",
       "    .dataframe tbody tr th:only-of-type {\n",
       "        vertical-align: middle;\n",
       "    }\n",
       "\n",
       "    .dataframe tbody tr th {\n",
       "        vertical-align: top;\n",
       "    }\n",
       "\n",
       "    .dataframe thead th {\n",
       "        text-align: right;\n",
       "    }\n",
       "</style>\n",
       "<table border=\"1\" class=\"dataframe\">\n",
       "  <thead>\n",
       "    <tr style=\"text-align: right;\">\n",
       "      <th></th>\n",
       "      <th>Daily Rainfall Total (mm)</th>\n",
       "    </tr>\n",
       "    <tr>\n",
       "      <th>Date</th>\n",
       "      <th></th>\n",
       "    </tr>\n",
       "  </thead>\n",
       "  <tbody>\n",
       "    <tr>\n",
       "      <th>1981-12-31</th>\n",
       "      <td>71.5</td>\n",
       "    </tr>\n",
       "    <tr>\n",
       "      <th>1982-12-31</th>\n",
       "      <td>109.0</td>\n",
       "    </tr>\n",
       "    <tr>\n",
       "      <th>1983-12-31</th>\n",
       "      <td>181.8</td>\n",
       "    </tr>\n",
       "    <tr>\n",
       "      <th>1984-12-31</th>\n",
       "      <td>154.4</td>\n",
       "    </tr>\n",
       "    <tr>\n",
       "      <th>1985-12-31</th>\n",
       "      <td>86.8</td>\n",
       "    </tr>\n",
       "  </tbody>\n",
       "</table>\n",
       "</div>"
      ],
      "text/plain": [
       "            Daily Rainfall Total (mm)\n",
       "Date                                 \n",
       "1981-12-31                       71.5\n",
       "1982-12-31                      109.0\n",
       "1983-12-31                      181.8\n",
       "1984-12-31                      154.4\n",
       "1985-12-31                       86.8"
      ]
     },
     "execution_count": 74,
     "metadata": {},
     "output_type": "execute_result"
    }
   ],
   "source": [
    "dfmax = df.resample(\"Y\").max()\n",
    "dfmax.head()"
   ]
  },
  {
   "cell_type": "code",
   "execution_count": 75,
   "metadata": {
    "colab": {
     "base_uri": "https://localhost:8080/",
     "height": 238
    },
    "id": "8ltRovoTPQap",
    "outputId": "4af94db3-d67f-4ce9-cc54-cd1ed009b6dc"
   },
   "outputs": [
    {
     "data": {
      "text/html": [
       "<div>\n",
       "<style scoped>\n",
       "    .dataframe tbody tr th:only-of-type {\n",
       "        vertical-align: middle;\n",
       "    }\n",
       "\n",
       "    .dataframe tbody tr th {\n",
       "        vertical-align: top;\n",
       "    }\n",
       "\n",
       "    .dataframe thead th {\n",
       "        text-align: right;\n",
       "    }\n",
       "</style>\n",
       "<table border=\"1\" class=\"dataframe\">\n",
       "  <thead>\n",
       "    <tr style=\"text-align: right;\">\n",
       "      <th></th>\n",
       "      <th>Daily Rainfall Total (mm)</th>\n",
       "    </tr>\n",
       "    <tr>\n",
       "      <th>Date</th>\n",
       "      <th></th>\n",
       "    </tr>\n",
       "  </thead>\n",
       "  <tbody>\n",
       "    <tr>\n",
       "      <th>1981-12-31</th>\n",
       "      <td>71.5</td>\n",
       "    </tr>\n",
       "    <tr>\n",
       "      <th>1982-01-10</th>\n",
       "      <td>NaN</td>\n",
       "    </tr>\n",
       "    <tr>\n",
       "      <th>1982-01-20</th>\n",
       "      <td>NaN</td>\n",
       "    </tr>\n",
       "    <tr>\n",
       "      <th>1982-01-30</th>\n",
       "      <td>NaN</td>\n",
       "    </tr>\n",
       "    <tr>\n",
       "      <th>1982-02-09</th>\n",
       "      <td>NaN</td>\n",
       "    </tr>\n",
       "  </tbody>\n",
       "</table>\n",
       "</div>"
      ],
      "text/plain": [
       "            Daily Rainfall Total (mm)\n",
       "Date                                 \n",
       "1981-12-31                       71.5\n",
       "1982-01-10                        NaN\n",
       "1982-01-20                        NaN\n",
       "1982-01-30                        NaN\n",
       "1982-02-09                        NaN"
      ]
     },
     "execution_count": 75,
     "metadata": {},
     "output_type": "execute_result"
    }
   ],
   "source": [
    "# Upsampling: Convert monthly data to yearly data by sum and max\n",
    "dfmax.resample('10D').asfreq()[0:5]"
   ]
  },
  {
   "cell_type": "code",
   "execution_count": 76,
   "metadata": {
    "colab": {
     "base_uri": "https://localhost:8080/",
     "height": 238
    },
    "id": "EHbEwjiJP5gW",
    "outputId": "0188d49f-50f9-4271-e765-d3636bdd0292"
   },
   "outputs": [
    {
     "data": {
      "text/html": [
       "<div>\n",
       "<style scoped>\n",
       "    .dataframe tbody tr th:only-of-type {\n",
       "        vertical-align: middle;\n",
       "    }\n",
       "\n",
       "    .dataframe tbody tr th {\n",
       "        vertical-align: top;\n",
       "    }\n",
       "\n",
       "    .dataframe thead th {\n",
       "        text-align: right;\n",
       "    }\n",
       "</style>\n",
       "<table border=\"1\" class=\"dataframe\">\n",
       "  <thead>\n",
       "    <tr style=\"text-align: right;\">\n",
       "      <th></th>\n",
       "      <th>Daily Rainfall Total (mm)</th>\n",
       "    </tr>\n",
       "    <tr>\n",
       "      <th>Date</th>\n",
       "      <th></th>\n",
       "    </tr>\n",
       "  </thead>\n",
       "  <tbody>\n",
       "    <tr>\n",
       "      <th>1981-12-31</th>\n",
       "      <td>71.5</td>\n",
       "    </tr>\n",
       "    <tr>\n",
       "      <th>1982-01-10</th>\n",
       "      <td>71.5</td>\n",
       "    </tr>\n",
       "    <tr>\n",
       "      <th>1982-01-20</th>\n",
       "      <td>71.5</td>\n",
       "    </tr>\n",
       "    <tr>\n",
       "      <th>1982-01-30</th>\n",
       "      <td>71.5</td>\n",
       "    </tr>\n",
       "    <tr>\n",
       "      <th>1982-02-09</th>\n",
       "      <td>71.5</td>\n",
       "    </tr>\n",
       "  </tbody>\n",
       "</table>\n",
       "</div>"
      ],
      "text/plain": [
       "            Daily Rainfall Total (mm)\n",
       "Date                                 \n",
       "1981-12-31                       71.5\n",
       "1982-01-10                       71.5\n",
       "1982-01-20                       71.5\n",
       "1982-01-30                       71.5\n",
       "1982-02-09                       71.5"
      ]
     },
     "execution_count": 76,
     "metadata": {},
     "output_type": "execute_result"
    }
   ],
   "source": [
    "dfmax.resample('10D').pad()[0:5]"
   ]
  },
  {
   "cell_type": "code",
   "execution_count": 77,
   "metadata": {
    "colab": {
     "base_uri": "https://localhost:8080/",
     "height": 238
    },
    "id": "rBZMSwS9RJSx",
    "outputId": "33f7a093-4f5c-474d-9c7b-2e866b60b133"
   },
   "outputs": [
    {
     "data": {
      "text/html": [
       "<div>\n",
       "<style scoped>\n",
       "    .dataframe tbody tr th:only-of-type {\n",
       "        vertical-align: middle;\n",
       "    }\n",
       "\n",
       "    .dataframe tbody tr th {\n",
       "        vertical-align: top;\n",
       "    }\n",
       "\n",
       "    .dataframe thead th {\n",
       "        text-align: right;\n",
       "    }\n",
       "</style>\n",
       "<table border=\"1\" class=\"dataframe\">\n",
       "  <thead>\n",
       "    <tr style=\"text-align: right;\">\n",
       "      <th></th>\n",
       "      <th>Daily Rainfall Total (mm)</th>\n",
       "    </tr>\n",
       "    <tr>\n",
       "      <th>Date</th>\n",
       "      <th></th>\n",
       "    </tr>\n",
       "  </thead>\n",
       "  <tbody>\n",
       "    <tr>\n",
       "      <th>1981-12-31</th>\n",
       "      <td>71.5</td>\n",
       "    </tr>\n",
       "    <tr>\n",
       "      <th>1982-01-01</th>\n",
       "      <td>71.5</td>\n",
       "    </tr>\n",
       "    <tr>\n",
       "      <th>1982-01-02</th>\n",
       "      <td>71.5</td>\n",
       "    </tr>\n",
       "    <tr>\n",
       "      <th>1982-01-03</th>\n",
       "      <td>NaN</td>\n",
       "    </tr>\n",
       "    <tr>\n",
       "      <th>1982-01-04</th>\n",
       "      <td>NaN</td>\n",
       "    </tr>\n",
       "  </tbody>\n",
       "</table>\n",
       "</div>"
      ],
      "text/plain": [
       "            Daily Rainfall Total (mm)\n",
       "Date                                 \n",
       "1981-12-31                       71.5\n",
       "1982-01-01                       71.5\n",
       "1982-01-02                       71.5\n",
       "1982-01-03                        NaN\n",
       "1982-01-04                        NaN"
      ]
     },
     "execution_count": 77,
     "metadata": {},
     "output_type": "execute_result"
    }
   ],
   "source": [
    "dfmax.resample('D').ffill(limit=2)[0:5]"
   ]
  },
  {
   "cell_type": "code",
   "execution_count": null,
   "metadata": {},
   "outputs": [],
   "source": []
  }
 ],
 "metadata": {
  "colab": {
   "collapsed_sections": [],
   "name": "Pandas 40 mins tutorial for climate change.ipynb",
   "provenance": []
  },
  "kernelspec": {
   "display_name": "Python 3",
   "language": "python",
   "name": "python3"
  },
  "language_info": {
   "codemirror_mode": {
    "name": "ipython",
    "version": 3
   },
   "file_extension": ".py",
   "mimetype": "text/x-python",
   "name": "python",
   "nbconvert_exporter": "python",
   "pygments_lexer": "ipython3",
   "version": "3.8.8"
  },
  "toc": {
   "base_numbering": 1,
   "nav_menu": {},
   "number_sections": true,
   "sideBar": true,
   "skip_h1_title": false,
   "title_cell": "Table of Contents",
   "title_sidebar": "Contents",
   "toc_cell": false,
   "toc_position": {
    "height": "calc(100% - 180px)",
    "left": "10px",
    "top": "150px",
    "width": "426.667px"
   },
   "toc_section_display": true,
   "toc_window_display": true
  }
 },
 "nbformat": 4,
 "nbformat_minor": 1
}
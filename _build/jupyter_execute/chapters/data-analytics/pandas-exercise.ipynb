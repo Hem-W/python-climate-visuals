{
 "cells": [
  {
   "cell_type": "markdown",
   "id": "5202ee2c",
   "metadata": {},
   "source": [
    "# Pandas Exercise"
   ]
  },
  {
   "cell_type": "markdown",
   "id": "4cf0b058",
   "metadata": {},
   "source": [
    "Create a DataFrame by reading file *../../assets/data/Changi_daily_rainfall.csv*. Perform the following two tasks with this DataFrame:"
   ]
  },
  {
   "cell_type": "markdown",
   "id": "fe90719f",
   "metadata": {},
   "source": [
    "## Task 1\n",
    "1. Determine whether the dataframe contains `NaN` values, and if so, populates the `NaN` values with 0.\n",
    "2. View the first 2 rows and the tail 2 rows, and check total length of data.\n",
    "3. Display a summary of the characteristics of the dataframe\n",
    "4. Calculate the number of days with daily rainfall exceeding 50mm.\n",
    "\n",
    "Hint: If you complete this task in your local computer (not recommend), please modify the file path accordingly."
   ]
  },
  {
   "cell_type": "code",
   "execution_count": 1,
   "id": "3ae47cdd",
   "metadata": {},
   "outputs": [],
   "source": [
    "# Your solutions go here. Create a separate code chunk for each question\n",
    "# using the + icon to add a cell in the toolbar."
   ]
  },
  {
   "cell_type": "markdown",
   "id": "69ba12e4",
   "metadata": {},
   "source": [
    "## Task 2\n",
    "1. Upsample the DataFrame into 1-year bins and sum the values of the timestamps falling into a bin.\n",
    "2. Calculate the average value of yearly rainfall in 1981-2000 and 2001-2020 and compare them.\n",
    "3. Calculate the year with the largest annual rainfall and corresponding value, and the year with the smallest annual rainfall and corresponding value.\n",
    "4. Make a line plot of data generated in step 1 (Optional)"
   ]
  },
  {
   "cell_type": "code",
   "execution_count": 2,
   "id": "2b40dc9f",
   "metadata": {},
   "outputs": [],
   "source": [
    "# Your solutions go here. Create a separate code chunk for each question\n",
    "# using the + icon to add a cell in the toolbar."
   ]
  }
 ],
 "metadata": {
  "kernelspec": {
   "display_name": "Python 3",
   "language": "python",
   "name": "python3"
  },
  "language_info": {
   "codemirror_mode": {
    "name": "ipython",
    "version": 3
   },
   "file_extension": ".py",
   "mimetype": "text/x-python",
   "name": "python",
   "nbconvert_exporter": "python",
   "pygments_lexer": "ipython3",
   "version": "3.8.8"
  }
 },
 "nbformat": 4,
 "nbformat_minor": 5
}
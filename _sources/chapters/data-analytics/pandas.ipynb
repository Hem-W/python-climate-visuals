{
 "cells": [
  {
   "cell_type": "markdown",
   "metadata": {
    "id": "uNmG54oocFhS"
   },
   "source": [
    "# Pandas (basic)"
   ]
  },
  {
   "cell_type": "markdown",
   "metadata": {
    "id": "KXAzLH_7okam"
   },
   "source": [
    "`Pandas` is a fast, powerful, flexible, and easy-to-use open-source data analysis and manipulation tool, built on top of the Python programming language, used for data preparation and data analysis."
   ]
  },
  {
   "cell_type": "markdown",
   "metadata": {
    "id": "wshi88UGqj6W"
   },
   "source": [
    "## Install Pandas\n",
    "If you run code on your own computer, you need to install pandas. Open the console and enter ```pip install pandas```"
   ]
  },
  {
   "cell_type": "code",
   "execution_count": 1,
   "metadata": {
    "colab": {
     "base_uri": "https://localhost:8080/"
    },
    "id": "sYywLgQ1ogA_",
    "outputId": "1a4ec892-b96e-4d18-928a-6e0585f39462"
   },
   "outputs": [
    {
     "name": "stdout",
     "output_type": "stream",
     "text": [
      "1.1.5\n"
     ]
    }
   ],
   "source": [
    "# Import panas and view pandas version. The 'as' keyword is to replace pandas with an abbreviation 'pd'.\n",
    "import pandas as pd\n",
    "print(pd.__version__)"
   ]
  },
  {
   "cell_type": "markdown",
   "metadata": {
    "id": "4fUlUgkJxCN0"
   },
   "source": [
    "## Introduction to pandas Data Structures\n",
    "The two primary data structures of pandas is\n",
    "+ Series\n",
    "+ DataFrame\n",
    "\n",
    "The `series` is designed to accommodate a sequence of one-dimensional data, and the `dataframe` is designed to contain cases with several dimensions."
   ]
  },
  {
   "cell_type": "markdown",
   "metadata": {
    "id": "IztXhA2_y06M"
   },
   "source": [
    "## Series\n",
    "As shown below, the internal structure of the series object is simple, which is composed of two arrays associated with each other. The main array holds the data (data of any `NumPy` type) to which each element is associated\n",
    "with a label, contained within the other array, called the ```index```.\n",
    "\n",
    "|index|Value|\n",
    "|:---|--:|\n",
    "|0|-1|\n",
    "|1|3|\n",
    "|2|8|"
   ]
  },
  {
   "cell_type": "markdown",
   "metadata": {
    "id": "Dla_aCCz0jGL"
   },
   "source": [
    "### Defining a Series"
   ]
  },
  {
   "cell_type": "markdown",
   "metadata": {
    "id": "58z42k2p0pob"
   },
   "source": [
    "To create the series specified in above, you simply call the `Series()` function and pass as an argument an array containing the values to be included in it."
   ]
  },
  {
   "cell_type": "code",
   "execution_count": 2,
   "metadata": {
    "colab": {
     "base_uri": "https://localhost:8080/"
    },
    "id": "HgmJsMOkxEwz",
    "outputId": "85f15617-533a-4b6c-ad5f-21a1a515ca36"
   },
   "outputs": [
    {
     "name": "stdout",
     "output_type": "stream",
     "text": [
      "0   -1\n",
      "1    3\n",
      "2    8\n",
      "dtype: int64\n",
      "0    100\n",
      "1     20\n",
      "2     -3\n",
      "dtype: int32\n",
      "a   -1\n",
      "b    3\n",
      "c    8\n",
      "dtype: int64\n",
      "x   -1\n",
      "y    3\n",
      "z    8\n",
      "dtype: int64\n"
     ]
    }
   ],
   "source": [
    "s = pd.Series([-1,3,8]) # list\n",
    "print(s)\n",
    "import numpy as np\n",
    "arr = np.array([100,20,-3]) # from NumPy Arrays\n",
    "s1 = pd.Series(arr)\n",
    "print(s1)\n",
    "s2 = pd.Series(s) # from Other Series\n",
    "s2\n",
    "\n",
    "# when declaring a Series, you can specify the index\n",
    "s2 = pd.Series({\"a\":-1,\"b\":3,\"c\":8}) # dictionary\n",
    "print(s2)\n",
    "s3 = pd.Series([-1,3,8], index=['x','y','z']) # specify the index by 'index' option\n",
    "print(s3)"
   ]
  },
  {
   "cell_type": "markdown",
   "metadata": {
    "id": "hd8f3fye1U-0"
   },
   "source": [
    "As you can see from the output of the series, on the left there are the values in the index, which is a series of labels, and on the right are the corresponding values.\n",
    "\n",
    "If you do not specify any index during the definition of the series, by default,\n",
    "pandas will assign numerical values increasing from 0 as labels. In this case, the labels correspond to the indexes (position in the array) of the elements in the series object.\n",
    "\n",
    "Often, however, it is preferable to create a series using meaningful labels in order to distinguish and identify each item regardless of the order in which they were inserted into the series.\n",
    "\n",
    "In this case it will be necessary, during the constructor call, to include the `index` option and assign an array of strings containing the labels."
   ]
  },
  {
   "cell_type": "markdown",
   "metadata": {
    "id": "_4A5c1aw7-Kx"
   },
   "source": [
    "```{margin}\n",
    "Always keep in mind that the values contained in the NumPy array or in the\n",
    "original series are not copied, but are passed by reference. That is, the object is inserted\n",
    "dynamically within the new series object. If it changes, for example its internal element\n",
    "varies in value, then those changes will also be present in the new series object.\n",
    "```"
   ]
  },
  {
   "cell_type": "code",
   "execution_count": 3,
   "metadata": {
    "colab": {
     "base_uri": "https://localhost:8080/"
    },
    "id": "DUUwGwOQ8OMx",
    "outputId": "7cf443b6-c3ce-45b2-fec3-ce0d1dfa8312"
   },
   "outputs": [
    {
     "data": {
      "text/plain": [
       "0    100\n",
       "1     20\n",
       "2    -40\n",
       "dtype: int32"
      ]
     },
     "execution_count": 3,
     "metadata": {},
     "output_type": "execute_result"
    }
   ],
   "source": [
    "arr[2] = -40\n",
    "arr\n",
    "s1"
   ]
  },
  {
   "cell_type": "markdown",
   "metadata": {
    "id": "hzFwRGLy8SXw"
   },
   "source": [
    "As you can see in this example, by changing the third element of the `arr` array, we\n",
    "also modified the corresponding element in the `s1` series."
   ]
  },
  {
   "cell_type": "markdown",
   "metadata": {
    "id": "akKW9h6O3Mtc"
   },
   "source": [
    "If you want to individually see the two arrays that make up this data structure, you\n",
    "can call the two attributes of the series as follows: index and values."
   ]
  },
  {
   "cell_type": "code",
   "execution_count": 4,
   "metadata": {
    "colab": {
     "base_uri": "https://localhost:8080/"
    },
    "id": "5zYY93co3Gua",
    "outputId": "792ed80b-1ce1-4534-82ac-a0d46baaa681"
   },
   "outputs": [
    {
     "name": "stdout",
     "output_type": "stream",
     "text": [
      "[-1  3  8]\n",
      "RangeIndex(start=0, stop=3, step=1)\n"
     ]
    }
   ],
   "source": [
    "print(s.values)\n",
    "print(s.index)"
   ]
  },
  {
   "cell_type": "markdown",
   "metadata": {
    "id": "p4yvywK73WSL"
   },
   "source": [
    "### Selecting the Internal Elements"
   ]
  },
  {
   "cell_type": "markdown",
   "metadata": {
    "id": "YueWcI9s4S4E"
   },
   "source": [
    "You can select individual elements as ordinary numpy arrays, specifying the key."
   ]
  },
  {
   "cell_type": "code",
   "execution_count": 5,
   "metadata": {
    "colab": {
     "base_uri": "https://localhost:8080/"
    },
    "id": "63mQ7uKB3RcV",
    "outputId": "d8aaa802-7097-4421-9517-ad3ec31ee2f6"
   },
   "outputs": [
    {
     "data": {
      "text/plain": [
       "3"
      ]
     },
     "execution_count": 5,
     "metadata": {},
     "output_type": "execute_result"
    }
   ],
   "source": [
    "s2 = pd.Series({\"a\":-1,\"b\":3,\"c\":8})\n",
    "s2[1]"
   ]
  },
  {
   "cell_type": "markdown",
   "metadata": {
    "id": "308B4HGj4YTk"
   },
   "source": [
    "Or you can specify the label corresponding to the position of the index."
   ]
  },
  {
   "cell_type": "code",
   "execution_count": 6,
   "metadata": {
    "colab": {
     "base_uri": "https://localhost:8080/"
    },
    "id": "HLsUPY_03VXE",
    "outputId": "2571bbec-f7c4-43c8-c3cc-61262c8ef9b6"
   },
   "outputs": [
    {
     "data": {
      "text/plain": [
       "-1"
      ]
     },
     "execution_count": 6,
     "metadata": {},
     "output_type": "execute_result"
    }
   ],
   "source": [
    "s2['a']"
   ]
  },
  {
   "cell_type": "markdown",
   "metadata": {
    "id": "UqTPQls946Jk"
   },
   "source": [
    "In the same way you select multiple items in a numpy array, you can specify the\n",
    "following:"
   ]
  },
  {
   "cell_type": "code",
   "execution_count": 7,
   "metadata": {
    "colab": {
     "base_uri": "https://localhost:8080/"
    },
    "id": "hkB3ynGP444G",
    "outputId": "bf8467ce-049a-4eca-8f35-d51f01d3f4ce"
   },
   "outputs": [
    {
     "data": {
      "text/plain": [
       "a   -1\n",
       "b    3\n",
       "dtype: int64"
      ]
     },
     "execution_count": 7,
     "metadata": {},
     "output_type": "execute_result"
    }
   ],
   "source": [
    "s2[0:2]"
   ]
  },
  {
   "cell_type": "code",
   "execution_count": 8,
   "metadata": {
    "colab": {
     "base_uri": "https://localhost:8080/"
    },
    "id": "RSPogBVY5F7U",
    "outputId": "d7819983-9bf9-4737-80be-0caebddebe74"
   },
   "outputs": [
    {
     "data": {
      "text/plain": [
       "a   -1\n",
       "b    3\n",
       "c    8\n",
       "dtype: int64"
      ]
     },
     "execution_count": 8,
     "metadata": {},
     "output_type": "execute_result"
    }
   ],
   "source": [
    "s2['a':'c']"
   ]
  },
  {
   "cell_type": "code",
   "execution_count": 9,
   "metadata": {
    "colab": {
     "base_uri": "https://localhost:8080/"
    },
    "id": "sWKjZuoF5ILH",
    "outputId": "7ed2782e-1ba3-418a-d826-148ea645d31c"
   },
   "outputs": [
    {
     "data": {
      "text/plain": [
       "a   -1\n",
       "c    8\n",
       "dtype: int64"
      ]
     },
     "execution_count": 9,
     "metadata": {},
     "output_type": "execute_result"
    }
   ],
   "source": [
    "s2[['a','c']]"
   ]
  },
  {
   "cell_type": "markdown",
   "metadata": {
    "id": "cS6hju4m5Wkl"
   },
   "source": [
    "### Assigning Values to the Elements"
   ]
  },
  {
   "cell_type": "code",
   "execution_count": 10,
   "metadata": {
    "colab": {
     "base_uri": "https://localhost:8080/"
    },
    "id": "nHa2pfm45MAV",
    "outputId": "4befbb4b-52bb-4f53-d44f-90a72c6ddff0"
   },
   "outputs": [
    {
     "data": {
      "text/plain": [
       "0    100\n",
       "1     20\n",
       "2    -40\n",
       "a    100\n",
       "dtype: int64"
      ]
     },
     "execution_count": 10,
     "metadata": {},
     "output_type": "execute_result"
    }
   ],
   "source": [
    "s1['a'] = 100\n",
    "s1"
   ]
  },
  {
   "cell_type": "markdown",
   "metadata": {
    "id": "DC_s-t5j9NKd"
   },
   "source": [
    "### Filtering Values"
   ]
  },
  {
   "cell_type": "markdown",
   "metadata": {
    "id": "g0iCpNVk9UG1"
   },
   "source": [
    "If you need to know which elements in the series are greater than 4, you\n",
    "write the following"
   ]
  },
  {
   "cell_type": "code",
   "execution_count": 11,
   "metadata": {
    "colab": {
     "base_uri": "https://localhost:8080/"
    },
    "id": "7qSr-ZCY8-R1",
    "outputId": "4b736d7e-047d-4b47-bf00-b46241408cc3"
   },
   "outputs": [
    {
     "data": {
      "text/plain": [
       "2     5\n",
       "4    10\n",
       "dtype: int64"
      ]
     },
     "execution_count": 11,
     "metadata": {},
     "output_type": "execute_result"
    }
   ],
   "source": [
    "s = pd.Series([1,3,5,2,10])\n",
    "s[s>4] # greater than 4"
   ]
  },
  {
   "cell_type": "code",
   "execution_count": 12,
   "metadata": {
    "colab": {
     "base_uri": "https://localhost:8080/"
    },
    "id": "k216zsdJ94FF",
    "outputId": "55e622bf-aacc-439b-f40b-7f2e99d84f67"
   },
   "outputs": [
    {
     "name": "stdout",
     "output_type": "stream",
     "text": [
      "0    False\n",
      "1    False\n",
      "2     True\n",
      "3     True\n",
      "4    False\n",
      "dtype: bool\n",
      "2    5\n",
      "3    2\n",
      "dtype: int64\n"
     ]
    }
   ],
   "source": [
    "# According to Boolean value to filter\n",
    "s = pd.Series([1,3,5,2,10])\n",
    "print(s.isin([2,5]))\n",
    "print(s[s.isin([2,5])])"
   ]
  },
  {
   "cell_type": "markdown",
   "metadata": {
    "id": "-h9y1Hfp9pKd"
   },
   "source": [
    "### Operations and Mathematical Functions"
   ]
  },
  {
   "cell_type": "code",
   "execution_count": 13,
   "metadata": {
    "colab": {
     "base_uri": "https://localhost:8080/"
    },
    "id": "U73emWqv9oc9",
    "outputId": "aca90cb4-b058-45f8-f27e-56cefa544a0c"
   },
   "outputs": [
    {
     "data": {
      "text/plain": [
       "0     2.5\n",
       "1     7.5\n",
       "2    12.5\n",
       "3     5.0\n",
       "4    25.0\n",
       "dtype: float64"
      ]
     },
     "execution_count": 13,
     "metadata": {},
     "output_type": "execute_result"
    }
   ],
   "source": [
    "s*2.5"
   ]
  },
  {
   "cell_type": "code",
   "execution_count": 14,
   "metadata": {
    "colab": {
     "base_uri": "https://localhost:8080/"
    },
    "id": "QRJMt6q89fGG",
    "outputId": "caff13ea-323c-4000-f551-2e8cc9668871"
   },
   "outputs": [
    {
     "data": {
      "text/plain": [
       "0        2.718282\n",
       "1       20.085537\n",
       "2      148.413159\n",
       "3        7.389056\n",
       "4    22026.465795\n",
       "dtype: float64"
      ]
     },
     "execution_count": 14,
     "metadata": {},
     "output_type": "execute_result"
    }
   ],
   "source": [
    "np.exp(s)"
   ]
  },
  {
   "cell_type": "markdown",
   "metadata": {
    "id": "fIqEP4l79xYd"
   },
   "source": [
    "### Nan Value"
   ]
  },
  {
   "cell_type": "markdown",
   "metadata": {
    "id": "Bop2SUHNo4Zi"
   },
   "source": [
    "The `NaN` refers to `Not a Number`, which generally is caused by the missing value. Before data analysis, the `NaN` value need to be adressed."
   ]
  },
  {
   "cell_type": "code",
   "execution_count": 15,
   "metadata": {
    "colab": {
     "base_uri": "https://localhost:8080/"
    },
    "id": "2BGPk6eH-ZkH",
    "outputId": "50a9f511-f8b0-497a-a353-ffc296cd897d"
   },
   "outputs": [
    {
     "data": {
      "text/plain": [
       "0     1.0\n",
       "1     NaN\n",
       "2    10.0\n",
       "3     9.0\n",
       "4    -2.0\n",
       "5     NaN\n",
       "dtype: float64"
      ]
     },
     "execution_count": 15,
     "metadata": {},
     "output_type": "execute_result"
    }
   ],
   "source": [
    "import numpy as np \n",
    "# Declaring a Series with NaN value\n",
    "s = pd.Series([1,np.NaN,10,9,-2,np.NaN])\n",
    "s"
   ]
  },
  {
   "cell_type": "markdown",
   "metadata": {
    "id": "MndqwY5a_xZR"
   },
   "source": [
    "Call `isnull()` or `notnull()` functions to generate boolean value and further identify the indexes with NaN value. "
   ]
  },
  {
   "cell_type": "code",
   "execution_count": 16,
   "metadata": {
    "colab": {
     "base_uri": "https://localhost:8080/"
    },
    "id": "NV3Vhg_E_OfT",
    "outputId": "cdd1e5b5-c35c-4d2b-b1b2-2cf1d0e1dab5"
   },
   "outputs": [
    {
     "name": "stdout",
     "output_type": "stream",
     "text": [
      "0    False\n",
      "1     True\n",
      "2    False\n",
      "3    False\n",
      "4    False\n",
      "5     True\n",
      "dtype: bool\n",
      "0     True\n",
      "1    False\n",
      "2     True\n",
      "3     True\n",
      "4     True\n",
      "5    False\n",
      "dtype: bool\n"
     ]
    }
   ],
   "source": [
    "print(s.isnull())\n",
    "print(s.notnull())"
   ]
  },
  {
   "cell_type": "markdown",
   "metadata": {
    "id": "2tzvyVkhAhir"
   },
   "source": [
    "Based on the generated boolean value, the series with full NaN value and without NaN can be generated."
   ]
  },
  {
   "cell_type": "code",
   "execution_count": 17,
   "metadata": {
    "colab": {
     "base_uri": "https://localhost:8080/"
    },
    "id": "SHPJuEDK_-fU",
    "outputId": "3dde60ba-96f7-4da9-da3b-4afab1e2b6de"
   },
   "outputs": [
    {
     "name": "stdout",
     "output_type": "stream",
     "text": [
      "1   NaN\n",
      "5   NaN\n",
      "dtype: float64\n",
      "0     1.0\n",
      "2    10.0\n",
      "3     9.0\n",
      "4    -2.0\n",
      "dtype: float64\n"
     ]
    }
   ],
   "source": [
    "print(s[s.isnull()])\n",
    "print(s[s.notnull()])"
   ]
  },
  {
   "cell_type": "markdown",
   "metadata": {
    "id": "XwOCF7a5Ax8Z"
   },
   "source": [
    "### Operation of multiple Series"
   ]
  },
  {
   "cell_type": "code",
   "execution_count": 18,
   "metadata": {
    "colab": {
     "base_uri": "https://localhost:8080/"
    },
    "id": "Hfg5GPL1AxSk",
    "outputId": "c4fe3267-821f-4cc9-dcb0-91003fc06221"
   },
   "outputs": [
    {
     "data": {
      "text/plain": [
       "Cambodia        NaN\n",
       "China           NaN\n",
       "Japan           NaN\n",
       "Laos            NaN\n",
       "Malaysia        NaN\n",
       "Singapore       NaN\n",
       "Vietnam      1296.0\n",
       "dtype: float64"
      ]
     },
     "execution_count": 18,
     "metadata": {},
     "output_type": "execute_result"
    }
   ],
   "source": [
    "s = pd.Series({\"Singapore\":30,\"Malaysia\":23,\"Vietnam\":36,\"Cambodia\":41})\n",
    "s1 = pd.Series({\"China\":51,\"Japan\":73,\"Vietnam\":36,\"Laos\":31})\n",
    "s*s1"
   ]
  },
  {
   "cell_type": "markdown",
   "metadata": {
    "id": "LljTzdmeCkwf"
   },
   "source": [
    "As you can see, only indexes which all series have can opearte. "
   ]
  },
  {
   "cell_type": "markdown",
   "metadata": {
    "id": "TMq2u_KmDK2F"
   },
   "source": [
    "## DataFrame"
   ]
  },
  {
   "cell_type": "markdown",
   "metadata": {
    "id": "qavPZWnvDV6A"
   },
   "source": [
    "Compared with the `Series`, the `DataFrame` can contain multiple dimentional data. Its fist column and first row are `index` and `columns`, respectively. (Only for DataFrame without multiple index, `DataFrame` with multiple indexes which will be introduced later). Each column must be same data type (numeric, string, boolean et al.) but different columns can have different data types. \n",
    "\n",
    "|index|numeric|string|boolean|\n",
    "|:--|:--:|:--:|--:|\n",
    "|0|-1|Singapore|True|\n",
    "|1|3|China|True|\n",
    "|2|8|Japan|False|\n"
   ]
  },
  {
   "cell_type": "markdown",
   "metadata": {
    "id": "9ZR2HB_wGhlu"
   },
   "source": [
    "### Defining a DataFrame"
   ]
  },
  {
   "cell_type": "markdown",
   "metadata": {
    "id": "p9tgtpz4GmyM"
   },
   "source": [
    "Call `DataFrame()` function to create a `DataFrame`. The `Array`, `List`, `dict` all can taken as the input of `DataFrame()` function."
   ]
  },
  {
   "cell_type": "code",
   "execution_count": 19,
   "metadata": {
    "colab": {
     "base_uri": "https://localhost:8080/",
     "height": 282
    },
    "id": "Z_SLS6RdDJCu",
    "outputId": "bdaa93e5-e203-4794-8013-2a583218c907"
   },
   "outputs": [
    {
     "name": "stdout",
     "output_type": "stream",
     "text": [
      "    0   1   2   3\n",
      "0  14  35  35  35\n",
      "1  19  34  57  34\n",
      "2  42  74  49  59\n",
      "     Country       Capital  Population  Isdeveloped\n",
      "a   Malaysia  Kuala Lumpur    32365999        False\n",
      "b  Singapore     Singapore     5850342         True\n",
      "c    Vietnam         Hanoi    97338579         True\n"
     ]
    },
    {
     "data": {
      "text/html": [
       "<div>\n",
       "<style scoped>\n",
       "    .dataframe tbody tr th:only-of-type {\n",
       "        vertical-align: middle;\n",
       "    }\n",
       "\n",
       "    .dataframe tbody tr th {\n",
       "        vertical-align: top;\n",
       "    }\n",
       "\n",
       "    .dataframe thead th {\n",
       "        text-align: right;\n",
       "    }\n",
       "</style>\n",
       "<table border=\"1\" class=\"dataframe\">\n",
       "  <thead>\n",
       "    <tr style=\"text-align: right;\">\n",
       "      <th></th>\n",
       "      <th>Country</th>\n",
       "      <th>Capital</th>\n",
       "      <th>Population</th>\n",
       "      <th>Isdeveloped</th>\n",
       "    </tr>\n",
       "  </thead>\n",
       "  <tbody>\n",
       "    <tr>\n",
       "      <th>0</th>\n",
       "      <td>Malaysia</td>\n",
       "      <td>Kuala Lumpur</td>\n",
       "      <td>32365999</td>\n",
       "      <td>False</td>\n",
       "    </tr>\n",
       "    <tr>\n",
       "      <th>1</th>\n",
       "      <td>Singapore</td>\n",
       "      <td>Singapore</td>\n",
       "      <td>5850342</td>\n",
       "      <td>True</td>\n",
       "    </tr>\n",
       "    <tr>\n",
       "      <th>2</th>\n",
       "      <td>Vietnam</td>\n",
       "      <td>Hanoi</td>\n",
       "      <td>97338579</td>\n",
       "      <td>True</td>\n",
       "    </tr>\n",
       "  </tbody>\n",
       "</table>\n",
       "</div>"
      ],
      "text/plain": [
       "     Country       Capital  Population  Isdeveloped\n",
       "0   Malaysia  Kuala Lumpur    32365999        False\n",
       "1  Singapore     Singapore     5850342         True\n",
       "2    Vietnam         Hanoi    97338579         True"
      ]
     },
     "execution_count": 19,
     "metadata": {},
     "output_type": "execute_result"
    }
   ],
   "source": [
    "# array\n",
    "df = pd.DataFrame(np.array([[14, 35, 35, 35],\n",
    "                            [19, 34, 57, 34],\n",
    "                            [42, 74, 49, 59]]))\n",
    "print(df)\n",
    "# list,  use 'columns' and 'index' parameters to specify the column and index of generated dataframe.\n",
    "df = pd.DataFrame([[\"Malaysia\",\"Kuala Lumpur\",32365999,False],\n",
    "              [\"Singapore\",\"Singapore\",5850342,True],\n",
    "              [\"Vietnam\",\"Hanoi\",97338579,True]],\n",
    "              columns = [\"Country\", \"Capital\", \"Population\", \"Isdeveloped\"],\n",
    "              index=[\"a\",\"b\",\"c\"])\n",
    "print(df)\n",
    "# dict\n",
    "df = pd.DataFrame({\"Country\":[\"Malaysia\",\"Singapore\",\"Vietnam\"],\n",
    "                   \"Capital\":[\"Kuala Lumpur\",\"Singapore\",\"Hanoi\"],\n",
    "              \"Population\":[32365999,5850342,97338579],\n",
    "              \"Isdeveloped\":[False,True,True]})\n",
    "df"
   ]
  },
  {
   "cell_type": "markdown",
   "metadata": {
    "id": "X4dipR-iOs_S"
   },
   "source": [
    "### Selecting the Internal Elements"
   ]
  },
  {
   "cell_type": "markdown",
   "metadata": {
    "id": "T88sE7BSP4N4"
   },
   "source": [
    "Similar with `Series`, two ways can be used to select the elements from `DataFrame`. Call `iloc[]` and `loc[]` to select the elements by position and label, respectively ."
   ]
  },
  {
   "cell_type": "code",
   "execution_count": 20,
   "metadata": {
    "colab": {
     "base_uri": "https://localhost:8080/",
     "height": 143
    },
    "id": "HktzDCigOrJR",
    "outputId": "2a5e55d9-aab7-4eef-88a0-d47ce4cf0d6e"
   },
   "outputs": [
    {
     "data": {
      "text/html": [
       "<div>\n",
       "<style scoped>\n",
       "    .dataframe tbody tr th:only-of-type {\n",
       "        vertical-align: middle;\n",
       "    }\n",
       "\n",
       "    .dataframe tbody tr th {\n",
       "        vertical-align: top;\n",
       "    }\n",
       "\n",
       "    .dataframe thead th {\n",
       "        text-align: right;\n",
       "    }\n",
       "</style>\n",
       "<table border=\"1\" class=\"dataframe\">\n",
       "  <thead>\n",
       "    <tr style=\"text-align: right;\">\n",
       "      <th></th>\n",
       "      <th>Country</th>\n",
       "      <th>Capital</th>\n",
       "      <th>Population</th>\n",
       "      <th>Isdeveloped</th>\n",
       "    </tr>\n",
       "  </thead>\n",
       "  <tbody>\n",
       "    <tr>\n",
       "      <th>a</th>\n",
       "      <td>Malaysia</td>\n",
       "      <td>Kuala Lumpur</td>\n",
       "      <td>32365999</td>\n",
       "      <td>False</td>\n",
       "    </tr>\n",
       "    <tr>\n",
       "      <th>b</th>\n",
       "      <td>Singapore</td>\n",
       "      <td>Singapore</td>\n",
       "      <td>5850342</td>\n",
       "      <td>True</td>\n",
       "    </tr>\n",
       "    <tr>\n",
       "      <th>c</th>\n",
       "      <td>Vietnam</td>\n",
       "      <td>Hanoi</td>\n",
       "      <td>97338579</td>\n",
       "      <td>True</td>\n",
       "    </tr>\n",
       "  </tbody>\n",
       "</table>\n",
       "</div>"
      ],
      "text/plain": [
       "     Country       Capital  Population  Isdeveloped\n",
       "a   Malaysia  Kuala Lumpur    32365999        False\n",
       "b  Singapore     Singapore     5850342         True\n",
       "c    Vietnam         Hanoi    97338579         True"
      ]
     },
     "execution_count": 20,
     "metadata": {},
     "output_type": "execute_result"
    }
   ],
   "source": [
    "df = pd.DataFrame([[\"Malaysia\",\"Kuala Lumpur\",32365999,False],\n",
    "              [\"Singapore\",\"Singapore\",5850342,True],\n",
    "              [\"Vietnam\",\"Hanoi\",97338579,True]],\n",
    "              columns = [\"Country\", \"Capital\", \"Population\", \"Isdeveloped\"],\n",
    "              index=[\"a\",\"b\",\"c\"])\n",
    "df"
   ]
  },
  {
   "cell_type": "code",
   "execution_count": 21,
   "metadata": {
    "colab": {
     "base_uri": "https://localhost:8080/",
     "height": 143
    },
    "id": "1WAeH1hBQ1vk",
    "outputId": "db4dc506-805c-4b54-c33a-8a239e8bb785"
   },
   "outputs": [
    {
     "data": {
      "text/html": [
       "<div>\n",
       "<style scoped>\n",
       "    .dataframe tbody tr th:only-of-type {\n",
       "        vertical-align: middle;\n",
       "    }\n",
       "\n",
       "    .dataframe tbody tr th {\n",
       "        vertical-align: top;\n",
       "    }\n",
       "\n",
       "    .dataframe thead th {\n",
       "        text-align: right;\n",
       "    }\n",
       "</style>\n",
       "<table border=\"1\" class=\"dataframe\">\n",
       "  <thead>\n",
       "    <tr style=\"text-align: right;\">\n",
       "      <th></th>\n",
       "      <th>Country</th>\n",
       "      <th>Capital</th>\n",
       "    </tr>\n",
       "  </thead>\n",
       "  <tbody>\n",
       "    <tr>\n",
       "      <th>a</th>\n",
       "      <td>Malaysia</td>\n",
       "      <td>Kuala Lumpur</td>\n",
       "    </tr>\n",
       "    <tr>\n",
       "      <th>b</th>\n",
       "      <td>Singapore</td>\n",
       "      <td>Singapore</td>\n",
       "    </tr>\n",
       "    <tr>\n",
       "      <th>c</th>\n",
       "      <td>Vietnam</td>\n",
       "      <td>Hanoi</td>\n",
       "    </tr>\n",
       "  </tbody>\n",
       "</table>\n",
       "</div>"
      ],
      "text/plain": [
       "     Country       Capital\n",
       "a   Malaysia  Kuala Lumpur\n",
       "b  Singapore     Singapore\n",
       "c    Vietnam         Hanoi"
      ]
     },
     "execution_count": 21,
     "metadata": {},
     "output_type": "execute_result"
    }
   ],
   "source": [
    "# use ':' to represent select all\n",
    "df.iloc[:,0:2]"
   ]
  },
  {
   "cell_type": "code",
   "execution_count": 22,
   "metadata": {
    "colab": {
     "base_uri": "https://localhost:8080/",
     "height": 143
    },
    "id": "ap9wwoOIRHw6",
    "outputId": "fecd4833-926b-45d4-ac57-e95b795b2e32"
   },
   "outputs": [
    {
     "data": {
      "text/html": [
       "<div>\n",
       "<style scoped>\n",
       "    .dataframe tbody tr th:only-of-type {\n",
       "        vertical-align: middle;\n",
       "    }\n",
       "\n",
       "    .dataframe tbody tr th {\n",
       "        vertical-align: top;\n",
       "    }\n",
       "\n",
       "    .dataframe thead th {\n",
       "        text-align: right;\n",
       "    }\n",
       "</style>\n",
       "<table border=\"1\" class=\"dataframe\">\n",
       "  <thead>\n",
       "    <tr style=\"text-align: right;\">\n",
       "      <th></th>\n",
       "      <th>Country</th>\n",
       "      <th>Capital</th>\n",
       "      <th>Population</th>\n",
       "    </tr>\n",
       "  </thead>\n",
       "  <tbody>\n",
       "    <tr>\n",
       "      <th>a</th>\n",
       "      <td>Malaysia</td>\n",
       "      <td>Kuala Lumpur</td>\n",
       "      <td>32365999</td>\n",
       "    </tr>\n",
       "    <tr>\n",
       "      <th>b</th>\n",
       "      <td>Singapore</td>\n",
       "      <td>Singapore</td>\n",
       "      <td>5850342</td>\n",
       "    </tr>\n",
       "    <tr>\n",
       "      <th>c</th>\n",
       "      <td>Vietnam</td>\n",
       "      <td>Hanoi</td>\n",
       "      <td>97338579</td>\n",
       "    </tr>\n",
       "  </tbody>\n",
       "</table>\n",
       "</div>"
      ],
      "text/plain": [
       "     Country       Capital  Population\n",
       "a   Malaysia  Kuala Lumpur    32365999\n",
       "b  Singapore     Singapore     5850342\n",
       "c    Vietnam         Hanoi    97338579"
      ]
     },
     "execution_count": 22,
     "metadata": {},
     "output_type": "execute_result"
    }
   ],
   "source": [
    "df.loc[:,\"Country\":\"Population\"]"
   ]
  },
  {
   "cell_type": "code",
   "execution_count": 23,
   "metadata": {
    "colab": {
     "base_uri": "https://localhost:8080/"
    },
    "id": "L9vDO0wORNOV",
    "outputId": "7abaf264-d6c9-4c2f-deb7-eb77e493cc7c"
   },
   "outputs": [
    {
     "data": {
      "text/plain": [
       "Country       Malaysia\n",
       "Population    32365999\n",
       "Name: a, dtype: object"
      ]
     },
     "execution_count": 23,
     "metadata": {},
     "output_type": "execute_result"
    }
   ],
   "source": [
    "df.loc[\"a\",[\"Country\",\"Population\"]]"
   ]
  },
  {
   "cell_type": "code",
   "execution_count": 24,
   "metadata": {
    "colab": {
     "base_uri": "https://localhost:8080/",
     "height": 112
    },
    "id": "kQIe2hvBUXhJ",
    "outputId": "d621f37b-595d-4455-fa10-22c4d1615a44"
   },
   "outputs": [
    {
     "data": {
      "text/html": [
       "<div>\n",
       "<style scoped>\n",
       "    .dataframe tbody tr th:only-of-type {\n",
       "        vertical-align: middle;\n",
       "    }\n",
       "\n",
       "    .dataframe tbody tr th {\n",
       "        vertical-align: top;\n",
       "    }\n",
       "\n",
       "    .dataframe thead th {\n",
       "        text-align: right;\n",
       "    }\n",
       "</style>\n",
       "<table border=\"1\" class=\"dataframe\">\n",
       "  <thead>\n",
       "    <tr style=\"text-align: right;\">\n",
       "      <th></th>\n",
       "      <th>Country</th>\n",
       "      <th>Capital</th>\n",
       "      <th>Population</th>\n",
       "      <th>Isdeveloped</th>\n",
       "    </tr>\n",
       "  </thead>\n",
       "  <tbody>\n",
       "    <tr>\n",
       "      <th>a</th>\n",
       "      <td>Malaysia</td>\n",
       "      <td>Kuala Lumpur</td>\n",
       "      <td>32365999</td>\n",
       "      <td>False</td>\n",
       "    </tr>\n",
       "    <tr>\n",
       "      <th>b</th>\n",
       "      <td>Singapore</td>\n",
       "      <td>Singapore</td>\n",
       "      <td>5850342</td>\n",
       "      <td>True</td>\n",
       "    </tr>\n",
       "  </tbody>\n",
       "</table>\n",
       "</div>"
      ],
      "text/plain": [
       "     Country       Capital  Population  Isdeveloped\n",
       "a   Malaysia  Kuala Lumpur    32365999        False\n",
       "b  Singapore     Singapore     5850342         True"
      ]
     },
     "execution_count": 24,
     "metadata": {},
     "output_type": "execute_result"
    }
   ],
   "source": [
    "df.iloc[[0,1]] # If you omit number of columns, all columns will be selected "
   ]
  },
  {
   "cell_type": "markdown",
   "metadata": {
    "id": "zsXddPr8Rb_L"
   },
   "source": [
    "Use ```columns```,```index``` and ```values``` atrributes to obtain corresponding object value."
   ]
  },
  {
   "cell_type": "code",
   "execution_count": 25,
   "metadata": {
    "colab": {
     "base_uri": "https://localhost:8080/"
    },
    "id": "orBdq5eXR7C8",
    "outputId": "3b58a3a3-5586-41c8-9f4c-85dd5c58502e"
   },
   "outputs": [
    {
     "data": {
      "text/plain": [
       "Index(['a', 'b', 'c'], dtype='object')"
      ]
     },
     "execution_count": 25,
     "metadata": {},
     "output_type": "execute_result"
    }
   ],
   "source": [
    "df.index"
   ]
  },
  {
   "cell_type": "code",
   "execution_count": 26,
   "metadata": {
    "colab": {
     "base_uri": "https://localhost:8080/"
    },
    "id": "-8OqpYNGR8-3",
    "outputId": "1bd3e3a9-f661-49fe-8f9d-7dbe57c8b8c0"
   },
   "outputs": [
    {
     "data": {
      "text/plain": [
       "Index(['Country', 'Capital', 'Population', 'Isdeveloped'], dtype='object')"
      ]
     },
     "execution_count": 26,
     "metadata": {},
     "output_type": "execute_result"
    }
   ],
   "source": [
    "df.columns"
   ]
  },
  {
   "cell_type": "code",
   "execution_count": 27,
   "metadata": {
    "colab": {
     "base_uri": "https://localhost:8080/"
    },
    "id": "jXwC1xlOR_dF",
    "outputId": "2a6ff76a-bc35-4625-fdb1-ad830c31d9f9"
   },
   "outputs": [
    {
     "data": {
      "text/plain": [
       "array([['Malaysia', 'Kuala Lumpur', 32365999, False],\n",
       "       ['Singapore', 'Singapore', 5850342, True],\n",
       "       ['Vietnam', 'Hanoi', 97338579, True]], dtype=object)"
      ]
     },
     "execution_count": 27,
     "metadata": {},
     "output_type": "execute_result"
    }
   ],
   "source": [
    "df.values"
   ]
  },
  {
   "cell_type": "markdown",
   "metadata": {
    "id": "YGEs4EpFRcMg"
   },
   "source": [
    "Select corresponding column according the label or number of columns."
   ]
  },
  {
   "cell_type": "code",
   "execution_count": 28,
   "metadata": {
    "colab": {
     "base_uri": "https://localhost:8080/"
    },
    "id": "CjH56421Sv-J",
    "outputId": "d1a3b3b6-7672-420f-de19-cc912bc15a8b"
   },
   "outputs": [
    {
     "data": {
      "text/plain": [
       "a     Malaysia\n",
       "b    Singapore\n",
       "c      Vietnam\n",
       "Name: Country, dtype: object"
      ]
     },
     "execution_count": 28,
     "metadata": {},
     "output_type": "execute_result"
    }
   ],
   "source": [
    "df[\"Country\"]"
   ]
  },
  {
   "cell_type": "code",
   "execution_count": 29,
   "metadata": {
    "colab": {
     "base_uri": "https://localhost:8080/",
     "height": 143
    },
    "id": "IKrXfblfTGsv",
    "outputId": "fd289e61-f8cf-488f-e2d8-77e9e9fed9d3"
   },
   "outputs": [
    {
     "data": {
      "text/html": [
       "<div>\n",
       "<style scoped>\n",
       "    .dataframe tbody tr th:only-of-type {\n",
       "        vertical-align: middle;\n",
       "    }\n",
       "\n",
       "    .dataframe tbody tr th {\n",
       "        vertical-align: top;\n",
       "    }\n",
       "\n",
       "    .dataframe thead th {\n",
       "        text-align: right;\n",
       "    }\n",
       "</style>\n",
       "<table border=\"1\" class=\"dataframe\">\n",
       "  <thead>\n",
       "    <tr style=\"text-align: right;\">\n",
       "      <th></th>\n",
       "      <th>Country</th>\n",
       "      <th>Population</th>\n",
       "    </tr>\n",
       "  </thead>\n",
       "  <tbody>\n",
       "    <tr>\n",
       "      <th>a</th>\n",
       "      <td>Malaysia</td>\n",
       "      <td>32365999</td>\n",
       "    </tr>\n",
       "    <tr>\n",
       "      <th>b</th>\n",
       "      <td>Singapore</td>\n",
       "      <td>5850342</td>\n",
       "    </tr>\n",
       "    <tr>\n",
       "      <th>c</th>\n",
       "      <td>Vietnam</td>\n",
       "      <td>97338579</td>\n",
       "    </tr>\n",
       "  </tbody>\n",
       "</table>\n",
       "</div>"
      ],
      "text/plain": [
       "     Country  Population\n",
       "a   Malaysia    32365999\n",
       "b  Singapore     5850342\n",
       "c    Vietnam    97338579"
      ]
     },
     "execution_count": 29,
     "metadata": {},
     "output_type": "execute_result"
    }
   ],
   "source": [
    "df[[\"Country\",\"Population\"]] # Use list to select multiple columns  "
   ]
  },
  {
   "cell_type": "code",
   "execution_count": 30,
   "metadata": {
    "colab": {
     "base_uri": "https://localhost:8080/"
    },
    "id": "isuc3Lr5Sy1S",
    "outputId": "f780cd1e-8400-4b5d-a9e0-55759ed170f7"
   },
   "outputs": [
    {
     "data": {
      "text/plain": [
       "a     Malaysia\n",
       "b    Singapore\n",
       "c      Vietnam\n",
       "Name: Country, dtype: object"
      ]
     },
     "execution_count": 30,
     "metadata": {},
     "output_type": "execute_result"
    }
   ],
   "source": [
    "df.Country # Also support as atrribute to select"
   ]
  },
  {
   "cell_type": "code",
   "execution_count": 31,
   "metadata": {
    "colab": {
     "base_uri": "https://localhost:8080/",
     "height": 112
    },
    "id": "WZNQGWMwS5wS",
    "outputId": "c21dfe23-db7c-4125-b84c-cffb4d7de295"
   },
   "outputs": [
    {
     "data": {
      "text/html": [
       "<div>\n",
       "<style scoped>\n",
       "    .dataframe tbody tr th:only-of-type {\n",
       "        vertical-align: middle;\n",
       "    }\n",
       "\n",
       "    .dataframe tbody tr th {\n",
       "        vertical-align: top;\n",
       "    }\n",
       "\n",
       "    .dataframe thead th {\n",
       "        text-align: right;\n",
       "    }\n",
       "</style>\n",
       "<table border=\"1\" class=\"dataframe\">\n",
       "  <thead>\n",
       "    <tr style=\"text-align: right;\">\n",
       "      <th></th>\n",
       "      <th>Country</th>\n",
       "      <th>Capital</th>\n",
       "      <th>Population</th>\n",
       "      <th>Isdeveloped</th>\n",
       "    </tr>\n",
       "  </thead>\n",
       "  <tbody>\n",
       "    <tr>\n",
       "      <th>a</th>\n",
       "      <td>Malaysia</td>\n",
       "      <td>Kuala Lumpur</td>\n",
       "      <td>32365999</td>\n",
       "      <td>False</td>\n",
       "    </tr>\n",
       "    <tr>\n",
       "      <th>b</th>\n",
       "      <td>Singapore</td>\n",
       "      <td>Singapore</td>\n",
       "      <td>5850342</td>\n",
       "      <td>True</td>\n",
       "    </tr>\n",
       "  </tbody>\n",
       "</table>\n",
       "</div>"
      ],
      "text/plain": [
       "     Country       Capital  Population  Isdeveloped\n",
       "a   Malaysia  Kuala Lumpur    32365999        False\n",
       "b  Singapore     Singapore     5850342         True"
      ]
     },
     "execution_count": 31,
     "metadata": {},
     "output_type": "execute_result"
    }
   ],
   "source": [
    "df[\"a\":\"b\"] # When select multiple rows, do not use list   "
   ]
  },
  {
   "cell_type": "code",
   "execution_count": 32,
   "metadata": {
    "colab": {
     "base_uri": "https://localhost:8080/",
     "height": 112
    },
    "id": "otn255r2UPa7",
    "outputId": "b446893d-7bdf-4c86-b248-16a32271722a"
   },
   "outputs": [
    {
     "data": {
      "text/html": [
       "<div>\n",
       "<style scoped>\n",
       "    .dataframe tbody tr th:only-of-type {\n",
       "        vertical-align: middle;\n",
       "    }\n",
       "\n",
       "    .dataframe tbody tr th {\n",
       "        vertical-align: top;\n",
       "    }\n",
       "\n",
       "    .dataframe thead th {\n",
       "        text-align: right;\n",
       "    }\n",
       "</style>\n",
       "<table border=\"1\" class=\"dataframe\">\n",
       "  <thead>\n",
       "    <tr style=\"text-align: right;\">\n",
       "      <th></th>\n",
       "      <th>Country</th>\n",
       "      <th>Capital</th>\n",
       "      <th>Population</th>\n",
       "      <th>Isdeveloped</th>\n",
       "    </tr>\n",
       "  </thead>\n",
       "  <tbody>\n",
       "    <tr>\n",
       "      <th>a</th>\n",
       "      <td>Malaysia</td>\n",
       "      <td>Kuala Lumpur</td>\n",
       "      <td>32365999</td>\n",
       "      <td>False</td>\n",
       "    </tr>\n",
       "    <tr>\n",
       "      <th>b</th>\n",
       "      <td>Singapore</td>\n",
       "      <td>Singapore</td>\n",
       "      <td>5850342</td>\n",
       "      <td>True</td>\n",
       "    </tr>\n",
       "  </tbody>\n",
       "</table>\n",
       "</div>"
      ],
      "text/plain": [
       "     Country       Capital  Population  Isdeveloped\n",
       "a   Malaysia  Kuala Lumpur    32365999        False\n",
       "b  Singapore     Singapore     5850342         True"
      ]
     },
     "execution_count": 32,
     "metadata": {},
     "output_type": "execute_result"
    }
   ],
   "source": [
    "df[0:2] # When select multiple rows, do not use list"
   ]
  },
  {
   "cell_type": "markdown",
   "metadata": {
    "id": "HwLCy_xRX8jh"
   },
   "source": [
    "### Assigning value"
   ]
  },
  {
   "cell_type": "code",
   "execution_count": 33,
   "metadata": {
    "colab": {
     "base_uri": "https://localhost:8080/",
     "height": 143
    },
    "id": "yQG6vsZCYMKz",
    "outputId": "78a7e808-6562-4778-9d70-0019ac0d315d"
   },
   "outputs": [
    {
     "data": {
      "text/html": [
       "<div>\n",
       "<style scoped>\n",
       "    .dataframe tbody tr th:only-of-type {\n",
       "        vertical-align: middle;\n",
       "    }\n",
       "\n",
       "    .dataframe tbody tr th {\n",
       "        vertical-align: top;\n",
       "    }\n",
       "\n",
       "    .dataframe thead th {\n",
       "        text-align: right;\n",
       "    }\n",
       "</style>\n",
       "<table border=\"1\" class=\"dataframe\">\n",
       "  <thead>\n",
       "    <tr style=\"text-align: right;\">\n",
       "      <th></th>\n",
       "      <th>Country</th>\n",
       "      <th>Capital</th>\n",
       "      <th>Population</th>\n",
       "      <th>Isdeveloped</th>\n",
       "    </tr>\n",
       "  </thead>\n",
       "  <tbody>\n",
       "    <tr>\n",
       "      <th>a</th>\n",
       "      <td>Malaysia</td>\n",
       "      <td>Kuala Lumpur</td>\n",
       "      <td>32365999</td>\n",
       "      <td>False</td>\n",
       "    </tr>\n",
       "    <tr>\n",
       "      <th>b</th>\n",
       "      <td>Singapore</td>\n",
       "      <td>Singapore</td>\n",
       "      <td>5850342</td>\n",
       "      <td>True</td>\n",
       "    </tr>\n",
       "    <tr>\n",
       "      <th>c</th>\n",
       "      <td>Japan</td>\n",
       "      <td>Tokyo</td>\n",
       "      <td>126476461</td>\n",
       "      <td>True</td>\n",
       "    </tr>\n",
       "  </tbody>\n",
       "</table>\n",
       "</div>"
      ],
      "text/plain": [
       "     Country       Capital  Population  Isdeveloped\n",
       "a   Malaysia  Kuala Lumpur    32365999        False\n",
       "b  Singapore     Singapore     5850342         True\n",
       "c      Japan         Tokyo   126476461         True"
      ]
     },
     "execution_count": 33,
     "metadata": {},
     "output_type": "execute_result"
    }
   ],
   "source": [
    "df.loc[\"c\",\"Country\"] = \"Japan\"\n",
    "df.loc[\"c\",\"Capital\"] = \"Tokyo\"\n",
    "df.loc[\"c\",\"Population\"] = 126476461\n",
    "df.loc[\"c\",\"Isdeveloped\"] = True\n",
    "df"
   ]
  },
  {
   "cell_type": "code",
   "execution_count": 34,
   "metadata": {
    "colab": {
     "base_uri": "https://localhost:8080/",
     "height": 143
    },
    "id": "8YRRGaGLicMu",
    "outputId": "fa55acf8-00ae-4cf4-f33e-cd5e2efb80e6"
   },
   "outputs": [
    {
     "data": {
      "text/html": [
       "<div>\n",
       "<style scoped>\n",
       "    .dataframe tbody tr th:only-of-type {\n",
       "        vertical-align: middle;\n",
       "    }\n",
       "\n",
       "    .dataframe tbody tr th {\n",
       "        vertical-align: top;\n",
       "    }\n",
       "\n",
       "    .dataframe thead th {\n",
       "        text-align: right;\n",
       "    }\n",
       "</style>\n",
       "<table border=\"1\" class=\"dataframe\">\n",
       "  <thead>\n",
       "    <tr style=\"text-align: right;\">\n",
       "      <th></th>\n",
       "      <th>Country</th>\n",
       "      <th>Capital</th>\n",
       "      <th>Population</th>\n",
       "      <th>Isdeveloped</th>\n",
       "    </tr>\n",
       "  </thead>\n",
       "  <tbody>\n",
       "    <tr>\n",
       "      <th>a</th>\n",
       "      <td>Malaysia</td>\n",
       "      <td>Kuala Lumpur</td>\n",
       "      <td>32365999</td>\n",
       "      <td>False</td>\n",
       "    </tr>\n",
       "    <tr>\n",
       "      <th>b</th>\n",
       "      <td>Singapore</td>\n",
       "      <td>Singapore</td>\n",
       "      <td>5850342</td>\n",
       "      <td>True</td>\n",
       "    </tr>\n",
       "    <tr>\n",
       "      <th>c</th>\n",
       "      <td>Japan</td>\n",
       "      <td>Tokyo</td>\n",
       "      <td>126476461</td>\n",
       "      <td>True</td>\n",
       "    </tr>\n",
       "  </tbody>\n",
       "</table>\n",
       "</div>"
      ],
      "text/plain": [
       "     Country       Capital  Population  Isdeveloped\n",
       "a   Malaysia  Kuala Lumpur    32365999        False\n",
       "b  Singapore     Singapore     5850342         True\n",
       "c      Japan         Tokyo   126476461         True"
      ]
     },
     "execution_count": 34,
     "metadata": {},
     "output_type": "execute_result"
    }
   ],
   "source": [
    "df.loc[\"c\"] = [\"Japan\", \"Tokyo\", 126476461, True]\n",
    "df"
   ]
  },
  {
   "cell_type": "markdown",
   "metadata": {
    "id": "cVtprE4hjaBH"
   },
   "source": [
    "### Assigning index, columns, and name of index and columns"
   ]
  },
  {
   "cell_type": "code",
   "execution_count": 35,
   "metadata": {
    "colab": {
     "base_uri": "https://localhost:8080/",
     "height": 175
    },
    "id": "lD6hhowAjxWb",
    "outputId": "da77f8fb-feba-425d-c46e-089815278af3"
   },
   "outputs": [
    {
     "data": {
      "text/html": [
       "<div>\n",
       "<style scoped>\n",
       "    .dataframe tbody tr th:only-of-type {\n",
       "        vertical-align: middle;\n",
       "    }\n",
       "\n",
       "    .dataframe tbody tr th {\n",
       "        vertical-align: top;\n",
       "    }\n",
       "\n",
       "    .dataframe thead th {\n",
       "        text-align: right;\n",
       "    }\n",
       "</style>\n",
       "<table border=\"1\" class=\"dataframe\">\n",
       "  <thead>\n",
       "    <tr style=\"text-align: right;\">\n",
       "      <th></th>\n",
       "      <th>Coun</th>\n",
       "      <th>Cap</th>\n",
       "      <th>Pop</th>\n",
       "      <th>ID</th>\n",
       "    </tr>\n",
       "    <tr>\n",
       "      <th>label</th>\n",
       "      <th></th>\n",
       "      <th></th>\n",
       "      <th></th>\n",
       "      <th></th>\n",
       "    </tr>\n",
       "  </thead>\n",
       "  <tbody>\n",
       "    <tr>\n",
       "      <th>e</th>\n",
       "      <td>Malaysia</td>\n",
       "      <td>Kuala Lumpur</td>\n",
       "      <td>32365999</td>\n",
       "      <td>False</td>\n",
       "    </tr>\n",
       "    <tr>\n",
       "      <th>f</th>\n",
       "      <td>Singapore</td>\n",
       "      <td>Singapore</td>\n",
       "      <td>5850342</td>\n",
       "      <td>True</td>\n",
       "    </tr>\n",
       "    <tr>\n",
       "      <th>g</th>\n",
       "      <td>Japan</td>\n",
       "      <td>Tokyo</td>\n",
       "      <td>126476461</td>\n",
       "      <td>True</td>\n",
       "    </tr>\n",
       "  </tbody>\n",
       "</table>\n",
       "</div>"
      ],
      "text/plain": [
       "            Coun           Cap        Pop     ID\n",
       "label                                           \n",
       "e       Malaysia  Kuala Lumpur   32365999  False\n",
       "f      Singapore     Singapore    5850342   True\n",
       "g          Japan         Tokyo  126476461   True"
      ]
     },
     "execution_count": 35,
     "metadata": {},
     "output_type": "execute_result"
    }
   ],
   "source": [
    "df.index = [\"e\", \"f\", \"g\"]\n",
    "df.index.name = \"label\"\n",
    "df.columns.name = \"atributes\"\n",
    "df.columns = [\"Coun\", \"Cap\", \"Pop\", \"ID\"]\n",
    "df"
   ]
  },
  {
   "cell_type": "markdown",
   "metadata": {
    "id": "6VyTnVDrisVj"
   },
   "source": [
    "### Delete columns from dataframe"
   ]
  },
  {
   "cell_type": "code",
   "execution_count": 36,
   "metadata": {
    "colab": {
     "base_uri": "https://localhost:8080/",
     "height": 175
    },
    "id": "d9iJskaBjzEL",
    "outputId": "ae349a79-0101-4f10-b735-8465e92f7851"
   },
   "outputs": [
    {
     "data": {
      "text/html": [
       "<div>\n",
       "<style scoped>\n",
       "    .dataframe tbody tr th:only-of-type {\n",
       "        vertical-align: middle;\n",
       "    }\n",
       "\n",
       "    .dataframe tbody tr th {\n",
       "        vertical-align: top;\n",
       "    }\n",
       "\n",
       "    .dataframe thead th {\n",
       "        text-align: right;\n",
       "    }\n",
       "</style>\n",
       "<table border=\"1\" class=\"dataframe\">\n",
       "  <thead>\n",
       "    <tr style=\"text-align: right;\">\n",
       "      <th></th>\n",
       "      <th>Coun</th>\n",
       "      <th>Cap</th>\n",
       "      <th>Pop</th>\n",
       "    </tr>\n",
       "    <tr>\n",
       "      <th>label</th>\n",
       "      <th></th>\n",
       "      <th></th>\n",
       "      <th></th>\n",
       "    </tr>\n",
       "  </thead>\n",
       "  <tbody>\n",
       "    <tr>\n",
       "      <th>e</th>\n",
       "      <td>Malaysia</td>\n",
       "      <td>Kuala Lumpur</td>\n",
       "      <td>32365999</td>\n",
       "    </tr>\n",
       "    <tr>\n",
       "      <th>f</th>\n",
       "      <td>Singapore</td>\n",
       "      <td>Singapore</td>\n",
       "      <td>5850342</td>\n",
       "    </tr>\n",
       "    <tr>\n",
       "      <th>g</th>\n",
       "      <td>Japan</td>\n",
       "      <td>Tokyo</td>\n",
       "      <td>126476461</td>\n",
       "    </tr>\n",
       "  </tbody>\n",
       "</table>\n",
       "</div>"
      ],
      "text/plain": [
       "            Coun           Cap        Pop\n",
       "label                                    \n",
       "e       Malaysia  Kuala Lumpur   32365999\n",
       "f      Singapore     Singapore    5850342\n",
       "g          Japan         Tokyo  126476461"
      ]
     },
     "execution_count": 36,
     "metadata": {},
     "output_type": "execute_result"
    }
   ],
   "source": [
    "del df[\"ID\"]\n",
    "df"
   ]
  },
  {
   "cell_type": "markdown",
   "metadata": {
    "id": "hKkyrSiLkiXz"
   },
   "source": [
    "### Filtering\n",
    "Same as ```Series()``` mentioned above."
   ]
  },
  {
   "cell_type": "code",
   "execution_count": 37,
   "metadata": {
    "colab": {
     "base_uri": "https://localhost:8080/",
     "height": 143
    },
    "id": "HBL-GV2akhtj",
    "outputId": "fe333f1a-1a53-46f4-f011-8d22b3af3035"
   },
   "outputs": [
    {
     "data": {
      "text/html": [
       "<div>\n",
       "<style scoped>\n",
       "    .dataframe tbody tr th:only-of-type {\n",
       "        vertical-align: middle;\n",
       "    }\n",
       "\n",
       "    .dataframe tbody tr th {\n",
       "        vertical-align: top;\n",
       "    }\n",
       "\n",
       "    .dataframe thead th {\n",
       "        text-align: right;\n",
       "    }\n",
       "</style>\n",
       "<table border=\"1\" class=\"dataframe\">\n",
       "  <thead>\n",
       "    <tr style=\"text-align: right;\">\n",
       "      <th></th>\n",
       "      <th>0</th>\n",
       "      <th>1</th>\n",
       "      <th>2</th>\n",
       "      <th>3</th>\n",
       "    </tr>\n",
       "  </thead>\n",
       "  <tbody>\n",
       "    <tr>\n",
       "      <th>0</th>\n",
       "      <td>14.0</td>\n",
       "      <td>NaN</td>\n",
       "      <td>NaN</td>\n",
       "      <td>NaN</td>\n",
       "    </tr>\n",
       "    <tr>\n",
       "      <th>1</th>\n",
       "      <td>19.0</td>\n",
       "      <td>NaN</td>\n",
       "      <td>NaN</td>\n",
       "      <td>NaN</td>\n",
       "    </tr>\n",
       "    <tr>\n",
       "      <th>2</th>\n",
       "      <td>NaN</td>\n",
       "      <td>NaN</td>\n",
       "      <td>NaN</td>\n",
       "      <td>NaN</td>\n",
       "    </tr>\n",
       "  </tbody>\n",
       "</table>\n",
       "</div>"
      ],
      "text/plain": [
       "      0   1   2   3\n",
       "0  14.0 NaN NaN NaN\n",
       "1  19.0 NaN NaN NaN\n",
       "2   NaN NaN NaN NaN"
      ]
     },
     "execution_count": 37,
     "metadata": {},
     "output_type": "execute_result"
    }
   ],
   "source": [
    "df = pd.DataFrame(np.array([[14, 35, 35, 35],\n",
    "                            [19, 34, 57, 34],\n",
    "                            [42, 74, 49, 59]]))\n",
    "# filtering lesser than 30\n",
    "df[df<30]"
   ]
  },
  {
   "cell_type": "code",
   "execution_count": 38,
   "metadata": {
    "colab": {
     "base_uri": "https://localhost:8080/",
     "height": 112
    },
    "id": "6FuERPw0kb68",
    "outputId": "9cde4530-7912-4099-a2d6-a33d3d5718c4"
   },
   "outputs": [
    {
     "data": {
      "text/html": [
       "<div>\n",
       "<style scoped>\n",
       "    .dataframe tbody tr th:only-of-type {\n",
       "        vertical-align: middle;\n",
       "    }\n",
       "\n",
       "    .dataframe tbody tr th {\n",
       "        vertical-align: top;\n",
       "    }\n",
       "\n",
       "    .dataframe thead th {\n",
       "        text-align: right;\n",
       "    }\n",
       "</style>\n",
       "<table border=\"1\" class=\"dataframe\">\n",
       "  <thead>\n",
       "    <tr style=\"text-align: right;\">\n",
       "      <th></th>\n",
       "      <th>Country</th>\n",
       "      <th>Capital</th>\n",
       "      <th>Population</th>\n",
       "      <th>Isdeveloped</th>\n",
       "    </tr>\n",
       "  </thead>\n",
       "  <tbody>\n",
       "    <tr>\n",
       "      <th>a</th>\n",
       "      <td>Malaysia</td>\n",
       "      <td>Kuala Lumpur</td>\n",
       "      <td>32365999</td>\n",
       "      <td>False</td>\n",
       "    </tr>\n",
       "    <tr>\n",
       "      <th>b</th>\n",
       "      <td>Singapore</td>\n",
       "      <td>Singapore</td>\n",
       "      <td>5850342</td>\n",
       "      <td>True</td>\n",
       "    </tr>\n",
       "  </tbody>\n",
       "</table>\n",
       "</div>"
      ],
      "text/plain": [
       "     Country       Capital  Population  Isdeveloped\n",
       "a   Malaysia  Kuala Lumpur    32365999        False\n",
       "b  Singapore     Singapore     5850342         True"
      ]
     },
     "execution_count": 38,
     "metadata": {},
     "output_type": "execute_result"
    }
   ],
   "source": [
    "df = pd.DataFrame([[\"Malaysia\",\"Kuala Lumpur\",32365999,False],\n",
    "              [\"Singapore\",\"Singapore\",5850342,True],\n",
    "              [\"Vietnam\",\"Hanoi\",97338579,True]],\n",
    "              columns = [\"Country\", \"Capital\", \"Population\", \"Isdeveloped\"],\n",
    "              index=[\"a\",\"b\",\"c\"])\n",
    "# Filtering accroding to conditions of one column\n",
    "df[df[\"Population\"]<50000000]"
   ]
  },
  {
   "cell_type": "code",
   "execution_count": 39,
   "metadata": {
    "colab": {
     "base_uri": "https://localhost:8080/",
     "height": 81
    },
    "id": "81iMOSqvl0dR",
    "outputId": "a10cd631-6a05-4ab8-e89f-87d8fbfc5fe7"
   },
   "outputs": [
    {
     "data": {
      "text/html": [
       "<div>\n",
       "<style scoped>\n",
       "    .dataframe tbody tr th:only-of-type {\n",
       "        vertical-align: middle;\n",
       "    }\n",
       "\n",
       "    .dataframe tbody tr th {\n",
       "        vertical-align: top;\n",
       "    }\n",
       "\n",
       "    .dataframe thead th {\n",
       "        text-align: right;\n",
       "    }\n",
       "</style>\n",
       "<table border=\"1\" class=\"dataframe\">\n",
       "  <thead>\n",
       "    <tr style=\"text-align: right;\">\n",
       "      <th></th>\n",
       "      <th>Country</th>\n",
       "      <th>Capital</th>\n",
       "      <th>Population</th>\n",
       "      <th>Isdeveloped</th>\n",
       "    </tr>\n",
       "  </thead>\n",
       "  <tbody>\n",
       "    <tr>\n",
       "      <th>b</th>\n",
       "      <td>Singapore</td>\n",
       "      <td>Singapore</td>\n",
       "      <td>5850342</td>\n",
       "      <td>True</td>\n",
       "    </tr>\n",
       "  </tbody>\n",
       "</table>\n",
       "</div>"
      ],
      "text/plain": [
       "     Country    Capital  Population  Isdeveloped\n",
       "b  Singapore  Singapore     5850342         True"
      ]
     },
     "execution_count": 39,
     "metadata": {},
     "output_type": "execute_result"
    }
   ],
   "source": [
    "# Filtering accroding to conditions of multiple columns\n",
    "df[(df[\"Population\"]<50000000) & (df[\"Isdeveloped\"]==True)]"
   ]
  },
  {
   "cell_type": "markdown",
   "metadata": {
    "id": "MtbelZ2_mgTd"
   },
   "source": [
    "### Transposition  of a Dataframe\n",
    "Same as `Array` from `Numpy` dataframe can transpose. `Columns` change to `Index` and `Index` change to `Columns`."
   ]
  },
  {
   "cell_type": "code",
   "execution_count": 40,
   "metadata": {
    "colab": {
     "base_uri": "https://localhost:8080/",
     "height": 175
    },
    "id": "xwiEfiMhmRxp",
    "outputId": "32abf4f5-5aac-4bd2-c83f-b3b0ea423713"
   },
   "outputs": [
    {
     "data": {
      "text/html": [
       "<div>\n",
       "<style scoped>\n",
       "    .dataframe tbody tr th:only-of-type {\n",
       "        vertical-align: middle;\n",
       "    }\n",
       "\n",
       "    .dataframe tbody tr th {\n",
       "        vertical-align: top;\n",
       "    }\n",
       "\n",
       "    .dataframe thead th {\n",
       "        text-align: right;\n",
       "    }\n",
       "</style>\n",
       "<table border=\"1\" class=\"dataframe\">\n",
       "  <thead>\n",
       "    <tr style=\"text-align: right;\">\n",
       "      <th></th>\n",
       "      <th>a</th>\n",
       "      <th>b</th>\n",
       "      <th>c</th>\n",
       "    </tr>\n",
       "  </thead>\n",
       "  <tbody>\n",
       "    <tr>\n",
       "      <th>Country</th>\n",
       "      <td>Malaysia</td>\n",
       "      <td>Singapore</td>\n",
       "      <td>Vietnam</td>\n",
       "    </tr>\n",
       "    <tr>\n",
       "      <th>Capital</th>\n",
       "      <td>Kuala Lumpur</td>\n",
       "      <td>Singapore</td>\n",
       "      <td>Hanoi</td>\n",
       "    </tr>\n",
       "    <tr>\n",
       "      <th>Population</th>\n",
       "      <td>32365999</td>\n",
       "      <td>5850342</td>\n",
       "      <td>97338579</td>\n",
       "    </tr>\n",
       "    <tr>\n",
       "      <th>Isdeveloped</th>\n",
       "      <td>False</td>\n",
       "      <td>True</td>\n",
       "      <td>True</td>\n",
       "    </tr>\n",
       "  </tbody>\n",
       "</table>\n",
       "</div>"
      ],
      "text/plain": [
       "                        a          b         c\n",
       "Country          Malaysia  Singapore   Vietnam\n",
       "Capital      Kuala Lumpur  Singapore     Hanoi\n",
       "Population       32365999    5850342  97338579\n",
       "Isdeveloped         False       True      True"
      ]
     },
     "execution_count": 40,
     "metadata": {},
     "output_type": "execute_result"
    }
   ],
   "source": [
    "df = pd.DataFrame([[\"Malaysia\",\"Kuala Lumpur\",32365999,False],\n",
    "              [\"Singapore\",\"Singapore\",5850342,True],\n",
    "              [\"Vietnam\",\"Hanoi\",97338579,True]],\n",
    "              columns = [\"Country\", \"Capital\", \"Population\", \"Isdeveloped\"],\n",
    "              index=[\"a\",\"b\",\"c\"])\n",
    "df1 = df.T\n",
    "df1"
   ]
  },
  {
   "cell_type": "code",
   "execution_count": 41,
   "metadata": {
    "colab": {
     "base_uri": "https://localhost:8080/"
    },
    "id": "duI3aSK-nhJj",
    "outputId": "b519bb1a-5ef0-41e0-d11f-6cace3966e58"
   },
   "outputs": [
    {
     "data": {
      "text/plain": [
       "Index(['Country', 'Capital', 'Population', 'Isdeveloped'], dtype='object')"
      ]
     },
     "execution_count": 41,
     "metadata": {},
     "output_type": "execute_result"
    }
   ],
   "source": [
    "df1.index"
   ]
  },
  {
   "cell_type": "code",
   "execution_count": 42,
   "metadata": {
    "colab": {
     "base_uri": "https://localhost:8080/"
    },
    "id": "QvGKIfdQnjgj",
    "outputId": "de4c58ce-e502-4540-ba41-200b985ef825"
   },
   "outputs": [
    {
     "data": {
      "text/plain": [
       "Index(['a', 'b', 'c'], dtype='object')"
      ]
     },
     "execution_count": 42,
     "metadata": {},
     "output_type": "execute_result"
    }
   ],
   "source": [
    "df1.columns"
   ]
  },
  {
   "cell_type": "markdown",
   "metadata": {
    "id": "TGs_RJSorGtS"
   },
   "source": [
    "### Merge of dataframe\n",
    "`Concat()`, `Join()`"
   ]
  },
  {
   "cell_type": "code",
   "execution_count": 43,
   "metadata": {
    "id": "QNRoOWMnrI5R"
   },
   "outputs": [],
   "source": [
    "df1 = pd.DataFrame(np.random.rand(3,4))\n",
    "df2 = pd.DataFrame(np.random.rand(3,4))\n",
    "df3 = pd.DataFrame(np.random.rand(6,4))\n",
    "df4 = pd.DataFrame(np.random.rand(3,6))"
   ]
  },
  {
   "cell_type": "code",
   "execution_count": 44,
   "metadata": {
    "colab": {
     "base_uri": "https://localhost:8080/",
     "height": 143
    },
    "id": "6p6-t5j3sYO0",
    "outputId": "5fc49951-84dd-456d-b856-954f15318dbc"
   },
   "outputs": [
    {
     "data": {
      "text/html": [
       "<div>\n",
       "<style scoped>\n",
       "    .dataframe tbody tr th:only-of-type {\n",
       "        vertical-align: middle;\n",
       "    }\n",
       "\n",
       "    .dataframe tbody tr th {\n",
       "        vertical-align: top;\n",
       "    }\n",
       "\n",
       "    .dataframe thead th {\n",
       "        text-align: right;\n",
       "    }\n",
       "</style>\n",
       "<table border=\"1\" class=\"dataframe\">\n",
       "  <thead>\n",
       "    <tr style=\"text-align: right;\">\n",
       "      <th></th>\n",
       "      <th>0</th>\n",
       "      <th>1</th>\n",
       "      <th>2</th>\n",
       "      <th>3</th>\n",
       "    </tr>\n",
       "  </thead>\n",
       "  <tbody>\n",
       "    <tr>\n",
       "      <th>0</th>\n",
       "      <td>0.493278</td>\n",
       "      <td>0.746113</td>\n",
       "      <td>0.624690</td>\n",
       "      <td>0.963782</td>\n",
       "    </tr>\n",
       "    <tr>\n",
       "      <th>1</th>\n",
       "      <td>0.627669</td>\n",
       "      <td>0.509125</td>\n",
       "      <td>0.251434</td>\n",
       "      <td>0.192209</td>\n",
       "    </tr>\n",
       "    <tr>\n",
       "      <th>2</th>\n",
       "      <td>0.715514</td>\n",
       "      <td>0.884169</td>\n",
       "      <td>0.752739</td>\n",
       "      <td>0.684542</td>\n",
       "    </tr>\n",
       "  </tbody>\n",
       "</table>\n",
       "</div>"
      ],
      "text/plain": [
       "          0         1         2         3\n",
       "0  0.493278  0.746113  0.624690  0.963782\n",
       "1  0.627669  0.509125  0.251434  0.192209\n",
       "2  0.715514  0.884169  0.752739  0.684542"
      ]
     },
     "execution_count": 44,
     "metadata": {},
     "output_type": "execute_result"
    }
   ],
   "source": [
    "df1"
   ]
  },
  {
   "cell_type": "code",
   "execution_count": 45,
   "metadata": {
    "colab": {
     "base_uri": "https://localhost:8080/",
     "height": 143
    },
    "id": "4WjtyH-ushE2",
    "outputId": "2d31fe98-50f8-4abb-db44-db8293f96452"
   },
   "outputs": [
    {
     "data": {
      "text/html": [
       "<div>\n",
       "<style scoped>\n",
       "    .dataframe tbody tr th:only-of-type {\n",
       "        vertical-align: middle;\n",
       "    }\n",
       "\n",
       "    .dataframe tbody tr th {\n",
       "        vertical-align: top;\n",
       "    }\n",
       "\n",
       "    .dataframe thead th {\n",
       "        text-align: right;\n",
       "    }\n",
       "</style>\n",
       "<table border=\"1\" class=\"dataframe\">\n",
       "  <thead>\n",
       "    <tr style=\"text-align: right;\">\n",
       "      <th></th>\n",
       "      <th>0</th>\n",
       "      <th>1</th>\n",
       "      <th>2</th>\n",
       "      <th>3</th>\n",
       "    </tr>\n",
       "  </thead>\n",
       "  <tbody>\n",
       "    <tr>\n",
       "      <th>0</th>\n",
       "      <td>0.477858</td>\n",
       "      <td>0.668369</td>\n",
       "      <td>0.809397</td>\n",
       "      <td>0.05334</td>\n",
       "    </tr>\n",
       "    <tr>\n",
       "      <th>1</th>\n",
       "      <td>0.315034</td>\n",
       "      <td>0.574016</td>\n",
       "      <td>0.576923</td>\n",
       "      <td>0.40052</td>\n",
       "    </tr>\n",
       "    <tr>\n",
       "      <th>2</th>\n",
       "      <td>0.521253</td>\n",
       "      <td>0.838872</td>\n",
       "      <td>0.298118</td>\n",
       "      <td>0.44118</td>\n",
       "    </tr>\n",
       "  </tbody>\n",
       "</table>\n",
       "</div>"
      ],
      "text/plain": [
       "          0         1         2        3\n",
       "0  0.477858  0.668369  0.809397  0.05334\n",
       "1  0.315034  0.574016  0.576923  0.40052\n",
       "2  0.521253  0.838872  0.298118  0.44118"
      ]
     },
     "execution_count": 45,
     "metadata": {},
     "output_type": "execute_result"
    }
   ],
   "source": [
    "df2"
   ]
  },
  {
   "cell_type": "code",
   "execution_count": 46,
   "metadata": {
    "colab": {
     "base_uri": "https://localhost:8080/",
     "height": 238
    },
    "id": "CdprsmQBtXOq",
    "outputId": "02122244-5ea8-479d-fc5e-f5ed8324765c"
   },
   "outputs": [
    {
     "data": {
      "text/html": [
       "<div>\n",
       "<style scoped>\n",
       "    .dataframe tbody tr th:only-of-type {\n",
       "        vertical-align: middle;\n",
       "    }\n",
       "\n",
       "    .dataframe tbody tr th {\n",
       "        vertical-align: top;\n",
       "    }\n",
       "\n",
       "    .dataframe thead th {\n",
       "        text-align: right;\n",
       "    }\n",
       "</style>\n",
       "<table border=\"1\" class=\"dataframe\">\n",
       "  <thead>\n",
       "    <tr style=\"text-align: right;\">\n",
       "      <th></th>\n",
       "      <th>0</th>\n",
       "      <th>1</th>\n",
       "      <th>2</th>\n",
       "      <th>3</th>\n",
       "    </tr>\n",
       "  </thead>\n",
       "  <tbody>\n",
       "    <tr>\n",
       "      <th>0</th>\n",
       "      <td>0.137399</td>\n",
       "      <td>0.349552</td>\n",
       "      <td>0.035833</td>\n",
       "      <td>0.909047</td>\n",
       "    </tr>\n",
       "    <tr>\n",
       "      <th>1</th>\n",
       "      <td>0.191091</td>\n",
       "      <td>0.897636</td>\n",
       "      <td>0.443565</td>\n",
       "      <td>0.593293</td>\n",
       "    </tr>\n",
       "    <tr>\n",
       "      <th>2</th>\n",
       "      <td>0.014625</td>\n",
       "      <td>0.616715</td>\n",
       "      <td>0.338917</td>\n",
       "      <td>0.226357</td>\n",
       "    </tr>\n",
       "    <tr>\n",
       "      <th>3</th>\n",
       "      <td>0.819555</td>\n",
       "      <td>0.299344</td>\n",
       "      <td>0.678459</td>\n",
       "      <td>0.368401</td>\n",
       "    </tr>\n",
       "    <tr>\n",
       "      <th>4</th>\n",
       "      <td>0.546325</td>\n",
       "      <td>0.361924</td>\n",
       "      <td>0.203240</td>\n",
       "      <td>0.846829</td>\n",
       "    </tr>\n",
       "    <tr>\n",
       "      <th>5</th>\n",
       "      <td>0.558023</td>\n",
       "      <td>0.954259</td>\n",
       "      <td>0.701483</td>\n",
       "      <td>0.626951</td>\n",
       "    </tr>\n",
       "  </tbody>\n",
       "</table>\n",
       "</div>"
      ],
      "text/plain": [
       "          0         1         2         3\n",
       "0  0.137399  0.349552  0.035833  0.909047\n",
       "1  0.191091  0.897636  0.443565  0.593293\n",
       "2  0.014625  0.616715  0.338917  0.226357\n",
       "3  0.819555  0.299344  0.678459  0.368401\n",
       "4  0.546325  0.361924  0.203240  0.846829\n",
       "5  0.558023  0.954259  0.701483  0.626951"
      ]
     },
     "execution_count": 46,
     "metadata": {},
     "output_type": "execute_result"
    }
   ],
   "source": [
    "df3"
   ]
  },
  {
   "cell_type": "code",
   "execution_count": 47,
   "metadata": {
    "colab": {
     "base_uri": "https://localhost:8080/",
     "height": 143
    },
    "id": "l7nyIowstYGo",
    "outputId": "25034aa8-18d5-44ed-fe4e-8132f9a7df4e"
   },
   "outputs": [
    {
     "data": {
      "text/html": [
       "<div>\n",
       "<style scoped>\n",
       "    .dataframe tbody tr th:only-of-type {\n",
       "        vertical-align: middle;\n",
       "    }\n",
       "\n",
       "    .dataframe tbody tr th {\n",
       "        vertical-align: top;\n",
       "    }\n",
       "\n",
       "    .dataframe thead th {\n",
       "        text-align: right;\n",
       "    }\n",
       "</style>\n",
       "<table border=\"1\" class=\"dataframe\">\n",
       "  <thead>\n",
       "    <tr style=\"text-align: right;\">\n",
       "      <th></th>\n",
       "      <th>0</th>\n",
       "      <th>1</th>\n",
       "      <th>2</th>\n",
       "      <th>3</th>\n",
       "      <th>4</th>\n",
       "      <th>5</th>\n",
       "    </tr>\n",
       "  </thead>\n",
       "  <tbody>\n",
       "    <tr>\n",
       "      <th>0</th>\n",
       "      <td>0.544008</td>\n",
       "      <td>0.918512</td>\n",
       "      <td>0.498437</td>\n",
       "      <td>0.198027</td>\n",
       "      <td>0.495070</td>\n",
       "      <td>0.797186</td>\n",
       "    </tr>\n",
       "    <tr>\n",
       "      <th>1</th>\n",
       "      <td>0.803889</td>\n",
       "      <td>0.240131</td>\n",
       "      <td>0.594393</td>\n",
       "      <td>0.506938</td>\n",
       "      <td>0.670743</td>\n",
       "      <td>0.117449</td>\n",
       "    </tr>\n",
       "    <tr>\n",
       "      <th>2</th>\n",
       "      <td>0.992667</td>\n",
       "      <td>0.880550</td>\n",
       "      <td>0.552765</td>\n",
       "      <td>0.046978</td>\n",
       "      <td>0.226231</td>\n",
       "      <td>0.034296</td>\n",
       "    </tr>\n",
       "  </tbody>\n",
       "</table>\n",
       "</div>"
      ],
      "text/plain": [
       "          0         1         2         3         4         5\n",
       "0  0.544008  0.918512  0.498437  0.198027  0.495070  0.797186\n",
       "1  0.803889  0.240131  0.594393  0.506938  0.670743  0.117449\n",
       "2  0.992667  0.880550  0.552765  0.046978  0.226231  0.034296"
      ]
     },
     "execution_count": 47,
     "metadata": {},
     "output_type": "execute_result"
    }
   ],
   "source": [
    "df4"
   ]
  },
  {
   "cell_type": "code",
   "execution_count": 48,
   "metadata": {
    "colab": {
     "base_uri": "https://localhost:8080/",
     "height": 238
    },
    "id": "E_H7ilY-tZTo",
    "outputId": "2a0b66c3-f148-409c-fe5a-108a033d6035"
   },
   "outputs": [
    {
     "data": {
      "text/html": [
       "<div>\n",
       "<style scoped>\n",
       "    .dataframe tbody tr th:only-of-type {\n",
       "        vertical-align: middle;\n",
       "    }\n",
       "\n",
       "    .dataframe tbody tr th {\n",
       "        vertical-align: top;\n",
       "    }\n",
       "\n",
       "    .dataframe thead th {\n",
       "        text-align: right;\n",
       "    }\n",
       "</style>\n",
       "<table border=\"1\" class=\"dataframe\">\n",
       "  <thead>\n",
       "    <tr style=\"text-align: right;\">\n",
       "      <th></th>\n",
       "      <th>0</th>\n",
       "      <th>1</th>\n",
       "      <th>2</th>\n",
       "      <th>3</th>\n",
       "    </tr>\n",
       "  </thead>\n",
       "  <tbody>\n",
       "    <tr>\n",
       "      <th>0</th>\n",
       "      <td>0.493278</td>\n",
       "      <td>0.746113</td>\n",
       "      <td>0.624690</td>\n",
       "      <td>0.963782</td>\n",
       "    </tr>\n",
       "    <tr>\n",
       "      <th>1</th>\n",
       "      <td>0.627669</td>\n",
       "      <td>0.509125</td>\n",
       "      <td>0.251434</td>\n",
       "      <td>0.192209</td>\n",
       "    </tr>\n",
       "    <tr>\n",
       "      <th>2</th>\n",
       "      <td>0.715514</td>\n",
       "      <td>0.884169</td>\n",
       "      <td>0.752739</td>\n",
       "      <td>0.684542</td>\n",
       "    </tr>\n",
       "    <tr>\n",
       "      <th>0</th>\n",
       "      <td>0.477858</td>\n",
       "      <td>0.668369</td>\n",
       "      <td>0.809397</td>\n",
       "      <td>0.053340</td>\n",
       "    </tr>\n",
       "    <tr>\n",
       "      <th>1</th>\n",
       "      <td>0.315034</td>\n",
       "      <td>0.574016</td>\n",
       "      <td>0.576923</td>\n",
       "      <td>0.400520</td>\n",
       "    </tr>\n",
       "    <tr>\n",
       "      <th>2</th>\n",
       "      <td>0.521253</td>\n",
       "      <td>0.838872</td>\n",
       "      <td>0.298118</td>\n",
       "      <td>0.441180</td>\n",
       "    </tr>\n",
       "  </tbody>\n",
       "</table>\n",
       "</div>"
      ],
      "text/plain": [
       "          0         1         2         3\n",
       "0  0.493278  0.746113  0.624690  0.963782\n",
       "1  0.627669  0.509125  0.251434  0.192209\n",
       "2  0.715514  0.884169  0.752739  0.684542\n",
       "0  0.477858  0.668369  0.809397  0.053340\n",
       "1  0.315034  0.574016  0.576923  0.400520\n",
       "2  0.521253  0.838872  0.298118  0.441180"
      ]
     },
     "execution_count": 48,
     "metadata": {},
     "output_type": "execute_result"
    }
   ],
   "source": [
    "pd.concat([df1,df2])"
   ]
  },
  {
   "cell_type": "code",
   "execution_count": 49,
   "metadata": {
    "colab": {
     "base_uri": "https://localhost:8080/",
     "height": 238
    },
    "id": "Y7VMpXm9xaRS",
    "outputId": "2b058013-c813-4ba5-eef5-8b0bbd7ccc2b"
   },
   "outputs": [
    {
     "data": {
      "text/html": [
       "<div>\n",
       "<style scoped>\n",
       "    .dataframe tbody tr th:only-of-type {\n",
       "        vertical-align: middle;\n",
       "    }\n",
       "\n",
       "    .dataframe tbody tr th {\n",
       "        vertical-align: top;\n",
       "    }\n",
       "\n",
       "    .dataframe thead th {\n",
       "        text-align: right;\n",
       "    }\n",
       "</style>\n",
       "<table border=\"1\" class=\"dataframe\">\n",
       "  <thead>\n",
       "    <tr style=\"text-align: right;\">\n",
       "      <th></th>\n",
       "      <th>0</th>\n",
       "      <th>1</th>\n",
       "      <th>2</th>\n",
       "      <th>3</th>\n",
       "    </tr>\n",
       "  </thead>\n",
       "  <tbody>\n",
       "    <tr>\n",
       "      <th>0</th>\n",
       "      <td>0.493278</td>\n",
       "      <td>0.746113</td>\n",
       "      <td>0.624690</td>\n",
       "      <td>0.963782</td>\n",
       "    </tr>\n",
       "    <tr>\n",
       "      <th>1</th>\n",
       "      <td>0.627669</td>\n",
       "      <td>0.509125</td>\n",
       "      <td>0.251434</td>\n",
       "      <td>0.192209</td>\n",
       "    </tr>\n",
       "    <tr>\n",
       "      <th>2</th>\n",
       "      <td>0.715514</td>\n",
       "      <td>0.884169</td>\n",
       "      <td>0.752739</td>\n",
       "      <td>0.684542</td>\n",
       "    </tr>\n",
       "    <tr>\n",
       "      <th>0</th>\n",
       "      <td>0.477858</td>\n",
       "      <td>0.668369</td>\n",
       "      <td>0.809397</td>\n",
       "      <td>0.053340</td>\n",
       "    </tr>\n",
       "    <tr>\n",
       "      <th>1</th>\n",
       "      <td>0.315034</td>\n",
       "      <td>0.574016</td>\n",
       "      <td>0.576923</td>\n",
       "      <td>0.400520</td>\n",
       "    </tr>\n",
       "    <tr>\n",
       "      <th>2</th>\n",
       "      <td>0.521253</td>\n",
       "      <td>0.838872</td>\n",
       "      <td>0.298118</td>\n",
       "      <td>0.441180</td>\n",
       "    </tr>\n",
       "  </tbody>\n",
       "</table>\n",
       "</div>"
      ],
      "text/plain": [
       "          0         1         2         3\n",
       "0  0.493278  0.746113  0.624690  0.963782\n",
       "1  0.627669  0.509125  0.251434  0.192209\n",
       "2  0.715514  0.884169  0.752739  0.684542\n",
       "0  0.477858  0.668369  0.809397  0.053340\n",
       "1  0.315034  0.574016  0.576923  0.400520\n",
       "2  0.521253  0.838872  0.298118  0.441180"
      ]
     },
     "execution_count": 49,
     "metadata": {},
     "output_type": "execute_result"
    }
   ],
   "source": [
    "result = df1.append(df2)\n",
    "result"
   ]
  },
  {
   "cell_type": "markdown",
   "metadata": {
    "id": "C_E_j7UvzDXk"
   },
   "source": [
    "### `join`, `inner` and `merge`"
   ]
  },
  {
   "cell_type": "markdown",
   "metadata": {
    "id": "0ZrXBTOe2OwV"
   },
   "source": [
    "### View data"
   ]
  },
  {
   "cell_type": "code",
   "execution_count": 50,
   "metadata": {
    "colab": {
     "base_uri": "https://localhost:8080/",
     "height": 206
    },
    "id": "hSvCDzAQzGa0",
    "outputId": "1a210448-21e5-41e3-bed0-e746924a8ffc"
   },
   "outputs": [
    {
     "data": {
      "text/html": [
       "<div>\n",
       "<style scoped>\n",
       "    .dataframe tbody tr th:only-of-type {\n",
       "        vertical-align: middle;\n",
       "    }\n",
       "\n",
       "    .dataframe tbody tr th {\n",
       "        vertical-align: top;\n",
       "    }\n",
       "\n",
       "    .dataframe thead th {\n",
       "        text-align: right;\n",
       "    }\n",
       "</style>\n",
       "<table border=\"1\" class=\"dataframe\">\n",
       "  <thead>\n",
       "    <tr style=\"text-align: right;\">\n",
       "      <th></th>\n",
       "      <th>0</th>\n",
       "      <th>1</th>\n",
       "      <th>2</th>\n",
       "      <th>3</th>\n",
       "    </tr>\n",
       "  </thead>\n",
       "  <tbody>\n",
       "    <tr>\n",
       "      <th>0</th>\n",
       "      <td>0.466732</td>\n",
       "      <td>0.527253</td>\n",
       "      <td>0.052206</td>\n",
       "      <td>0.544516</td>\n",
       "    </tr>\n",
       "    <tr>\n",
       "      <th>1</th>\n",
       "      <td>0.136826</td>\n",
       "      <td>0.670840</td>\n",
       "      <td>0.146580</td>\n",
       "      <td>0.863946</td>\n",
       "    </tr>\n",
       "    <tr>\n",
       "      <th>2</th>\n",
       "      <td>0.962003</td>\n",
       "      <td>0.303926</td>\n",
       "      <td>0.613770</td>\n",
       "      <td>0.211478</td>\n",
       "    </tr>\n",
       "    <tr>\n",
       "      <th>3</th>\n",
       "      <td>0.872866</td>\n",
       "      <td>0.144734</td>\n",
       "      <td>0.660856</td>\n",
       "      <td>0.276644</td>\n",
       "    </tr>\n",
       "    <tr>\n",
       "      <th>4</th>\n",
       "      <td>0.738387</td>\n",
       "      <td>0.562102</td>\n",
       "      <td>0.839254</td>\n",
       "      <td>0.970866</td>\n",
       "    </tr>\n",
       "  </tbody>\n",
       "</table>\n",
       "</div>"
      ],
      "text/plain": [
       "          0         1         2         3\n",
       "0  0.466732  0.527253  0.052206  0.544516\n",
       "1  0.136826  0.670840  0.146580  0.863946\n",
       "2  0.962003  0.303926  0.613770  0.211478\n",
       "3  0.872866  0.144734  0.660856  0.276644\n",
       "4  0.738387  0.562102  0.839254  0.970866"
      ]
     },
     "execution_count": 50,
     "metadata": {},
     "output_type": "execute_result"
    }
   ],
   "source": [
    "df = pd.DataFrame(np.random.rand(100,4))\n",
    "df.head()"
   ]
  },
  {
   "cell_type": "code",
   "execution_count": 51,
   "metadata": {
    "colab": {
     "base_uri": "https://localhost:8080/",
     "height": 206
    },
    "id": "5XENzsu22Y3P",
    "outputId": "d7c42ec8-b57d-4e67-83d3-2de602c5112f"
   },
   "outputs": [
    {
     "data": {
      "text/html": [
       "<div>\n",
       "<style scoped>\n",
       "    .dataframe tbody tr th:only-of-type {\n",
       "        vertical-align: middle;\n",
       "    }\n",
       "\n",
       "    .dataframe tbody tr th {\n",
       "        vertical-align: top;\n",
       "    }\n",
       "\n",
       "    .dataframe thead th {\n",
       "        text-align: right;\n",
       "    }\n",
       "</style>\n",
       "<table border=\"1\" class=\"dataframe\">\n",
       "  <thead>\n",
       "    <tr style=\"text-align: right;\">\n",
       "      <th></th>\n",
       "      <th>0</th>\n",
       "      <th>1</th>\n",
       "      <th>2</th>\n",
       "      <th>3</th>\n",
       "    </tr>\n",
       "  </thead>\n",
       "  <tbody>\n",
       "    <tr>\n",
       "      <th>95</th>\n",
       "      <td>0.458456</td>\n",
       "      <td>0.322819</td>\n",
       "      <td>0.838723</td>\n",
       "      <td>0.094506</td>\n",
       "    </tr>\n",
       "    <tr>\n",
       "      <th>96</th>\n",
       "      <td>0.314601</td>\n",
       "      <td>0.888053</td>\n",
       "      <td>0.336743</td>\n",
       "      <td>0.227253</td>\n",
       "    </tr>\n",
       "    <tr>\n",
       "      <th>97</th>\n",
       "      <td>0.149090</td>\n",
       "      <td>0.831130</td>\n",
       "      <td>0.931220</td>\n",
       "      <td>0.641511</td>\n",
       "    </tr>\n",
       "    <tr>\n",
       "      <th>98</th>\n",
       "      <td>0.712854</td>\n",
       "      <td>0.717047</td>\n",
       "      <td>0.521387</td>\n",
       "      <td>0.169469</td>\n",
       "    </tr>\n",
       "    <tr>\n",
       "      <th>99</th>\n",
       "      <td>0.610496</td>\n",
       "      <td>0.996401</td>\n",
       "      <td>0.095651</td>\n",
       "      <td>0.050261</td>\n",
       "    </tr>\n",
       "  </tbody>\n",
       "</table>\n",
       "</div>"
      ],
      "text/plain": [
       "           0         1         2         3\n",
       "95  0.458456  0.322819  0.838723  0.094506\n",
       "96  0.314601  0.888053  0.336743  0.227253\n",
       "97  0.149090  0.831130  0.931220  0.641511\n",
       "98  0.712854  0.717047  0.521387  0.169469\n",
       "99  0.610496  0.996401  0.095651  0.050261"
      ]
     },
     "execution_count": 51,
     "metadata": {},
     "output_type": "execute_result"
    }
   ],
   "source": [
    "df.tail()"
   ]
  },
  {
   "cell_type": "markdown",
   "metadata": {
    "id": "BO5bWmD_2otG"
   },
   "source": [
    "### Computational tools"
   ]
  },
  {
   "cell_type": "markdown",
   "metadata": {
    "id": "ljMMyQvH3Ece"
   },
   "source": [
    "### Covariance"
   ]
  },
  {
   "cell_type": "code",
   "execution_count": 52,
   "metadata": {
    "colab": {
     "base_uri": "https://localhost:8080/",
     "height": 206
    },
    "id": "XQOrSrUx23pk",
    "outputId": "e0fea7d4-e519-4f4e-c800-4fd752f7938b"
   },
   "outputs": [
    {
     "data": {
      "text/html": [
       "<div>\n",
       "<style scoped>\n",
       "    .dataframe tbody tr th:only-of-type {\n",
       "        vertical-align: middle;\n",
       "    }\n",
       "\n",
       "    .dataframe tbody tr th {\n",
       "        vertical-align: top;\n",
       "    }\n",
       "\n",
       "    .dataframe thead th {\n",
       "        text-align: right;\n",
       "    }\n",
       "</style>\n",
       "<table border=\"1\" class=\"dataframe\">\n",
       "  <thead>\n",
       "    <tr style=\"text-align: right;\">\n",
       "      <th></th>\n",
       "      <th>0</th>\n",
       "      <th>1</th>\n",
       "      <th>2</th>\n",
       "      <th>3</th>\n",
       "      <th>4</th>\n",
       "    </tr>\n",
       "  </thead>\n",
       "  <tbody>\n",
       "    <tr>\n",
       "      <th>0</th>\n",
       "      <td>0.078837</td>\n",
       "      <td>-0.002443</td>\n",
       "      <td>0.027945</td>\n",
       "      <td>-0.058321</td>\n",
       "      <td>0.024631</td>\n",
       "    </tr>\n",
       "    <tr>\n",
       "      <th>1</th>\n",
       "      <td>-0.002443</td>\n",
       "      <td>0.091616</td>\n",
       "      <td>0.077758</td>\n",
       "      <td>-0.011091</td>\n",
       "      <td>0.035697</td>\n",
       "    </tr>\n",
       "    <tr>\n",
       "      <th>2</th>\n",
       "      <td>0.027945</td>\n",
       "      <td>0.077758</td>\n",
       "      <td>0.109283</td>\n",
       "      <td>-0.080743</td>\n",
       "      <td>0.041651</td>\n",
       "    </tr>\n",
       "    <tr>\n",
       "      <th>3</th>\n",
       "      <td>-0.058321</td>\n",
       "      <td>-0.011091</td>\n",
       "      <td>-0.080743</td>\n",
       "      <td>0.120657</td>\n",
       "      <td>-0.028492</td>\n",
       "    </tr>\n",
       "    <tr>\n",
       "      <th>4</th>\n",
       "      <td>0.024631</td>\n",
       "      <td>0.035697</td>\n",
       "      <td>0.041651</td>\n",
       "      <td>-0.028492</td>\n",
       "      <td>0.043772</td>\n",
       "    </tr>\n",
       "  </tbody>\n",
       "</table>\n",
       "</div>"
      ],
      "text/plain": [
       "          0         1         2         3         4\n",
       "0  0.078837 -0.002443  0.027945 -0.058321  0.024631\n",
       "1 -0.002443  0.091616  0.077758 -0.011091  0.035697\n",
       "2  0.027945  0.077758  0.109283 -0.080743  0.041651\n",
       "3 -0.058321 -0.011091 -0.080743  0.120657 -0.028492\n",
       "4  0.024631  0.035697  0.041651 -0.028492  0.043772"
      ]
     },
     "execution_count": 52,
     "metadata": {},
     "output_type": "execute_result"
    }
   ],
   "source": [
    "df = pd.DataFrame(np.random.rand(5,5))\n",
    "df.cov()"
   ]
  },
  {
   "cell_type": "markdown",
   "metadata": {
    "id": "Omrq2-Q72_jX"
   },
   "source": [
    "### Correlation"
   ]
  },
  {
   "cell_type": "code",
   "execution_count": 53,
   "metadata": {
    "colab": {
     "base_uri": "https://localhost:8080/",
     "height": 206
    },
    "id": "abEPT2W32_Ni",
    "outputId": "d36f8fe3-534e-4240-8c30-5337d2110f19"
   },
   "outputs": [
    {
     "data": {
      "text/html": [
       "<div>\n",
       "<style scoped>\n",
       "    .dataframe tbody tr th:only-of-type {\n",
       "        vertical-align: middle;\n",
       "    }\n",
       "\n",
       "    .dataframe tbody tr th {\n",
       "        vertical-align: top;\n",
       "    }\n",
       "\n",
       "    .dataframe thead th {\n",
       "        text-align: right;\n",
       "    }\n",
       "</style>\n",
       "<table border=\"1\" class=\"dataframe\">\n",
       "  <thead>\n",
       "    <tr style=\"text-align: right;\">\n",
       "      <th></th>\n",
       "      <th>0</th>\n",
       "      <th>1</th>\n",
       "      <th>2</th>\n",
       "      <th>3</th>\n",
       "      <th>4</th>\n",
       "    </tr>\n",
       "  </thead>\n",
       "  <tbody>\n",
       "    <tr>\n",
       "      <th>0</th>\n",
       "      <td>1.000000</td>\n",
       "      <td>-0.028748</td>\n",
       "      <td>0.301071</td>\n",
       "      <td>-0.597977</td>\n",
       "      <td>0.419300</td>\n",
       "    </tr>\n",
       "    <tr>\n",
       "      <th>1</th>\n",
       "      <td>-0.028748</td>\n",
       "      <td>1.000000</td>\n",
       "      <td>0.777110</td>\n",
       "      <td>-0.105489</td>\n",
       "      <td>0.563693</td>\n",
       "    </tr>\n",
       "    <tr>\n",
       "      <th>2</th>\n",
       "      <td>0.301071</td>\n",
       "      <td>0.777110</td>\n",
       "      <td>1.000000</td>\n",
       "      <td>-0.703156</td>\n",
       "      <td>0.602217</td>\n",
       "    </tr>\n",
       "    <tr>\n",
       "      <th>3</th>\n",
       "      <td>-0.597977</td>\n",
       "      <td>-0.105489</td>\n",
       "      <td>-0.703156</td>\n",
       "      <td>1.000000</td>\n",
       "      <td>-0.392053</td>\n",
       "    </tr>\n",
       "    <tr>\n",
       "      <th>4</th>\n",
       "      <td>0.419300</td>\n",
       "      <td>0.563693</td>\n",
       "      <td>0.602217</td>\n",
       "      <td>-0.392053</td>\n",
       "      <td>1.000000</td>\n",
       "    </tr>\n",
       "  </tbody>\n",
       "</table>\n",
       "</div>"
      ],
      "text/plain": [
       "          0         1         2         3         4\n",
       "0  1.000000 -0.028748  0.301071 -0.597977  0.419300\n",
       "1 -0.028748  1.000000  0.777110 -0.105489  0.563693\n",
       "2  0.301071  0.777110  1.000000 -0.703156  0.602217\n",
       "3 -0.597977 -0.105489 -0.703156  1.000000 -0.392053\n",
       "4  0.419300  0.563693  0.602217 -0.392053  1.000000"
      ]
     },
     "execution_count": 53,
     "metadata": {},
     "output_type": "execute_result"
    }
   ],
   "source": [
    "df.corr() # pearson (default), kendall, spearman"
   ]
  },
  {
   "cell_type": "markdown",
   "metadata": {
    "id": "YgNRhMC33wLE"
   },
   "source": [
    "### `mean()`, `sum()`, `describe()`"
   ]
  },
  {
   "cell_type": "code",
   "execution_count": 54,
   "metadata": {
    "colab": {
     "base_uri": "https://localhost:8080/"
    },
    "id": "eB30h7LY4Id_",
    "outputId": "da797f9a-c6bc-460f-c0ef-1b5fe1837d58"
   },
   "outputs": [
    {
     "data": {
      "text/plain": [
       "0    0.763392\n",
       "1    0.385686\n",
       "2    0.353335\n",
       "3    0.521421\n",
       "4    0.641901\n",
       "dtype: float64"
      ]
     },
     "execution_count": 54,
     "metadata": {},
     "output_type": "execute_result"
    }
   ],
   "source": [
    "df.mean()"
   ]
  },
  {
   "cell_type": "code",
   "execution_count": 55,
   "metadata": {
    "colab": {
     "base_uri": "https://localhost:8080/"
    },
    "id": "hJqgdgdT4MdK",
    "outputId": "65f7a511-d303-4f2f-8c51-a648f73006a7"
   },
   "outputs": [
    {
     "data": {
      "text/plain": [
       "0    3.816961\n",
       "1    1.928430\n",
       "2    1.766673\n",
       "3    2.607105\n",
       "4    3.209507\n",
       "dtype: float64"
      ]
     },
     "execution_count": 55,
     "metadata": {},
     "output_type": "execute_result"
    }
   ],
   "source": [
    "df.sum()"
   ]
  },
  {
   "cell_type": "code",
   "execution_count": 56,
   "metadata": {
    "colab": {
     "base_uri": "https://localhost:8080/",
     "height": 300
    },
    "id": "LsmR45W44ORW",
    "outputId": "52db656b-c446-480e-a9ca-cbf5cb39b925"
   },
   "outputs": [
    {
     "data": {
      "text/html": [
       "<div>\n",
       "<style scoped>\n",
       "    .dataframe tbody tr th:only-of-type {\n",
       "        vertical-align: middle;\n",
       "    }\n",
       "\n",
       "    .dataframe tbody tr th {\n",
       "        vertical-align: top;\n",
       "    }\n",
       "\n",
       "    .dataframe thead th {\n",
       "        text-align: right;\n",
       "    }\n",
       "</style>\n",
       "<table border=\"1\" class=\"dataframe\">\n",
       "  <thead>\n",
       "    <tr style=\"text-align: right;\">\n",
       "      <th></th>\n",
       "      <th>0</th>\n",
       "      <th>1</th>\n",
       "      <th>2</th>\n",
       "      <th>3</th>\n",
       "      <th>4</th>\n",
       "    </tr>\n",
       "  </thead>\n",
       "  <tbody>\n",
       "    <tr>\n",
       "      <th>count</th>\n",
       "      <td>5.000000</td>\n",
       "      <td>5.000000</td>\n",
       "      <td>5.000000</td>\n",
       "      <td>5.000000</td>\n",
       "      <td>5.000000</td>\n",
       "    </tr>\n",
       "    <tr>\n",
       "      <th>mean</th>\n",
       "      <td>0.763392</td>\n",
       "      <td>0.385686</td>\n",
       "      <td>0.353335</td>\n",
       "      <td>0.521421</td>\n",
       "      <td>0.641901</td>\n",
       "    </tr>\n",
       "    <tr>\n",
       "      <th>std</th>\n",
       "      <td>0.280780</td>\n",
       "      <td>0.302681</td>\n",
       "      <td>0.330580</td>\n",
       "      <td>0.347357</td>\n",
       "      <td>0.209218</td>\n",
       "    </tr>\n",
       "    <tr>\n",
       "      <th>min</th>\n",
       "      <td>0.261853</td>\n",
       "      <td>0.002514</td>\n",
       "      <td>0.028697</td>\n",
       "      <td>0.056282</td>\n",
       "      <td>0.381321</td>\n",
       "    </tr>\n",
       "    <tr>\n",
       "      <th>25%</th>\n",
       "      <td>0.866825</td>\n",
       "      <td>0.170319</td>\n",
       "      <td>0.164802</td>\n",
       "      <td>0.320608</td>\n",
       "      <td>0.494209</td>\n",
       "    </tr>\n",
       "    <tr>\n",
       "      <th>50%</th>\n",
       "      <td>0.882765</td>\n",
       "      <td>0.404843</td>\n",
       "      <td>0.325291</td>\n",
       "      <td>0.526019</td>\n",
       "      <td>0.699847</td>\n",
       "    </tr>\n",
       "    <tr>\n",
       "      <th>75%</th>\n",
       "      <td>0.900248</td>\n",
       "      <td>0.625129</td>\n",
       "      <td>0.351036</td>\n",
       "      <td>0.791973</td>\n",
       "      <td>0.715448</td>\n",
       "    </tr>\n",
       "    <tr>\n",
       "      <th>max</th>\n",
       "      <td>0.905269</td>\n",
       "      <td>0.725625</td>\n",
       "      <td>0.896847</td>\n",
       "      <td>0.912223</td>\n",
       "      <td>0.918681</td>\n",
       "    </tr>\n",
       "  </tbody>\n",
       "</table>\n",
       "</div>"
      ],
      "text/plain": [
       "              0         1         2         3         4\n",
       "count  5.000000  5.000000  5.000000  5.000000  5.000000\n",
       "mean   0.763392  0.385686  0.353335  0.521421  0.641901\n",
       "std    0.280780  0.302681  0.330580  0.347357  0.209218\n",
       "min    0.261853  0.002514  0.028697  0.056282  0.381321\n",
       "25%    0.866825  0.170319  0.164802  0.320608  0.494209\n",
       "50%    0.882765  0.404843  0.325291  0.526019  0.699847\n",
       "75%    0.900248  0.625129  0.351036  0.791973  0.715448\n",
       "max    0.905269  0.725625  0.896847  0.912223  0.918681"
      ]
     },
     "execution_count": 56,
     "metadata": {},
     "output_type": "execute_result"
    }
   ],
   "source": [
    "df.describe()"
   ]
  },
  {
   "cell_type": "markdown",
   "metadata": {
    "id": "qL0xo3jE21cj"
   },
   "source": [
    "### Data ranking"
   ]
  },
  {
   "cell_type": "markdown",
   "metadata": {
    "id": "MkRbeFSU5bhC"
   },
   "source": [
    "## Missing data (NaN value)"
   ]
  },
  {
   "cell_type": "code",
   "execution_count": 57,
   "metadata": {
    "colab": {
     "base_uri": "https://localhost:8080/",
     "height": 206
    },
    "id": "Pth4B8Up5oMe",
    "outputId": "98534856-c078-4698-fbc9-691486f9189d"
   },
   "outputs": [
    {
     "data": {
      "text/html": [
       "<div>\n",
       "<style scoped>\n",
       "    .dataframe tbody tr th:only-of-type {\n",
       "        vertical-align: middle;\n",
       "    }\n",
       "\n",
       "    .dataframe tbody tr th {\n",
       "        vertical-align: top;\n",
       "    }\n",
       "\n",
       "    .dataframe thead th {\n",
       "        text-align: right;\n",
       "    }\n",
       "</style>\n",
       "<table border=\"1\" class=\"dataframe\">\n",
       "  <thead>\n",
       "    <tr style=\"text-align: right;\">\n",
       "      <th></th>\n",
       "      <th>0</th>\n",
       "      <th>1</th>\n",
       "      <th>2</th>\n",
       "      <th>3</th>\n",
       "      <th>4</th>\n",
       "    </tr>\n",
       "  </thead>\n",
       "  <tbody>\n",
       "    <tr>\n",
       "      <th>0</th>\n",
       "      <td>0.239358</td>\n",
       "      <td>NaN</td>\n",
       "      <td>0.607007</td>\n",
       "      <td>0.463945</td>\n",
       "      <td>0.672956</td>\n",
       "    </tr>\n",
       "    <tr>\n",
       "      <th>1</th>\n",
       "      <td>0.231106</td>\n",
       "      <td>0.735020</td>\n",
       "      <td>0.927475</td>\n",
       "      <td>0.932690</td>\n",
       "      <td>0.765121</td>\n",
       "    </tr>\n",
       "    <tr>\n",
       "      <th>2</th>\n",
       "      <td>0.238936</td>\n",
       "      <td>0.395383</td>\n",
       "      <td>NaN</td>\n",
       "      <td>0.772387</td>\n",
       "      <td>0.677447</td>\n",
       "    </tr>\n",
       "    <tr>\n",
       "      <th>3</th>\n",
       "      <td>0.611302</td>\n",
       "      <td>NaN</td>\n",
       "      <td>0.495575</td>\n",
       "      <td>NaN</td>\n",
       "      <td>0.318354</td>\n",
       "    </tr>\n",
       "    <tr>\n",
       "      <th>4</th>\n",
       "      <td>0.854343</td>\n",
       "      <td>0.723677</td>\n",
       "      <td>0.753272</td>\n",
       "      <td>0.058250</td>\n",
       "      <td>0.036184</td>\n",
       "    </tr>\n",
       "  </tbody>\n",
       "</table>\n",
       "</div>"
      ],
      "text/plain": [
       "          0         1         2         3         4\n",
       "0  0.239358       NaN  0.607007  0.463945  0.672956\n",
       "1  0.231106  0.735020  0.927475  0.932690  0.765121\n",
       "2  0.238936  0.395383       NaN  0.772387  0.677447\n",
       "3  0.611302       NaN  0.495575       NaN  0.318354\n",
       "4  0.854343  0.723677  0.753272  0.058250  0.036184"
      ]
     },
     "execution_count": 57,
     "metadata": {},
     "output_type": "execute_result"
    }
   ],
   "source": [
    "df = pd.DataFrame(np.random.rand(5,5))\n",
    "df.iloc[0,1] = np.nan\n",
    "df.iloc[2,2] = np.nan\n",
    "df.iloc[3,1] = np.nan\n",
    "df.iloc[3,3] = np.nan\n",
    "df"
   ]
  },
  {
   "cell_type": "code",
   "execution_count": 58,
   "metadata": {
    "colab": {
     "base_uri": "https://localhost:8080/",
     "height": 206
    },
    "id": "2XoP9Bwr9wWN",
    "outputId": "a5e3991c-2e58-4d15-eb08-08e3d67a6279"
   },
   "outputs": [
    {
     "data": {
      "text/html": [
       "<div>\n",
       "<style scoped>\n",
       "    .dataframe tbody tr th:only-of-type {\n",
       "        vertical-align: middle;\n",
       "    }\n",
       "\n",
       "    .dataframe tbody tr th {\n",
       "        vertical-align: top;\n",
       "    }\n",
       "\n",
       "    .dataframe thead th {\n",
       "        text-align: right;\n",
       "    }\n",
       "</style>\n",
       "<table border=\"1\" class=\"dataframe\">\n",
       "  <thead>\n",
       "    <tr style=\"text-align: right;\">\n",
       "      <th></th>\n",
       "      <th>0</th>\n",
       "      <th>1</th>\n",
       "      <th>2</th>\n",
       "      <th>3</th>\n",
       "      <th>4</th>\n",
       "    </tr>\n",
       "  </thead>\n",
       "  <tbody>\n",
       "    <tr>\n",
       "      <th>0</th>\n",
       "      <td>False</td>\n",
       "      <td>True</td>\n",
       "      <td>False</td>\n",
       "      <td>False</td>\n",
       "      <td>False</td>\n",
       "    </tr>\n",
       "    <tr>\n",
       "      <th>1</th>\n",
       "      <td>False</td>\n",
       "      <td>False</td>\n",
       "      <td>False</td>\n",
       "      <td>False</td>\n",
       "      <td>False</td>\n",
       "    </tr>\n",
       "    <tr>\n",
       "      <th>2</th>\n",
       "      <td>False</td>\n",
       "      <td>False</td>\n",
       "      <td>True</td>\n",
       "      <td>False</td>\n",
       "      <td>False</td>\n",
       "    </tr>\n",
       "    <tr>\n",
       "      <th>3</th>\n",
       "      <td>False</td>\n",
       "      <td>True</td>\n",
       "      <td>False</td>\n",
       "      <td>True</td>\n",
       "      <td>False</td>\n",
       "    </tr>\n",
       "    <tr>\n",
       "      <th>4</th>\n",
       "      <td>False</td>\n",
       "      <td>False</td>\n",
       "      <td>False</td>\n",
       "      <td>False</td>\n",
       "      <td>False</td>\n",
       "    </tr>\n",
       "  </tbody>\n",
       "</table>\n",
       "</div>"
      ],
      "text/plain": [
       "       0      1      2      3      4\n",
       "0  False   True  False  False  False\n",
       "1  False  False  False  False  False\n",
       "2  False  False   True  False  False\n",
       "3  False   True  False   True  False\n",
       "4  False  False  False  False  False"
      ]
     },
     "execution_count": 58,
     "metadata": {},
     "output_type": "execute_result"
    }
   ],
   "source": [
    "# detecting nan value\n",
    "df.isnull()"
   ]
  },
  {
   "cell_type": "code",
   "execution_count": 59,
   "metadata": {
    "colab": {
     "base_uri": "https://localhost:8080/",
     "height": 206
    },
    "id": "O37Zazgp95Ve",
    "outputId": "d2f959af-39a1-4ea2-9645-b23e1853abcd"
   },
   "outputs": [
    {
     "data": {
      "text/html": [
       "<div>\n",
       "<style scoped>\n",
       "    .dataframe tbody tr th:only-of-type {\n",
       "        vertical-align: middle;\n",
       "    }\n",
       "\n",
       "    .dataframe tbody tr th {\n",
       "        vertical-align: top;\n",
       "    }\n",
       "\n",
       "    .dataframe thead th {\n",
       "        text-align: right;\n",
       "    }\n",
       "</style>\n",
       "<table border=\"1\" class=\"dataframe\">\n",
       "  <thead>\n",
       "    <tr style=\"text-align: right;\">\n",
       "      <th></th>\n",
       "      <th>0</th>\n",
       "      <th>1</th>\n",
       "      <th>2</th>\n",
       "      <th>3</th>\n",
       "      <th>4</th>\n",
       "    </tr>\n",
       "  </thead>\n",
       "  <tbody>\n",
       "    <tr>\n",
       "      <th>0</th>\n",
       "      <td>True</td>\n",
       "      <td>False</td>\n",
       "      <td>True</td>\n",
       "      <td>True</td>\n",
       "      <td>True</td>\n",
       "    </tr>\n",
       "    <tr>\n",
       "      <th>1</th>\n",
       "      <td>True</td>\n",
       "      <td>True</td>\n",
       "      <td>True</td>\n",
       "      <td>True</td>\n",
       "      <td>True</td>\n",
       "    </tr>\n",
       "    <tr>\n",
       "      <th>2</th>\n",
       "      <td>True</td>\n",
       "      <td>True</td>\n",
       "      <td>False</td>\n",
       "      <td>True</td>\n",
       "      <td>True</td>\n",
       "    </tr>\n",
       "    <tr>\n",
       "      <th>3</th>\n",
       "      <td>True</td>\n",
       "      <td>False</td>\n",
       "      <td>True</td>\n",
       "      <td>False</td>\n",
       "      <td>True</td>\n",
       "    </tr>\n",
       "    <tr>\n",
       "      <th>4</th>\n",
       "      <td>True</td>\n",
       "      <td>True</td>\n",
       "      <td>True</td>\n",
       "      <td>True</td>\n",
       "      <td>True</td>\n",
       "    </tr>\n",
       "  </tbody>\n",
       "</table>\n",
       "</div>"
      ],
      "text/plain": [
       "      0      1      2      3     4\n",
       "0  True  False   True   True  True\n",
       "1  True   True   True   True  True\n",
       "2  True   True  False   True  True\n",
       "3  True  False   True  False  True\n",
       "4  True   True   True   True  True"
      ]
     },
     "execution_count": 59,
     "metadata": {},
     "output_type": "execute_result"
    }
   ],
   "source": [
    "# detecting nan value\n",
    "df.notnull()"
   ]
  },
  {
   "cell_type": "code",
   "execution_count": 60,
   "metadata": {
    "colab": {
     "base_uri": "https://localhost:8080/",
     "height": 206
    },
    "id": "YPs5h6UB98M5",
    "outputId": "c9eb9af1-a272-4ac0-b1f8-23336eab4e6c"
   },
   "outputs": [
    {
     "data": {
      "text/html": [
       "<div>\n",
       "<style scoped>\n",
       "    .dataframe tbody tr th:only-of-type {\n",
       "        vertical-align: middle;\n",
       "    }\n",
       "\n",
       "    .dataframe tbody tr th {\n",
       "        vertical-align: top;\n",
       "    }\n",
       "\n",
       "    .dataframe thead th {\n",
       "        text-align: right;\n",
       "    }\n",
       "</style>\n",
       "<table border=\"1\" class=\"dataframe\">\n",
       "  <thead>\n",
       "    <tr style=\"text-align: right;\">\n",
       "      <th></th>\n",
       "      <th>0</th>\n",
       "      <th>1</th>\n",
       "      <th>2</th>\n",
       "      <th>3</th>\n",
       "      <th>4</th>\n",
       "    </tr>\n",
       "  </thead>\n",
       "  <tbody>\n",
       "    <tr>\n",
       "      <th>0</th>\n",
       "      <td>False</td>\n",
       "      <td>True</td>\n",
       "      <td>False</td>\n",
       "      <td>False</td>\n",
       "      <td>False</td>\n",
       "    </tr>\n",
       "    <tr>\n",
       "      <th>1</th>\n",
       "      <td>False</td>\n",
       "      <td>False</td>\n",
       "      <td>False</td>\n",
       "      <td>False</td>\n",
       "      <td>False</td>\n",
       "    </tr>\n",
       "    <tr>\n",
       "      <th>2</th>\n",
       "      <td>False</td>\n",
       "      <td>False</td>\n",
       "      <td>True</td>\n",
       "      <td>False</td>\n",
       "      <td>False</td>\n",
       "    </tr>\n",
       "    <tr>\n",
       "      <th>3</th>\n",
       "      <td>False</td>\n",
       "      <td>True</td>\n",
       "      <td>False</td>\n",
       "      <td>True</td>\n",
       "      <td>False</td>\n",
       "    </tr>\n",
       "    <tr>\n",
       "      <th>4</th>\n",
       "      <td>False</td>\n",
       "      <td>False</td>\n",
       "      <td>False</td>\n",
       "      <td>False</td>\n",
       "      <td>False</td>\n",
       "    </tr>\n",
       "  </tbody>\n",
       "</table>\n",
       "</div>"
      ],
      "text/plain": [
       "       0      1      2      3      4\n",
       "0  False   True  False  False  False\n",
       "1  False  False  False  False  False\n",
       "2  False  False   True  False  False\n",
       "3  False   True  False   True  False\n",
       "4  False  False  False  False  False"
      ]
     },
     "execution_count": 60,
     "metadata": {},
     "output_type": "execute_result"
    }
   ],
   "source": [
    "df.isna()"
   ]
  },
  {
   "cell_type": "code",
   "execution_count": 61,
   "metadata": {
    "colab": {
     "base_uri": "https://localhost:8080/",
     "height": 206
    },
    "id": "mmE-Vtkc-POU",
    "outputId": "57f9ef90-800f-497f-eb13-f4a309d8530a"
   },
   "outputs": [
    {
     "data": {
      "text/html": [
       "<div>\n",
       "<style scoped>\n",
       "    .dataframe tbody tr th:only-of-type {\n",
       "        vertical-align: middle;\n",
       "    }\n",
       "\n",
       "    .dataframe tbody tr th {\n",
       "        vertical-align: top;\n",
       "    }\n",
       "\n",
       "    .dataframe thead th {\n",
       "        text-align: right;\n",
       "    }\n",
       "</style>\n",
       "<table border=\"1\" class=\"dataframe\">\n",
       "  <thead>\n",
       "    <tr style=\"text-align: right;\">\n",
       "      <th></th>\n",
       "      <th>0</th>\n",
       "      <th>1</th>\n",
       "      <th>2</th>\n",
       "      <th>3</th>\n",
       "      <th>4</th>\n",
       "    </tr>\n",
       "  </thead>\n",
       "  <tbody>\n",
       "    <tr>\n",
       "      <th>0</th>\n",
       "      <td>0.239358</td>\n",
       "      <td>0.000000</td>\n",
       "      <td>0.607007</td>\n",
       "      <td>0.463945</td>\n",
       "      <td>0.672956</td>\n",
       "    </tr>\n",
       "    <tr>\n",
       "      <th>1</th>\n",
       "      <td>0.231106</td>\n",
       "      <td>0.735020</td>\n",
       "      <td>0.927475</td>\n",
       "      <td>0.932690</td>\n",
       "      <td>0.765121</td>\n",
       "    </tr>\n",
       "    <tr>\n",
       "      <th>2</th>\n",
       "      <td>0.238936</td>\n",
       "      <td>0.395383</td>\n",
       "      <td>0.000000</td>\n",
       "      <td>0.772387</td>\n",
       "      <td>0.677447</td>\n",
       "    </tr>\n",
       "    <tr>\n",
       "      <th>3</th>\n",
       "      <td>0.611302</td>\n",
       "      <td>0.000000</td>\n",
       "      <td>0.495575</td>\n",
       "      <td>0.000000</td>\n",
       "      <td>0.318354</td>\n",
       "    </tr>\n",
       "    <tr>\n",
       "      <th>4</th>\n",
       "      <td>0.854343</td>\n",
       "      <td>0.723677</td>\n",
       "      <td>0.753272</td>\n",
       "      <td>0.058250</td>\n",
       "      <td>0.036184</td>\n",
       "    </tr>\n",
       "  </tbody>\n",
       "</table>\n",
       "</div>"
      ],
      "text/plain": [
       "          0         1         2         3         4\n",
       "0  0.239358  0.000000  0.607007  0.463945  0.672956\n",
       "1  0.231106  0.735020  0.927475  0.932690  0.765121\n",
       "2  0.238936  0.395383  0.000000  0.772387  0.677447\n",
       "3  0.611302  0.000000  0.495575  0.000000  0.318354\n",
       "4  0.854343  0.723677  0.753272  0.058250  0.036184"
      ]
     },
     "execution_count": 61,
     "metadata": {},
     "output_type": "execute_result"
    }
   ],
   "source": [
    "# fill nan using a specify value\n",
    "df.fillna(value=0)"
   ]
  },
  {
   "cell_type": "code",
   "execution_count": 62,
   "metadata": {
    "colab": {
     "base_uri": "https://localhost:8080/",
     "height": 206
    },
    "id": "CWl_6asY-VWN",
    "outputId": "de39f3a8-85fc-4639-dce3-264213a09c5d"
   },
   "outputs": [
    {
     "data": {
      "text/html": [
       "<div>\n",
       "<style scoped>\n",
       "    .dataframe tbody tr th:only-of-type {\n",
       "        vertical-align: middle;\n",
       "    }\n",
       "\n",
       "    .dataframe tbody tr th {\n",
       "        vertical-align: top;\n",
       "    }\n",
       "\n",
       "    .dataframe thead th {\n",
       "        text-align: right;\n",
       "    }\n",
       "</style>\n",
       "<table border=\"1\" class=\"dataframe\">\n",
       "  <thead>\n",
       "    <tr style=\"text-align: right;\">\n",
       "      <th></th>\n",
       "      <th>0</th>\n",
       "      <th>1</th>\n",
       "      <th>2</th>\n",
       "      <th>3</th>\n",
       "      <th>4</th>\n",
       "    </tr>\n",
       "  </thead>\n",
       "  <tbody>\n",
       "    <tr>\n",
       "      <th>0</th>\n",
       "      <td>0.239358</td>\n",
       "      <td>NaN</td>\n",
       "      <td>0.607007</td>\n",
       "      <td>0.463945</td>\n",
       "      <td>0.672956</td>\n",
       "    </tr>\n",
       "    <tr>\n",
       "      <th>1</th>\n",
       "      <td>0.231106</td>\n",
       "      <td>0.735020</td>\n",
       "      <td>0.927475</td>\n",
       "      <td>0.932690</td>\n",
       "      <td>0.765121</td>\n",
       "    </tr>\n",
       "    <tr>\n",
       "      <th>2</th>\n",
       "      <td>0.238936</td>\n",
       "      <td>0.395383</td>\n",
       "      <td>NaN</td>\n",
       "      <td>0.772387</td>\n",
       "      <td>0.677447</td>\n",
       "    </tr>\n",
       "    <tr>\n",
       "      <th>3</th>\n",
       "      <td>0.611302</td>\n",
       "      <td>NaN</td>\n",
       "      <td>0.495575</td>\n",
       "      <td>NaN</td>\n",
       "      <td>0.318354</td>\n",
       "    </tr>\n",
       "    <tr>\n",
       "      <th>4</th>\n",
       "      <td>0.854343</td>\n",
       "      <td>0.723677</td>\n",
       "      <td>0.753272</td>\n",
       "      <td>0.058250</td>\n",
       "      <td>0.036184</td>\n",
       "    </tr>\n",
       "  </tbody>\n",
       "</table>\n",
       "</div>"
      ],
      "text/plain": [
       "          0         1         2         3         4\n",
       "0  0.239358       NaN  0.607007  0.463945  0.672956\n",
       "1  0.231106  0.735020  0.927475  0.932690  0.765121\n",
       "2  0.238936  0.395383       NaN  0.772387  0.677447\n",
       "3  0.611302       NaN  0.495575       NaN  0.318354\n",
       "4  0.854343  0.723677  0.753272  0.058250  0.036184"
      ]
     },
     "execution_count": 62,
     "metadata": {},
     "output_type": "execute_result"
    }
   ],
   "source": [
    "# fill nan using a method\n",
    "# set inplace to True, the changes will act on dataframe\n",
    "df.fillna(method=\"ffill\") # other method: ‘backfill’, ‘bfill’, ‘pad’\n",
    "df"
   ]
  },
  {
   "cell_type": "code",
   "execution_count": 63,
   "metadata": {
    "colab": {
     "base_uri": "https://localhost:8080/",
     "height": 206
    },
    "id": "uPaPb4xm_AWA",
    "outputId": "b314d87c-dc4f-457f-ec1c-dc7074a73da4"
   },
   "outputs": [
    {
     "data": {
      "text/html": [
       "<div>\n",
       "<style scoped>\n",
       "    .dataframe tbody tr th:only-of-type {\n",
       "        vertical-align: middle;\n",
       "    }\n",
       "\n",
       "    .dataframe tbody tr th {\n",
       "        vertical-align: top;\n",
       "    }\n",
       "\n",
       "    .dataframe thead th {\n",
       "        text-align: right;\n",
       "    }\n",
       "</style>\n",
       "<table border=\"1\" class=\"dataframe\">\n",
       "  <thead>\n",
       "    <tr style=\"text-align: right;\">\n",
       "      <th></th>\n",
       "      <th>0</th>\n",
       "      <th>1</th>\n",
       "      <th>2</th>\n",
       "      <th>3</th>\n",
       "      <th>4</th>\n",
       "    </tr>\n",
       "  </thead>\n",
       "  <tbody>\n",
       "    <tr>\n",
       "      <th>0</th>\n",
       "      <td>0.239358</td>\n",
       "      <td>NaN</td>\n",
       "      <td>0.607007</td>\n",
       "      <td>0.463945</td>\n",
       "      <td>0.672956</td>\n",
       "    </tr>\n",
       "    <tr>\n",
       "      <th>1</th>\n",
       "      <td>0.231106</td>\n",
       "      <td>0.735020</td>\n",
       "      <td>0.927475</td>\n",
       "      <td>0.932690</td>\n",
       "      <td>0.765121</td>\n",
       "    </tr>\n",
       "    <tr>\n",
       "      <th>2</th>\n",
       "      <td>0.238936</td>\n",
       "      <td>0.395383</td>\n",
       "      <td>0.927475</td>\n",
       "      <td>0.772387</td>\n",
       "      <td>0.677447</td>\n",
       "    </tr>\n",
       "    <tr>\n",
       "      <th>3</th>\n",
       "      <td>0.611302</td>\n",
       "      <td>0.395383</td>\n",
       "      <td>0.495575</td>\n",
       "      <td>0.772387</td>\n",
       "      <td>0.318354</td>\n",
       "    </tr>\n",
       "    <tr>\n",
       "      <th>4</th>\n",
       "      <td>0.854343</td>\n",
       "      <td>0.723677</td>\n",
       "      <td>0.753272</td>\n",
       "      <td>0.058250</td>\n",
       "      <td>0.036184</td>\n",
       "    </tr>\n",
       "  </tbody>\n",
       "</table>\n",
       "</div>"
      ],
      "text/plain": [
       "          0         1         2         3         4\n",
       "0  0.239358       NaN  0.607007  0.463945  0.672956\n",
       "1  0.231106  0.735020  0.927475  0.932690  0.765121\n",
       "2  0.238936  0.395383  0.927475  0.772387  0.677447\n",
       "3  0.611302  0.395383  0.495575  0.772387  0.318354\n",
       "4  0.854343  0.723677  0.753272  0.058250  0.036184"
      ]
     },
     "execution_count": 63,
     "metadata": {},
     "output_type": "execute_result"
    }
   ],
   "source": [
    "df.fillna(method=\"pad\")"
   ]
  },
  {
   "cell_type": "code",
   "execution_count": 64,
   "metadata": {
    "colab": {
     "base_uri": "https://localhost:8080/",
     "height": 175
    },
    "id": "mB_g5EN7Ak7v",
    "outputId": "fbdf760a-8fe4-47eb-cd45-94890ee08585"
   },
   "outputs": [
    {
     "data": {
      "text/html": [
       "<div>\n",
       "<style scoped>\n",
       "    .dataframe tbody tr th:only-of-type {\n",
       "        vertical-align: middle;\n",
       "    }\n",
       "\n",
       "    .dataframe tbody tr th {\n",
       "        vertical-align: top;\n",
       "    }\n",
       "\n",
       "    .dataframe thead th {\n",
       "        text-align: right;\n",
       "    }\n",
       "</style>\n",
       "<table border=\"1\" class=\"dataframe\">\n",
       "  <thead>\n",
       "    <tr style=\"text-align: right;\">\n",
       "      <th></th>\n",
       "      <th>0</th>\n",
       "      <th>1</th>\n",
       "      <th>2</th>\n",
       "      <th>3</th>\n",
       "      <th>4</th>\n",
       "    </tr>\n",
       "  </thead>\n",
       "  <tbody>\n",
       "    <tr>\n",
       "      <th>1</th>\n",
       "      <td>0.231106</td>\n",
       "      <td>0.735020</td>\n",
       "      <td>0.927475</td>\n",
       "      <td>0.93269</td>\n",
       "      <td>0.765121</td>\n",
       "    </tr>\n",
       "    <tr>\n",
       "      <th>4</th>\n",
       "      <td>0.854343</td>\n",
       "      <td>0.723677</td>\n",
       "      <td>0.753272</td>\n",
       "      <td>0.05825</td>\n",
       "      <td>0.036184</td>\n",
       "    </tr>\n",
       "  </tbody>\n",
       "</table>\n",
       "</div>"
      ],
      "text/plain": [
       "          0         1         2        3         4\n",
       "1  0.231106  0.735020  0.927475  0.93269  0.765121\n",
       "4  0.854343  0.723677  0.753272  0.05825  0.036184"
      ]
     },
     "execution_count": 64,
     "metadata": {},
     "output_type": "execute_result"
    }
   ],
   "source": [
    "# delete NaN value\n",
    "# ‘any’ : If any NA values are present, drop that row or column.\n",
    "# ‘all’ : If all values are NA, drop that row or column.\n",
    "\n",
    "# 0, or ‘index’ : Drop rows which contain missing values.\n",
    "# 1, or ‘columns’ : Drop columns which contain missing value.\n",
    "df.dropna(axis=\"index\",how=\"any\")"
   ]
  },
  {
   "cell_type": "markdown",
   "metadata": {
    "id": "L9VPonmsD0y8"
   },
   "source": [
    "## Date index"
   ]
  },
  {
   "cell_type": "code",
   "execution_count": 65,
   "metadata": {
    "id": "UASqMuqFD1MB"
   },
   "outputs": [],
   "source": [
    "# pd.read_csv(\"\")"
   ]
  },
  {
   "cell_type": "markdown",
   "metadata": {
    "id": "TACd0sy3LEkr"
   },
   "source": [
    "## Upsampling and Downsampling"
   ]
  },
  {
   "cell_type": "markdown",
   "metadata": {
    "id": "715aar99N1ov"
   },
   "source": [
    "* Upsampling: Increase the frequency of the samples by interpolation, such as from minutes to seconds. \n",
    "* Downsampling: Ddecrease the frequency of the samples by aggregation, such as from months to years.\n"
   ]
  },
  {
   "cell_type": "code",
   "execution_count": 66,
   "metadata": {
    "colab": {
     "base_uri": "https://localhost:8080/",
     "height": 238
    },
    "id": "8hO0jujq4l7S",
    "outputId": "e1514541-4ffe-4d0e-df7d-7803864ffd4b"
   },
   "outputs": [
    {
     "data": {
      "text/html": [
       "<div>\n",
       "<style scoped>\n",
       "    .dataframe tbody tr th:only-of-type {\n",
       "        vertical-align: middle;\n",
       "    }\n",
       "\n",
       "    .dataframe tbody tr th {\n",
       "        vertical-align: top;\n",
       "    }\n",
       "\n",
       "    .dataframe thead th {\n",
       "        text-align: right;\n",
       "    }\n",
       "</style>\n",
       "<table border=\"1\" class=\"dataframe\">\n",
       "  <thead>\n",
       "    <tr style=\"text-align: right;\">\n",
       "      <th></th>\n",
       "      <th>total_rainfall</th>\n",
       "    </tr>\n",
       "    <tr>\n",
       "      <th>month</th>\n",
       "      <th></th>\n",
       "    </tr>\n",
       "  </thead>\n",
       "  <tbody>\n",
       "    <tr>\n",
       "      <th>1982-01-01</th>\n",
       "      <td>107.1</td>\n",
       "    </tr>\n",
       "    <tr>\n",
       "      <th>1982-02-01</th>\n",
       "      <td>27.8</td>\n",
       "    </tr>\n",
       "    <tr>\n",
       "      <th>1982-03-01</th>\n",
       "      <td>160.8</td>\n",
       "    </tr>\n",
       "    <tr>\n",
       "      <th>1982-04-01</th>\n",
       "      <td>157.0</td>\n",
       "    </tr>\n",
       "    <tr>\n",
       "      <th>1982-05-01</th>\n",
       "      <td>102.2</td>\n",
       "    </tr>\n",
       "  </tbody>\n",
       "</table>\n",
       "</div>"
      ],
      "text/plain": [
       "            total_rainfall\n",
       "month                     \n",
       "1982-01-01           107.1\n",
       "1982-02-01            27.8\n",
       "1982-03-01           160.8\n",
       "1982-04-01           157.0\n",
       "1982-05-01           102.2"
      ]
     },
     "execution_count": 66,
     "metadata": {},
     "output_type": "execute_result"
    }
   ],
   "source": [
    "# prepare data, this section will be introduced in the next tutorial\n",
    "# Source: https://data.gov.sg/dataset/rainfall-monthly-total\n",
    "data = [{\"_id\": 1, \"total_rainfall\": \"107.1\", \"month\": \"1982-01\"}, {\"_id\": 2, \"total_rainfall\": \"27.8\", \"month\": \"1982-02\"}, {\"_id\": 3, \"total_rainfall\": \"160.8\", \"month\": \"1982-03\"}, {\"_id\": 4, \"total_rainfall\": \"157\", \"month\": \"1982-04\"}, {\"_id\": 5, \"total_rainfall\": \"102.2\", \"month\": \"1982-05\"}, {\"_id\": 6, \"total_rainfall\": \"59.5\", \"month\": \"1982-06\"}, {\"_id\": 7, \"total_rainfall\": \"76.3\", \"month\": \"1982-07\"}, {\"_id\": 8, \"total_rainfall\": \"169.5\", \"month\": \"1982-08\"}, {\"_id\": 9, \"total_rainfall\": \"54.1\", \"month\": \"1982-09\"}, {\"_id\": 10, \"total_rainfall\": \"39.3\", \"month\": \"1982-10\"}, {\"_id\": 11, \"total_rainfall\": \"134\", \"month\": \"1982-11\"}, {\"_id\": 12, \"total_rainfall\": \"494.1\", \"month\": \"1982-12\"}, {\"_id\": 13, \"total_rainfall\": \"246\", \"month\": \"1983-01\"}, {\"_id\": 14, \"total_rainfall\": \"5.6\", \"month\": \"1983-02\"}, {\"_id\": 15, \"total_rainfall\": \"18.6\", \"month\": \"1983-03\"}, {\"_id\": 16, \"total_rainfall\": \"33.6\", \"month\": \"1983-04\"}, {\"_id\": 17, \"total_rainfall\": \"160.8\", \"month\": \"1983-05\"}, {\"_id\": 18, \"total_rainfall\": \"94\", \"month\": \"1983-06\"}, {\"_id\": 19, \"total_rainfall\": \"190\", \"month\": \"1983-07\"}, {\"_id\": 20, \"total_rainfall\": \"262.2\", \"month\": \"1983-08\"}, {\"_id\": 21, \"total_rainfall\": \"170.8\", \"month\": \"1983-09\"}, {\"_id\": 22, \"total_rainfall\": \"212.7\", \"month\": \"1983-10\"}, {\"_id\": 23, \"total_rainfall\": \"228.8\", \"month\": \"1983-11\"}, {\"_id\": 24, \"total_rainfall\": \"370.6\", \"month\": \"1983-12\"}, {\"_id\": 25, \"total_rainfall\": \"251.2\", \"month\": \"1984-01\"}, {\"_id\": 26, \"total_rainfall\": \"470.4\", \"month\": \"1984-02\"}, {\"_id\": 27, \"total_rainfall\": \"361.3\", \"month\": \"1984-03\"}, {\"_id\": 28, \"total_rainfall\": \"153.1\", \"month\": \"1984-04\"}, {\"_id\": 29, \"total_rainfall\": \"186.5\", \"month\": \"1984-05\"}, {\"_id\": 30, \"total_rainfall\": \"255\", \"month\": \"1984-06\"}, {\"_id\": 31, \"total_rainfall\": \"127.2\", \"month\": \"1984-07\"}, {\"_id\": 32, \"total_rainfall\": \"102.7\", \"month\": \"1984-08\"}, {\"_id\": 33, \"total_rainfall\": \"186.7\", \"month\": \"1984-09\"}, {\"_id\": 34, \"total_rainfall\": \"187.5\", \"month\": \"1984-10\"}, {\"_id\": 35, \"total_rainfall\": \"127.7\", \"month\": \"1984-11\"}, {\"_id\": 36, \"total_rainfall\": \"277.4\", \"month\": \"1984-12\"}, {\"_id\": 37, \"total_rainfall\": \"111.1\", \"month\": \"1985-01\"}, {\"_id\": 38, \"total_rainfall\": \"79.3\", \"month\": \"1985-02\"}, {\"_id\": 39, \"total_rainfall\": \"88\", \"month\": \"1985-03\"}, {\"_id\": 40, \"total_rainfall\": \"110.5\", \"month\": \"1985-04\"}, {\"_id\": 41, \"total_rainfall\": \"70.1\", \"month\": \"1985-05\"}, {\"_id\": 42, \"total_rainfall\": \"37\", \"month\": \"1985-06\"}, {\"_id\": 43, \"total_rainfall\": \"131.8\", \"month\": \"1985-07\"}, {\"_id\": 44, \"total_rainfall\": \"56.9\", \"month\": \"1985-08\"}, {\"_id\": 45, \"total_rainfall\": \"110.7\", \"month\": \"1985-09\"}, {\"_id\": 46, \"total_rainfall\": \"169\", \"month\": \"1985-10\"}, {\"_id\": 47, \"total_rainfall\": \"179.4\", \"month\": \"1985-11\"}, {\"_id\": 48, \"total_rainfall\": \"340.1\", \"month\": \"1985-12\"}, {\"_id\": 49, \"total_rainfall\": \"308.2\", \"month\": \"1986-01\"}, {\"_id\": 50, \"total_rainfall\": \"26.7\", \"month\": \"1986-02\"}, {\"_id\": 51, \"total_rainfall\": \"353.4\", \"month\": \"1986-03\"}, {\"_id\": 52, \"total_rainfall\": \"150\", \"month\": \"1986-04\"}, {\"_id\": 53, \"total_rainfall\": \"145.1\", \"month\": \"1986-05\"}, {\"_id\": 54, \"total_rainfall\": \"122.9\", \"month\": \"1986-06\"}, {\"_id\": 55, \"total_rainfall\": \"109.7\", \"month\": \"1986-07\"}, {\"_id\": 56, \"total_rainfall\": \"72.9\", \"month\": \"1986-08\"}, {\"_id\": 57, \"total_rainfall\": \"396\", \"month\": \"1986-09\"}, {\"_id\": 58, \"total_rainfall\": \"227.3\", \"month\": \"1986-10\"}, {\"_id\": 59, \"total_rainfall\": \"256.7\", \"month\": \"1986-11\"}, {\"_id\": 60, \"total_rainfall\": \"367.2\", \"month\": \"1986-12\"}, {\"_id\": 61, \"total_rainfall\": \"568.6\", \"month\": \"1987-01\"}, {\"_id\": 62, \"total_rainfall\": \"86.9\", \"month\": \"1987-02\"}, {\"_id\": 63, \"total_rainfall\": \"132.5\", \"month\": \"1987-03\"}, {\"_id\": 64, \"total_rainfall\": \"72.5\", \"month\": \"1987-04\"}, {\"_id\": 65, \"total_rainfall\": \"270\", \"month\": \"1987-05\"}, {\"_id\": 66, \"total_rainfall\": \"126.6\", \"month\": \"1987-06\"}, {\"_id\": 67, \"total_rainfall\": \"80.9\", \"month\": \"1987-07\"}, {\"_id\": 68, \"total_rainfall\": \"191.9\", \"month\": \"1987-08\"}, {\"_id\": 69, \"total_rainfall\": \"129.9\", \"month\": \"1987-09\"}, {\"_id\": 70, \"total_rainfall\": \"22.6\", \"month\": \"1987-10\"}, {\"_id\": 71, \"total_rainfall\": \"347.6\", \"month\": \"1987-11\"}, {\"_id\": 72, \"total_rainfall\": \"72.8\", \"month\": \"1987-12\"}, {\"_id\": 73, \"total_rainfall\": \"237.5\", \"month\": \"1988-01\"}, {\"_id\": 74, \"total_rainfall\": \"158.1\", \"month\": \"1988-02\"}, {\"_id\": 75, \"total_rainfall\": \"186.8\", \"month\": \"1988-03\"}, {\"_id\": 76, \"total_rainfall\": \"109.6\", \"month\": \"1988-04\"}, {\"_id\": 77, \"total_rainfall\": \"229.6\", \"month\": \"1988-05\"}, {\"_id\": 78, \"total_rainfall\": \"252.2\", \"month\": \"1988-06\"}, {\"_id\": 79, \"total_rainfall\": \"305.4\", \"month\": \"1988-07\"}, {\"_id\": 80, \"total_rainfall\": \"80.1\", \"month\": \"1988-08\"}, {\"_id\": 81, \"total_rainfall\": \"440.4\", \"month\": \"1988-09\"}, {\"_id\": 82, \"total_rainfall\": \"134.6\", \"month\": \"1988-10\"}, {\"_id\": 83, \"total_rainfall\": \"401.4\", \"month\": \"1988-11\"}, {\"_id\": 84, \"total_rainfall\": \"62.9\", \"month\": \"1988-12\"}, {\"_id\": 85, \"total_rainfall\": \"189.7\", \"month\": \"1989-01\"}, {\"_id\": 86, \"total_rainfall\": \"52.4\", \"month\": \"1989-02\"}, {\"_id\": 87, \"total_rainfall\": \"305.9\", \"month\": \"1989-03\"}, {\"_id\": 88, \"total_rainfall\": \"198.6\", \"month\": \"1989-04\"}, {\"_id\": 89, \"total_rainfall\": \"194\", \"month\": \"1989-05\"}, {\"_id\": 90, \"total_rainfall\": \"117.6\", \"month\": \"1989-06\"}, {\"_id\": 91, \"total_rainfall\": \"157.6\", \"month\": \"1989-07\"}, {\"_id\": 92, \"total_rainfall\": \"201\", \"month\": \"1989-08\"}, {\"_id\": 93, \"total_rainfall\": \"247.3\", \"month\": \"1989-09\"}, {\"_id\": 94, \"total_rainfall\": \"111\", \"month\": \"1989-10\"}, {\"_id\": 95, \"total_rainfall\": \"508.4\", \"month\": \"1989-11\"}, {\"_id\": 96, \"total_rainfall\": \"179.7\", \"month\": \"1989-12\"}, {\"_id\": 97, \"total_rainfall\": \"147.4\", \"month\": \"1990-01\"}, {\"_id\": 98, \"total_rainfall\": \"24.1\", \"month\": \"1990-02\"}, {\"_id\": 99, \"total_rainfall\": \"94.2\", \"month\": \"1990-03\"}, {\"_id\": 100, \"total_rainfall\": \"52.4\", \"month\": \"1990-04\"}, {\"_id\": 101, \"total_rainfall\": \"180.1\", \"month\": \"1990-05\"}, {\"_id\": 102, \"total_rainfall\": \"112.6\", \"month\": \"1990-06\"}, {\"_id\": 103, \"total_rainfall\": \"124\", \"month\": \"1990-07\"}, {\"_id\": 104, \"total_rainfall\": \"146.6\", \"month\": \"1990-08\"}, {\"_id\": 105, \"total_rainfall\": \"204.5\", \"month\": \"1990-09\"}, {\"_id\": 106, \"total_rainfall\": \"56.4\", \"month\": \"1990-10\"}, {\"_id\": 107, \"total_rainfall\": \"180.4\", \"month\": \"1990-11\"}, {\"_id\": 108, \"total_rainfall\": \"201.1\", \"month\": \"1990-12\"}, {\"_id\": 109, \"total_rainfall\": \"123.9\", \"month\": \"1991-01\"}, {\"_id\": 110, \"total_rainfall\": \"45.5\", \"month\": \"1991-02\"}, {\"_id\": 111, \"total_rainfall\": \"92.4\", \"month\": \"1991-03\"}, {\"_id\": 112, \"total_rainfall\": \"134.2\", \"month\": \"1991-04\"}, {\"_id\": 113, \"total_rainfall\": \"256.4\", \"month\": \"1991-05\"}, {\"_id\": 114, \"total_rainfall\": \"88.7\", \"month\": \"1991-06\"}, {\"_id\": 115, \"total_rainfall\": \"37.3\", \"month\": \"1991-07\"}, {\"_id\": 116, \"total_rainfall\": \"226.2\", \"month\": \"1991-08\"}, {\"_id\": 117, \"total_rainfall\": \"123.1\", \"month\": \"1991-09\"}, {\"_id\": 118, \"total_rainfall\": \"52\", \"month\": \"1991-10\"}, {\"_id\": 119, \"total_rainfall\": \"205\", \"month\": \"1991-11\"}, {\"_id\": 120, \"total_rainfall\": \"492.3\", \"month\": \"1991-12\"}, {\"_id\": 121, \"total_rainfall\": \"83.9\", \"month\": \"1992-01\"}, {\"_id\": 122, \"total_rainfall\": \"62.4\", \"month\": \"1992-02\"}, {\"_id\": 123, \"total_rainfall\": \"67.6\", \"month\": \"1992-03\"}, {\"_id\": 124, \"total_rainfall\": \"160.3\", \"month\": \"1992-04\"}, {\"_id\": 125, \"total_rainfall\": \"63.1\", \"month\": \"1992-05\"}, {\"_id\": 126, \"total_rainfall\": \"162.8\", \"month\": \"1992-06\"}, {\"_id\": 127, \"total_rainfall\": \"290.8\", \"month\": \"1992-07\"}, {\"_id\": 128, \"total_rainfall\": \"76.1\", \"month\": \"1992-08\"}, {\"_id\": 129, \"total_rainfall\": \"83.6\", \"month\": \"1992-09\"}, {\"_id\": 130, \"total_rainfall\": \"233.2\", \"month\": \"1992-10\"}, {\"_id\": 131, \"total_rainfall\": \"474.3\", \"month\": \"1992-11\"}, {\"_id\": 132, \"total_rainfall\": \"502.7\", \"month\": \"1992-12\"}, {\"_id\": 133, \"total_rainfall\": \"176.4\", \"month\": \"1993-01\"}, {\"_id\": 134, \"total_rainfall\": \"69.2\", \"month\": \"1993-02\"}, {\"_id\": 135, \"total_rainfall\": \"250.5\", \"month\": \"1993-03\"}, {\"_id\": 136, \"total_rainfall\": \"283.9\", \"month\": \"1993-04\"}, {\"_id\": 137, \"total_rainfall\": \"129.9\", \"month\": \"1993-05\"}, {\"_id\": 138, \"total_rainfall\": \"115.5\", \"month\": \"1993-06\"}, {\"_id\": 139, \"total_rainfall\": \"240\", \"month\": \"1993-07\"}, {\"_id\": 140, \"total_rainfall\": \"106.8\", \"month\": \"1993-08\"}, {\"_id\": 141, \"total_rainfall\": \"61.7\", \"month\": \"1993-09\"}, {\"_id\": 142, \"total_rainfall\": \"175.5\", \"month\": \"1993-10\"}, {\"_id\": 143, \"total_rainfall\": \"250.8\", \"month\": \"1993-11\"}, {\"_id\": 144, \"total_rainfall\": \"308.5\", \"month\": \"1993-12\"}, {\"_id\": 145, \"total_rainfall\": \"56.9\", \"month\": \"1994-01\"}, {\"_id\": 146, \"total_rainfall\": \"133.5\", \"month\": \"1994-02\"}, {\"_id\": 147, \"total_rainfall\": \"288.2\", \"month\": \"1994-03\"}, {\"_id\": 148, \"total_rainfall\": \"154\", \"month\": \"1994-04\"}, {\"_id\": 149, \"total_rainfall\": \"169.6\", \"month\": \"1994-05\"}, {\"_id\": 150, \"total_rainfall\": \"184.7\", \"month\": \"1994-06\"}, {\"_id\": 151, \"total_rainfall\": \"53.8\", \"month\": \"1994-07\"}, {\"_id\": 152, \"total_rainfall\": \"45.1\", \"month\": \"1994-08\"}, {\"_id\": 153, \"total_rainfall\": \"23.7\", \"month\": \"1994-09\"}, {\"_id\": 154, \"total_rainfall\": \"84.7\", \"month\": \"1994-10\"}, {\"_id\": 155, \"total_rainfall\": \"322.2\", \"month\": \"1994-11\"}, {\"_id\": 156, \"total_rainfall\": \"425.4\", \"month\": \"1994-12\"}, {\"_id\": 157, \"total_rainfall\": \"349.4\", \"month\": \"1995-01\"}, {\"_id\": 158, \"total_rainfall\": \"334\", \"month\": \"1995-02\"}, {\"_id\": 159, \"total_rainfall\": \"67.7\", \"month\": \"1995-03\"}, {\"_id\": 160, \"total_rainfall\": \"242.3\", \"month\": \"1995-04\"}, {\"_id\": 161, \"total_rainfall\": \"84.4\", \"month\": \"1995-05\"}, {\"_id\": 162, \"total_rainfall\": \"63.7\", \"month\": \"1995-06\"}, {\"_id\": 163, \"total_rainfall\": \"173.6\", \"month\": \"1995-07\"}, {\"_id\": 164, \"total_rainfall\": \"211.6\", \"month\": \"1995-08\"}, {\"_id\": 165, \"total_rainfall\": \"29.5\", \"month\": \"1995-09\"}, {\"_id\": 166, \"total_rainfall\": \"101.1\", \"month\": \"1995-10\"}, {\"_id\": 167, \"total_rainfall\": \"372.8\", \"month\": \"1995-11\"}, {\"_id\": 168, \"total_rainfall\": \"302.5\", \"month\": \"1995-12\"}, {\"_id\": 169, \"total_rainfall\": \"173.2\", \"month\": \"1996-01\"}, {\"_id\": 170, \"total_rainfall\": \"180.2\", \"month\": \"1996-02\"}, {\"_id\": 171, \"total_rainfall\": \"129.7\", \"month\": \"1996-03\"}, {\"_id\": 172, \"total_rainfall\": \"178.2\", \"month\": \"1996-04\"}, {\"_id\": 173, \"total_rainfall\": \"107.5\", \"month\": \"1996-05\"}, {\"_id\": 174, \"total_rainfall\": \"265.8\", \"month\": \"1996-06\"}, {\"_id\": 175, \"total_rainfall\": \"162.3\", \"month\": \"1996-07\"}, {\"_id\": 176, \"total_rainfall\": \"258.4\", \"month\": \"1996-08\"}, {\"_id\": 177, \"total_rainfall\": \"297\", \"month\": \"1996-09\"}, {\"_id\": 178, \"total_rainfall\": \"300\", \"month\": \"1996-10\"}, {\"_id\": 179, \"total_rainfall\": \"180.2\", \"month\": \"1996-11\"}, {\"_id\": 180, \"total_rainfall\": \"185.5\", \"month\": \"1996-12\"}, {\"_id\": 181, \"total_rainfall\": \"15.4\", \"month\": \"1997-01\"}, {\"_id\": 182, \"total_rainfall\": \"105.4\", \"month\": \"1997-02\"}, {\"_id\": 183, \"total_rainfall\": \"34.3\", \"month\": \"1997-03\"}, {\"_id\": 184, \"total_rainfall\": \"118.4\", \"month\": \"1997-04\"}, {\"_id\": 185, \"total_rainfall\": \"41.6\", \"month\": \"1997-05\"}, {\"_id\": 186, \"total_rainfall\": \"78.9\", \"month\": \"1997-06\"}, {\"_id\": 187, \"total_rainfall\": \"18.6\", \"month\": \"1997-07\"}, {\"_id\": 188, \"total_rainfall\": \"86.6\", \"month\": \"1997-08\"}, {\"_id\": 189, \"total_rainfall\": \"31.1\", \"month\": \"1997-09\"}, {\"_id\": 190, \"total_rainfall\": \"78.4\", \"month\": \"1997-10\"}, {\"_id\": 191, \"total_rainfall\": \"158.3\", \"month\": \"1997-11\"}, {\"_id\": 192, \"total_rainfall\": \"351.9\", \"month\": \"1997-12\"}, {\"_id\": 193, \"total_rainfall\": \"268.8\", \"month\": \"1998-01\"}, {\"_id\": 194, \"total_rainfall\": \"32.5\", \"month\": \"1998-02\"}, {\"_id\": 195, \"total_rainfall\": \"58.8\", \"month\": \"1998-03\"}, {\"_id\": 196, \"total_rainfall\": \"187.7\", \"month\": \"1998-04\"}, {\"_id\": 197, \"total_rainfall\": \"370.8\", \"month\": \"1998-05\"}, {\"_id\": 198, \"total_rainfall\": \"198.8\", \"month\": \"1998-06\"}, {\"_id\": 199, \"total_rainfall\": \"259.2\", \"month\": \"1998-07\"}, {\"_id\": 200, \"total_rainfall\": \"195\", \"month\": \"1998-08\"}, {\"_id\": 201, \"total_rainfall\": \"258.2\", \"month\": \"1998-09\"}, {\"_id\": 202, \"total_rainfall\": \"222.7\", \"month\": \"1998-10\"}, {\"_id\": 203, \"total_rainfall\": \"107.2\", \"month\": \"1998-11\"}, {\"_id\": 204, \"total_rainfall\": \"463.4\", \"month\": \"1998-12\"}, {\"_id\": 205, \"total_rainfall\": \"193.9\", \"month\": \"1999-01\"}, {\"_id\": 206, \"total_rainfall\": \"67.4\", \"month\": \"1999-02\"}, {\"_id\": 207, \"total_rainfall\": \"181.4\", \"month\": \"1999-03\"}, {\"_id\": 208, \"total_rainfall\": \"88.5\", \"month\": \"1999-04\"}, {\"_id\": 209, \"total_rainfall\": \"157.1\", \"month\": \"1999-05\"}, {\"_id\": 210, \"total_rainfall\": \"103.4\", \"month\": \"1999-06\"}, {\"_id\": 211, \"total_rainfall\": \"225.4\", \"month\": \"1999-07\"}, {\"_id\": 212, \"total_rainfall\": \"204\", \"month\": \"1999-08\"}, {\"_id\": 213, \"total_rainfall\": \"125.9\", \"month\": \"1999-09\"}, {\"_id\": 214, \"total_rainfall\": \"205\", \"month\": \"1999-10\"}, {\"_id\": 215, \"total_rainfall\": \"241.5\", \"month\": \"1999-11\"}, {\"_id\": 216, \"total_rainfall\": \"340.5\", \"month\": \"1999-12\"}, {\"_id\": 217, \"total_rainfall\": \"275.2\", \"month\": \"2000-01\"}, {\"_id\": 218, \"total_rainfall\": \"237.8\", \"month\": \"2000-02\"}, {\"_id\": 219, \"total_rainfall\": \"238.3\", \"month\": \"2000-03\"}, {\"_id\": 220, \"total_rainfall\": \"311.6\", \"month\": \"2000-04\"}, {\"_id\": 221, \"total_rainfall\": \"96.8\", \"month\": \"2000-05\"}, {\"_id\": 222, \"total_rainfall\": \"157.5\", \"month\": \"2000-06\"}, {\"_id\": 223, \"total_rainfall\": \"116.1\", \"month\": \"2000-07\"}, {\"_id\": 224, \"total_rainfall\": \"113.5\", \"month\": \"2000-08\"}, {\"_id\": 225, \"total_rainfall\": \"81.1\", \"month\": \"2000-09\"}, {\"_id\": 226, \"total_rainfall\": \"120.9\", \"month\": \"2000-10\"}, {\"_id\": 227, \"total_rainfall\": \"385.7\", \"month\": \"2000-11\"}, {\"_id\": 228, \"total_rainfall\": \"236\", \"month\": \"2000-12\"}, {\"_id\": 229, \"total_rainfall\": \"425.8\", \"month\": \"2001-01\"}, {\"_id\": 230, \"total_rainfall\": \"86.6\", \"month\": \"2001-02\"}, {\"_id\": 231, \"total_rainfall\": \"297.3\", \"month\": \"2001-03\"}, {\"_id\": 232, \"total_rainfall\": \"203.3\", \"month\": \"2001-04\"}, {\"_id\": 233, \"total_rainfall\": \"164.9\", \"month\": \"2001-05\"}, {\"_id\": 234, \"total_rainfall\": \"137.1\", \"month\": \"2001-06\"}, {\"_id\": 235, \"total_rainfall\": \"111.3\", \"month\": \"2001-07\"}, {\"_id\": 236, \"total_rainfall\": \"158.3\", \"month\": \"2001-08\"}, {\"_id\": 237, \"total_rainfall\": \"162\", \"month\": \"2001-09\"}, {\"_id\": 238, \"total_rainfall\": \"252.2\", \"month\": \"2001-10\"}, {\"_id\": 239, \"total_rainfall\": \"175.3\", \"month\": \"2001-11\"}, {\"_id\": 240, \"total_rainfall\": \"609\", \"month\": \"2001-12\"}, {\"_id\": 241, \"total_rainfall\": \"221.2\", \"month\": \"2002-01\"}, {\"_id\": 242, \"total_rainfall\": \"50.8\", \"month\": \"2002-02\"}, {\"_id\": 243, \"total_rainfall\": \"55.6\", \"month\": \"2002-03\"}, {\"_id\": 244, \"total_rainfall\": \"116.5\", \"month\": \"2002-04\"}, {\"_id\": 245, \"total_rainfall\": \"236.6\", \"month\": \"2002-05\"}, {\"_id\": 246, \"total_rainfall\": \"83.1\", \"month\": \"2002-06\"}, {\"_id\": 247, \"total_rainfall\": \"233.7\", \"month\": \"2002-07\"}, {\"_id\": 248, \"total_rainfall\": \"54.2\", \"month\": \"2002-08\"}, {\"_id\": 249, \"total_rainfall\": \"124.2\", \"month\": \"2002-09\"}, {\"_id\": 250, \"total_rainfall\": \"10.8\", \"month\": \"2002-10\"}, {\"_id\": 251, \"total_rainfall\": \"307.2\", \"month\": \"2002-11\"}, {\"_id\": 252, \"total_rainfall\": \"255\", \"month\": \"2002-12\"}, {\"_id\": 253, \"total_rainfall\": \"444.2\", \"month\": \"2003-01\"}, {\"_id\": 254, \"total_rainfall\": \"172.9\", \"month\": \"2003-02\"}, {\"_id\": 255, \"total_rainfall\": \"154.6\", \"month\": \"2003-03\"}, {\"_id\": 256, \"total_rainfall\": \"159.9\", \"month\": \"2003-04\"}, {\"_id\": 257, \"total_rainfall\": \"81.8\", \"month\": \"2003-05\"}, {\"_id\": 258, \"total_rainfall\": \"50.3\", \"month\": \"2003-06\"}, {\"_id\": 259, \"total_rainfall\": \"170.4\", \"month\": \"2003-07\"}, {\"_id\": 260, \"total_rainfall\": \"193.6\", \"month\": \"2003-08\"}, {\"_id\": 261, \"total_rainfall\": \"205.3\", \"month\": \"2003-09\"}, {\"_id\": 262, \"total_rainfall\": \"351.4\", \"month\": \"2003-10\"}, {\"_id\": 263, \"total_rainfall\": \"133.8\", \"month\": \"2003-11\"}, {\"_id\": 264, \"total_rainfall\": \"273\", \"month\": \"2003-12\"}, {\"_id\": 265, \"total_rainfall\": \"600.9\", \"month\": \"2004-01\"}, {\"_id\": 266, \"total_rainfall\": \"31.9\", \"month\": \"2004-02\"}, {\"_id\": 267, \"total_rainfall\": \"269.4\", \"month\": \"2004-03\"}, {\"_id\": 268, \"total_rainfall\": \"57.1\", \"month\": \"2004-04\"}, {\"_id\": 269, \"total_rainfall\": \"137.6\", \"month\": \"2004-05\"}, {\"_id\": 270, \"total_rainfall\": \"127.2\", \"month\": \"2004-06\"}, {\"_id\": 271, \"total_rainfall\": \"166.6\", \"month\": \"2004-07\"}, {\"_id\": 272, \"total_rainfall\": \"185.2\", \"month\": \"2004-08\"}, {\"_id\": 273, \"total_rainfall\": \"128.9\", \"month\": \"2004-09\"}, {\"_id\": 274, \"total_rainfall\": \"125.6\", \"month\": \"2004-10\"}, {\"_id\": 275, \"total_rainfall\": \"166.2\", \"month\": \"2004-11\"}, {\"_id\": 276, \"total_rainfall\": \"139.8\", \"month\": \"2004-12\"}, {\"_id\": 277, \"total_rainfall\": \"163.2\", \"month\": \"2005-01\"}, {\"_id\": 278, \"total_rainfall\": \"8.4\", \"month\": \"2005-02\"}, {\"_id\": 279, \"total_rainfall\": \"82.4\", \"month\": \"2005-03\"}, {\"_id\": 280, \"total_rainfall\": \"81.7\", \"month\": \"2005-04\"}, {\"_id\": 281, \"total_rainfall\": \"331.1\", \"month\": \"2005-05\"}, {\"_id\": 282, \"total_rainfall\": \"82.3\", \"month\": \"2005-06\"}, {\"_id\": 283, \"total_rainfall\": \"104\", \"month\": \"2005-07\"}, {\"_id\": 284, \"total_rainfall\": \"58.5\", \"month\": \"2005-08\"}, {\"_id\": 285, \"total_rainfall\": \"175.7\", \"month\": \"2005-09\"}, {\"_id\": 286, \"total_rainfall\": \"314.5\", \"month\": \"2005-10\"}, {\"_id\": 287, \"total_rainfall\": \"362.9\", \"month\": \"2005-11\"}, {\"_id\": 288, \"total_rainfall\": \"166\", \"month\": \"2005-12\"}, {\"_id\": 289, \"total_rainfall\": \"454.4\", \"month\": \"2006-01\"}, {\"_id\": 290, \"total_rainfall\": \"115.5\", \"month\": \"2006-02\"}, {\"_id\": 291, \"total_rainfall\": \"83.1\", \"month\": \"2006-03\"}, {\"_id\": 292, \"total_rainfall\": \"239.8\", \"month\": \"2006-04\"}, {\"_id\": 293, \"total_rainfall\": \"205.7\", \"month\": \"2006-05\"}, {\"_id\": 294, \"total_rainfall\": \"236.8\", \"month\": \"2006-06\"}, {\"_id\": 295, \"total_rainfall\": \"153.8\", \"month\": \"2006-07\"}, {\"_id\": 296, \"total_rainfall\": \"127.3\", \"month\": \"2006-08\"}, {\"_id\": 297, \"total_rainfall\": \"83.3\", \"month\": \"2006-09\"}, {\"_id\": 298, \"total_rainfall\": \"102\", \"month\": \"2006-10\"}, {\"_id\": 299, \"total_rainfall\": \"185.6\", \"month\": \"2006-11\"}, {\"_id\": 300, \"total_rainfall\": \"765.9\", \"month\": \"2006-12\"}, {\"_id\": 301, \"total_rainfall\": \"450.1\", \"month\": \"2007-01\"}, {\"_id\": 302, \"total_rainfall\": \"105.5\", \"month\": \"2007-02\"}, {\"_id\": 303, \"total_rainfall\": \"269.1\", \"month\": \"2007-03\"}, {\"_id\": 304, \"total_rainfall\": \"240.2\", \"month\": \"2007-04\"}, {\"_id\": 305, \"total_rainfall\": \"127.2\", \"month\": \"2007-05\"}, {\"_id\": 306, \"total_rainfall\": \"139\", \"month\": \"2007-06\"}, {\"_id\": 307, \"total_rainfall\": \"141.7\", \"month\": \"2007-07\"}, {\"_id\": 308, \"total_rainfall\": \"190.7\", \"month\": \"2007-08\"}, {\"_id\": 309, \"total_rainfall\": \"149\", \"month\": \"2007-09\"}, {\"_id\": 310, \"total_rainfall\": \"237.2\", \"month\": \"2007-10\"}, {\"_id\": 311, \"total_rainfall\": \"367.9\", \"month\": \"2007-11\"}, {\"_id\": 312, \"total_rainfall\": \"468.6\", \"month\": \"2007-12\"}, {\"_id\": 313, \"total_rainfall\": \"262.6\", \"month\": \"2008-01\"}, {\"_id\": 314, \"total_rainfall\": \"129.2\", \"month\": \"2008-02\"}, {\"_id\": 315, \"total_rainfall\": \"294.1\", \"month\": \"2008-03\"}, {\"_id\": 316, \"total_rainfall\": \"87.2\", \"month\": \"2008-04\"}, {\"_id\": 317, \"total_rainfall\": \"124.9\", \"month\": \"2008-05\"}, {\"_id\": 318, \"total_rainfall\": \"118.3\", \"month\": \"2008-06\"}, {\"_id\": 319, \"total_rainfall\": \"89.1\", \"month\": \"2008-07\"}, {\"_id\": 320, \"total_rainfall\": \"327.3\", \"month\": \"2008-08\"}, {\"_id\": 321, \"total_rainfall\": \"164.4\", \"month\": \"2008-09\"}, {\"_id\": 322, \"total_rainfall\": \"159.5\", \"month\": \"2008-10\"}, {\"_id\": 323, \"total_rainfall\": \"324.3\", \"month\": \"2008-11\"}, {\"_id\": 324, \"total_rainfall\": \"244.2\", \"month\": \"2008-12\"}, {\"_id\": 325, \"total_rainfall\": \"38.3\", \"month\": \"2009-01\"}, {\"_id\": 326, \"total_rainfall\": \"201.8\", \"month\": \"2009-02\"}, {\"_id\": 327, \"total_rainfall\": \"223.3\", \"month\": \"2009-03\"}, {\"_id\": 328, \"total_rainfall\": \"183.7\", \"month\": \"2009-04\"}, {\"_id\": 329, \"total_rainfall\": \"198.6\", \"month\": \"2009-05\"}, {\"_id\": 330, \"total_rainfall\": \"21.8\", \"month\": \"2009-06\"}, {\"_id\": 331, \"total_rainfall\": \"161\", \"month\": \"2009-07\"}, {\"_id\": 332, \"total_rainfall\": \"177.8\", \"month\": \"2009-08\"}, {\"_id\": 333, \"total_rainfall\": \"109.6\", \"month\": \"2009-09\"}, {\"_id\": 334, \"total_rainfall\": \"133.4\", \"month\": \"2009-10\"}, {\"_id\": 335, \"total_rainfall\": \"281.8\", \"month\": \"2009-11\"}, {\"_id\": 336, \"total_rainfall\": \"189.8\", \"month\": \"2009-12\"}, {\"_id\": 337, \"total_rainfall\": \"69.5\", \"month\": \"2010-01\"}, {\"_id\": 338, \"total_rainfall\": \"6.3\", \"month\": \"2010-02\"}, {\"_id\": 339, \"total_rainfall\": \"238\", \"month\": \"2010-03\"}, {\"_id\": 340, \"total_rainfall\": \"158.5\", \"month\": \"2010-04\"}, {\"_id\": 341, \"total_rainfall\": \"157.5\", \"month\": \"2010-05\"}, {\"_id\": 342, \"total_rainfall\": \"240.5\", \"month\": \"2010-06\"}, {\"_id\": 343, \"total_rainfall\": \"298.5\", \"month\": \"2010-07\"}, {\"_id\": 344, \"total_rainfall\": \"158.4\", \"month\": \"2010-08\"}, {\"_id\": 345, \"total_rainfall\": \"121.5\", \"month\": \"2010-09\"}, {\"_id\": 346, \"total_rainfall\": \"166.2\", \"month\": \"2010-10\"}, {\"_id\": 347, \"total_rainfall\": \"278.8\", \"month\": \"2010-11\"}, {\"_id\": 348, \"total_rainfall\": \"181.4\", \"month\": \"2010-12\"}, {\"_id\": 349, \"total_rainfall\": \"513.2\", \"month\": \"2011-01\"}, {\"_id\": 350, \"total_rainfall\": \"23\", \"month\": \"2011-02\"}, {\"_id\": 351, \"total_rainfall\": \"256.6\", \"month\": \"2011-03\"}, {\"_id\": 352, \"total_rainfall\": \"217.8\", \"month\": \"2011-04\"}, {\"_id\": 353, \"total_rainfall\": \"127\", \"month\": \"2011-05\"}, {\"_id\": 354, \"total_rainfall\": \"213\", \"month\": \"2011-06\"}, {\"_id\": 355, \"total_rainfall\": \"76.6\", \"month\": \"2011-07\"}, {\"_id\": 356, \"total_rainfall\": \"81.4\", \"month\": \"2011-08\"}, {\"_id\": 357, \"total_rainfall\": \"136.4\", \"month\": \"2011-09\"}, {\"_id\": 358, \"total_rainfall\": \"216.8\", \"month\": \"2011-10\"}, {\"_id\": 359, \"total_rainfall\": \"377.8\", \"month\": \"2011-11\"}, {\"_id\": 360, \"total_rainfall\": \"284.6\", \"month\": \"2011-12\"}, {\"_id\": 361, \"total_rainfall\": \"106.1\", \"month\": \"2012-01\"}, {\"_id\": 362, \"total_rainfall\": \"83.6\", \"month\": \"2012-02\"}, {\"_id\": 363, \"total_rainfall\": \"313.4\", \"month\": \"2012-03\"}, {\"_id\": 364, \"total_rainfall\": \"260.6\", \"month\": \"2012-04\"}, {\"_id\": 365, \"total_rainfall\": \"292\", \"month\": \"2012-05\"}, {\"_id\": 366, \"total_rainfall\": \"53\", \"month\": \"2012-06\"}, {\"_id\": 367, \"total_rainfall\": \"130.8\", \"month\": \"2012-07\"}, {\"_id\": 368, \"total_rainfall\": \"119\", \"month\": \"2012-08\"}, {\"_id\": 369, \"total_rainfall\": \"107.6\", \"month\": \"2012-09\"}, {\"_id\": 370, \"total_rainfall\": \"122.2\", \"month\": \"2012-10\"}, {\"_id\": 371, \"total_rainfall\": \"208.2\", \"month\": \"2012-11\"}, {\"_id\": 372, \"total_rainfall\": \"363.4\", \"month\": \"2012-12\"}, {\"_id\": 373, \"total_rainfall\": \"262\", \"month\": \"2013-01\"}, {\"_id\": 374, \"total_rainfall\": \"395.2\", \"month\": \"2013-02\"}, {\"_id\": 375, \"total_rainfall\": \"85.8\", \"month\": \"2013-03\"}, {\"_id\": 376, \"total_rainfall\": \"159.4\", \"month\": \"2013-04\"}, {\"_id\": 377, \"total_rainfall\": \"211.4\", \"month\": \"2013-05\"}, {\"_id\": 378, \"total_rainfall\": \"111.4\", \"month\": \"2013-06\"}, {\"_id\": 379, \"total_rainfall\": \"174.6\", \"month\": \"2013-07\"}, {\"_id\": 380, \"total_rainfall\": \"165.6\", \"month\": \"2013-08\"}, {\"_id\": 381, \"total_rainfall\": \"257\", \"month\": \"2013-09\"}, {\"_id\": 382, \"total_rainfall\": \"285.4\", \"month\": \"2013-10\"}, {\"_id\": 383, \"total_rainfall\": \"292.4\", \"month\": \"2013-11\"}, {\"_id\": 384, \"total_rainfall\": \"348.2\", \"month\": \"2013-12\"}, {\"_id\": 385, \"total_rainfall\": \"75.4\", \"month\": \"2014-01\"}, {\"_id\": 386, \"total_rainfall\": \"0.2\", \"month\": \"2014-02\"}, {\"_id\": 387, \"total_rainfall\": \"66\", \"month\": \"2014-03\"}, {\"_id\": 388, \"total_rainfall\": \"110\", \"month\": \"2014-04\"}, {\"_id\": 389, \"total_rainfall\": \"125.8\", \"month\": \"2014-05\"}, {\"_id\": 390, \"total_rainfall\": \"71.4\", \"month\": \"2014-06\"}, {\"_id\": 391, \"total_rainfall\": \"148.6\", \"month\": \"2014-07\"}, {\"_id\": 392, \"total_rainfall\": \"241\", \"month\": \"2014-08\"}, {\"_id\": 393, \"total_rainfall\": \"83.6\", \"month\": \"2014-09\"}, {\"_id\": 394, \"total_rainfall\": \"120\", \"month\": \"2014-10\"}, {\"_id\": 395, \"total_rainfall\": \"250.8\", \"month\": \"2014-11\"}, {\"_id\": 396, \"total_rainfall\": \"245.6\", \"month\": \"2014-12\"}, {\"_id\": 397, \"total_rainfall\": \"79.6\", \"month\": \"2015-01\"}, {\"_id\": 398, \"total_rainfall\": \"18.8\", \"month\": \"2015-02\"}, {\"_id\": 399, \"total_rainfall\": \"84.4\", \"month\": \"2015-03\"}, {\"_id\": 400, \"total_rainfall\": \"73.2\", \"month\": \"2015-04\"}, {\"_id\": 401, \"total_rainfall\": \"89\", \"month\": \"2015-05\"}, {\"_id\": 402, \"total_rainfall\": \"95.8\", \"month\": \"2015-06\"}, {\"_id\": 403, \"total_rainfall\": \"116.8\", \"month\": \"2015-07\"}, {\"_id\": 404, \"total_rainfall\": \"185.8\", \"month\": \"2015-08\"}, {\"_id\": 405, \"total_rainfall\": \"61.6\", \"month\": \"2015-09\"}, {\"_id\": 406, \"total_rainfall\": \"87.2\", \"month\": \"2015-10\"}, {\"_id\": 407, \"total_rainfall\": \"72.6\", \"month\": \"2015-11\"}, {\"_id\": 408, \"total_rainfall\": \"302.3\", \"month\": \"2015-12\"}, {\"_id\": 409, \"total_rainfall\": \"126.6\", \"month\": \"2016-01\"}, {\"_id\": 410, \"total_rainfall\": \"186\", \"month\": \"2016-02\"}, {\"_id\": 411, \"total_rainfall\": \"6.2\", \"month\": \"2016-03\"}, {\"_id\": 412, \"total_rainfall\": \"89.8\", \"month\": \"2016-04\"}, {\"_id\": 413, \"total_rainfall\": \"193.8\", \"month\": \"2016-05\"}, {\"_id\": 414, \"total_rainfall\": \"162.8\", \"month\": \"2016-06\"}, {\"_id\": 415, \"total_rainfall\": \"168.6\", \"month\": \"2016-07\"}, {\"_id\": 416, \"total_rainfall\": \"139.2\", \"month\": \"2016-08\"}, {\"_id\": 417, \"total_rainfall\": \"118.9\", \"month\": \"2016-09\"}, {\"_id\": 418, \"total_rainfall\": \"181\", \"month\": \"2016-10\"}, {\"_id\": 419, \"total_rainfall\": \"290.2\", \"month\": \"2016-11\"}, {\"_id\": 420, \"total_rainfall\": \"292.6\", \"month\": \"2016-12\"}, {\"_id\": 421, \"total_rainfall\": \"197.6\", \"month\": \"2017-01\"}, {\"_id\": 422, \"total_rainfall\": \"158.4\", \"month\": \"2017-02\"}, {\"_id\": 423, \"total_rainfall\": \"136.2\", \"month\": \"2017-03\"}, {\"_id\": 424, \"total_rainfall\": \"208.6\", \"month\": \"2017-04\"}, {\"_id\": 425, \"total_rainfall\": \"190\", \"month\": \"2017-05\"}, {\"_id\": 426, \"total_rainfall\": \"106\", \"month\": \"2017-06\"}, {\"_id\": 427, \"total_rainfall\": \"79.6\", \"month\": \"2017-07\"}, {\"_id\": 428, \"total_rainfall\": \"84.2\", \"month\": \"2017-08\"}, {\"_id\": 429, \"total_rainfall\": \"124.4\", \"month\": \"2017-09\"}, {\"_id\": 430, \"total_rainfall\": \"120.8\", \"month\": \"2017-10\"}, {\"_id\": 431, \"total_rainfall\": \"268.6\", \"month\": \"2017-11\"}, {\"_id\": 432, \"total_rainfall\": \"371.2\", \"month\": \"2017-12\"}, {\"_id\": 433, \"total_rainfall\": \"287\", \"month\": \"2018-01\"}, {\"_id\": 434, \"total_rainfall\": \"14.8\", \"month\": \"2018-02\"}, {\"_id\": 435, \"total_rainfall\": \"44.6\", \"month\": \"2018-03\"}, {\"_id\": 436, \"total_rainfall\": \"61.2\", \"month\": \"2018-04\"}, {\"_id\": 437, \"total_rainfall\": \"132.2\", \"month\": \"2018-05\"}, {\"_id\": 438, \"total_rainfall\": \"182.6\", \"month\": \"2018-06\"}, {\"_id\": 439, \"total_rainfall\": \"143.2\", \"month\": \"2018-07\"}, {\"_id\": 440, \"total_rainfall\": \"121.6\", \"month\": \"2018-08\"}, {\"_id\": 441, \"total_rainfall\": \"144.4\", \"month\": \"2018-09\"}, {\"_id\": 442, \"total_rainfall\": \"234.4\", \"month\": \"2018-10\"}, {\"_id\": 443, \"total_rainfall\": \"169.6\", \"month\": \"2018-11\"}, {\"_id\": 444, \"total_rainfall\": \"172.6\", \"month\": \"2018-12\"}, {\"_id\": 445, \"total_rainfall\": \"63.6\", \"month\": \"2019-01\"}, {\"_id\": 446, \"total_rainfall\": \"31.6\", \"month\": \"2019-02\"}, {\"_id\": 447, \"total_rainfall\": \"72.2\", \"month\": \"2019-03\"}, {\"_id\": 448, \"total_rainfall\": \"174.8\", \"month\": \"2019-04\"}, {\"_id\": 449, \"total_rainfall\": \"69\", \"month\": \"2019-05\"}, {\"_id\": 450, \"total_rainfall\": \"173.8\", \"month\": \"2019-06\"}, {\"_id\": 451, \"total_rainfall\": \"12.2\", \"month\": \"2019-07\"}, {\"_id\": 452, \"total_rainfall\": \"11.8\", \"month\": \"2019-08\"}, {\"_id\": 453, \"total_rainfall\": \"22.8\", \"month\": \"2019-09\"}, {\"_id\": 454, \"total_rainfall\": \"176.8\", \"month\": \"2019-10\"}, {\"_id\": 455, \"total_rainfall\": \"137.4\", \"month\": \"2019-11\"}, {\"_id\": 456, \"total_rainfall\": \"421.5\", \"month\": \"2019-12\"}, {\"_id\": 457, \"total_rainfall\": \"88.4\", \"month\": \"2020-01\"}, {\"_id\": 458, \"total_rainfall\": \"65\", \"month\": \"2020-02\"}, {\"_id\": 459, \"total_rainfall\": \"108.8\", \"month\": \"2020-03\"}, {\"_id\": 460, \"total_rainfall\": \"188\", \"month\": \"2020-04\"}, {\"_id\": 461, \"total_rainfall\": \"255.6\", \"month\": \"2020-05\"}, {\"_id\": 462, \"total_rainfall\": \"233.8\", \"month\": \"2020-06\"}, {\"_id\": 463, \"total_rainfall\": \"140.8\", \"month\": \"2020-07\"}, {\"_id\": 464, \"total_rainfall\": \"103.4\", \"month\": \"2020-08\"}, {\"_id\": 465, \"total_rainfall\": \"150.2\", \"month\": \"2020-09\"}, {\"_id\": 466, \"total_rainfall\": \"78.8\", \"month\": \"2020-10\"}, {\"_id\": 467, \"total_rainfall\": \"220.6\", \"month\": \"2020-11\"}, {\"_id\": 468, \"total_rainfall\": \"253.2\", \"month\": \"2020-12\"}, {\"_id\": 469, \"total_rainfall\": \"692.8\", \"month\": \"2021-01\"}, {\"_id\": 470, \"total_rainfall\": \"1\", \"month\": \"2021-02\"}, {\"_id\": 471, \"total_rainfall\": \"182.4\", \"month\": \"2021-03\"}, {\"_id\": 472, \"total_rainfall\": \"290.4\", \"month\": \"2021-04\"}, {\"_id\": 473, \"total_rainfall\": \"245.8\", \"month\": \"2021-05\"}, {\"_id\": 474, \"total_rainfall\": \"93.4\", \"month\": \"2021-06\"}, {\"_id\": 475, \"total_rainfall\": \"195.8\", \"month\": \"2021-07\"}, {\"_id\": 476, \"total_rainfall\": \"293.6\", \"month\": \"2021-08\"}]\n",
    "data = pd.DataFrame(data)\n",
    "del data[\"_id\"]\n",
    "data.set_index([\"month\"],inplace=True)\n",
    "data.index = pd.to_datetime(data.index)\n",
    "data.total_rainfall = pd.to_numeric(data.total_rainfall)\n",
    "data.head()"
   ]
  },
  {
   "cell_type": "code",
   "execution_count": 67,
   "metadata": {
    "id": "Glg9STTLqakd"
   },
   "outputs": [],
   "source": [
    "# data.to_excel(\"monthrainfall.xlsx\")"
   ]
  },
  {
   "cell_type": "code",
   "execution_count": 68,
   "metadata": {
    "colab": {
     "base_uri": "https://localhost:8080/",
     "height": 238
    },
    "id": "ELSbqmyqKLrx",
    "outputId": "2fd19060-6ce1-48f8-a9b9-b5457e79fe4f"
   },
   "outputs": [
    {
     "data": {
      "text/html": [
       "<div>\n",
       "<style scoped>\n",
       "    .dataframe tbody tr th:only-of-type {\n",
       "        vertical-align: middle;\n",
       "    }\n",
       "\n",
       "    .dataframe tbody tr th {\n",
       "        vertical-align: top;\n",
       "    }\n",
       "\n",
       "    .dataframe thead th {\n",
       "        text-align: right;\n",
       "    }\n",
       "</style>\n",
       "<table border=\"1\" class=\"dataframe\">\n",
       "  <thead>\n",
       "    <tr style=\"text-align: right;\">\n",
       "      <th></th>\n",
       "      <th>total_rainfall</th>\n",
       "    </tr>\n",
       "    <tr>\n",
       "      <th>month</th>\n",
       "      <th></th>\n",
       "    </tr>\n",
       "  </thead>\n",
       "  <tbody>\n",
       "    <tr>\n",
       "      <th>1982-12-31</th>\n",
       "      <td>1581.7</td>\n",
       "    </tr>\n",
       "    <tr>\n",
       "      <th>1983-12-31</th>\n",
       "      <td>1993.7</td>\n",
       "    </tr>\n",
       "    <tr>\n",
       "      <th>1984-12-31</th>\n",
       "      <td>2686.7</td>\n",
       "    </tr>\n",
       "    <tr>\n",
       "      <th>1985-12-31</th>\n",
       "      <td>1483.9</td>\n",
       "    </tr>\n",
       "    <tr>\n",
       "      <th>1986-12-31</th>\n",
       "      <td>2536.1</td>\n",
       "    </tr>\n",
       "  </tbody>\n",
       "</table>\n",
       "</div>"
      ],
      "text/plain": [
       "            total_rainfall\n",
       "month                     \n",
       "1982-12-31          1581.7\n",
       "1983-12-31          1993.7\n",
       "1984-12-31          2686.7\n",
       "1985-12-31          1483.9\n",
       "1986-12-31          2536.1"
      ]
     },
     "execution_count": 68,
     "metadata": {},
     "output_type": "execute_result"
    }
   ],
   "source": [
    "# Downsampling: Convert monthly data to yearly data by sum and max\n",
    "df = data\n",
    "dfsum = df.resample(\"Y\").sum()\n",
    "dfsum.head()"
   ]
  },
  {
   "cell_type": "code",
   "execution_count": 69,
   "metadata": {
    "colab": {
     "base_uri": "https://localhost:8080/",
     "height": 238
    },
    "id": "nBnCqjCgMwy9",
    "outputId": "778e5a3c-2a29-4a25-f8cd-8e5c14ac2d82"
   },
   "outputs": [
    {
     "data": {
      "text/html": [
       "<div>\n",
       "<style scoped>\n",
       "    .dataframe tbody tr th:only-of-type {\n",
       "        vertical-align: middle;\n",
       "    }\n",
       "\n",
       "    .dataframe tbody tr th {\n",
       "        vertical-align: top;\n",
       "    }\n",
       "\n",
       "    .dataframe thead th {\n",
       "        text-align: right;\n",
       "    }\n",
       "</style>\n",
       "<table border=\"1\" class=\"dataframe\">\n",
       "  <thead>\n",
       "    <tr style=\"text-align: right;\">\n",
       "      <th></th>\n",
       "      <th>total_rainfall</th>\n",
       "    </tr>\n",
       "    <tr>\n",
       "      <th>month</th>\n",
       "      <th></th>\n",
       "    </tr>\n",
       "  </thead>\n",
       "  <tbody>\n",
       "    <tr>\n",
       "      <th>1982-12-31</th>\n",
       "      <td>494.1</td>\n",
       "    </tr>\n",
       "    <tr>\n",
       "      <th>1983-12-31</th>\n",
       "      <td>370.6</td>\n",
       "    </tr>\n",
       "    <tr>\n",
       "      <th>1984-12-31</th>\n",
       "      <td>470.4</td>\n",
       "    </tr>\n",
       "    <tr>\n",
       "      <th>1985-12-31</th>\n",
       "      <td>340.1</td>\n",
       "    </tr>\n",
       "    <tr>\n",
       "      <th>1986-12-31</th>\n",
       "      <td>396.0</td>\n",
       "    </tr>\n",
       "  </tbody>\n",
       "</table>\n",
       "</div>"
      ],
      "text/plain": [
       "            total_rainfall\n",
       "month                     \n",
       "1982-12-31           494.1\n",
       "1983-12-31           370.6\n",
       "1984-12-31           470.4\n",
       "1985-12-31           340.1\n",
       "1986-12-31           396.0"
      ]
     },
     "execution_count": 69,
     "metadata": {},
     "output_type": "execute_result"
    }
   ],
   "source": [
    "dfmax = df.resample(\"Y\").max()\n",
    "dfmax.head()"
   ]
  },
  {
   "cell_type": "code",
   "execution_count": 70,
   "metadata": {
    "colab": {
     "base_uri": "https://localhost:8080/",
     "height": 238
    },
    "id": "8ltRovoTPQap",
    "outputId": "4af94db3-d67f-4ce9-cc54-cd1ed009b6dc"
   },
   "outputs": [
    {
     "data": {
      "text/html": [
       "<div>\n",
       "<style scoped>\n",
       "    .dataframe tbody tr th:only-of-type {\n",
       "        vertical-align: middle;\n",
       "    }\n",
       "\n",
       "    .dataframe tbody tr th {\n",
       "        vertical-align: top;\n",
       "    }\n",
       "\n",
       "    .dataframe thead th {\n",
       "        text-align: right;\n",
       "    }\n",
       "</style>\n",
       "<table border=\"1\" class=\"dataframe\">\n",
       "  <thead>\n",
       "    <tr style=\"text-align: right;\">\n",
       "      <th></th>\n",
       "      <th>total_rainfall</th>\n",
       "    </tr>\n",
       "    <tr>\n",
       "      <th>month</th>\n",
       "      <th></th>\n",
       "    </tr>\n",
       "  </thead>\n",
       "  <tbody>\n",
       "    <tr>\n",
       "      <th>1982-12-31</th>\n",
       "      <td>494.1</td>\n",
       "    </tr>\n",
       "    <tr>\n",
       "      <th>1983-01-10</th>\n",
       "      <td>NaN</td>\n",
       "    </tr>\n",
       "    <tr>\n",
       "      <th>1983-01-20</th>\n",
       "      <td>NaN</td>\n",
       "    </tr>\n",
       "    <tr>\n",
       "      <th>1983-01-30</th>\n",
       "      <td>NaN</td>\n",
       "    </tr>\n",
       "    <tr>\n",
       "      <th>1983-02-09</th>\n",
       "      <td>NaN</td>\n",
       "    </tr>\n",
       "  </tbody>\n",
       "</table>\n",
       "</div>"
      ],
      "text/plain": [
       "            total_rainfall\n",
       "month                     \n",
       "1982-12-31           494.1\n",
       "1983-01-10             NaN\n",
       "1983-01-20             NaN\n",
       "1983-01-30             NaN\n",
       "1983-02-09             NaN"
      ]
     },
     "execution_count": 70,
     "metadata": {},
     "output_type": "execute_result"
    }
   ],
   "source": [
    "# Upsampling: Convert monthly data to yearly data by sum and max\n",
    "dfmax.resample('10D').asfreq()[0:5]"
   ]
  },
  {
   "cell_type": "code",
   "execution_count": 71,
   "metadata": {
    "colab": {
     "base_uri": "https://localhost:8080/",
     "height": 238
    },
    "id": "EHbEwjiJP5gW",
    "outputId": "0188d49f-50f9-4271-e765-d3636bdd0292"
   },
   "outputs": [
    {
     "data": {
      "text/html": [
       "<div>\n",
       "<style scoped>\n",
       "    .dataframe tbody tr th:only-of-type {\n",
       "        vertical-align: middle;\n",
       "    }\n",
       "\n",
       "    .dataframe tbody tr th {\n",
       "        vertical-align: top;\n",
       "    }\n",
       "\n",
       "    .dataframe thead th {\n",
       "        text-align: right;\n",
       "    }\n",
       "</style>\n",
       "<table border=\"1\" class=\"dataframe\">\n",
       "  <thead>\n",
       "    <tr style=\"text-align: right;\">\n",
       "      <th></th>\n",
       "      <th>total_rainfall</th>\n",
       "    </tr>\n",
       "    <tr>\n",
       "      <th>month</th>\n",
       "      <th></th>\n",
       "    </tr>\n",
       "  </thead>\n",
       "  <tbody>\n",
       "    <tr>\n",
       "      <th>1982-12-31</th>\n",
       "      <td>494.1</td>\n",
       "    </tr>\n",
       "    <tr>\n",
       "      <th>1983-01-10</th>\n",
       "      <td>494.1</td>\n",
       "    </tr>\n",
       "    <tr>\n",
       "      <th>1983-01-20</th>\n",
       "      <td>494.1</td>\n",
       "    </tr>\n",
       "    <tr>\n",
       "      <th>1983-01-30</th>\n",
       "      <td>494.1</td>\n",
       "    </tr>\n",
       "    <tr>\n",
       "      <th>1983-02-09</th>\n",
       "      <td>494.1</td>\n",
       "    </tr>\n",
       "  </tbody>\n",
       "</table>\n",
       "</div>"
      ],
      "text/plain": [
       "            total_rainfall\n",
       "month                     \n",
       "1982-12-31           494.1\n",
       "1983-01-10           494.1\n",
       "1983-01-20           494.1\n",
       "1983-01-30           494.1\n",
       "1983-02-09           494.1"
      ]
     },
     "execution_count": 71,
     "metadata": {},
     "output_type": "execute_result"
    }
   ],
   "source": [
    "dfmax.resample('10D').pad()[0:5]"
   ]
  },
  {
   "cell_type": "code",
   "execution_count": 72,
   "metadata": {
    "colab": {
     "base_uri": "https://localhost:8080/",
     "height": 238
    },
    "id": "rBZMSwS9RJSx",
    "outputId": "33f7a093-4f5c-474d-9c7b-2e866b60b133"
   },
   "outputs": [
    {
     "data": {
      "text/html": [
       "<div>\n",
       "<style scoped>\n",
       "    .dataframe tbody tr th:only-of-type {\n",
       "        vertical-align: middle;\n",
       "    }\n",
       "\n",
       "    .dataframe tbody tr th {\n",
       "        vertical-align: top;\n",
       "    }\n",
       "\n",
       "    .dataframe thead th {\n",
       "        text-align: right;\n",
       "    }\n",
       "</style>\n",
       "<table border=\"1\" class=\"dataframe\">\n",
       "  <thead>\n",
       "    <tr style=\"text-align: right;\">\n",
       "      <th></th>\n",
       "      <th>total_rainfall</th>\n",
       "    </tr>\n",
       "    <tr>\n",
       "      <th>month</th>\n",
       "      <th></th>\n",
       "    </tr>\n",
       "  </thead>\n",
       "  <tbody>\n",
       "    <tr>\n",
       "      <th>1982-12-31</th>\n",
       "      <td>494.1</td>\n",
       "    </tr>\n",
       "    <tr>\n",
       "      <th>1983-01-01</th>\n",
       "      <td>494.1</td>\n",
       "    </tr>\n",
       "    <tr>\n",
       "      <th>1983-01-02</th>\n",
       "      <td>494.1</td>\n",
       "    </tr>\n",
       "    <tr>\n",
       "      <th>1983-01-03</th>\n",
       "      <td>NaN</td>\n",
       "    </tr>\n",
       "    <tr>\n",
       "      <th>1983-01-04</th>\n",
       "      <td>NaN</td>\n",
       "    </tr>\n",
       "  </tbody>\n",
       "</table>\n",
       "</div>"
      ],
      "text/plain": [
       "            total_rainfall\n",
       "month                     \n",
       "1982-12-31           494.1\n",
       "1983-01-01           494.1\n",
       "1983-01-02           494.1\n",
       "1983-01-03             NaN\n",
       "1983-01-04             NaN"
      ]
     },
     "execution_count": 72,
     "metadata": {},
     "output_type": "execute_result"
    }
   ],
   "source": [
    "dfmax.resample('D').ffill(limit=2)[0:5]"
   ]
  },
  {
   "cell_type": "markdown",
   "metadata": {
    "id": "9egTSqdOV__e"
   },
   "source": [
    "## Hierarchical indexing (MultiIndex)"
   ]
  },
  {
   "cell_type": "markdown",
   "metadata": {
    "id": "SkbVEN1QZcLo"
   },
   "source": [
    "### Creating a MultiIndex"
   ]
  },
  {
   "cell_type": "code",
   "execution_count": 73,
   "metadata": {
    "colab": {
     "base_uri": "https://localhost:8080/"
    },
    "id": "wOm2AIDtZd7F",
    "outputId": "27bdefc1-a582-420e-d63a-77c1ff859f51"
   },
   "outputs": [
    {
     "data": {
      "text/plain": [
       "MultiIndex([('temperature',  'max'),\n",
       "            ('temperature', 'mean'),\n",
       "            ('temperature',  'min'),\n",
       "            (   'rainfall',  'max'),\n",
       "            (   'rainfall', 'mean'),\n",
       "            (   'rainfall',  'min'),\n",
       "            (     'runoff',  'max'),\n",
       "            (     'runoff', 'mean'),\n",
       "            (     'runoff',  'min')],\n",
       "           names=['factor', 'method'])"
      ]
     },
     "execution_count": 73,
     "metadata": {},
     "output_type": "execute_result"
    }
   ],
   "source": [
    "iterables = [\n",
    "    [\"temperature\",\"rainfall\",\"runoff\"],\n",
    "    [\"max\",\"mean\",\"min\"],\n",
    "]\n",
    "idx = pd.MultiIndex.from_product(iterables, names=[\"factor\", \"method\"])\n",
    "idx"
   ]
  },
  {
   "cell_type": "code",
   "execution_count": 74,
   "metadata": {
    "colab": {
     "base_uri": "https://localhost:8080/",
     "height": 363
    },
    "id": "P1Elp0XBWEQk",
    "outputId": "6fc7bc04-acff-4f5e-d203-dfd3a9fb55f1"
   },
   "outputs": [
    {
     "data": {
      "text/html": [
       "<div>\n",
       "<style scoped>\n",
       "    .dataframe tbody tr th:only-of-type {\n",
       "        vertical-align: middle;\n",
       "    }\n",
       "\n",
       "    .dataframe tbody tr th {\n",
       "        vertical-align: top;\n",
       "    }\n",
       "\n",
       "    .dataframe thead th {\n",
       "        text-align: right;\n",
       "    }\n",
       "</style>\n",
       "<table border=\"1\" class=\"dataframe\">\n",
       "  <thead>\n",
       "    <tr style=\"text-align: right;\">\n",
       "      <th></th>\n",
       "      <th></th>\n",
       "      <th>0</th>\n",
       "      <th>1</th>\n",
       "      <th>2</th>\n",
       "      <th>3</th>\n",
       "    </tr>\n",
       "    <tr>\n",
       "      <th>factor</th>\n",
       "      <th>method</th>\n",
       "      <th></th>\n",
       "      <th></th>\n",
       "      <th></th>\n",
       "      <th></th>\n",
       "    </tr>\n",
       "  </thead>\n",
       "  <tbody>\n",
       "    <tr>\n",
       "      <th rowspan=\"3\" valign=\"top\">temperature</th>\n",
       "      <th>max</th>\n",
       "      <td>1.156293</td>\n",
       "      <td>0.572655</td>\n",
       "      <td>-1.303678</td>\n",
       "      <td>0.308296</td>\n",
       "    </tr>\n",
       "    <tr>\n",
       "      <th>mean</th>\n",
       "      <td>0.030308</td>\n",
       "      <td>0.280644</td>\n",
       "      <td>-0.314239</td>\n",
       "      <td>0.064771</td>\n",
       "    </tr>\n",
       "    <tr>\n",
       "      <th>min</th>\n",
       "      <td>0.642716</td>\n",
       "      <td>1.856674</td>\n",
       "      <td>0.759081</td>\n",
       "      <td>0.524509</td>\n",
       "    </tr>\n",
       "    <tr>\n",
       "      <th rowspan=\"3\" valign=\"top\">rainfall</th>\n",
       "      <th>max</th>\n",
       "      <td>-0.235448</td>\n",
       "      <td>-0.897840</td>\n",
       "      <td>-0.880012</td>\n",
       "      <td>-2.393170</td>\n",
       "    </tr>\n",
       "    <tr>\n",
       "      <th>mean</th>\n",
       "      <td>-0.893028</td>\n",
       "      <td>-0.465157</td>\n",
       "      <td>-0.787798</td>\n",
       "      <td>0.429738</td>\n",
       "    </tr>\n",
       "    <tr>\n",
       "      <th>min</th>\n",
       "      <td>0.560344</td>\n",
       "      <td>1.146509</td>\n",
       "      <td>-0.449801</td>\n",
       "      <td>-0.124382</td>\n",
       "    </tr>\n",
       "    <tr>\n",
       "      <th rowspan=\"3\" valign=\"top\">runoff</th>\n",
       "      <th>max</th>\n",
       "      <td>-0.165959</td>\n",
       "      <td>0.783571</td>\n",
       "      <td>-0.618995</td>\n",
       "      <td>-0.980301</td>\n",
       "    </tr>\n",
       "    <tr>\n",
       "      <th>mean</th>\n",
       "      <td>0.681924</td>\n",
       "      <td>0.517572</td>\n",
       "      <td>-0.782799</td>\n",
       "      <td>1.221793</td>\n",
       "    </tr>\n",
       "    <tr>\n",
       "      <th>min</th>\n",
       "      <td>0.613931</td>\n",
       "      <td>0.637028</td>\n",
       "      <td>0.703877</td>\n",
       "      <td>1.502899</td>\n",
       "    </tr>\n",
       "  </tbody>\n",
       "</table>\n",
       "</div>"
      ],
      "text/plain": [
       "                           0         1         2         3\n",
       "factor      method                                        \n",
       "temperature max     1.156293  0.572655 -1.303678  0.308296\n",
       "            mean    0.030308  0.280644 -0.314239  0.064771\n",
       "            min     0.642716  1.856674  0.759081  0.524509\n",
       "rainfall    max    -0.235448 -0.897840 -0.880012 -2.393170\n",
       "            mean   -0.893028 -0.465157 -0.787798  0.429738\n",
       "            min     0.560344  1.146509 -0.449801 -0.124382\n",
       "runoff      max    -0.165959  0.783571 -0.618995 -0.980301\n",
       "            mean    0.681924  0.517572 -0.782799  1.221793\n",
       "            min     0.613931  0.637028  0.703877  1.502899"
      ]
     },
     "execution_count": 74,
     "metadata": {},
     "output_type": "execute_result"
    }
   ],
   "source": [
    "df = pd.DataFrame(np.random.randn(9, 4), index=idx)\n",
    "df"
   ]
  },
  {
   "cell_type": "code",
   "execution_count": 75,
   "metadata": {
    "colab": {
     "base_uri": "https://localhost:8080/"
    },
    "id": "XLDUHSHtZi17",
    "outputId": "baeb84d5-1917-4de6-d3d3-324338cc464f"
   },
   "outputs": [
    {
     "data": {
      "text/plain": [
       "MultiIndex([('temperature',  'max'),\n",
       "            (   'rainfall', 'mean'),\n",
       "            (     'runoff',  'min')],\n",
       "           names=['factor', 'method'])"
      ]
     },
     "execution_count": 75,
     "metadata": {},
     "output_type": "execute_result"
    }
   ],
   "source": [
    "idx = pd.MultiIndex.from_arrays(iterables, names=[\"factor\", \"method\"])\n",
    "idx"
   ]
  },
  {
   "cell_type": "code",
   "execution_count": 76,
   "metadata": {
    "colab": {
     "base_uri": "https://localhost:8080/",
     "height": 175
    },
    "id": "gRqqB9rCarpM",
    "outputId": "ec2e09a4-b102-4f24-eb2b-23d0cdfc2088"
   },
   "outputs": [
    {
     "data": {
      "text/html": [
       "<div>\n",
       "<style scoped>\n",
       "    .dataframe tbody tr th:only-of-type {\n",
       "        vertical-align: middle;\n",
       "    }\n",
       "\n",
       "    .dataframe tbody tr th {\n",
       "        vertical-align: top;\n",
       "    }\n",
       "\n",
       "    .dataframe thead th {\n",
       "        text-align: right;\n",
       "    }\n",
       "</style>\n",
       "<table border=\"1\" class=\"dataframe\">\n",
       "  <thead>\n",
       "    <tr style=\"text-align: right;\">\n",
       "      <th></th>\n",
       "      <th></th>\n",
       "      <th>0</th>\n",
       "      <th>1</th>\n",
       "      <th>2</th>\n",
       "      <th>3</th>\n",
       "    </tr>\n",
       "    <tr>\n",
       "      <th>factor</th>\n",
       "      <th>method</th>\n",
       "      <th></th>\n",
       "      <th></th>\n",
       "      <th></th>\n",
       "      <th></th>\n",
       "    </tr>\n",
       "  </thead>\n",
       "  <tbody>\n",
       "    <tr>\n",
       "      <th>temperature</th>\n",
       "      <th>max</th>\n",
       "      <td>-0.056194</td>\n",
       "      <td>1.124146</td>\n",
       "      <td>1.260310</td>\n",
       "      <td>1.525336</td>\n",
       "    </tr>\n",
       "    <tr>\n",
       "      <th>rainfall</th>\n",
       "      <th>mean</th>\n",
       "      <td>0.057897</td>\n",
       "      <td>-0.160782</td>\n",
       "      <td>0.144948</td>\n",
       "      <td>0.887629</td>\n",
       "    </tr>\n",
       "    <tr>\n",
       "      <th>runoff</th>\n",
       "      <th>min</th>\n",
       "      <td>-0.797417</td>\n",
       "      <td>-0.878226</td>\n",
       "      <td>0.227030</td>\n",
       "      <td>0.387277</td>\n",
       "    </tr>\n",
       "  </tbody>\n",
       "</table>\n",
       "</div>"
      ],
      "text/plain": [
       "                           0         1         2         3\n",
       "factor      method                                        \n",
       "temperature max    -0.056194  1.124146  1.260310  1.525336\n",
       "rainfall    mean    0.057897 -0.160782  0.144948  0.887629\n",
       "runoff      min    -0.797417 -0.878226  0.227030  0.387277"
      ]
     },
     "execution_count": 76,
     "metadata": {},
     "output_type": "execute_result"
    }
   ],
   "source": [
    "df = pd.DataFrame(np.random.randn(3, 4), index=idx)\n",
    "df"
   ]
  },
  {
   "cell_type": "markdown",
   "metadata": {
    "id": "Dozqu4WXZiJI"
   },
   "source": [
    "```pd.MultiIndex.from_tuples```, ```pd.MultiIndex.from_frame```"
   ]
  },
  {
   "cell_type": "markdown",
   "metadata": {
    "id": "K8XGbQo9bHvi"
   },
   "source": [
    "### Get index for multiindex"
   ]
  },
  {
   "cell_type": "code",
   "execution_count": 77,
   "metadata": {
    "colab": {
     "base_uri": "https://localhost:8080/"
    },
    "id": "AES6xOnQbMmS",
    "outputId": "96805782-6644-43eb-c4a9-4eecde798744"
   },
   "outputs": [
    {
     "data": {
      "text/plain": [
       "MultiIndex([('temperature',  'max'),\n",
       "            ('temperature', 'mean'),\n",
       "            ('temperature',  'min'),\n",
       "            (   'rainfall',  'max'),\n",
       "            (   'rainfall', 'mean'),\n",
       "            (   'rainfall',  'min'),\n",
       "            (     'runoff',  'max'),\n",
       "            (     'runoff', 'mean'),\n",
       "            (     'runoff',  'min')],\n",
       "           names=['factor', 'method'])"
      ]
     },
     "execution_count": 77,
     "metadata": {},
     "output_type": "execute_result"
    }
   ],
   "source": [
    "iterables = [\n",
    "    [\"temperature\",\"rainfall\",\"runoff\"],\n",
    "    [\"max\",\"mean\",\"min\"],\n",
    "]\n",
    "idx = pd.MultiIndex.from_product(iterables, names=[\"factor\", \"method\"])\n",
    "df = pd.DataFrame(np.random.randn(9, 4), index=idx)\n",
    "df.index"
   ]
  },
  {
   "cell_type": "code",
   "execution_count": 78,
   "metadata": {
    "colab": {
     "base_uri": "https://localhost:8080/"
    },
    "id": "0SVFR1FubTs6",
    "outputId": "0421ab63-a4e9-406a-eb51-fe0c6ba71ff3"
   },
   "outputs": [
    {
     "data": {
      "text/plain": [
       "Index(['temperature', 'temperature', 'temperature', 'rainfall', 'rainfall',\n",
       "       'rainfall', 'runoff', 'runoff', 'runoff'],\n",
       "      dtype='object', name='factor')"
      ]
     },
     "execution_count": 78,
     "metadata": {},
     "output_type": "execute_result"
    }
   ],
   "source": [
    "df.index.get_level_values(0)"
   ]
  },
  {
   "cell_type": "code",
   "execution_count": 79,
   "metadata": {
    "colab": {
     "base_uri": "https://localhost:8080/"
    },
    "id": "CJCtgW_qbczF",
    "outputId": "31358ecf-9bee-4bb2-95de-a34833c3aaf3"
   },
   "outputs": [
    {
     "data": {
      "text/plain": [
       "Index(['max', 'mean', 'min', 'max', 'mean', 'min', 'max', 'mean', 'min'], dtype='object', name='method')"
      ]
     },
     "execution_count": 79,
     "metadata": {},
     "output_type": "execute_result"
    }
   ],
   "source": [
    "df.index.get_level_values(1)"
   ]
  },
  {
   "cell_type": "markdown",
   "metadata": {
    "id": "CnXH-_3QUugb"
   },
   "source": [
    "## Apply and Applymap\n",
    "* Apply: Apply a function along an axis of the DataFrame.\n",
    "* Applymap: Apply a function to a Dataframe elementwise. You can address each element for specfic requirements."
   ]
  },
  {
   "cell_type": "code",
   "execution_count": 80,
   "metadata": {
    "colab": {
     "base_uri": "https://localhost:8080/",
     "height": 143
    },
    "id": "cE-5GHtEgnHu",
    "outputId": "e5d69c38-8e22-491f-ceb6-441cb675caf7"
   },
   "outputs": [
    {
     "data": {
      "text/html": [
       "<div>\n",
       "<style scoped>\n",
       "    .dataframe tbody tr th:only-of-type {\n",
       "        vertical-align: middle;\n",
       "    }\n",
       "\n",
       "    .dataframe tbody tr th {\n",
       "        vertical-align: top;\n",
       "    }\n",
       "\n",
       "    .dataframe thead th {\n",
       "        text-align: right;\n",
       "    }\n",
       "</style>\n",
       "<table border=\"1\" class=\"dataframe\">\n",
       "  <thead>\n",
       "    <tr style=\"text-align: right;\">\n",
       "      <th></th>\n",
       "      <th>0</th>\n",
       "      <th>1</th>\n",
       "      <th>2</th>\n",
       "      <th>3</th>\n",
       "    </tr>\n",
       "  </thead>\n",
       "  <tbody>\n",
       "    <tr>\n",
       "      <th>0</th>\n",
       "      <td>-0.987137</td>\n",
       "      <td>-0.417442</td>\n",
       "      <td>-0.317191</td>\n",
       "      <td>1.320722</td>\n",
       "    </tr>\n",
       "    <tr>\n",
       "      <th>1</th>\n",
       "      <td>1.045813</td>\n",
       "      <td>0.047510</td>\n",
       "      <td>-0.632909</td>\n",
       "      <td>-1.146566</td>\n",
       "    </tr>\n",
       "    <tr>\n",
       "      <th>2</th>\n",
       "      <td>-0.193621</td>\n",
       "      <td>0.930791</td>\n",
       "      <td>1.232401</td>\n",
       "      <td>-0.490388</td>\n",
       "    </tr>\n",
       "  </tbody>\n",
       "</table>\n",
       "</div>"
      ],
      "text/plain": [
       "          0         1         2         3\n",
       "0 -0.987137 -0.417442 -0.317191  1.320722\n",
       "1  1.045813  0.047510 -0.632909 -1.146566\n",
       "2 -0.193621  0.930791  1.232401 -0.490388"
      ]
     },
     "execution_count": 80,
     "metadata": {},
     "output_type": "execute_result"
    }
   ],
   "source": [
    "df = pd.DataFrame(np.random.randn(3, 4))\n",
    "df"
   ]
  },
  {
   "cell_type": "code",
   "execution_count": 81,
   "metadata": {
    "colab": {
     "base_uri": "https://localhost:8080/",
     "height": 143
    },
    "id": "9CcWjHAKhfhJ",
    "outputId": "d452ebb4-ffce-4b1e-dfb4-2484f3e3c677"
   },
   "outputs": [
    {
     "data": {
      "text/html": [
       "<div>\n",
       "<style scoped>\n",
       "    .dataframe tbody tr th:only-of-type {\n",
       "        vertical-align: middle;\n",
       "    }\n",
       "\n",
       "    .dataframe tbody tr th {\n",
       "        vertical-align: top;\n",
       "    }\n",
       "\n",
       "    .dataframe thead th {\n",
       "        text-align: right;\n",
       "    }\n",
       "</style>\n",
       "<table border=\"1\" class=\"dataframe\">\n",
       "  <thead>\n",
       "    <tr style=\"text-align: right;\">\n",
       "      <th></th>\n",
       "      <th>0</th>\n",
       "      <th>1</th>\n",
       "      <th>2</th>\n",
       "      <th>3</th>\n",
       "    </tr>\n",
       "  </thead>\n",
       "  <tbody>\n",
       "    <tr>\n",
       "      <th>0</th>\n",
       "      <td>0.987137</td>\n",
       "      <td>0.417442</td>\n",
       "      <td>0.317191</td>\n",
       "      <td>1.320722</td>\n",
       "    </tr>\n",
       "    <tr>\n",
       "      <th>1</th>\n",
       "      <td>1.045813</td>\n",
       "      <td>0.047510</td>\n",
       "      <td>0.632909</td>\n",
       "      <td>1.146566</td>\n",
       "    </tr>\n",
       "    <tr>\n",
       "      <th>2</th>\n",
       "      <td>0.193621</td>\n",
       "      <td>0.930791</td>\n",
       "      <td>1.232401</td>\n",
       "      <td>0.490388</td>\n",
       "    </tr>\n",
       "  </tbody>\n",
       "</table>\n",
       "</div>"
      ],
      "text/plain": [
       "          0         1         2         3\n",
       "0  0.987137  0.417442  0.317191  1.320722\n",
       "1  1.045813  0.047510  0.632909  1.146566\n",
       "2  0.193621  0.930791  1.232401  0.490388"
      ]
     },
     "execution_count": 81,
     "metadata": {},
     "output_type": "execute_result"
    }
   ],
   "source": [
    "df.apply(np.abs)"
   ]
  },
  {
   "cell_type": "code",
   "execution_count": 82,
   "metadata": {
    "colab": {
     "base_uri": "https://localhost:8080/",
     "height": 143
    },
    "id": "NC_Hdh3Fhk_7",
    "outputId": "4e954052-f2fc-41fa-ca8f-602acada21a7"
   },
   "outputs": [
    {
     "data": {
      "text/html": [
       "<div>\n",
       "<style scoped>\n",
       "    .dataframe tbody tr th:only-of-type {\n",
       "        vertical-align: middle;\n",
       "    }\n",
       "\n",
       "    .dataframe tbody tr th {\n",
       "        vertical-align: top;\n",
       "    }\n",
       "\n",
       "    .dataframe thead th {\n",
       "        text-align: right;\n",
       "    }\n",
       "</style>\n",
       "<table border=\"1\" class=\"dataframe\">\n",
       "  <thead>\n",
       "    <tr style=\"text-align: right;\">\n",
       "      <th></th>\n",
       "      <th>0</th>\n",
       "      <th>1</th>\n",
       "      <th>2</th>\n",
       "      <th>3</th>\n",
       "    </tr>\n",
       "  </thead>\n",
       "  <tbody>\n",
       "    <tr>\n",
       "      <th>0</th>\n",
       "      <td>-0.961905</td>\n",
       "      <td>-0.072743</td>\n",
       "      <td>-0.031913</td>\n",
       "      <td>2.303745</td>\n",
       "    </tr>\n",
       "    <tr>\n",
       "      <th>1</th>\n",
       "      <td>1.143833</td>\n",
       "      <td>0.000107</td>\n",
       "      <td>-0.253527</td>\n",
       "      <td>-1.507291</td>\n",
       "    </tr>\n",
       "    <tr>\n",
       "      <th>2</th>\n",
       "      <td>-0.007259</td>\n",
       "      <td>0.806411</td>\n",
       "      <td>1.871784</td>\n",
       "      <td>-0.117929</td>\n",
       "    </tr>\n",
       "  </tbody>\n",
       "</table>\n",
       "</div>"
      ],
      "text/plain": [
       "          0         1         2         3\n",
       "0 -0.961905 -0.072743 -0.031913  2.303745\n",
       "1  1.143833  0.000107 -0.253527 -1.507291\n",
       "2 -0.007259  0.806411  1.871784 -0.117929"
      ]
     },
     "execution_count": 82,
     "metadata": {},
     "output_type": "execute_result"
    }
   ],
   "source": [
    "func_x3 = lambda x: x**3 # lambda functiodn\n",
    "df.apply(func_x3)"
   ]
  },
  {
   "cell_type": "code",
   "execution_count": 83,
   "metadata": {
    "colab": {
     "base_uri": "https://localhost:8080/",
     "height": 143
    },
    "id": "28POM60DirEc",
    "outputId": "b9d311e8-e49b-4b1d-e8ea-293bafbcb434"
   },
   "outputs": [
    {
     "data": {
      "text/html": [
       "<div>\n",
       "<style scoped>\n",
       "    .dataframe tbody tr th:only-of-type {\n",
       "        vertical-align: middle;\n",
       "    }\n",
       "\n",
       "    .dataframe tbody tr th {\n",
       "        vertical-align: top;\n",
       "    }\n",
       "\n",
       "    .dataframe thead th {\n",
       "        text-align: right;\n",
       "    }\n",
       "</style>\n",
       "<table border=\"1\" class=\"dataframe\">\n",
       "  <thead>\n",
       "    <tr style=\"text-align: right;\">\n",
       "      <th></th>\n",
       "      <th>0</th>\n",
       "      <th>1</th>\n",
       "      <th>2</th>\n",
       "      <th>3</th>\n",
       "    </tr>\n",
       "  </thead>\n",
       "  <tbody>\n",
       "    <tr>\n",
       "      <th>0</th>\n",
       "      <td>0.987137</td>\n",
       "      <td>0.417442</td>\n",
       "      <td>0.317191</td>\n",
       "      <td>1.000000</td>\n",
       "    </tr>\n",
       "    <tr>\n",
       "      <th>1</th>\n",
       "      <td>1.000000</td>\n",
       "      <td>0.047510</td>\n",
       "      <td>0.632909</td>\n",
       "      <td>-1.000000</td>\n",
       "    </tr>\n",
       "    <tr>\n",
       "      <th>2</th>\n",
       "      <td>0.193621</td>\n",
       "      <td>0.930791</td>\n",
       "      <td>1.000000</td>\n",
       "      <td>0.490388</td>\n",
       "    </tr>\n",
       "  </tbody>\n",
       "</table>\n",
       "</div>"
      ],
      "text/plain": [
       "          0         1         2         3\n",
       "0  0.987137  0.417442  0.317191  1.000000\n",
       "1  1.000000  0.047510  0.632909 -1.000000\n",
       "2  0.193621  0.930791  1.000000  0.490388"
      ]
     },
     "execution_count": 83,
     "metadata": {},
     "output_type": "execute_result"
    }
   ],
   "source": [
    "# This function don't have specific meaning. \n",
    "# It only defines a complex operation for each element of dataframe.\n",
    "def func_range(x):\n",
    "    if x > 1:\n",
    "        return 1\n",
    "    elif x< -1:\n",
    "        return -1\n",
    "    else:\n",
    "        return np.abs(x)\n",
    "df.applymap(func_range)"
   ]
  },
  {
   "cell_type": "markdown",
   "metadata": {
    "id": "5B0qu3F1RTwi"
   },
   "source": [
    "## Groupby\n",
    "`Groupby()` can be used to group large amounts of data and compute operations on these groups.\n",
    "\n"
   ]
  },
  {
   "cell_type": "code",
   "execution_count": 84,
   "metadata": {
    "colab": {
     "base_uri": "https://localhost:8080/"
    },
    "id": "xSCN25vllOUh",
    "outputId": "477127be-8d7e-4d4c-a4f5-5daa8af7c9b2"
   },
   "outputs": [
    {
     "name": "stdout",
     "output_type": "stream",
     "text": [
      "rainfall\n",
      "                        0         1         2         3\n",
      "factor   method                                        \n",
      "rainfall site1  -1.315335 -0.265592  0.497775 -0.806118\n",
      "         site2   0.576566 -0.348612 -1.486184  0.914091\n",
      "         site3  -0.328494 -1.559920 -0.422701 -2.445897\n",
      "runoff\n",
      "                      0         1         2         3\n",
      "factor method                                        \n",
      "runoff site1  -0.822565  1.677549 -1.055060 -1.815130\n",
      "       site2   1.815347 -1.066267  2.148224  1.117635\n",
      "       site3   0.054797  0.426165  2.151226  0.247776\n",
      "temperature\n",
      "                           0         1         2         3\n",
      "factor      method                                        \n",
      "temperature site1  -0.377522  0.872354  0.320971 -1.540975\n",
      "            site2   0.787866  1.043507 -1.072587 -0.210450\n",
      "            site3  -1.171762 -1.205667 -1.413339 -0.365665\n"
     ]
    }
   ],
   "source": [
    "iterables = [\n",
    "    [\"temperature\",\"rainfall\",\"runoff\"],\n",
    "    [\"site1\",\"site2\",\"site3\"],\n",
    "]\n",
    "idx = pd.MultiIndex.from_product(iterables, names=[\"factor\", \"method\"])\n",
    "df = pd.DataFrame(np.random.randn(9, 4), index=idx)\n",
    "for n,subdf in df.groupby(by=[\"factor\"]):\n",
    "    print(n)\n",
    "    print(subdf)"
   ]
  },
  {
   "cell_type": "code",
   "execution_count": 85,
   "metadata": {
    "colab": {
     "base_uri": "https://localhost:8080/",
     "height": 175
    },
    "id": "NmwJ05NpUo7v",
    "outputId": "d708b705-baec-4ff2-c0c8-c7de9b30f704"
   },
   "outputs": [
    {
     "data": {
      "text/html": [
       "<div>\n",
       "<style scoped>\n",
       "    .dataframe tbody tr th:only-of-type {\n",
       "        vertical-align: middle;\n",
       "    }\n",
       "\n",
       "    .dataframe tbody tr th {\n",
       "        vertical-align: top;\n",
       "    }\n",
       "\n",
       "    .dataframe thead th {\n",
       "        text-align: right;\n",
       "    }\n",
       "</style>\n",
       "<table border=\"1\" class=\"dataframe\">\n",
       "  <thead>\n",
       "    <tr style=\"text-align: right;\">\n",
       "      <th></th>\n",
       "      <th>0</th>\n",
       "      <th>1</th>\n",
       "      <th>2</th>\n",
       "      <th>3</th>\n",
       "    </tr>\n",
       "    <tr>\n",
       "      <th>factor</th>\n",
       "      <th></th>\n",
       "      <th></th>\n",
       "      <th></th>\n",
       "      <th></th>\n",
       "    </tr>\n",
       "  </thead>\n",
       "  <tbody>\n",
       "    <tr>\n",
       "      <th>rainfall</th>\n",
       "      <td>-0.355755</td>\n",
       "      <td>-0.724708</td>\n",
       "      <td>-0.470370</td>\n",
       "      <td>-0.779308</td>\n",
       "    </tr>\n",
       "    <tr>\n",
       "      <th>runoff</th>\n",
       "      <td>0.349193</td>\n",
       "      <td>0.345816</td>\n",
       "      <td>1.081463</td>\n",
       "      <td>-0.149906</td>\n",
       "    </tr>\n",
       "    <tr>\n",
       "      <th>temperature</th>\n",
       "      <td>-0.253806</td>\n",
       "      <td>0.236731</td>\n",
       "      <td>-0.721652</td>\n",
       "      <td>-0.705697</td>\n",
       "    </tr>\n",
       "  </tbody>\n",
       "</table>\n",
       "</div>"
      ],
      "text/plain": [
       "                    0         1         2         3\n",
       "factor                                             \n",
       "rainfall    -0.355755 -0.724708 -0.470370 -0.779308\n",
       "runoff       0.349193  0.345816  1.081463 -0.149906\n",
       "temperature -0.253806  0.236731 -0.721652 -0.705697"
      ]
     },
     "execution_count": 85,
     "metadata": {},
     "output_type": "execute_result"
    }
   ],
   "source": [
    "df.groupby(by=[\"factor\"]).mean()"
   ]
  },
  {
   "cell_type": "markdown",
   "metadata": {
    "id": "sJprcg18UzGa"
   },
   "source": [
    "## Advanced (operational)"
   ]
  },
  {
   "cell_type": "markdown",
   "metadata": {
    "id": "a_FS7sjw5Rgj"
   },
   "source": [
    "## Table Visualization"
   ]
  },
  {
   "cell_type": "code",
   "execution_count": 86,
   "metadata": {
    "colab": {
     "base_uri": "https://localhost:8080/",
     "height": 254
    },
    "id": "iqNkVVQB3vNN",
    "outputId": "18f495e7-8736-401f-e707-1408887b8b2a"
   },
   "outputs": [
    {
     "data": {
      "text/html": [
       "<style  type=\"text/css\" >\n",
       "#T_f8dcfebe_1cff_11ec_872c_744ca1d15716row1_col1,#T_f8dcfebe_1cff_11ec_872c_744ca1d15716row4_col3,#T_f8dcfebe_1cff_11ec_872c_744ca1d15716row5_col0,#T_f8dcfebe_1cff_11ec_872c_744ca1d15716row5_col3,#T_f8dcfebe_1cff_11ec_872c_744ca1d15716row6_col1,#T_f8dcfebe_1cff_11ec_872c_744ca1d15716row8_col0,#T_f8dcfebe_1cff_11ec_872c_744ca1d15716row8_col1,#T_f8dcfebe_1cff_11ec_872c_744ca1d15716row8_col2,#T_f8dcfebe_1cff_11ec_872c_744ca1d15716row9_col2,#T_f8dcfebe_1cff_11ec_872c_744ca1d15716row9_col3{\n",
       "            color: red;\n",
       "        }#T_f8dcfebe_1cff_11ec_872c_744ca1d15716row1_col3,#T_f8dcfebe_1cff_11ec_872c_744ca1d15716row2_col0,#T_f8dcfebe_1cff_11ec_872c_744ca1d15716row4_col1,#T_f8dcfebe_1cff_11ec_872c_744ca1d15716row6_col3{\n",
       "            color: red;\n",
       "            opacity:  20%;\n",
       "        }#T_f8dcfebe_1cff_11ec_872c_744ca1d15716row2_col2,#T_f8dcfebe_1cff_11ec_872c_744ca1d15716row3_col1,#T_f8dcfebe_1cff_11ec_872c_744ca1d15716row6_col2,#T_f8dcfebe_1cff_11ec_872c_744ca1d15716row7_col2,#T_f8dcfebe_1cff_11ec_872c_744ca1d15716row8_col3{\n",
       "            opacity:  20%;\n",
       "        }</style><table id=\"T_f8dcfebe_1cff_11ec_872c_744ca1d15716\" ><thead>    <tr>        <th class=\"blank level0\" ></th>        <th class=\"col_heading level0 col0\" >A</th>        <th class=\"col_heading level0 col1\" >B</th>        <th class=\"col_heading level0 col2\" >C</th>        <th class=\"col_heading level0 col3\" >D</th>    </tr></thead><tbody>\n",
       "                <tr>\n",
       "                        <th id=\"T_f8dcfebe_1cff_11ec_872c_744ca1d15716level0_row0\" class=\"row_heading level0 row0\" >0</th>\n",
       "                        <td id=\"T_f8dcfebe_1cff_11ec_872c_744ca1d15716row0_col0\" class=\"data row0 col0\" >1.764052</td>\n",
       "                        <td id=\"T_f8dcfebe_1cff_11ec_872c_744ca1d15716row0_col1\" class=\"data row0 col1\" >0.400157</td>\n",
       "                        <td id=\"T_f8dcfebe_1cff_11ec_872c_744ca1d15716row0_col2\" class=\"data row0 col2\" >0.978738</td>\n",
       "                        <td id=\"T_f8dcfebe_1cff_11ec_872c_744ca1d15716row0_col3\" class=\"data row0 col3\" >2.240893</td>\n",
       "            </tr>\n",
       "            <tr>\n",
       "                        <th id=\"T_f8dcfebe_1cff_11ec_872c_744ca1d15716level0_row1\" class=\"row_heading level0 row1\" >1</th>\n",
       "                        <td id=\"T_f8dcfebe_1cff_11ec_872c_744ca1d15716row1_col0\" class=\"data row1 col0\" >1.867558</td>\n",
       "                        <td id=\"T_f8dcfebe_1cff_11ec_872c_744ca1d15716row1_col1\" class=\"data row1 col1\" >-0.977278</td>\n",
       "                        <td id=\"T_f8dcfebe_1cff_11ec_872c_744ca1d15716row1_col2\" class=\"data row1 col2\" >0.950088</td>\n",
       "                        <td id=\"T_f8dcfebe_1cff_11ec_872c_744ca1d15716row1_col3\" class=\"data row1 col3\" >-0.151357</td>\n",
       "            </tr>\n",
       "            <tr>\n",
       "                        <th id=\"T_f8dcfebe_1cff_11ec_872c_744ca1d15716level0_row2\" class=\"row_heading level0 row2\" >2</th>\n",
       "                        <td id=\"T_f8dcfebe_1cff_11ec_872c_744ca1d15716row2_col0\" class=\"data row2 col0\" >-0.103219</td>\n",
       "                        <td id=\"T_f8dcfebe_1cff_11ec_872c_744ca1d15716row2_col1\" class=\"data row2 col1\" >0.410599</td>\n",
       "                        <td id=\"T_f8dcfebe_1cff_11ec_872c_744ca1d15716row2_col2\" class=\"data row2 col2\" >0.144044</td>\n",
       "                        <td id=\"T_f8dcfebe_1cff_11ec_872c_744ca1d15716row2_col3\" class=\"data row2 col3\" >1.454274</td>\n",
       "            </tr>\n",
       "            <tr>\n",
       "                        <th id=\"T_f8dcfebe_1cff_11ec_872c_744ca1d15716level0_row3\" class=\"row_heading level0 row3\" >3</th>\n",
       "                        <td id=\"T_f8dcfebe_1cff_11ec_872c_744ca1d15716row3_col0\" class=\"data row3 col0\" >0.761038</td>\n",
       "                        <td id=\"T_f8dcfebe_1cff_11ec_872c_744ca1d15716row3_col1\" class=\"data row3 col1\" >0.121675</td>\n",
       "                        <td id=\"T_f8dcfebe_1cff_11ec_872c_744ca1d15716row3_col2\" class=\"data row3 col2\" >0.443863</td>\n",
       "                        <td id=\"T_f8dcfebe_1cff_11ec_872c_744ca1d15716row3_col3\" class=\"data row3 col3\" >0.333674</td>\n",
       "            </tr>\n",
       "            <tr>\n",
       "                        <th id=\"T_f8dcfebe_1cff_11ec_872c_744ca1d15716level0_row4\" class=\"row_heading level0 row4\" >4</th>\n",
       "                        <td id=\"T_f8dcfebe_1cff_11ec_872c_744ca1d15716row4_col0\" class=\"data row4 col0\" >1.494079</td>\n",
       "                        <td id=\"T_f8dcfebe_1cff_11ec_872c_744ca1d15716row4_col1\" class=\"data row4 col1\" >-0.205158</td>\n",
       "                        <td id=\"T_f8dcfebe_1cff_11ec_872c_744ca1d15716row4_col2\" class=\"data row4 col2\" >0.313068</td>\n",
       "                        <td id=\"T_f8dcfebe_1cff_11ec_872c_744ca1d15716row4_col3\" class=\"data row4 col3\" >-0.854096</td>\n",
       "            </tr>\n",
       "            <tr>\n",
       "                        <th id=\"T_f8dcfebe_1cff_11ec_872c_744ca1d15716level0_row5\" class=\"row_heading level0 row5\" >5</th>\n",
       "                        <td id=\"T_f8dcfebe_1cff_11ec_872c_744ca1d15716row5_col0\" class=\"data row5 col0\" >-2.552990</td>\n",
       "                        <td id=\"T_f8dcfebe_1cff_11ec_872c_744ca1d15716row5_col1\" class=\"data row5 col1\" >0.653619</td>\n",
       "                        <td id=\"T_f8dcfebe_1cff_11ec_872c_744ca1d15716row5_col2\" class=\"data row5 col2\" >0.864436</td>\n",
       "                        <td id=\"T_f8dcfebe_1cff_11ec_872c_744ca1d15716row5_col3\" class=\"data row5 col3\" >-0.742165</td>\n",
       "            </tr>\n",
       "            <tr>\n",
       "                        <th id=\"T_f8dcfebe_1cff_11ec_872c_744ca1d15716level0_row6\" class=\"row_heading level0 row6\" >6</th>\n",
       "                        <td id=\"T_f8dcfebe_1cff_11ec_872c_744ca1d15716row6_col0\" class=\"data row6 col0\" >2.269755</td>\n",
       "                        <td id=\"T_f8dcfebe_1cff_11ec_872c_744ca1d15716row6_col1\" class=\"data row6 col1\" >-1.454366</td>\n",
       "                        <td id=\"T_f8dcfebe_1cff_11ec_872c_744ca1d15716row6_col2\" class=\"data row6 col2\" >0.045759</td>\n",
       "                        <td id=\"T_f8dcfebe_1cff_11ec_872c_744ca1d15716row6_col3\" class=\"data row6 col3\" >-0.187184</td>\n",
       "            </tr>\n",
       "            <tr>\n",
       "                        <th id=\"T_f8dcfebe_1cff_11ec_872c_744ca1d15716level0_row7\" class=\"row_heading level0 row7\" >7</th>\n",
       "                        <td id=\"T_f8dcfebe_1cff_11ec_872c_744ca1d15716row7_col0\" class=\"data row7 col0\" >1.532779</td>\n",
       "                        <td id=\"T_f8dcfebe_1cff_11ec_872c_744ca1d15716row7_col1\" class=\"data row7 col1\" >1.469359</td>\n",
       "                        <td id=\"T_f8dcfebe_1cff_11ec_872c_744ca1d15716row7_col2\" class=\"data row7 col2\" >0.154947</td>\n",
       "                        <td id=\"T_f8dcfebe_1cff_11ec_872c_744ca1d15716row7_col3\" class=\"data row7 col3\" >0.378163</td>\n",
       "            </tr>\n",
       "            <tr>\n",
       "                        <th id=\"T_f8dcfebe_1cff_11ec_872c_744ca1d15716level0_row8\" class=\"row_heading level0 row8\" >8</th>\n",
       "                        <td id=\"T_f8dcfebe_1cff_11ec_872c_744ca1d15716row8_col0\" class=\"data row8 col0\" >-0.887786</td>\n",
       "                        <td id=\"T_f8dcfebe_1cff_11ec_872c_744ca1d15716row8_col1\" class=\"data row8 col1\" >-1.980796</td>\n",
       "                        <td id=\"T_f8dcfebe_1cff_11ec_872c_744ca1d15716row8_col2\" class=\"data row8 col2\" >-0.347912</td>\n",
       "                        <td id=\"T_f8dcfebe_1cff_11ec_872c_744ca1d15716row8_col3\" class=\"data row8 col3\" >0.156349</td>\n",
       "            </tr>\n",
       "            <tr>\n",
       "                        <th id=\"T_f8dcfebe_1cff_11ec_872c_744ca1d15716level0_row9\" class=\"row_heading level0 row9\" >9</th>\n",
       "                        <td id=\"T_f8dcfebe_1cff_11ec_872c_744ca1d15716row9_col0\" class=\"data row9 col0\" >1.230291</td>\n",
       "                        <td id=\"T_f8dcfebe_1cff_11ec_872c_744ca1d15716row9_col1\" class=\"data row9 col1\" >1.202380</td>\n",
       "                        <td id=\"T_f8dcfebe_1cff_11ec_872c_744ca1d15716row9_col2\" class=\"data row9 col2\" >-0.387327</td>\n",
       "                        <td id=\"T_f8dcfebe_1cff_11ec_872c_744ca1d15716row9_col3\" class=\"data row9 col3\" >-0.302303</td>\n",
       "            </tr>\n",
       "    </tbody></table>"
      ],
      "text/plain": [
       "<pandas.io.formats.style.Styler at 0x258b9541208>"
      ]
     },
     "execution_count": 86,
     "metadata": {},
     "output_type": "execute_result"
    }
   ],
   "source": [
    "np.random.seed(0)\n",
    "df2 = pd.DataFrame(np.random.randn(10,4), columns=['A','B','C','D'])\n",
    "df2.style\n",
    "def style_negative(v, props=''):\n",
    "    return props if v < 0 else None\n",
    "s2 = df2.style.applymap(style_negative, props='color:red;')\\\n",
    "              .applymap(lambda v: 'opacity: 20%;' if (v < 0.3) and (v > -0.3) else None)\n",
    "s2"
   ]
  },
  {
   "cell_type": "code",
   "execution_count": 87,
   "metadata": {
    "colab": {
     "base_uri": "https://localhost:8080/",
     "height": 254
    },
    "id": "qZ8PIdZsnl2C",
    "outputId": "8932a7dd-c088-434a-8778-a8058e74a2e4"
   },
   "outputs": [
    {
     "data": {
      "text/html": [
       "<style  type=\"text/css\" >\n",
       "#T_f8e340ac_1cff_11ec_9bfd_744ca1d15716row0_col2,#T_f8e340ac_1cff_11ec_9bfd_744ca1d15716row0_col3,#T_f8e340ac_1cff_11ec_9bfd_744ca1d15716row6_col0,#T_f8e340ac_1cff_11ec_9bfd_744ca1d15716row7_col1{\n",
       "            color: white;\n",
       "            background-color: darkblue;\n",
       "        }#T_f8e340ac_1cff_11ec_9bfd_744ca1d15716row1_col1,#T_f8e340ac_1cff_11ec_9bfd_744ca1d15716row4_col3,#T_f8e340ac_1cff_11ec_9bfd_744ca1d15716row5_col0,#T_f8e340ac_1cff_11ec_9bfd_744ca1d15716row5_col3,#T_f8e340ac_1cff_11ec_9bfd_744ca1d15716row6_col1,#T_f8e340ac_1cff_11ec_9bfd_744ca1d15716row8_col0,#T_f8e340ac_1cff_11ec_9bfd_744ca1d15716row8_col1,#T_f8e340ac_1cff_11ec_9bfd_744ca1d15716row8_col2,#T_f8e340ac_1cff_11ec_9bfd_744ca1d15716row9_col2,#T_f8e340ac_1cff_11ec_9bfd_744ca1d15716row9_col3{\n",
       "            color: red;\n",
       "            color: red;\n",
       "        }#T_f8e340ac_1cff_11ec_9bfd_744ca1d15716row1_col3,#T_f8e340ac_1cff_11ec_9bfd_744ca1d15716row2_col0,#T_f8e340ac_1cff_11ec_9bfd_744ca1d15716row4_col1,#T_f8e340ac_1cff_11ec_9bfd_744ca1d15716row6_col3{\n",
       "            color: red;\n",
       "            opacity:  20%;\n",
       "            color: red;\n",
       "            opacity:  20%;\n",
       "        }#T_f8e340ac_1cff_11ec_9bfd_744ca1d15716row2_col2,#T_f8e340ac_1cff_11ec_9bfd_744ca1d15716row3_col1,#T_f8e340ac_1cff_11ec_9bfd_744ca1d15716row6_col2,#T_f8e340ac_1cff_11ec_9bfd_744ca1d15716row7_col2,#T_f8e340ac_1cff_11ec_9bfd_744ca1d15716row8_col3{\n",
       "            opacity:  20%;\n",
       "            opacity:  20%;\n",
       "        }</style><table id=\"T_f8e340ac_1cff_11ec_9bfd_744ca1d15716\" ><thead>    <tr>        <th class=\"blank level0\" ></th>        <th class=\"col_heading level0 col0\" >A</th>        <th class=\"col_heading level0 col1\" >B</th>        <th class=\"col_heading level0 col2\" >C</th>        <th class=\"col_heading level0 col3\" >D</th>    </tr></thead><tbody>\n",
       "                <tr>\n",
       "                        <th id=\"T_f8e340ac_1cff_11ec_9bfd_744ca1d15716level0_row0\" class=\"row_heading level0 row0\" >0</th>\n",
       "                        <td id=\"T_f8e340ac_1cff_11ec_9bfd_744ca1d15716row0_col0\" class=\"data row0 col0\" >1.764052</td>\n",
       "                        <td id=\"T_f8e340ac_1cff_11ec_9bfd_744ca1d15716row0_col1\" class=\"data row0 col1\" >0.400157</td>\n",
       "                        <td id=\"T_f8e340ac_1cff_11ec_9bfd_744ca1d15716row0_col2\" class=\"data row0 col2\" >0.978738</td>\n",
       "                        <td id=\"T_f8e340ac_1cff_11ec_9bfd_744ca1d15716row0_col3\" class=\"data row0 col3\" >2.240893</td>\n",
       "            </tr>\n",
       "            <tr>\n",
       "                        <th id=\"T_f8e340ac_1cff_11ec_9bfd_744ca1d15716level0_row1\" class=\"row_heading level0 row1\" >1</th>\n",
       "                        <td id=\"T_f8e340ac_1cff_11ec_9bfd_744ca1d15716row1_col0\" class=\"data row1 col0\" >1.867558</td>\n",
       "                        <td id=\"T_f8e340ac_1cff_11ec_9bfd_744ca1d15716row1_col1\" class=\"data row1 col1\" >-0.977278</td>\n",
       "                        <td id=\"T_f8e340ac_1cff_11ec_9bfd_744ca1d15716row1_col2\" class=\"data row1 col2\" >0.950088</td>\n",
       "                        <td id=\"T_f8e340ac_1cff_11ec_9bfd_744ca1d15716row1_col3\" class=\"data row1 col3\" >-0.151357</td>\n",
       "            </tr>\n",
       "            <tr>\n",
       "                        <th id=\"T_f8e340ac_1cff_11ec_9bfd_744ca1d15716level0_row2\" class=\"row_heading level0 row2\" >2</th>\n",
       "                        <td id=\"T_f8e340ac_1cff_11ec_9bfd_744ca1d15716row2_col0\" class=\"data row2 col0\" >-0.103219</td>\n",
       "                        <td id=\"T_f8e340ac_1cff_11ec_9bfd_744ca1d15716row2_col1\" class=\"data row2 col1\" >0.410599</td>\n",
       "                        <td id=\"T_f8e340ac_1cff_11ec_9bfd_744ca1d15716row2_col2\" class=\"data row2 col2\" >0.144044</td>\n",
       "                        <td id=\"T_f8e340ac_1cff_11ec_9bfd_744ca1d15716row2_col3\" class=\"data row2 col3\" >1.454274</td>\n",
       "            </tr>\n",
       "            <tr>\n",
       "                        <th id=\"T_f8e340ac_1cff_11ec_9bfd_744ca1d15716level0_row3\" class=\"row_heading level0 row3\" >3</th>\n",
       "                        <td id=\"T_f8e340ac_1cff_11ec_9bfd_744ca1d15716row3_col0\" class=\"data row3 col0\" >0.761038</td>\n",
       "                        <td id=\"T_f8e340ac_1cff_11ec_9bfd_744ca1d15716row3_col1\" class=\"data row3 col1\" >0.121675</td>\n",
       "                        <td id=\"T_f8e340ac_1cff_11ec_9bfd_744ca1d15716row3_col2\" class=\"data row3 col2\" >0.443863</td>\n",
       "                        <td id=\"T_f8e340ac_1cff_11ec_9bfd_744ca1d15716row3_col3\" class=\"data row3 col3\" >0.333674</td>\n",
       "            </tr>\n",
       "            <tr>\n",
       "                        <th id=\"T_f8e340ac_1cff_11ec_9bfd_744ca1d15716level0_row4\" class=\"row_heading level0 row4\" >4</th>\n",
       "                        <td id=\"T_f8e340ac_1cff_11ec_9bfd_744ca1d15716row4_col0\" class=\"data row4 col0\" >1.494079</td>\n",
       "                        <td id=\"T_f8e340ac_1cff_11ec_9bfd_744ca1d15716row4_col1\" class=\"data row4 col1\" >-0.205158</td>\n",
       "                        <td id=\"T_f8e340ac_1cff_11ec_9bfd_744ca1d15716row4_col2\" class=\"data row4 col2\" >0.313068</td>\n",
       "                        <td id=\"T_f8e340ac_1cff_11ec_9bfd_744ca1d15716row4_col3\" class=\"data row4 col3\" >-0.854096</td>\n",
       "            </tr>\n",
       "            <tr>\n",
       "                        <th id=\"T_f8e340ac_1cff_11ec_9bfd_744ca1d15716level0_row5\" class=\"row_heading level0 row5\" >5</th>\n",
       "                        <td id=\"T_f8e340ac_1cff_11ec_9bfd_744ca1d15716row5_col0\" class=\"data row5 col0\" >-2.552990</td>\n",
       "                        <td id=\"T_f8e340ac_1cff_11ec_9bfd_744ca1d15716row5_col1\" class=\"data row5 col1\" >0.653619</td>\n",
       "                        <td id=\"T_f8e340ac_1cff_11ec_9bfd_744ca1d15716row5_col2\" class=\"data row5 col2\" >0.864436</td>\n",
       "                        <td id=\"T_f8e340ac_1cff_11ec_9bfd_744ca1d15716row5_col3\" class=\"data row5 col3\" >-0.742165</td>\n",
       "            </tr>\n",
       "            <tr>\n",
       "                        <th id=\"T_f8e340ac_1cff_11ec_9bfd_744ca1d15716level0_row6\" class=\"row_heading level0 row6\" >6</th>\n",
       "                        <td id=\"T_f8e340ac_1cff_11ec_9bfd_744ca1d15716row6_col0\" class=\"data row6 col0\" >2.269755</td>\n",
       "                        <td id=\"T_f8e340ac_1cff_11ec_9bfd_744ca1d15716row6_col1\" class=\"data row6 col1\" >-1.454366</td>\n",
       "                        <td id=\"T_f8e340ac_1cff_11ec_9bfd_744ca1d15716row6_col2\" class=\"data row6 col2\" >0.045759</td>\n",
       "                        <td id=\"T_f8e340ac_1cff_11ec_9bfd_744ca1d15716row6_col3\" class=\"data row6 col3\" >-0.187184</td>\n",
       "            </tr>\n",
       "            <tr>\n",
       "                        <th id=\"T_f8e340ac_1cff_11ec_9bfd_744ca1d15716level0_row7\" class=\"row_heading level0 row7\" >7</th>\n",
       "                        <td id=\"T_f8e340ac_1cff_11ec_9bfd_744ca1d15716row7_col0\" class=\"data row7 col0\" >1.532779</td>\n",
       "                        <td id=\"T_f8e340ac_1cff_11ec_9bfd_744ca1d15716row7_col1\" class=\"data row7 col1\" >1.469359</td>\n",
       "                        <td id=\"T_f8e340ac_1cff_11ec_9bfd_744ca1d15716row7_col2\" class=\"data row7 col2\" >0.154947</td>\n",
       "                        <td id=\"T_f8e340ac_1cff_11ec_9bfd_744ca1d15716row7_col3\" class=\"data row7 col3\" >0.378163</td>\n",
       "            </tr>\n",
       "            <tr>\n",
       "                        <th id=\"T_f8e340ac_1cff_11ec_9bfd_744ca1d15716level0_row8\" class=\"row_heading level0 row8\" >8</th>\n",
       "                        <td id=\"T_f8e340ac_1cff_11ec_9bfd_744ca1d15716row8_col0\" class=\"data row8 col0\" >-0.887786</td>\n",
       "                        <td id=\"T_f8e340ac_1cff_11ec_9bfd_744ca1d15716row8_col1\" class=\"data row8 col1\" >-1.980796</td>\n",
       "                        <td id=\"T_f8e340ac_1cff_11ec_9bfd_744ca1d15716row8_col2\" class=\"data row8 col2\" >-0.347912</td>\n",
       "                        <td id=\"T_f8e340ac_1cff_11ec_9bfd_744ca1d15716row8_col3\" class=\"data row8 col3\" >0.156349</td>\n",
       "            </tr>\n",
       "            <tr>\n",
       "                        <th id=\"T_f8e340ac_1cff_11ec_9bfd_744ca1d15716level0_row9\" class=\"row_heading level0 row9\" >9</th>\n",
       "                        <td id=\"T_f8e340ac_1cff_11ec_9bfd_744ca1d15716row9_col0\" class=\"data row9 col0\" >1.230291</td>\n",
       "                        <td id=\"T_f8e340ac_1cff_11ec_9bfd_744ca1d15716row9_col1\" class=\"data row9 col1\" >1.202380</td>\n",
       "                        <td id=\"T_f8e340ac_1cff_11ec_9bfd_744ca1d15716row9_col2\" class=\"data row9 col2\" >-0.387327</td>\n",
       "                        <td id=\"T_f8e340ac_1cff_11ec_9bfd_744ca1d15716row9_col3\" class=\"data row9 col3\" >-0.302303</td>\n",
       "            </tr>\n",
       "    </tbody></table>"
      ],
      "text/plain": [
       "<pandas.io.formats.style.Styler at 0x258b9541208>"
      ]
     },
     "execution_count": 87,
     "metadata": {},
     "output_type": "execute_result"
    }
   ],
   "source": [
    "def highlight_max(s, props=''):\n",
    "    return np.where(s == np.nanmax(s.values), props, '')\n",
    "s2.apply(highlight_max, props='color:white;background-color:darkblue', axis=0)"
   ]
  },
  {
   "cell_type": "markdown",
   "metadata": {
    "id": "XeI3xJmhoOKe"
   },
   "source": [
    "## Tooltips and Captions"
   ]
  },
  {
   "cell_type": "code",
   "execution_count": 88,
   "metadata": {
    "id": "RxUr205Ln4ND"
   },
   "outputs": [],
   "source": [
    "# s.set_caption(\"Confusion matrix for multiple cancer prediction models.\")\\\n",
    "#  .set_table_styles([{\n",
    "#      'selector': 'caption',\n",
    "#      'props': 'caption-side: bottom; font-size:1.25em;'\n",
    "#  }], overwrite=False)\n"
   ]
  }
 ],
 "metadata": {
  "colab": {
   "collapsed_sections": [],
   "name": "Pandas 40 mins tutorial for climate change.ipynb",
   "provenance": []
  },
  "kernelspec": {
   "display_name": "Python 3",
   "language": "python",
   "name": "python3"
  },
  "language_info": {
   "codemirror_mode": {
    "name": "ipython",
    "version": 3
   },
   "file_extension": ".py",
   "mimetype": "text/x-python",
   "name": "python",
   "nbconvert_exporter": "python",
   "pygments_lexer": "ipython3",
   "version": "3.7.10"
  },
  "toc": {
   "base_numbering": 1,
   "nav_menu": {},
   "number_sections": true,
   "sideBar": true,
   "skip_h1_title": false,
   "title_cell": "Table of Contents",
   "title_sidebar": "Contents",
   "toc_cell": false,
   "toc_position": {
    "height": "calc(100% - 180px)",
    "left": "10px",
    "top": "150px",
    "width": "426.667px"
   },
   "toc_section_display": true,
   "toc_window_display": true
  }
 },
 "nbformat": 4,
 "nbformat_minor": 1
}

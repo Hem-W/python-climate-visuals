{
 "cells": [
  {
   "cell_type": "markdown",
   "metadata": {
    "id": "uNmG54oocFhS"
   },
   "source": [
    "# Advanced"
   ]
  },
  {
   "cell_type": "markdown",
   "metadata": {
    "id": "KXAzLH_7okam"
   },
   "source": [
    "The following content is the **Advanced**  part. Please make sure you have studied the **Basic**  part before you start."
   ]
  },
  {
   "cell_type": "code",
   "execution_count": 1,
   "metadata": {},
   "outputs": [],
   "source": [
    "import pandas as pd\n",
    "import numpy as np"
   ]
  },
  {
   "cell_type": "markdown",
   "metadata": {
    "id": "9egTSqdOV__e"
   },
   "source": [
    "## Hierarchical indexing (MultiIndex)"
   ]
  },
  {
   "cell_type": "markdown",
   "metadata": {
    "id": "SkbVEN1QZcLo"
   },
   "source": [
    "### Creating a MultiIndex"
   ]
  },
  {
   "cell_type": "code",
   "execution_count": 2,
   "metadata": {
    "colab": {
     "base_uri": "https://localhost:8080/"
    },
    "id": "wOm2AIDtZd7F",
    "outputId": "27bdefc1-a582-420e-d63a-77c1ff859f51"
   },
   "outputs": [
    {
     "data": {
      "text/plain": [
       "MultiIndex([('temperature',  'max'),\n",
       "            ('temperature', 'mean'),\n",
       "            ('temperature',  'min'),\n",
       "            (   'rainfall',  'max'),\n",
       "            (   'rainfall', 'mean'),\n",
       "            (   'rainfall',  'min'),\n",
       "            (     'runoff',  'max'),\n",
       "            (     'runoff', 'mean'),\n",
       "            (     'runoff',  'min')],\n",
       "           names=['factor', 'method'])"
      ]
     },
     "execution_count": 2,
     "metadata": {},
     "output_type": "execute_result"
    }
   ],
   "source": [
    "iterables = [\n",
    "    [\"temperature\",\"rainfall\",\"runoff\"],\n",
    "    [\"max\",\"mean\",\"min\"],\n",
    "]\n",
    "idx = pd.MultiIndex.from_product(iterables, names=[\"factor\", \"method\"])\n",
    "idx"
   ]
  },
  {
   "cell_type": "code",
   "execution_count": 3,
   "metadata": {
    "colab": {
     "base_uri": "https://localhost:8080/",
     "height": 363
    },
    "id": "P1Elp0XBWEQk",
    "outputId": "6fc7bc04-acff-4f5e-d203-dfd3a9fb55f1"
   },
   "outputs": [
    {
     "data": {
      "text/html": [
       "<div>\n",
       "<style scoped>\n",
       "    .dataframe tbody tr th:only-of-type {\n",
       "        vertical-align: middle;\n",
       "    }\n",
       "\n",
       "    .dataframe tbody tr th {\n",
       "        vertical-align: top;\n",
       "    }\n",
       "\n",
       "    .dataframe thead th {\n",
       "        text-align: right;\n",
       "    }\n",
       "</style>\n",
       "<table border=\"1\" class=\"dataframe\">\n",
       "  <thead>\n",
       "    <tr style=\"text-align: right;\">\n",
       "      <th></th>\n",
       "      <th></th>\n",
       "      <th>0</th>\n",
       "      <th>1</th>\n",
       "      <th>2</th>\n",
       "      <th>3</th>\n",
       "    </tr>\n",
       "    <tr>\n",
       "      <th>factor</th>\n",
       "      <th>method</th>\n",
       "      <th></th>\n",
       "      <th></th>\n",
       "      <th></th>\n",
       "      <th></th>\n",
       "    </tr>\n",
       "  </thead>\n",
       "  <tbody>\n",
       "    <tr>\n",
       "      <th rowspan=\"3\" valign=\"top\">temperature</th>\n",
       "      <th>max</th>\n",
       "      <td>-0.399027</td>\n",
       "      <td>0.804838</td>\n",
       "      <td>-0.299771</td>\n",
       "      <td>-1.160647</td>\n",
       "    </tr>\n",
       "    <tr>\n",
       "      <th>mean</th>\n",
       "      <td>0.510886</td>\n",
       "      <td>-2.204406</td>\n",
       "      <td>0.844373</td>\n",
       "      <td>-0.850894</td>\n",
       "    </tr>\n",
       "    <tr>\n",
       "      <th>min</th>\n",
       "      <td>0.169911</td>\n",
       "      <td>-0.800798</td>\n",
       "      <td>0.664208</td>\n",
       "      <td>-2.229422</td>\n",
       "    </tr>\n",
       "    <tr>\n",
       "      <th rowspan=\"3\" valign=\"top\">rainfall</th>\n",
       "      <th>max</th>\n",
       "      <td>0.171517</td>\n",
       "      <td>1.806454</td>\n",
       "      <td>1.443633</td>\n",
       "      <td>0.037504</td>\n",
       "    </tr>\n",
       "    <tr>\n",
       "      <th>mean</th>\n",
       "      <td>0.282716</td>\n",
       "      <td>0.419611</td>\n",
       "      <td>-0.224727</td>\n",
       "      <td>1.602656</td>\n",
       "    </tr>\n",
       "    <tr>\n",
       "      <th>min</th>\n",
       "      <td>-0.544362</td>\n",
       "      <td>2.246466</td>\n",
       "      <td>-1.007365</td>\n",
       "      <td>-0.987332</td>\n",
       "    </tr>\n",
       "    <tr>\n",
       "      <th rowspan=\"3\" valign=\"top\">runoff</th>\n",
       "      <th>max</th>\n",
       "      <td>-0.675737</td>\n",
       "      <td>-0.162522</td>\n",
       "      <td>0.556914</td>\n",
       "      <td>-1.645138</td>\n",
       "    </tr>\n",
       "    <tr>\n",
       "      <th>mean</th>\n",
       "      <td>0.596017</td>\n",
       "      <td>-0.115331</td>\n",
       "      <td>-0.839829</td>\n",
       "      <td>1.269507</td>\n",
       "    </tr>\n",
       "    <tr>\n",
       "      <th>min</th>\n",
       "      <td>-0.402181</td>\n",
       "      <td>-1.058276</td>\n",
       "      <td>-0.088421</td>\n",
       "      <td>-0.924840</td>\n",
       "    </tr>\n",
       "  </tbody>\n",
       "</table>\n",
       "</div>"
      ],
      "text/plain": [
       "                           0         1         2         3\n",
       "factor      method                                        \n",
       "temperature max    -0.399027  0.804838 -0.299771 -1.160647\n",
       "            mean    0.510886 -2.204406  0.844373 -0.850894\n",
       "            min     0.169911 -0.800798  0.664208 -2.229422\n",
       "rainfall    max     0.171517  1.806454  1.443633  0.037504\n",
       "            mean    0.282716  0.419611 -0.224727  1.602656\n",
       "            min    -0.544362  2.246466 -1.007365 -0.987332\n",
       "runoff      max    -0.675737 -0.162522  0.556914 -1.645138\n",
       "            mean    0.596017 -0.115331 -0.839829  1.269507\n",
       "            min    -0.402181 -1.058276 -0.088421 -0.924840"
      ]
     },
     "execution_count": 3,
     "metadata": {},
     "output_type": "execute_result"
    }
   ],
   "source": [
    "df = pd.DataFrame(np.random.randn(9, 4), index=idx)\n",
    "df"
   ]
  },
  {
   "cell_type": "code",
   "execution_count": 4,
   "metadata": {
    "colab": {
     "base_uri": "https://localhost:8080/"
    },
    "id": "XLDUHSHtZi17",
    "outputId": "baeb84d5-1917-4de6-d3d3-324338cc464f"
   },
   "outputs": [
    {
     "data": {
      "text/plain": [
       "MultiIndex([('temperature',  'max'),\n",
       "            (   'rainfall', 'mean'),\n",
       "            (     'runoff',  'min')],\n",
       "           names=['factor', 'method'])"
      ]
     },
     "execution_count": 4,
     "metadata": {},
     "output_type": "execute_result"
    }
   ],
   "source": [
    "idx = pd.MultiIndex.from_arrays(iterables, names=[\"factor\", \"method\"])\n",
    "idx"
   ]
  },
  {
   "cell_type": "code",
   "execution_count": 5,
   "metadata": {
    "colab": {
     "base_uri": "https://localhost:8080/",
     "height": 175
    },
    "id": "gRqqB9rCarpM",
    "outputId": "ec2e09a4-b102-4f24-eb2b-23d0cdfc2088"
   },
   "outputs": [
    {
     "data": {
      "text/html": [
       "<div>\n",
       "<style scoped>\n",
       "    .dataframe tbody tr th:only-of-type {\n",
       "        vertical-align: middle;\n",
       "    }\n",
       "\n",
       "    .dataframe tbody tr th {\n",
       "        vertical-align: top;\n",
       "    }\n",
       "\n",
       "    .dataframe thead th {\n",
       "        text-align: right;\n",
       "    }\n",
       "</style>\n",
       "<table border=\"1\" class=\"dataframe\">\n",
       "  <thead>\n",
       "    <tr style=\"text-align: right;\">\n",
       "      <th></th>\n",
       "      <th></th>\n",
       "      <th>0</th>\n",
       "      <th>1</th>\n",
       "      <th>2</th>\n",
       "      <th>3</th>\n",
       "    </tr>\n",
       "    <tr>\n",
       "      <th>factor</th>\n",
       "      <th>method</th>\n",
       "      <th></th>\n",
       "      <th></th>\n",
       "      <th></th>\n",
       "      <th></th>\n",
       "    </tr>\n",
       "  </thead>\n",
       "  <tbody>\n",
       "    <tr>\n",
       "      <th>temperature</th>\n",
       "      <th>max</th>\n",
       "      <td>0.508726</td>\n",
       "      <td>-1.017005</td>\n",
       "      <td>-0.780006</td>\n",
       "      <td>0.027753</td>\n",
       "    </tr>\n",
       "    <tr>\n",
       "      <th>rainfall</th>\n",
       "      <th>mean</th>\n",
       "      <td>-0.693272</td>\n",
       "      <td>-1.484366</td>\n",
       "      <td>-3.732062</td>\n",
       "      <td>0.417366</td>\n",
       "    </tr>\n",
       "    <tr>\n",
       "      <th>runoff</th>\n",
       "      <th>min</th>\n",
       "      <td>0.373411</td>\n",
       "      <td>-0.122169</td>\n",
       "      <td>-0.571951</td>\n",
       "      <td>0.048568</td>\n",
       "    </tr>\n",
       "  </tbody>\n",
       "</table>\n",
       "</div>"
      ],
      "text/plain": [
       "                           0         1         2         3\n",
       "factor      method                                        \n",
       "temperature max     0.508726 -1.017005 -0.780006  0.027753\n",
       "rainfall    mean   -0.693272 -1.484366 -3.732062  0.417366\n",
       "runoff      min     0.373411 -0.122169 -0.571951  0.048568"
      ]
     },
     "execution_count": 5,
     "metadata": {},
     "output_type": "execute_result"
    }
   ],
   "source": [
    "df = pd.DataFrame(np.random.randn(3, 4), index=idx)\n",
    "df"
   ]
  },
  {
   "cell_type": "markdown",
   "metadata": {
    "id": "Dozqu4WXZiJI"
   },
   "source": [
    "```pd.MultiIndex.from_tuples```, ```pd.MultiIndex.from_frame```"
   ]
  },
  {
   "cell_type": "markdown",
   "metadata": {
    "id": "K8XGbQo9bHvi"
   },
   "source": [
    "### Get index for multiindex"
   ]
  },
  {
   "cell_type": "code",
   "execution_count": 6,
   "metadata": {
    "colab": {
     "base_uri": "https://localhost:8080/"
    },
    "id": "AES6xOnQbMmS",
    "outputId": "96805782-6644-43eb-c4a9-4eecde798744"
   },
   "outputs": [
    {
     "data": {
      "text/plain": [
       "MultiIndex([('temperature',  'max'),\n",
       "            ('temperature', 'mean'),\n",
       "            ('temperature',  'min'),\n",
       "            (   'rainfall',  'max'),\n",
       "            (   'rainfall', 'mean'),\n",
       "            (   'rainfall',  'min'),\n",
       "            (     'runoff',  'max'),\n",
       "            (     'runoff', 'mean'),\n",
       "            (     'runoff',  'min')],\n",
       "           names=['factor', 'method'])"
      ]
     },
     "execution_count": 6,
     "metadata": {},
     "output_type": "execute_result"
    }
   ],
   "source": [
    "iterables = [\n",
    "    [\"temperature\",\"rainfall\",\"runoff\"],\n",
    "    [\"max\",\"mean\",\"min\"],\n",
    "]\n",
    "idx = pd.MultiIndex.from_product(iterables, names=[\"factor\", \"method\"])\n",
    "df = pd.DataFrame(np.random.randn(9, 4), index=idx)\n",
    "df.index"
   ]
  },
  {
   "cell_type": "code",
   "execution_count": 7,
   "metadata": {
    "colab": {
     "base_uri": "https://localhost:8080/"
    },
    "id": "0SVFR1FubTs6",
    "outputId": "0421ab63-a4e9-406a-eb51-fe0c6ba71ff3"
   },
   "outputs": [
    {
     "data": {
      "text/plain": [
       "Index(['temperature', 'temperature', 'temperature', 'rainfall', 'rainfall',\n",
       "       'rainfall', 'runoff', 'runoff', 'runoff'],\n",
       "      dtype='object', name='factor')"
      ]
     },
     "execution_count": 7,
     "metadata": {},
     "output_type": "execute_result"
    }
   ],
   "source": [
    "df.index.get_level_values(0)"
   ]
  },
  {
   "cell_type": "code",
   "execution_count": 8,
   "metadata": {
    "colab": {
     "base_uri": "https://localhost:8080/"
    },
    "id": "CJCtgW_qbczF",
    "outputId": "31358ecf-9bee-4bb2-95de-a34833c3aaf3"
   },
   "outputs": [
    {
     "data": {
      "text/plain": [
       "Index(['max', 'mean', 'min', 'max', 'mean', 'min', 'max', 'mean', 'min'], dtype='object', name='method')"
      ]
     },
     "execution_count": 8,
     "metadata": {},
     "output_type": "execute_result"
    }
   ],
   "source": [
    "df.index.get_level_values(1)"
   ]
  },
  {
   "cell_type": "markdown",
   "metadata": {
    "id": "CnXH-_3QUugb"
   },
   "source": [
    "## Apply and Applymap\n",
    "* Apply: Apply a function along an axis of the DataFrame.\n",
    "* Applymap: Apply a function to a Dataframe elementwise. You can address each element for specfic requirements."
   ]
  },
  {
   "cell_type": "code",
   "execution_count": 9,
   "metadata": {
    "colab": {
     "base_uri": "https://localhost:8080/",
     "height": 143
    },
    "id": "cE-5GHtEgnHu",
    "outputId": "e5d69c38-8e22-491f-ceb6-441cb675caf7"
   },
   "outputs": [
    {
     "data": {
      "text/html": [
       "<div>\n",
       "<style scoped>\n",
       "    .dataframe tbody tr th:only-of-type {\n",
       "        vertical-align: middle;\n",
       "    }\n",
       "\n",
       "    .dataframe tbody tr th {\n",
       "        vertical-align: top;\n",
       "    }\n",
       "\n",
       "    .dataframe thead th {\n",
       "        text-align: right;\n",
       "    }\n",
       "</style>\n",
       "<table border=\"1\" class=\"dataframe\">\n",
       "  <thead>\n",
       "    <tr style=\"text-align: right;\">\n",
       "      <th></th>\n",
       "      <th>0</th>\n",
       "      <th>1</th>\n",
       "      <th>2</th>\n",
       "      <th>3</th>\n",
       "    </tr>\n",
       "  </thead>\n",
       "  <tbody>\n",
       "    <tr>\n",
       "      <th>0</th>\n",
       "      <td>0.688581</td>\n",
       "      <td>0.258612</td>\n",
       "      <td>-0.116632</td>\n",
       "      <td>-1.234923</td>\n",
       "    </tr>\n",
       "    <tr>\n",
       "      <th>1</th>\n",
       "      <td>-1.033229</td>\n",
       "      <td>-0.273521</td>\n",
       "      <td>0.106188</td>\n",
       "      <td>-0.475416</td>\n",
       "    </tr>\n",
       "    <tr>\n",
       "      <th>2</th>\n",
       "      <td>-0.132600</td>\n",
       "      <td>-0.177004</td>\n",
       "      <td>1.532636</td>\n",
       "      <td>-1.487604</td>\n",
       "    </tr>\n",
       "  </tbody>\n",
       "</table>\n",
       "</div>"
      ],
      "text/plain": [
       "          0         1         2         3\n",
       "0  0.688581  0.258612 -0.116632 -1.234923\n",
       "1 -1.033229 -0.273521  0.106188 -0.475416\n",
       "2 -0.132600 -0.177004  1.532636 -1.487604"
      ]
     },
     "execution_count": 9,
     "metadata": {},
     "output_type": "execute_result"
    }
   ],
   "source": [
    "df = pd.DataFrame(np.random.randn(3, 4))\n",
    "df"
   ]
  },
  {
   "cell_type": "code",
   "execution_count": 10,
   "metadata": {
    "colab": {
     "base_uri": "https://localhost:8080/",
     "height": 143
    },
    "id": "9CcWjHAKhfhJ",
    "outputId": "d452ebb4-ffce-4b1e-dfb4-2484f3e3c677"
   },
   "outputs": [
    {
     "data": {
      "text/html": [
       "<div>\n",
       "<style scoped>\n",
       "    .dataframe tbody tr th:only-of-type {\n",
       "        vertical-align: middle;\n",
       "    }\n",
       "\n",
       "    .dataframe tbody tr th {\n",
       "        vertical-align: top;\n",
       "    }\n",
       "\n",
       "    .dataframe thead th {\n",
       "        text-align: right;\n",
       "    }\n",
       "</style>\n",
       "<table border=\"1\" class=\"dataframe\">\n",
       "  <thead>\n",
       "    <tr style=\"text-align: right;\">\n",
       "      <th></th>\n",
       "      <th>0</th>\n",
       "      <th>1</th>\n",
       "      <th>2</th>\n",
       "      <th>3</th>\n",
       "    </tr>\n",
       "  </thead>\n",
       "  <tbody>\n",
       "    <tr>\n",
       "      <th>0</th>\n",
       "      <td>0.688581</td>\n",
       "      <td>0.258612</td>\n",
       "      <td>0.116632</td>\n",
       "      <td>1.234923</td>\n",
       "    </tr>\n",
       "    <tr>\n",
       "      <th>1</th>\n",
       "      <td>1.033229</td>\n",
       "      <td>0.273521</td>\n",
       "      <td>0.106188</td>\n",
       "      <td>0.475416</td>\n",
       "    </tr>\n",
       "    <tr>\n",
       "      <th>2</th>\n",
       "      <td>0.132600</td>\n",
       "      <td>0.177004</td>\n",
       "      <td>1.532636</td>\n",
       "      <td>1.487604</td>\n",
       "    </tr>\n",
       "  </tbody>\n",
       "</table>\n",
       "</div>"
      ],
      "text/plain": [
       "          0         1         2         3\n",
       "0  0.688581  0.258612  0.116632  1.234923\n",
       "1  1.033229  0.273521  0.106188  0.475416\n",
       "2  0.132600  0.177004  1.532636  1.487604"
      ]
     },
     "execution_count": 10,
     "metadata": {},
     "output_type": "execute_result"
    }
   ],
   "source": [
    "df.apply(np.abs)"
   ]
  },
  {
   "cell_type": "code",
   "execution_count": 11,
   "metadata": {
    "colab": {
     "base_uri": "https://localhost:8080/",
     "height": 143
    },
    "id": "NC_Hdh3Fhk_7",
    "outputId": "4e954052-f2fc-41fa-ca8f-602acada21a7"
   },
   "outputs": [
    {
     "data": {
      "text/html": [
       "<div>\n",
       "<style scoped>\n",
       "    .dataframe tbody tr th:only-of-type {\n",
       "        vertical-align: middle;\n",
       "    }\n",
       "\n",
       "    .dataframe tbody tr th {\n",
       "        vertical-align: top;\n",
       "    }\n",
       "\n",
       "    .dataframe thead th {\n",
       "        text-align: right;\n",
       "    }\n",
       "</style>\n",
       "<table border=\"1\" class=\"dataframe\">\n",
       "  <thead>\n",
       "    <tr style=\"text-align: right;\">\n",
       "      <th></th>\n",
       "      <th>0</th>\n",
       "      <th>1</th>\n",
       "      <th>2</th>\n",
       "      <th>3</th>\n",
       "    </tr>\n",
       "  </thead>\n",
       "  <tbody>\n",
       "    <tr>\n",
       "      <th>0</th>\n",
       "      <td>0.326487</td>\n",
       "      <td>0.017296</td>\n",
       "      <td>-0.001587</td>\n",
       "      <td>-1.883302</td>\n",
       "    </tr>\n",
       "    <tr>\n",
       "      <th>1</th>\n",
       "      <td>-1.103036</td>\n",
       "      <td>-0.020463</td>\n",
       "      <td>0.001197</td>\n",
       "      <td>-0.107454</td>\n",
       "    </tr>\n",
       "    <tr>\n",
       "      <th>2</th>\n",
       "      <td>-0.002331</td>\n",
       "      <td>-0.005546</td>\n",
       "      <td>3.600124</td>\n",
       "      <td>-3.292015</td>\n",
       "    </tr>\n",
       "  </tbody>\n",
       "</table>\n",
       "</div>"
      ],
      "text/plain": [
       "          0         1         2         3\n",
       "0  0.326487  0.017296 -0.001587 -1.883302\n",
       "1 -1.103036 -0.020463  0.001197 -0.107454\n",
       "2 -0.002331 -0.005546  3.600124 -3.292015"
      ]
     },
     "execution_count": 11,
     "metadata": {},
     "output_type": "execute_result"
    }
   ],
   "source": [
    "func_x3 = lambda x: x**3 # lambda functiodn\n",
    "df.apply(func_x3)"
   ]
  },
  {
   "cell_type": "code",
   "execution_count": 12,
   "metadata": {
    "colab": {
     "base_uri": "https://localhost:8080/",
     "height": 143
    },
    "id": "28POM60DirEc",
    "outputId": "b9d311e8-e49b-4b1d-e8ea-293bafbcb434"
   },
   "outputs": [
    {
     "data": {
      "text/html": [
       "<div>\n",
       "<style scoped>\n",
       "    .dataframe tbody tr th:only-of-type {\n",
       "        vertical-align: middle;\n",
       "    }\n",
       "\n",
       "    .dataframe tbody tr th {\n",
       "        vertical-align: top;\n",
       "    }\n",
       "\n",
       "    .dataframe thead th {\n",
       "        text-align: right;\n",
       "    }\n",
       "</style>\n",
       "<table border=\"1\" class=\"dataframe\">\n",
       "  <thead>\n",
       "    <tr style=\"text-align: right;\">\n",
       "      <th></th>\n",
       "      <th>0</th>\n",
       "      <th>1</th>\n",
       "      <th>2</th>\n",
       "      <th>3</th>\n",
       "    </tr>\n",
       "  </thead>\n",
       "  <tbody>\n",
       "    <tr>\n",
       "      <th>0</th>\n",
       "      <td>0.688581</td>\n",
       "      <td>0.258612</td>\n",
       "      <td>0.116632</td>\n",
       "      <td>-1.000000</td>\n",
       "    </tr>\n",
       "    <tr>\n",
       "      <th>1</th>\n",
       "      <td>-1.000000</td>\n",
       "      <td>0.273521</td>\n",
       "      <td>0.106188</td>\n",
       "      <td>0.475416</td>\n",
       "    </tr>\n",
       "    <tr>\n",
       "      <th>2</th>\n",
       "      <td>0.132600</td>\n",
       "      <td>0.177004</td>\n",
       "      <td>1.000000</td>\n",
       "      <td>-1.000000</td>\n",
       "    </tr>\n",
       "  </tbody>\n",
       "</table>\n",
       "</div>"
      ],
      "text/plain": [
       "          0         1         2         3\n",
       "0  0.688581  0.258612  0.116632 -1.000000\n",
       "1 -1.000000  0.273521  0.106188  0.475416\n",
       "2  0.132600  0.177004  1.000000 -1.000000"
      ]
     },
     "execution_count": 12,
     "metadata": {},
     "output_type": "execute_result"
    }
   ],
   "source": [
    "# This function don't have specific meaning. \n",
    "# It only defines a complex operation for each element of dataframe.\n",
    "def func_range(x):\n",
    "    if x > 1:\n",
    "        return 1\n",
    "    elif x< -1:\n",
    "        return -1\n",
    "    else:\n",
    "        return np.abs(x)\n",
    "df.applymap(func_range)"
   ]
  },
  {
   "cell_type": "markdown",
   "metadata": {
    "id": "5B0qu3F1RTwi"
   },
   "source": [
    "## Groupby\n",
    "`Groupby()` can be used to group large amounts of data and compute operations on these groups.\n",
    "\n"
   ]
  },
  {
   "cell_type": "code",
   "execution_count": 13,
   "metadata": {
    "colab": {
     "base_uri": "https://localhost:8080/"
    },
    "id": "xSCN25vllOUh",
    "outputId": "477127be-8d7e-4d4c-a4f5-5daa8af7c9b2"
   },
   "outputs": [
    {
     "name": "stdout",
     "output_type": "stream",
     "text": [
      "rainfall\n",
      "                        0         1         2         3\n",
      "factor   method                                        \n",
      "rainfall site1   0.732368 -0.682311 -0.256257  0.643786\n",
      "         site2  -3.083902 -1.000745  0.911775 -1.607313\n",
      "         site3   1.140646  0.054459 -2.724847 -1.623004\n",
      "runoff\n",
      "                      0         1         2         3\n",
      "factor method                                        \n",
      "runoff site1  -0.626130  0.409723 -1.044564  0.747707\n",
      "       site2  -0.088922 -0.048216 -1.697176 -0.098273\n",
      "       site3   0.693753  0.438575 -0.763520  0.036212\n",
      "temperature\n",
      "                           0         1         2         3\n",
      "factor      method                                        \n",
      "temperature site1   1.650404  0.970965  0.608340  1.608136\n",
      "            site2   0.636997  1.083134  0.722128 -1.352512\n",
      "            site3  -0.650333 -0.388040  0.082063  0.124609\n"
     ]
    }
   ],
   "source": [
    "iterables = [\n",
    "    [\"temperature\",\"rainfall\",\"runoff\"],\n",
    "    [\"site1\",\"site2\",\"site3\"],\n",
    "]\n",
    "idx = pd.MultiIndex.from_product(iterables, names=[\"factor\", \"method\"])\n",
    "df = pd.DataFrame(np.random.randn(9, 4), index=idx)\n",
    "for n,subdf in df.groupby(by=[\"factor\"]):\n",
    "    print(n)\n",
    "    print(subdf)"
   ]
  },
  {
   "cell_type": "code",
   "execution_count": 14,
   "metadata": {
    "colab": {
     "base_uri": "https://localhost:8080/",
     "height": 175
    },
    "id": "NmwJ05NpUo7v",
    "outputId": "d708b705-baec-4ff2-c0c8-c7de9b30f704",
    "scrolled": true
   },
   "outputs": [
    {
     "data": {
      "text/html": [
       "<div>\n",
       "<style scoped>\n",
       "    .dataframe tbody tr th:only-of-type {\n",
       "        vertical-align: middle;\n",
       "    }\n",
       "\n",
       "    .dataframe tbody tr th {\n",
       "        vertical-align: top;\n",
       "    }\n",
       "\n",
       "    .dataframe thead th {\n",
       "        text-align: right;\n",
       "    }\n",
       "</style>\n",
       "<table border=\"1\" class=\"dataframe\">\n",
       "  <thead>\n",
       "    <tr style=\"text-align: right;\">\n",
       "      <th></th>\n",
       "      <th>0</th>\n",
       "      <th>1</th>\n",
       "      <th>2</th>\n",
       "      <th>3</th>\n",
       "    </tr>\n",
       "    <tr>\n",
       "      <th>factor</th>\n",
       "      <th></th>\n",
       "      <th></th>\n",
       "      <th></th>\n",
       "      <th></th>\n",
       "    </tr>\n",
       "  </thead>\n",
       "  <tbody>\n",
       "    <tr>\n",
       "      <th>rainfall</th>\n",
       "      <td>-0.403630</td>\n",
       "      <td>-0.542866</td>\n",
       "      <td>-0.689776</td>\n",
       "      <td>-0.862177</td>\n",
       "    </tr>\n",
       "    <tr>\n",
       "      <th>runoff</th>\n",
       "      <td>-0.007100</td>\n",
       "      <td>0.266694</td>\n",
       "      <td>-1.168420</td>\n",
       "      <td>0.228549</td>\n",
       "    </tr>\n",
       "    <tr>\n",
       "      <th>temperature</th>\n",
       "      <td>0.545689</td>\n",
       "      <td>0.555353</td>\n",
       "      <td>0.470844</td>\n",
       "      <td>0.126744</td>\n",
       "    </tr>\n",
       "  </tbody>\n",
       "</table>\n",
       "</div>"
      ],
      "text/plain": [
       "                    0         1         2         3\n",
       "factor                                             \n",
       "rainfall    -0.403630 -0.542866 -0.689776 -0.862177\n",
       "runoff      -0.007100  0.266694 -1.168420  0.228549\n",
       "temperature  0.545689  0.555353  0.470844  0.126744"
      ]
     },
     "execution_count": 14,
     "metadata": {},
     "output_type": "execute_result"
    }
   ],
   "source": [
    "df.groupby(by=[\"factor\"]).mean()"
   ]
  },
  {
   "cell_type": "markdown",
   "metadata": {
    "id": "a_FS7sjw5Rgj"
   },
   "source": [
    "## Table Visualization"
   ]
  },
  {
   "cell_type": "code",
   "execution_count": 15,
   "metadata": {
    "colab": {
     "base_uri": "https://localhost:8080/",
     "height": 254
    },
    "id": "iqNkVVQB3vNN",
    "outputId": "18f495e7-8736-401f-e707-1408887b8b2a"
   },
   "outputs": [
    {
     "data": {
      "text/html": [
       "<style  type=\"text/css\" >\n",
       "#T_c1cff_row1_col1,#T_c1cff_row4_col3,#T_c1cff_row5_col0,#T_c1cff_row5_col3,#T_c1cff_row6_col1,#T_c1cff_row8_col0,#T_c1cff_row8_col1,#T_c1cff_row8_col2,#T_c1cff_row9_col2,#T_c1cff_row9_col3{\n",
       "            color: red;\n",
       "        }#T_c1cff_row1_col3,#T_c1cff_row2_col0,#T_c1cff_row4_col1,#T_c1cff_row6_col3{\n",
       "            color: red;\n",
       "            opacity:  20%;\n",
       "        }#T_c1cff_row2_col2,#T_c1cff_row3_col1,#T_c1cff_row6_col2,#T_c1cff_row7_col2,#T_c1cff_row8_col3{\n",
       "            opacity:  20%;\n",
       "        }</style><table id=\"T_c1cff_\" ><thead>    <tr>        <th class=\"blank level0\" ></th>        <th class=\"col_heading level0 col0\" >A</th>        <th class=\"col_heading level0 col1\" >B</th>        <th class=\"col_heading level0 col2\" >C</th>        <th class=\"col_heading level0 col3\" >D</th>    </tr></thead><tbody>\n",
       "                <tr>\n",
       "                        <th id=\"T_c1cff_level0_row0\" class=\"row_heading level0 row0\" >0</th>\n",
       "                        <td id=\"T_c1cff_row0_col0\" class=\"data row0 col0\" >1.764052</td>\n",
       "                        <td id=\"T_c1cff_row0_col1\" class=\"data row0 col1\" >0.400157</td>\n",
       "                        <td id=\"T_c1cff_row0_col2\" class=\"data row0 col2\" >0.978738</td>\n",
       "                        <td id=\"T_c1cff_row0_col3\" class=\"data row0 col3\" >2.240893</td>\n",
       "            </tr>\n",
       "            <tr>\n",
       "                        <th id=\"T_c1cff_level0_row1\" class=\"row_heading level0 row1\" >1</th>\n",
       "                        <td id=\"T_c1cff_row1_col0\" class=\"data row1 col0\" >1.867558</td>\n",
       "                        <td id=\"T_c1cff_row1_col1\" class=\"data row1 col1\" >-0.977278</td>\n",
       "                        <td id=\"T_c1cff_row1_col2\" class=\"data row1 col2\" >0.950088</td>\n",
       "                        <td id=\"T_c1cff_row1_col3\" class=\"data row1 col3\" >-0.151357</td>\n",
       "            </tr>\n",
       "            <tr>\n",
       "                        <th id=\"T_c1cff_level0_row2\" class=\"row_heading level0 row2\" >2</th>\n",
       "                        <td id=\"T_c1cff_row2_col0\" class=\"data row2 col0\" >-0.103219</td>\n",
       "                        <td id=\"T_c1cff_row2_col1\" class=\"data row2 col1\" >0.410599</td>\n",
       "                        <td id=\"T_c1cff_row2_col2\" class=\"data row2 col2\" >0.144044</td>\n",
       "                        <td id=\"T_c1cff_row2_col3\" class=\"data row2 col3\" >1.454274</td>\n",
       "            </tr>\n",
       "            <tr>\n",
       "                        <th id=\"T_c1cff_level0_row3\" class=\"row_heading level0 row3\" >3</th>\n",
       "                        <td id=\"T_c1cff_row3_col0\" class=\"data row3 col0\" >0.761038</td>\n",
       "                        <td id=\"T_c1cff_row3_col1\" class=\"data row3 col1\" >0.121675</td>\n",
       "                        <td id=\"T_c1cff_row3_col2\" class=\"data row3 col2\" >0.443863</td>\n",
       "                        <td id=\"T_c1cff_row3_col3\" class=\"data row3 col3\" >0.333674</td>\n",
       "            </tr>\n",
       "            <tr>\n",
       "                        <th id=\"T_c1cff_level0_row4\" class=\"row_heading level0 row4\" >4</th>\n",
       "                        <td id=\"T_c1cff_row4_col0\" class=\"data row4 col0\" >1.494079</td>\n",
       "                        <td id=\"T_c1cff_row4_col1\" class=\"data row4 col1\" >-0.205158</td>\n",
       "                        <td id=\"T_c1cff_row4_col2\" class=\"data row4 col2\" >0.313068</td>\n",
       "                        <td id=\"T_c1cff_row4_col3\" class=\"data row4 col3\" >-0.854096</td>\n",
       "            </tr>\n",
       "            <tr>\n",
       "                        <th id=\"T_c1cff_level0_row5\" class=\"row_heading level0 row5\" >5</th>\n",
       "                        <td id=\"T_c1cff_row5_col0\" class=\"data row5 col0\" >-2.552990</td>\n",
       "                        <td id=\"T_c1cff_row5_col1\" class=\"data row5 col1\" >0.653619</td>\n",
       "                        <td id=\"T_c1cff_row5_col2\" class=\"data row5 col2\" >0.864436</td>\n",
       "                        <td id=\"T_c1cff_row5_col3\" class=\"data row5 col3\" >-0.742165</td>\n",
       "            </tr>\n",
       "            <tr>\n",
       "                        <th id=\"T_c1cff_level0_row6\" class=\"row_heading level0 row6\" >6</th>\n",
       "                        <td id=\"T_c1cff_row6_col0\" class=\"data row6 col0\" >2.269755</td>\n",
       "                        <td id=\"T_c1cff_row6_col1\" class=\"data row6 col1\" >-1.454366</td>\n",
       "                        <td id=\"T_c1cff_row6_col2\" class=\"data row6 col2\" >0.045759</td>\n",
       "                        <td id=\"T_c1cff_row6_col3\" class=\"data row6 col3\" >-0.187184</td>\n",
       "            </tr>\n",
       "            <tr>\n",
       "                        <th id=\"T_c1cff_level0_row7\" class=\"row_heading level0 row7\" >7</th>\n",
       "                        <td id=\"T_c1cff_row7_col0\" class=\"data row7 col0\" >1.532779</td>\n",
       "                        <td id=\"T_c1cff_row7_col1\" class=\"data row7 col1\" >1.469359</td>\n",
       "                        <td id=\"T_c1cff_row7_col2\" class=\"data row7 col2\" >0.154947</td>\n",
       "                        <td id=\"T_c1cff_row7_col3\" class=\"data row7 col3\" >0.378163</td>\n",
       "            </tr>\n",
       "            <tr>\n",
       "                        <th id=\"T_c1cff_level0_row8\" class=\"row_heading level0 row8\" >8</th>\n",
       "                        <td id=\"T_c1cff_row8_col0\" class=\"data row8 col0\" >-0.887786</td>\n",
       "                        <td id=\"T_c1cff_row8_col1\" class=\"data row8 col1\" >-1.980796</td>\n",
       "                        <td id=\"T_c1cff_row8_col2\" class=\"data row8 col2\" >-0.347912</td>\n",
       "                        <td id=\"T_c1cff_row8_col3\" class=\"data row8 col3\" >0.156349</td>\n",
       "            </tr>\n",
       "            <tr>\n",
       "                        <th id=\"T_c1cff_level0_row9\" class=\"row_heading level0 row9\" >9</th>\n",
       "                        <td id=\"T_c1cff_row9_col0\" class=\"data row9 col0\" >1.230291</td>\n",
       "                        <td id=\"T_c1cff_row9_col1\" class=\"data row9 col1\" >1.202380</td>\n",
       "                        <td id=\"T_c1cff_row9_col2\" class=\"data row9 col2\" >-0.387327</td>\n",
       "                        <td id=\"T_c1cff_row9_col3\" class=\"data row9 col3\" >-0.302303</td>\n",
       "            </tr>\n",
       "    </tbody></table>"
      ],
      "text/plain": [
       "<pandas.io.formats.style.Styler at 0x7ff41071b7c0>"
      ]
     },
     "execution_count": 15,
     "metadata": {},
     "output_type": "execute_result"
    }
   ],
   "source": [
    "np.random.seed(0)\n",
    "df2 = pd.DataFrame(np.random.randn(10,4), columns=['A','B','C','D'])\n",
    "df2.style\n",
    "def style_negative(v, props=''):\n",
    "    return props if v < 0 else None\n",
    "s2 = df2.style.applymap(style_negative, props='color:red;')\\\n",
    "              .applymap(lambda v: 'opacity: 20%;' if (v < 0.3) and (v > -0.3) else None)\n",
    "s2"
   ]
  },
  {
   "cell_type": "code",
   "execution_count": 16,
   "metadata": {
    "colab": {
     "base_uri": "https://localhost:8080/",
     "height": 254
    },
    "id": "qZ8PIdZsnl2C",
    "outputId": "8932a7dd-c088-434a-8778-a8058e74a2e4"
   },
   "outputs": [
    {
     "data": {
      "text/html": [
       "<style  type=\"text/css\" >\n",
       "#T_c1cff_row0_col2,#T_c1cff_row0_col3,#T_c1cff_row6_col0,#T_c1cff_row7_col1{\n",
       "            color: white;\n",
       "            background-color: darkblue;\n",
       "        }#T_c1cff_row1_col1,#T_c1cff_row4_col3,#T_c1cff_row5_col0,#T_c1cff_row5_col3,#T_c1cff_row6_col1,#T_c1cff_row8_col0,#T_c1cff_row8_col1,#T_c1cff_row8_col2,#T_c1cff_row9_col2,#T_c1cff_row9_col3{\n",
       "            color: red;\n",
       "            color: red;\n",
       "        }#T_c1cff_row1_col3,#T_c1cff_row2_col0,#T_c1cff_row4_col1,#T_c1cff_row6_col3{\n",
       "            color: red;\n",
       "            opacity:  20%;\n",
       "            color: red;\n",
       "            opacity:  20%;\n",
       "        }#T_c1cff_row2_col2,#T_c1cff_row3_col1,#T_c1cff_row6_col2,#T_c1cff_row7_col2,#T_c1cff_row8_col3{\n",
       "            opacity:  20%;\n",
       "            opacity:  20%;\n",
       "        }</style><table id=\"T_c1cff_\" ><thead>    <tr>        <th class=\"blank level0\" ></th>        <th class=\"col_heading level0 col0\" >A</th>        <th class=\"col_heading level0 col1\" >B</th>        <th class=\"col_heading level0 col2\" >C</th>        <th class=\"col_heading level0 col3\" >D</th>    </tr></thead><tbody>\n",
       "                <tr>\n",
       "                        <th id=\"T_c1cff_level0_row0\" class=\"row_heading level0 row0\" >0</th>\n",
       "                        <td id=\"T_c1cff_row0_col0\" class=\"data row0 col0\" >1.764052</td>\n",
       "                        <td id=\"T_c1cff_row0_col1\" class=\"data row0 col1\" >0.400157</td>\n",
       "                        <td id=\"T_c1cff_row0_col2\" class=\"data row0 col2\" >0.978738</td>\n",
       "                        <td id=\"T_c1cff_row0_col3\" class=\"data row0 col3\" >2.240893</td>\n",
       "            </tr>\n",
       "            <tr>\n",
       "                        <th id=\"T_c1cff_level0_row1\" class=\"row_heading level0 row1\" >1</th>\n",
       "                        <td id=\"T_c1cff_row1_col0\" class=\"data row1 col0\" >1.867558</td>\n",
       "                        <td id=\"T_c1cff_row1_col1\" class=\"data row1 col1\" >-0.977278</td>\n",
       "                        <td id=\"T_c1cff_row1_col2\" class=\"data row1 col2\" >0.950088</td>\n",
       "                        <td id=\"T_c1cff_row1_col3\" class=\"data row1 col3\" >-0.151357</td>\n",
       "            </tr>\n",
       "            <tr>\n",
       "                        <th id=\"T_c1cff_level0_row2\" class=\"row_heading level0 row2\" >2</th>\n",
       "                        <td id=\"T_c1cff_row2_col0\" class=\"data row2 col0\" >-0.103219</td>\n",
       "                        <td id=\"T_c1cff_row2_col1\" class=\"data row2 col1\" >0.410599</td>\n",
       "                        <td id=\"T_c1cff_row2_col2\" class=\"data row2 col2\" >0.144044</td>\n",
       "                        <td id=\"T_c1cff_row2_col3\" class=\"data row2 col3\" >1.454274</td>\n",
       "            </tr>\n",
       "            <tr>\n",
       "                        <th id=\"T_c1cff_level0_row3\" class=\"row_heading level0 row3\" >3</th>\n",
       "                        <td id=\"T_c1cff_row3_col0\" class=\"data row3 col0\" >0.761038</td>\n",
       "                        <td id=\"T_c1cff_row3_col1\" class=\"data row3 col1\" >0.121675</td>\n",
       "                        <td id=\"T_c1cff_row3_col2\" class=\"data row3 col2\" >0.443863</td>\n",
       "                        <td id=\"T_c1cff_row3_col3\" class=\"data row3 col3\" >0.333674</td>\n",
       "            </tr>\n",
       "            <tr>\n",
       "                        <th id=\"T_c1cff_level0_row4\" class=\"row_heading level0 row4\" >4</th>\n",
       "                        <td id=\"T_c1cff_row4_col0\" class=\"data row4 col0\" >1.494079</td>\n",
       "                        <td id=\"T_c1cff_row4_col1\" class=\"data row4 col1\" >-0.205158</td>\n",
       "                        <td id=\"T_c1cff_row4_col2\" class=\"data row4 col2\" >0.313068</td>\n",
       "                        <td id=\"T_c1cff_row4_col3\" class=\"data row4 col3\" >-0.854096</td>\n",
       "            </tr>\n",
       "            <tr>\n",
       "                        <th id=\"T_c1cff_level0_row5\" class=\"row_heading level0 row5\" >5</th>\n",
       "                        <td id=\"T_c1cff_row5_col0\" class=\"data row5 col0\" >-2.552990</td>\n",
       "                        <td id=\"T_c1cff_row5_col1\" class=\"data row5 col1\" >0.653619</td>\n",
       "                        <td id=\"T_c1cff_row5_col2\" class=\"data row5 col2\" >0.864436</td>\n",
       "                        <td id=\"T_c1cff_row5_col3\" class=\"data row5 col3\" >-0.742165</td>\n",
       "            </tr>\n",
       "            <tr>\n",
       "                        <th id=\"T_c1cff_level0_row6\" class=\"row_heading level0 row6\" >6</th>\n",
       "                        <td id=\"T_c1cff_row6_col0\" class=\"data row6 col0\" >2.269755</td>\n",
       "                        <td id=\"T_c1cff_row6_col1\" class=\"data row6 col1\" >-1.454366</td>\n",
       "                        <td id=\"T_c1cff_row6_col2\" class=\"data row6 col2\" >0.045759</td>\n",
       "                        <td id=\"T_c1cff_row6_col3\" class=\"data row6 col3\" >-0.187184</td>\n",
       "            </tr>\n",
       "            <tr>\n",
       "                        <th id=\"T_c1cff_level0_row7\" class=\"row_heading level0 row7\" >7</th>\n",
       "                        <td id=\"T_c1cff_row7_col0\" class=\"data row7 col0\" >1.532779</td>\n",
       "                        <td id=\"T_c1cff_row7_col1\" class=\"data row7 col1\" >1.469359</td>\n",
       "                        <td id=\"T_c1cff_row7_col2\" class=\"data row7 col2\" >0.154947</td>\n",
       "                        <td id=\"T_c1cff_row7_col3\" class=\"data row7 col3\" >0.378163</td>\n",
       "            </tr>\n",
       "            <tr>\n",
       "                        <th id=\"T_c1cff_level0_row8\" class=\"row_heading level0 row8\" >8</th>\n",
       "                        <td id=\"T_c1cff_row8_col0\" class=\"data row8 col0\" >-0.887786</td>\n",
       "                        <td id=\"T_c1cff_row8_col1\" class=\"data row8 col1\" >-1.980796</td>\n",
       "                        <td id=\"T_c1cff_row8_col2\" class=\"data row8 col2\" >-0.347912</td>\n",
       "                        <td id=\"T_c1cff_row8_col3\" class=\"data row8 col3\" >0.156349</td>\n",
       "            </tr>\n",
       "            <tr>\n",
       "                        <th id=\"T_c1cff_level0_row9\" class=\"row_heading level0 row9\" >9</th>\n",
       "                        <td id=\"T_c1cff_row9_col0\" class=\"data row9 col0\" >1.230291</td>\n",
       "                        <td id=\"T_c1cff_row9_col1\" class=\"data row9 col1\" >1.202380</td>\n",
       "                        <td id=\"T_c1cff_row9_col2\" class=\"data row9 col2\" >-0.387327</td>\n",
       "                        <td id=\"T_c1cff_row9_col3\" class=\"data row9 col3\" >-0.302303</td>\n",
       "            </tr>\n",
       "    </tbody></table>"
      ],
      "text/plain": [
       "<pandas.io.formats.style.Styler at 0x7ff41071b7c0>"
      ]
     },
     "execution_count": 16,
     "metadata": {},
     "output_type": "execute_result"
    }
   ],
   "source": [
    "def highlight_max(s, props=''):\n",
    "    return np.where(s == np.nanmax(s.values), props, '')\n",
    "s2.apply(highlight_max, props='color:white;background-color:darkblue', axis=0)"
   ]
  },
  {
   "cell_type": "markdown",
   "metadata": {
    "id": "XeI3xJmhoOKe"
   },
   "source": [
    "## Tooltips and Captions"
   ]
  },
  {
   "cell_type": "code",
   "execution_count": 17,
   "metadata": {
    "id": "RxUr205Ln4ND"
   },
   "outputs": [],
   "source": [
    "# s.set_caption(\"Confusion matrix for multiple cancer prediction models.\")\\\n",
    "#  .set_table_styles([{\n",
    "#      'selector': 'caption',\n",
    "#      'props': 'caption-side: bottom; font-size:1.25em;'\n",
    "#  }], overwrite=False)\n"
   ]
  }
 ],
 "metadata": {
  "colab": {
   "collapsed_sections": [],
   "name": "Pandas 40 mins tutorial for climate change.ipynb",
   "provenance": []
  },
  "kernelspec": {
   "display_name": "Python 3",
   "language": "python",
   "name": "python3"
  },
  "language_info": {
   "codemirror_mode": {
    "name": "ipython",
    "version": 3
   },
   "file_extension": ".py",
   "mimetype": "text/x-python",
   "name": "python",
   "nbconvert_exporter": "python",
   "pygments_lexer": "ipython3",
   "version": "3.8.8"
  },
  "toc": {
   "base_numbering": 1,
   "nav_menu": {},
   "number_sections": true,
   "sideBar": true,
   "skip_h1_title": false,
   "title_cell": "Table of Contents",
   "title_sidebar": "Contents",
   "toc_cell": false,
   "toc_position": {
    "height": "calc(100% - 180px)",
    "left": "10px",
    "top": "150px",
    "width": "426.667px"
   },
   "toc_section_display": true,
   "toc_window_display": true
  }
 },
 "nbformat": 4,
 "nbformat_minor": 1
}
